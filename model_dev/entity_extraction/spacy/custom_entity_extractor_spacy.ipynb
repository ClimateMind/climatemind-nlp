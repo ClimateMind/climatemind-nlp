{
  "cells": [
    {
      "cell_type": "code",
      "source": [
        "#!pip install plac\n",
        "#!pip install -U spacy\n",
        "!python -m spacy download en_core_web_md\n",
        "!pip install nervaluate"
      ],
      "outputs": [
        {
          "output_type": "stream",
          "name": "stdout",
          "text": "^C\r\nTraceback (most recent call last):\r\n  File \"/anaconda/envs/azureml_py38/lib/python3.8/runpy.py\", line 185, in _run_module_as_main\r\n    mod_name, mod_spec, code = _get_module_details(mod_name, _Error)\r\n  File \"/anaconda/envs/azureml_py38/lib/python3.8/runpy.py\", line 144, in _get_module_details\r\n    return _get_module_details(pkg_main_name, error)\r\n  File \"/anaconda/envs/azureml_py38/lib/python3.8/runpy.py\", line 111, in _get_module_details\r\n    __import__(pkg_name)\r\n  File \"/anaconda/envs/azureml_py38/lib/python3.8/site-packages/spacy/__init__.py\", line 14, in <module>\r\n    from . import pipeline  # noqa: F401\r\n  File \"/anaconda/envs/azureml_py38/lib/python3.8/site-packages/spacy/pipeline/__init__.py\", line 1, in <module>\r\n    from .attributeruler import AttributeRuler\r\n  File \"/anaconda/envs/azureml_py38/lib/python3.8/site-packages/spacy/pipeline/attributeruler.py\", line 6, in <module>\r\n    from .pipe import Pipe\r\n  File \"spacy/pipeline/pipe.pyx\", line 8, in init spacy.pipeline.pipe\r\n  File \"/anaconda/envs/azureml_py38/lib/python3.8/site-packages/spacy/training/__init__.py\", line 11, in <module>\r\n    from .callbacks import create_copy_from_base_model  # noqa: F401\r\n  File \"/anaconda/envs/azureml_py38/lib/python3.8/site-packages/spacy/training/callbacks.py\", line 3, in <module>\r\n    from ..language import Language\r\n  File \"/anaconda/envs/azureml_py38/lib/python3.8/site-packages/spacy/language.py\", line 23, in <module>\r\n    from .training.initialize import init_vocab, init_tok2vec\r\n  File \"/anaconda/envs/azureml_py38/lib/python3.8/site-packages/spacy/training/initialize.py\", line 14, in <module>\r\n    from .pretrain import get_tok2vec_ref\r\n  File \"/anaconda/envs/azureml_py38/lib/python3.8/site-packages/spacy/training/pretrain.py\", line 16, in <module>\r\n    from ..schemas import ConfigSchemaPretrain\r\n  File \"/anaconda/envs/azureml_py38/lib/python3.8/site-packages/spacy/schemas.py\", line 200, in <module>\r\n    class TokenPatternOperator(str, Enum):\r\n  File \"/anaconda/envs/azureml_py38/lib/python3.8/enum.py\", line 127, in __prepare__\r\n    enum_dict = _EnumDict()\r\n  File \"/anaconda/envs/azureml_py38/lib/python3.8/enum.py\", line 58, in __init__\r\n    def __init__(self):\r\nKeyboardInterrupt\r\n"
        }
      ],
      "execution_count": 44,
      "metadata": {
        "gather": {
          "logged": 1664394649746
        }
      },
      "id": "8e75dad9"
    },
    {
      "cell_type": "code",
      "source": [
        "from __future__ import unicode_literals, print_function\n",
        "import pickle\n",
        "import plac\n",
        "import random\n",
        "from pathlib import Path\n",
        "import spacy\n",
        "from spacy.util import minibatch, compounding\n",
        "from spacy.training import Example\n",
        "import srsly\n",
        "import pickle\n",
        "import os\n",
        "import csv\n",
        "import numpy as np\n",
        "import time\n",
        "import json\n",
        "from nervaluate import Evaluator"
      ],
      "outputs": [],
      "execution_count": 1,
      "metadata": {
        "gather": {
          "logged": 1664390567502
        }
      },
      "id": "56eb7e8d"
    },
    {
      "cell_type": "code",
      "source": [
        "spacy.__version__"
      ],
      "outputs": [
        {
          "output_type": "execute_result",
          "execution_count": 2,
          "data": {
            "text/plain": "'3.1.3'"
          },
          "metadata": {}
        }
      ],
      "execution_count": 2,
      "metadata": {
        "jupyter": {
          "source_hidden": false,
          "outputs_hidden": false
        },
        "nteract": {
          "transient": {
            "deleting": false
          }
        },
        "gather": {
          "logged": 1664390567578
        }
      },
      "id": "4f4879c1-665b-4414-bffb-bb0328f3d39e"
    },
    {
      "cell_type": "code",
      "source": [
        "output_dir = \"data\"\n",
        "result_dir = \"result\""
      ],
      "outputs": [],
      "execution_count": 21,
      "metadata": {
        "jupyter": {
          "source_hidden": false,
          "outputs_hidden": false
        },
        "nteract": {
          "transient": {
            "deleting": false
          }
        },
        "gather": {
          "logged": 1664393915519
        }
      },
      "id": "ea9e9f52-8b8d-4f06-bbe1-9ef57330e33e"
    },
    {
      "cell_type": "code",
      "source": [
        "LABEL = [\"base\", \"aspect_changing\", \"change_direction\", \"type_of\"]\n",
        "\n",
        "with open (output_dir + \"/training_data.txt\", 'rb') as file:\n",
        "    TRAIN_DATA = pickle.load(file)\n",
        "\n",
        "with open (output_dir + \"/testing_data.txt\", 'rb') as file:\n",
        "    TEST_DATA = pickle.load(file)"
      ],
      "outputs": [],
      "execution_count": 14,
      "metadata": {
        "gather": {
          "logged": 1664390867667
        }
      },
      "id": "191260bc"
    },
    {
      "cell_type": "code",
      "source": [
        "model = \"en_core_web_md\"\n",
        "new_model_name = \"custom_entity_extraction\"\n",
        "n_iter = 200\n",
        "batch_size = 50"
      ],
      "outputs": [],
      "execution_count": 15,
      "metadata": {
        "gather": {
          "logged": 1664390875215
        }
      },
      "id": "2de44e61"
    },
    {
      "cell_type": "code",
      "source": [
        "print(len(TRAIN_DATA))\n",
        "print(len(TEST_DATA))"
      ],
      "outputs": [
        {
          "output_type": "stream",
          "name": "stdout",
          "text": "449\n50\n"
        }
      ],
      "execution_count": 16,
      "metadata": {
        "gather": {
          "logged": 1664390876002
        }
      },
      "id": "5a7b9f6c"
    },
    {
      "cell_type": "code",
      "source": [
        "TEST_DATA"
      ],
      "outputs": [
        {
          "output_type": "execute_result",
          "execution_count": 25,
          "data": {
            "text/plain": "[('His research team compared known health impacts from air pollution against future climate scenarios to derive its projections. IMPLIED_BASE IMPLIED_BASE',\n  {'entities': [(33, 39, 'base'),\n    (40, 47, 'aspect_changing'),\n    (53, 56, 'type_of'),\n    (57, 66, 'base')]}),\n ('Among its impacts, the heatwave caused crop failures across Europe, fanned wildfires from Manchester in the UK to Yosemite National Park in the US and exposed more than 34,000 people to power outages in Los Angeles as the grid experienced an unprecedented demand for air conditioning. IMPLIED_BASE IMPLIED_BASE',\n  {'entities': [(23, 31, 'base'),\n    (39, 43, 'base'),\n    (44, 52, 'aspect_changing'),\n    (68, 74, 'change_direction'),\n    (75, 84, 'base'),\n    (186, 191, 'base'),\n    (192, 199, 'aspect_changing'),\n    (222, 226, 'base'),\n    (256, 262, 'aspect_changing'),\n    (267, 283, 'base')]}),\n ('Regenerative farming, rotational and mob grazing, reducing tillage, agroforestry, and soil improvements are all means to help mitigate the effects of extreme weather, and the resulting food shocks. IMPLIED_BASE IMPLIED_BASE',\n  {'entities': [(0, 12, 'type_of'),\n    (13, 20, 'base'),\n    (22, 32, 'type_of'),\n    (37, 40, 'type_of'),\n    (41, 48, 'base'),\n    (50, 58, 'change_direction'),\n    (86, 90, 'base'),\n    (91, 103, 'aspect_changing'),\n    (150, 157, 'type_of'),\n    (158, 165, 'base'),\n    (185, 189, 'base'),\n    (190, 196, 'aspect_changing'),\n    (59, 66, 'base'),\n    (68, 80, 'base')]}),\n ('Back in December 2018, a study of the 2017/18 heatwave in the Tasman Sea concluded the “overall intensity of the 2017/18 Tasman [heatwave] was virtually impossible without anthropogenic forcing”. IMPLIED_BASE IMPLIED_BASE',\n  {'entities': [(46, 54, 'base'),\n    (69, 72, 'type_of'),\n    (96, 105, 'aspect_changing'),\n    (129, 137, 'base'),\n    (172, 193, 'base')]}),\n ('The risk of heat stroke, which is potentially fatal, increases because older adults may be less mobile, and thus less able to reach cooler locations in a heat wave. IMPLIED_BASE IMPLIED_BASE',\n  {'entities': [(4, 8, 'aspect_changing'),\n    (12, 23, 'base'),\n    (53, 62, 'change_direction'),\n    (71, 76, 'type_of'),\n    (77, 83, 'base'),\n    (91, 102, 'change_direction'),\n    (113, 117, 'change_direction'),\n    (118, 148, 'aspect_changing'),\n    (154, 163, 'base'),\n    (165, 177, 'base')]}),\n ('A record cold spell in Florida in 2010 induced genetic adaptation in the surviving Burmese pythons that made them more cold tolerant. IMPLIED_BASE IMPLIED_BASE',\n  {'entities': [(2, 8, 'type_of'),\n    (9, 19, 'base'),\n    (47, 54, 'base'),\n    (55, 65, 'aspect_changing'),\n    (114, 118, 'change_direction'),\n    (119, 132, 'aspect_changing'),\n    (134, 146, 'base')]}),\n ('Tackling the social determinants of health is critical to address health inequities, which arise because people with the least social and economic power tend to have the worst health, live in unhealthier environments and have worse access to healthcare. IMPLIED_BASE IMPLIED_BASE',\n  {'entities': [(66, 72, 'base'),\n    (73, 83, 'aspect_changing'),\n    (105, 111, 'base'),\n    (112, 126, 'change_direction'),\n    (127, 152, 'aspect_changing'),\n    (176, 182, 'base')]}),\n ('The 26-year-old Maui native can tick off the dangers climate change poses to the ocean he loves: “Bleaching of reefs; the damage of the shoreline from stronger storms; the changing of wind patterns so that a particular wave might not be as good anymore; the shifting of currents, which could destroy a particular break along a coastline. IMPLIED_BASE IMPLIED_BASE',\n  {'entities': [(53, 67, 'base'),\n    (81, 86, 'base'),\n    (98, 107, 'change_direction'),\n    (111, 116, 'base'),\n    (122, 128, 'aspect_changing'),\n    (136, 145, 'base'),\n    (151, 159, 'change_direction'),\n    (160, 166, 'base'),\n    (172, 180, 'change_direction'),\n    (184, 188, 'base'),\n    (189, 197, 'aspect_changing'),\n    (219, 223, 'base'),\n    (230, 239, 'change_direction'),\n    (240, 244, 'type_of'),\n    (258, 266, 'change_direction'),\n    (270, 278, 'base'),\n    (292, 299, 'change_direction'),\n    (313, 318, 'aspect_changing'),\n    (338, 350, 'base')]}),\n ('Migration toward cities that already face capacity constraints — due to environmental conditions, resource scarcity, and unemployment — “creates for further mayhem [and] civil unrest, leading to larger state-on-state conflict,” Goodman says. IMPLIED_BASE IMPLIED_BASE',\n  {'entities': [(0, 9, 'base'),\n    (10, 62, 'type_of'),\n    (72, 85, 'base'),\n    (86, 96, 'aspect_changing'),\n    (98, 106, 'base'),\n    (107, 115, 'aspect_changing'),\n    (121, 133, 'base'),\n    (157, 163, 'base'),\n    (170, 175, 'type_of'),\n    (176, 182, 'base'),\n    (195, 201, 'change_direction'),\n    (202, 216, 'type_of'),\n    (217, 225, 'base')]}),\n ('\"This research shows that climate change has made temperatures better for spore germination and growth, and made crop canopies wetter, raising the risk of Black Sigatoka infection in many banana-growing areas of Latin America. IMPLIED_BASE IMPLIED_BASE',\n  {'entities': [(26, 40, 'base'),\n    (50, 62, 'aspect_changing'),\n    (63, 69, 'change_direction'),\n    (74, 79, 'base'),\n    (80, 91, 'aspect_changing'),\n    (96, 102, 'aspect_changing'),\n    (113, 117, 'base'),\n    (118, 126, 'aspect_changing'),\n    (127, 133, 'change_direction'),\n    (135, 142, 'change_direction'),\n    (147, 151, 'aspect_changing'),\n    (155, 169, 'type_of'),\n    (170, 179, 'base'),\n    (227, 239, 'base')]}),\n ('Climate change is linked to rising sea levels and the increase in rainfall associated with cyclones, thus causing more devastation in coastal but also inland areas. IMPLIED_BASE IMPLIED_BASE',\n  {'entities': [(0, 14, 'base'),\n    (28, 34, 'change_direction'),\n    (35, 38, 'base'),\n    (39, 45, 'aspect_changing'),\n    (54, 62, 'change_direction'),\n    (66, 74, 'aspect_changing'),\n    (91, 99, 'base'),\n    (114, 118, 'change_direction'),\n    (119, 130, 'aspect_changing'),\n    (165, 177, 'base')]}),\n (\"Climate change is exacerbating extreme weather events, and the world's most vulnerable children will bear the brunt of these disasters. IMPLIED_BASE IMPLIED_BASE\",\n  {'entities': [(0, 14, 'base'),\n    (18, 30, 'change_direction'),\n    (31, 38, 'type_of'),\n    (39, 46, 'base'),\n    (47, 53, 'aspect_changing')]}),\n ('Climate change can make a sizable dent on economic growth by disrupting supply chains and demand for products, and creating harsh working conditions, among other issues. IMPLIED_BASE IMPLIED_BASE',\n  {'entities': [(0, 14, 'base'),\n    (34, 38, 'change_direction'),\n    (42, 50, 'base'),\n    (51, 57, 'aspect_changing'),\n    (61, 71, 'change_direction'),\n    (72, 85, 'base'),\n    (90, 96, 'aspect_changing'),\n    (101, 109, 'base'),\n    (124, 129, 'type_of'),\n    (130, 148, 'base')]}),\n ('In recent years, disease and other disturbances have caused forests to die, emitting carbon dioxide instead as they rot. IMPLIED_BASE IMPLIED_BASE',\n  {'entities': [(17, 24, 'base'),\n    (60, 67, 'base'),\n    (71, 74, 'change_direction'),\n    (76, 84, 'change_direction'),\n    (85, 99, 'base'),\n    (116, 119, 'change_direction'),\n    (121, 133, 'base')]}),\n ('For the most part, disasters like floods and cyclones result in temporary displacement, though that could mean months at a time, and almost always within national borders. IMPLIED_BASE IMPLIED_BASE',\n  {'entities': [(19, 28, 'base'),\n    (34, 40, 'base'),\n    (45, 53, 'base'),\n    (64, 86, 'aspect_changing'),\n    (172, 184, 'base')]}),\n ('In some areas like Indonesia, Randerson and his colleagues have found that the radiocarbon age of carbon emissions from peat fires is about 800 years, which is then added to the greenhouse gases in that atmosphere that drive global warming. IMPLIED_BASE IMPLIED_BASE',\n  {'entities': [(98, 104, 'base'),\n    (105, 114, 'aspect_changing'),\n    (120, 124, 'type_of'),\n    (125, 130, 'base'),\n    (165, 170, 'change_direction'),\n    (178, 188, 'type_of'),\n    (225, 239, 'base')]}),\n ('A warming world also has another consequence that may be contributing to fire conditions persisting over multiple days where they otherwise might not have in the past: higher nighttime temperatures. IMPLIED_BASE IMPLIED_BASE',\n  {'entities': [(2, 9, 'change_direction'),\n    (10, 15, 'base'),\n    (73, 77, 'base'),\n    (78, 88, 'aspect_changing'),\n    (89, 99, 'change_direction'),\n    (168, 174, 'change_direction'),\n    (175, 197, 'aspect_changing'),\n    (199, 211, 'base')]}),\n ('As governments and nonprofits cope with the aftermath of Dorian, and the increased damage of similar hurricanes in the near future, experts warn that they need to be creating plans for decades into the future, when climate change is expected to make storms even more intense and unpredictable than they are today. IMPLIED_BASE IMPLIED_BASE',\n  {'entities': [(215, 229, 'base'),\n    (250, 256, 'base'),\n    (262, 292, 'change_direction')]}),\n ('Although the data are sparse, we do in fact find a significant positive trend in coastal annual-mean rainfall 1948–2017 from TCs that stall, and we verify that this is due to increased stalling frequency. IMPLIED_BASE IMPLIED_BASE',\n  {'entities': [(63, 71, 'change_direction'),\n    (72, 100, 'aspect_changing'),\n    (101, 109, 'base'),\n    (125, 128, 'base'),\n    (129, 139, 'type_of'),\n    (175, 184, 'change_direction'),\n    (185, 203, 'aspect_changing'),\n    (205, 217, 'base')]}),\n ('In many regions, floods and water quality problems are likely to be worse because of climate change. IMPLIED_BASE IMPLIED_BASE',\n  {'entities': [(17, 23, 'base'),\n    (28, 33, 'base'),\n    (34, 50, 'aspect_changing'),\n    (68, 73, 'change_direction'),\n    (85, 99, 'base')]}),\n ('The projected emergence of unprecedented high-temperature extremes in the tropics will consequently lead to significantly larger impacts on agriculture and ecosystems. IMPLIED_BASE IMPLIED_BASE',\n  {'entities': [(14, 23, 'change_direction'),\n    (41, 66, 'aspect_changing'),\n    (122, 128, 'change_direction'),\n    (129, 136, 'aspect_changing'),\n    (140, 151, 'base'),\n    (156, 166, 'base'),\n    (168, 180, 'base')]}),\n ('Coastlines at northern latitudes, like those in New England, will face higher flood levels primarily because of sea level rise. IMPLIED_BASE IMPLIED_BASE',\n  {'entities': [(71, 77, 'change_direction'),\n    (78, 83, 'base'),\n    (84, 90, 'aspect_changing'),\n    (112, 115, 'base'),\n    (116, 121, 'aspect_changing'),\n    (122, 126, 'change_direction')]}),\n ('Some of the negative health effects of climate change are already upon us, but it’s not all doom and gloom. IMPLIED_BASE IMPLIED_BASE',\n  {'entities': [(12, 20, 'change_direction'),\n    (21, 27, 'base'),\n    (28, 35, 'aspect_changing'),\n    (39, 53, 'base')]}),\n ('Climate change will affect the fundamental determinants of human health including “water, air, food quality and quantity, ecosystems, agriculture, livelihoods and infrastructure” [2] (p. 393). IMPLIED_BASE IMPLIED_BASE',\n  {'entities': [(0, 14, 'base'),\n    (31, 55, 'aspect_changing'),\n    (59, 64, 'type_of'),\n    (65, 71, 'base'),\n    (83, 88, 'base'),\n    (90, 93, 'base'),\n    (95, 99, 'base'),\n    (100, 107, 'aspect_changing'),\n    (112, 120, 'aspect_changing'),\n    (122, 132, 'base'),\n    (134, 145, 'base'),\n    (147, 158, 'base'),\n    (163, 177, 'base')]}),\n ('California fires took a half-dozen lives and were so severe as to cause a national state of emergency; the 2018 Mendocino Complex Fire was the largest in California history. IMPLIED_BASE IMPLIED_BASE',\n  {'entities': [(11, 16, 'base'),\n    (17, 21, 'change_direction'),\n    (35, 40, 'base'),\n    (53, 59, 'type_of'),\n    (74, 82, 'type_of'),\n    (83, 101, 'base')]}),\n ('Improved human health: Many studies have found connections between exposure to nature and better mental and physical health. IMPLIED_BASE IMPLIED_BASE',\n  {'entities': [(67, 75, 'aspect_changing'),\n    (79, 85, 'base'),\n    (90, 96, 'change_direction'),\n    (97, 103, 'type_of'),\n    (108, 116, 'type_of'),\n    (117, 123, 'base')]}),\n ('Heat reduction: Trees provide shade for homes, office buildings, parks and roadways, cooling surface temperatures. IMPLIED_BASE IMPLIED_BASE',\n  {'entities': [(16, 21, 'base'),\n    (30, 35, 'base'),\n    (85, 92, 'change_direction'),\n    (93, 113, 'aspect_changing'),\n    (115, 127, 'base')]}),\n ('As global temperatures rise, climate change’s impacts on mental health are becoming increasingly evident. IMPLIED_BASE IMPLIED_BASE',\n  {'entities': [(3, 22, 'aspect_changing'),\n    (23, 27, 'change_direction'),\n    (29, 43, 'base'),\n    (46, 53, 'aspect_changing'),\n    (57, 63, 'type_of'),\n    (64, 70, 'base'),\n    (106, 118, 'base')]}),\n ('Philip Alston, UN special rapporteur on extreme poverty and human rights, said the impacts of global heating are likely to undermine not only basic rights to life, water, food, and housing for hundreds of millions of people, but also democracy and the rule of law. IMPLIED_BASE IMPLIED_BASE',\n  {'entities': [(83, 90, 'aspect_changing'),\n    (94, 108, 'base'),\n    (123, 132, 'change_direction'),\n    (142, 154, 'base'),\n    (158, 162, 'type_of'),\n    (164, 169, 'type_of'),\n    (171, 175, 'type_of'),\n    (181, 188, 'type_of'),\n    (234, 243, 'base'),\n    (252, 263, 'base')]}),\n ('Air pollution has improved dramatically over the past four decades because of federal rules. IMPLIED_BASE IMPLIED_BASE',\n  {'entities': [(0, 3, 'type_of'),\n    (4, 13, 'base'),\n    (18, 26, 'change_direction'),\n    (78, 85, 'type_of'),\n    (86, 91, 'base')]}),\n ('\"If we look at deaths avoided per 100,000 people,\" Lo added, \"Miami and Detroit would have the highest numbers of heat-related deaths avoided among the 15 cities that we studied.\" IMPLIED_BASE IMPLIED_BASE',\n  {'entities': [(42, 48, 'base'), (114, 118, 'base'), (127, 133, 'base')]}),\n ('Storms such as Hurricanes Andrew, Irma, and Katrina exemplify how major weather events magnified by global warming can have long-lasting effects on the economy. IMPLIED_BASE IMPLIED_BASE',\n  {'entities': [(0, 6, 'base'),\n    (72, 79, 'base'),\n    (80, 86, 'aspect_changing'),\n    (87, 96, 'change_direction'),\n    (100, 114, 'base'),\n    (137, 144, 'aspect_changing'),\n    (152, 159, 'base')]}),\n ('Noting that carbon stays in the atmosphere for centuries, at least, and that a United Nations panel found in 2007 that climate change is “likely to adversely affect hundreds of millions of people through increased coastal flooding, reductions in water supplies, increased malnutrition and increased health impacts” in the next 100 years, Professor Nolt did a lot of division and multiplication and arrived at a stark conclusion: IMPLIED_BASE IMPLIED_BASE',\n  {'entities': [(119, 133, 'base'),\n    (148, 164, 'change_direction'),\n    (189, 195, 'base'),\n    (204, 213, 'change_direction'),\n    (214, 221, 'type_of'),\n    (222, 230, 'base'),\n    (232, 242, 'change_direction'),\n    (246, 251, 'base'),\n    (252, 260, 'aspect_changing'),\n    (262, 271, 'change_direction'),\n    (272, 284, 'base'),\n    (289, 298, 'change_direction'),\n    (299, 305, 'base'),\n    (306, 313, 'aspect_changing')]}),\n ('Another change in hurricanes that’s clearly linked to climate change is a tendency to intensify more rapidly. IMPLIED_BASE IMPLIED_BASE',\n  {'entities': [(18, 28, 'base'),\n    (54, 68, 'base'),\n    (74, 108, 'aspect_changing')]}),\n ('The authors blame the poor air quality on car emissions, the burning of fossil fuels and the impacts of climate change, such as wildfires. IMPLIED_BASE IMPLIED_BASE',\n  {'entities': [(22, 26, 'change_direction'),\n    (27, 30, 'base'),\n    (31, 38, 'aspect_changing'),\n    (42, 45, 'base'),\n    (46, 55, 'aspect_changing'),\n    (61, 68, 'change_direction'),\n    (72, 84, 'base'),\n    (104, 118, 'base'),\n    (128, 137, 'base')]}),\n ('Intense storms are more frequent as climates shift and the mangroves protect the coast from eroding, according to scientists. IMPLIED_BASE IMPLIED_BASE',\n  {'entities': [(0, 7, 'type_of'),\n    (8, 14, 'base'),\n    (19, 32, 'change_direction'),\n    (36, 44, 'base'),\n    (45, 50, 'change_direction'),\n    (59, 68, 'base'),\n    (81, 86, 'base'),\n    (92, 99, 'change_direction')]}),\n ('DiPerna says hotels are extremely vulnerable to the rise in extreme weather, perhaps more than any other client-facing industry. IMPLIED_BASE IMPLIED_BASE',\n  {'entities': [(13, 19, 'base'),\n    (52, 56, 'change_direction'),\n    (60, 67, 'type_of'),\n    (68, 75, 'base'),\n    (105, 118, 'type_of'),\n    (119, 127, 'base')]}),\n ('Crop shortages will likely result in higher prices for consumers and since corn and soy are basically in every part of the American diet, that could be a real problem. IMPLIED_BASE IMPLIED_BASE',\n  {'entities': [(0, 4, 'base'),\n    (5, 14, 'aspect_changing'),\n    (37, 43, 'change_direction'),\n    (44, 50, 'aspect_changing'),\n    (75, 79, 'base'),\n    (84, 87, 'base'),\n    (123, 131, 'type_of'),\n    (132, 136, 'base'),\n    (168, 180, 'base')]}),\n ('The natural ocean cycle of El Niño is a key factor in pushing up temperatures in some parts of the ocean and the effect of global warming on the phenomenon remains uncertain, but the gradual overall heating of the oceans means heatwaves are worse when they strike. IMPLIED_BASE IMPLIED_BASE',\n  {'entities': [(12, 23, 'base'),\n    (27, 35, 'type_of'),\n    (55, 65, 'change_direction'),\n    (66, 78, 'aspect_changing'),\n    (100, 105, 'base'),\n    (184, 207, 'change_direction'),\n    (215, 221, 'base'),\n    (228, 237, 'base'),\n    (242, 247, 'type_of')]}),\n ('In 2016, the annually-averaged ocean surface temperature for the world was 1.35 degrees Fahrenheit (0.75 degrees Celsius) higher than the 20th century average, continuing a steady climb in ocean surface temperatures over the past three decades.43,44 Record ocean temperatures have contributed to a decline in sea ice levels. IMPLIED_BASE IMPLIED_BASE',\n  {'entities': [(257, 262, 'base'),\n    (263, 275, 'aspect_changing'),\n    (298, 305, 'change_direction'),\n    (309, 312, 'type_of'),\n    (313, 316, 'base'),\n    (317, 323, 'aspect_changing')]}),\n ('There are studies linking heat to lowered cognitive function, an increased heart rate, higher testosterone production and even a perception of time passing more slowly than normal. IMPLIED_BASE IMPLIED_BASE',\n  {'entities': [(26, 30, 'base'),\n    (34, 41, 'change_direction'),\n    (42, 51, 'base'),\n    (52, 60, 'aspect_changing'),\n    (65, 74, 'change_direction'),\n    (75, 80, 'base'),\n    (81, 85, 'aspect_changing'),\n    (87, 93, 'change_direction'),\n    (94, 106, 'base'),\n    (107, 117, 'aspect_changing'),\n    (129, 139, 'base'),\n    (143, 147, 'type_of'),\n    (156, 179, 'change_direction')]}),\n ('Economic DeprivationClimate change is projected to have a detrimental impact on economies worldwide, including reduced crop yields, less grazing land, and the loss of homes and jobs due to wildfires and flooding (IPCC, 2007). IMPLIED_BASE IMPLIED_BASE',\n  {'entities': [(9, 34, 'base'),\n    (58, 69, 'aspect_changing'),\n    (70, 76, 'aspect_changing'),\n    (80, 89, 'base'),\n    (111, 118, 'change_direction'),\n    (119, 123, 'base'),\n    (124, 130, 'aspect_changing'),\n    (132, 136, 'change_direction'),\n    (137, 144, 'type_of'),\n    (145, 149, 'base'),\n    (159, 163, 'change_direction'),\n    (167, 172, 'base'),\n    (177, 181, 'base'),\n    (189, 198, 'base'),\n    (203, 211, 'base')]}),\n ('Although there are many such indirect pathways to increased violence, we outline four that clearly link rapid climate change to the development of violence-prone adults: food insecurity, economic deprivation, susceptibility to terrorism, and preferential ingroup treatment. IMPLIED_BASE IMPLIED_BASE',\n  {'entities': [(50, 59, 'change_direction'),\n    (60, 68, 'base'),\n    (104, 109, 'type_of'),\n    (110, 124, 'base'),\n    (132, 143, 'change_direction'),\n    (147, 161, 'type_of'),\n    (162, 168, 'base'),\n    (170, 185, 'base'),\n    (187, 195, 'type_of'),\n    (196, 207, 'base'),\n    (209, 223, 'aspect_changing'),\n    (227, 236, 'base'),\n    (242, 272, 'base')]}),\n ('But climate change and extreme weather events, such as recent flooding that cut road access to many remote communities for several weeks, are making it ever-more difficult. IMPLIED_BASE IMPLIED_BASE',\n  {'entities': [(4, 18, 'base'),\n    (23, 30, 'type_of'),\n    (31, 38, 'base'),\n    (39, 45, 'aspect_changing'),\n    (62, 70, 'base'),\n    (76, 79, 'change_direction'),\n    (80, 84, 'base'),\n    (85, 91, 'aspect_changing'),\n    (152, 171, 'change_direction'),\n    (173, 185, 'base')]}),\n ('Some saw parents killed or lost in the flooding that followed the storms. IMPLIED_BASE IMPLIED_BASE',\n  {'entities': [(9, 16, 'base'),\n    (17, 23, 'change_direction'),\n    (27, 31, 'change_direction'),\n    (39, 47, 'base'),\n    (66, 72, 'base')]}),\n ('A warming climate could also mean increased extinction risk for a large fraction of species, the spread of diseases, an undermining of food security, and reduced renewable surface water and groundwater resources. IMPLIED_BASE IMPLIED_BASE',\n  {'entities': [(2, 9, 'change_direction'),\n    (10, 17, 'base'),\n    (34, 43, 'change_direction'),\n    (44, 59, 'aspect_changing'),\n    (64, 91, 'base'),\n    (97, 103, 'change_direction'),\n    (107, 115, 'base'),\n    (120, 131, 'change_direction'),\n    (135, 148, 'base'),\n    (154, 161, 'change_direction'),\n    (162, 171, 'type_of'),\n    (172, 179, 'type_of'),\n    (180, 185, 'base'),\n    (190, 201, 'base'),\n    (202, 211, 'aspect_changing')]}),\n ('Even droughts can make breathing harder. IMPLIED_BASE IMPLIED_BASE',\n  {'entities': [(5, 13, 'base'),\n    (23, 32, 'base'),\n    (33, 39, 'change_direction')]}),\n ('Wildfires spew particulates, too, along with other pollutants. IMPLIED_BASE IMPLIED_BASE',\n  {'entities': [(0, 9, 'base'), (15, 27, 'base'), (51, 61, 'base')]}),\n ('But Mongolia’s nomads are also being pushed off the land, as mining accelerates desertification of grasslands, through the mines’ heavy groundwater use and destruction of vegetation. IMPLIED_BASE IMPLIED_BASE',\n  {'entities': [(61, 67, 'base'),\n    (68, 79, 'change_direction'),\n    (80, 95, 'aspect_changing'),\n    (99, 109, 'base'),\n    (130, 135, 'change_direction'),\n    (136, 147, 'base'),\n    (148, 151, 'change_direction'),\n    (156, 167, 'aspect_changing'),\n    (171, 181, 'base')]}),\n ('A new report from the Congressional Budget Office estimates annual losses from damage linked to hurricanes and flooding at $54 billion under current conditions (which are changing rapidly). IMPLIED_BASE IMPLIED_BASE',\n  {'entities': [(60, 73, 'aspect_changing'),\n    (79, 85, 'aspect_changing'),\n    (96, 106, 'base'),\n    (111, 119, 'base'),\n    (190, 202, 'base'),\n    (203, 215, 'base')]})]"
          },
          "metadata": {}
        }
      ],
      "execution_count": 25,
      "metadata": {
        "gather": {
          "logged": 1664394043049
        }
      },
      "id": "add7e3f5"
    },
    {
      "cell_type": "code",
      "source": [
        "print(\"starting time: \" + time.strftime('%m/%d/%Y %H:%M:%S', time.localtime(time.time())))\n",
        "if model is not None:\n",
        "    nlp = spacy.load(model)\n",
        "    print(\"Loaded model '%s'\" % model)\n",
        "else:\n",
        "    nlp = spacy.blank('en')\n",
        "    print(\"Created blank 'en' model\")\n",
        "    \n",
        "if 'ner' not in nlp.pipe_names:\n",
        "    ner = nlp.create_pipe('ner')\n",
        "    nlp.add_pipe(ner)\n",
        "else:\n",
        "    ner = nlp.get_pipe('ner')\n",
        "\n",
        "for i in LABEL:\n",
        "    # Adding new entity\n",
        "    ner.add_label(i)\n",
        "\n",
        "if model is None:\n",
        "    optimizer = nlp.begin_training()\n",
        "else:\n",
        "    #optimizer = nlp.entity.create_optimizer()\n",
        "    optimizer = nlp.create_optimizer()\n",
        "    \n",
        "# Get names of other pipes to disable them during training to train only NER\n",
        "other_pipes = [pipe for pipe in nlp.pipe_names if pipe != 'ner']\n",
        "with nlp.disable_pipes(*other_pipes):  # only train NER\n",
        "    for itn in range(n_iter):\n",
        "        random.shuffle(TRAIN_DATA)\n",
        "        losses = {}\n",
        "        batches = minibatch(TRAIN_DATA, size=compounding(4., 32., 1.001))\n",
        "        #for batch in batches:\n",
        "        #    texts, annotations = zip(*batch)\n",
        "        #    nlp.update(texts, annotations, sgd=optimizer, drop=0.2, losses=losses)\n",
        "        #print('Losses', losses)\n",
        "        for batch in spacy.util.minibatch(TRAIN_DATA, size=batch_size):\n",
        "            for text, annotations in batch:\n",
        "                doc = nlp.make_doc(text)\n",
        "                example = Example.from_dict(doc, annotations)\n",
        "                nlp.update([example], drop=0.35, sgd=optimizer, losses=losses)\n",
        "        print(str(itn) + \" loss: \", losses)\n",
        "        \n",
        "# Save model \n",
        "if output_dir is not None:\n",
        "    output_dir = Path(output_dir)\n",
        "    if not output_dir.exists():\n",
        "        output_dir.mkdir()\n",
        "    nlp.meta['name'] = new_model_name  # rename model\n",
        "    nlp.to_disk(output_dir)\n",
        "    print(\"Saved model to\", output_dir)\n",
        "\n",
        "print(\"ending time: \" + time.strftime('%m/%d/%Y %H:%M:%S', time.localtime(time.time())))"
      ],
      "outputs": [
        {
          "output_type": "stream",
          "name": "stdout",
          "text": "starting time: 09/28/2022 18:48:32\nLoaded model 'en_core_web_md'\n0 loss:  {'ner': 4627.446830126743}\n1 loss:  {'ner': 3614.1820618331544}\n2 loss:  {'ner': 3152.8385711346823}\n3 loss:  {'ner': 2836.829549912623}\n4 loss:  {'ner': 2551.450287978364}\n5 loss:  {'ner': 2360.723427600743}\n6 loss:  {'ner': 2183.280440711687}\n7 loss:  {'ner': 2103.070454425247}\n8 loss:  {'ner': 1955.910360846576}\n9 loss:  {'ner': 1968.3071469821134}\n10 loss:  {'ner': 1816.3685661763102}\n11 loss:  {'ner': 1744.216094576551}\n12 loss:  {'ner': 1637.8667575899863}\n13 loss:  {'ner': 1564.1229956903442}\n14 loss:  {'ner': 1471.4620383356441}\n15 loss:  {'ner': 1367.3956451999088}\n16 loss:  {'ner': 1377.172620356496}\n17 loss:  {'ner': 1297.544757553306}\n18 loss:  {'ner': 1284.4496535209314}\n19 loss:  {'ner': 1204.3186212644034}\n20 loss:  {'ner': 1138.6926340063276}\n21 loss:  {'ner': 1235.3325205859392}\n22 loss:  {'ner': 1089.465987110618}\n23 loss:  {'ner': 1131.4532132360669}\n24 loss:  {'ner': 1071.0334421993246}\n25 loss:  {'ner': 1049.6042716003878}\n26 loss:  {'ner': 1017.0971025486042}\n27 loss:  {'ner': 931.5932576794468}\n28 loss:  {'ner': 924.4366085693342}\n29 loss:  {'ner': 886.6799800545364}\n30 loss:  {'ner': 889.530344080408}\n31 loss:  {'ner': 817.7273675748677}\n32 loss:  {'ner': 842.557590897665}\n33 loss:  {'ner': 815.95325780789}\n34 loss:  {'ner': 787.3847793653091}\n35 loss:  {'ner': 776.334201297934}\n36 loss:  {'ner': 771.6018036529664}\n37 loss:  {'ner': 788.7768826002424}\n38 loss:  {'ner': 716.5837454737837}\n39 loss:  {'ner': 712.3726916336867}\n40 loss:  {'ner': 693.0674051201519}\n41 loss:  {'ner': 646.7892829151754}\n42 loss:  {'ner': 676.0029188346005}\n43 loss:  {'ner': 689.5475661005879}\n44 loss:  {'ner': 693.8607682621014}\n45 loss:  {'ner': 678.9627961055184}\n46 loss:  {'ner': 696.4089518039324}\n47 loss:  {'ner': 614.2609061818669}\n48 loss:  {'ner': 603.9849875582212}\n49 loss:  {'ner': 637.6786851458523}\n50 loss:  {'ner': 634.8899759671217}\n51 loss:  {'ner': 520.6705640892098}\n52 loss:  {'ner': 583.4211539943703}\n53 loss:  {'ner': 590.1733797246995}\n54 loss:  {'ner': 567.1455799020044}\n55 loss:  {'ner': 565.0507200211777}\n56 loss:  {'ner': 575.8923159230889}\n57 loss:  {'ner': 563.8583917031618}\n58 loss:  {'ner': 545.0745039238806}\n59 loss:  {'ner': 511.6298399295031}\n60 loss:  {'ner': 527.9644694638876}\n61 loss:  {'ner': 475.80184858101603}\n62 loss:  {'ner': 529.316947606795}\n63 loss:  {'ner': 502.1024680119334}\n64 loss:  {'ner': 519.7979021901526}\n65 loss:  {'ner': 491.58109333539215}\n66 loss:  {'ner': 485.8835767482509}\n67 loss:  {'ner': 496.105902095078}\n68 loss:  {'ner': 493.2980317646612}\n69 loss:  {'ner': 432.13381750730287}\n70 loss:  {'ner': 481.95624635980255}\n71 loss:  {'ner': 478.8386784247047}\n72 loss:  {'ner': 450.17034263230926}\n73 loss:  {'ner': 464.1620922443489}\n74 loss:  {'ner': 491.8080099558657}\n75 loss:  {'ner': 394.04340657498625}\n76 loss:  {'ner': 401.53837480494633}\n77 loss:  {'ner': 415.0274140894887}\n78 loss:  {'ner': 418.8496435919464}\n79 loss:  {'ner': 439.6542490371503}\n80 loss:  {'ner': 392.2240105970839}\n81 loss:  {'ner': 430.97892026316765}\n82 loss:  {'ner': 403.3215240505147}\n83 loss:  {'ner': 358.67246166398087}\n84 loss:  {'ner': 399.2434124530498}\n85 loss:  {'ner': 360.8095620610669}\n86 loss:  {'ner': 373.95163575903234}\n87 loss:  {'ner': 414.4591861163131}\n88 loss:  {'ner': 354.4152512422773}\n89 loss:  {'ner': 361.9713489341021}\n90 loss:  {'ner': 359.2541696226737}\n91 loss:  {'ner': 383.23467715024333}\n92 loss:  {'ner': 375.6488720747785}\n93 loss:  {'ner': 369.93378270835075}\n94 loss:  {'ner': 371.3026429851729}\n95 loss:  {'ner': 416.36570756554835}\n96 loss:  {'ner': 341.6278815856835}\n97 loss:  {'ner': 341.03168259588665}\n98 loss:  {'ner': 325.07459216899184}\n99 loss:  {'ner': 344.0708033846495}\n100 loss:  {'ner': 348.4379191298824}\n101 loss:  {'ner': 368.28100649037185}\n102 loss:  {'ner': 337.4435973079376}\n103 loss:  {'ner': 392.5489157922201}\n104 loss:  {'ner': 367.727253813071}\n105 loss:  {'ner': 354.8952713209746}\n106 loss:  {'ner': 327.98741843263207}\n107 loss:  {'ner': 346.3151288240466}\n108 loss:  {'ner': 306.9287906893787}\n109 loss:  {'ner': 342.3248560085451}\n110 loss:  {'ner': 354.6911351745835}\n111 loss:  {'ner': 320.91257730418874}\n112 loss:  {'ner': 287.1204306470668}\n113 loss:  {'ner': 356.5784515324788}\n114 loss:  {'ner': 346.34229417081247}\n115 loss:  {'ner': 332.70880305557546}\n116 loss:  {'ner': 351.06225998066225}\n117 loss:  {'ner': 348.68818002530014}\n118 loss:  {'ner': 294.3668980268562}\n119 loss:  {'ner': 304.1355250386945}\n120 loss:  {'ner': 266.1915288560886}\n121 loss:  {'ner': 289.64130018767764}\n122 loss:  {'ner': 277.5146672111356}\n123 loss:  {'ner': 306.4582344128207}\n124 loss:  {'ner': 323.82082762879}\n125 loss:  {'ner': 291.94462905868414}\n126 loss:  {'ner': 336.66665456737155}\n127 loss:  {'ner': 273.31578161533855}\n128 loss:  {'ner': 307.9611074846765}\n129 loss:  {'ner': 289.32268450539453}\n130 loss:  {'ner': 265.1596353338064}\n131 loss:  {'ner': 280.0493800826282}\n132 loss:  {'ner': 272.6767966894269}\n133 loss:  {'ner': 301.3127653125647}\n134 loss:  {'ner': 244.4995708898125}\n135 loss:  {'ner': 299.883888571976}\n136 loss:  {'ner': 291.38398207544395}\n137 loss:  {'ner': 268.39176454141796}\n138 loss:  {'ner': 290.20909663337335}\n139 loss:  {'ner': 265.7818841628413}\n140 loss:  {'ner': 303.11969451487636}\n141 loss:  {'ner': 293.790086229704}\n142 loss:  {'ner': 247.31011618907607}\n143 loss:  {'ner': 270.07224595189217}\n144 loss:  {'ner': 243.30821272993327}\n145 loss:  {'ner': 259.7504959395019}\n146 loss:  {'ner': 230.08687476153074}\n147 loss:  {'ner': 226.88264986739125}\n148 loss:  {'ner': 270.78037372000813}\n149 loss:  {'ner': 284.0446218158415}\n150 loss:  {'ner': 254.46343188595733}\n151 loss:  {'ner': 243.10216508651033}\n152 loss:  {'ner': 280.9748124543675}\n153 loss:  {'ner': 286.23046847656735}\n154 loss:  {'ner': 267.1888578503644}\n155 loss:  {'ner': 268.05159169787737}\n156 loss:  {'ner': 234.79845114785397}\n157 loss:  {'ner': 289.6967007220469}\n158 loss:  {'ner': 269.9239246904635}\n159 loss:  {'ner': 264.55331660777927}\n160 loss:  {'ner': 291.59587634154377}\n161 loss:  {'ner': 246.20283233566263}\n162 loss:  {'ner': 284.95653567414627}\n163 loss:  {'ner': 240.6781748763379}\n164 loss:  {'ner': 241.27129546723611}\n165 loss:  {'ner': 237.78058412953217}\n166 loss:  {'ner': 245.98373893606365}\n167 loss:  {'ner': 220.81708261945585}\n168 loss:  {'ner': 218.01139796313268}\n169 loss:  {'ner': 246.94403073138818}\n170 loss:  {'ner': 242.7901327242892}\n171 loss:  {'ner': 269.8946341040147}\n172 loss:  {'ner': 282.27152310344036}\n173 loss:  {'ner': 258.17269829689883}\n174 loss:  {'ner': 256.5938560831316}\n175 loss:  {'ner': 233.0437624370013}\n176 loss:  {'ner': 211.5189623507946}\n177 loss:  {'ner': 253.07924509286}\n178 loss:  {'ner': 275.00602464875567}\n179 loss:  {'ner': 231.0286253833267}\n180 loss:  {'ner': 232.8498481260817}\n181 loss:  {'ner': 226.4740504460195}\n182 loss:  {'ner': 253.85516085566667}\n183 loss:  {'ner': 202.12165404374366}\n184 loss:  {'ner': 208.4310410951603}\n185 loss:  {'ner': 271.0896026243226}\n186 loss:  {'ner': 208.83265557602428}\n187 loss:  {'ner': 207.9098880021925}\n188 loss:  {'ner': 200.66665557618833}\n189 loss:  {'ner': 272.73987494572094}\n190 loss:  {'ner': 278.8354613887889}\n191 loss:  {'ner': 216.5242893905811}\n192 loss:  {'ner': 224.42093539132733}\n193 loss:  {'ner': 226.6322979864577}\n194 loss:  {'ner': 241.16559448161652}\n195 loss:  {'ner': 230.43593073077756}\n196 loss:  {'ner': 193.14211659579766}\n197 loss:  {'ner': 221.58755686291906}\n198 loss:  {'ner': 237.70286581068717}\n199 loss:  {'ner': 207.2084063749481}\nSaved model to data\nending time: 09/28/2022 19:38:34\n"
        }
      ],
      "execution_count": 20,
      "metadata": {
        "gather": {
          "logged": 1664393914837
        }
      },
      "id": "fdb0e821"
    },
    {
      "cell_type": "code",
      "source": [
        "# Test the saved model\n",
        "print(\"Loading from\", output_dir)\n",
        "nlp_test = spacy.load(output_dir)"
      ],
      "outputs": [
        {
          "output_type": "stream",
          "name": "stdout",
          "text": "Loading from data\n"
        }
      ],
      "execution_count": 22,
      "metadata": {
        "gather": {
          "logged": 1664393935759
        }
      },
      "id": "48674ab2"
    },
    {
      "cell_type": "code",
      "source": [
        "result = os.path.join(output_dir, \"spacy_predictions.txt\")\n",
        "\n",
        "final_res = []\n",
        "PRED_DATA = []\n",
        "for sent in TEST_DATA:\n",
        "    doc2 = nlp_test(sent[0])\n",
        "    PRED_DATA.append(doc2.to_json()[\"ents\"])\n"
      ],
      "outputs": [],
      "execution_count": 40,
      "metadata": {
        "gather": {
          "logged": 1664394572969
        }
      },
      "id": "ce27fd7b"
    },
    {
      "cell_type": "code",
      "source": [
        "PRED_DATA"
      ],
      "outputs": [
        {
          "output_type": "execute_result",
          "execution_count": 42,
          "data": {
            "text/plain": "[[{'start': 33, 'end': 39, 'label': 'base'},\n  {'start': 40, 'end': 47, 'label': 'aspect_changing'},\n  {'start': 53, 'end': 56, 'label': 'type_of'},\n  {'start': 57, 'end': 66, 'label': 'base'},\n  {'start': 67, 'end': 126, 'label': 'type_of'},\n  {'start': 127, 'end': 139, 'label': 'base'}],\n [{'start': 23, 'end': 31, 'label': 'base'},\n  {'start': 39, 'end': 43, 'label': 'type_of'},\n  {'start': 44, 'end': 52, 'label': 'base'},\n  {'start': 68, 'end': 74, 'label': 'change_direction'},\n  {'start': 75, 'end': 84, 'label': 'base'},\n  {'start': 151, 'end': 158, 'label': 'type_of'},\n  {'start': 159, 'end': 175, 'label': 'change_direction'},\n  {'start': 176, 'end': 182, 'label': 'base'},\n  {'start': 186, 'end': 199, 'label': 'base'},\n  {'start': 256, 'end': 262, 'label': 'type_of'},\n  {'start': 267, 'end': 270, 'label': 'type_of'},\n  {'start': 271, 'end': 283, 'label': 'base'}],\n [{'start': 0, 'end': 12, 'label': 'type_of'},\n  {'start': 13, 'end': 20, 'label': 'base'},\n  {'start': 37, 'end': 40, 'label': 'type_of'},\n  {'start': 41, 'end': 48, 'label': 'base'},\n  {'start': 50, 'end': 58, 'label': 'change_direction'},\n  {'start': 59, 'end': 66, 'label': 'base'},\n  {'start': 68, 'end': 80, 'label': 'base'},\n  {'start': 86, 'end': 90, 'label': 'base'},\n  {'start': 91, 'end': 103, 'label': 'aspect_changing'},\n  {'start': 126, 'end': 134, 'label': 'change_direction'},\n  {'start': 139, 'end': 146, 'label': 'aspect_changing'},\n  {'start': 150, 'end': 157, 'label': 'type_of'},\n  {'start': 158, 'end': 165, 'label': 'base'},\n  {'start': 185, 'end': 196, 'label': 'base'}],\n [{'start': 46, 'end': 54, 'label': 'base'},\n  {'start': 69, 'end': 72, 'label': 'base'},\n  {'start': 96, 'end': 105, 'label': 'aspect_changing'},\n  {'start': 129, 'end': 137, 'label': 'base'}],\n [{'start': 4, 'end': 8, 'label': 'aspect_changing'},\n  {'start': 12, 'end': 23, 'label': 'base'},\n  {'start': 46, 'end': 51, 'label': 'change_direction'},\n  {'start': 53, 'end': 62, 'label': 'change_direction'},\n  {'start': 91, 'end': 95, 'label': 'change_direction'},\n  {'start': 96, 'end': 102, 'label': 'aspect_changing'},\n  {'start': 113, 'end': 122, 'label': 'change_direction'},\n  {'start': 154, 'end': 163, 'label': 'base'}],\n [{'start': 2, 'end': 13, 'label': 'type_of'},\n  {'start': 91, 'end': 98, 'label': 'base'},\n  {'start': 114, 'end': 123, 'label': 'change_direction'}],\n [{'start': 13, 'end': 19, 'label': 'base'},\n  {'start': 20, 'end': 32, 'label': 'aspect_changing'},\n  {'start': 36, 'end': 42, 'label': 'base'},\n  {'start': 66, 'end': 72, 'label': 'base'},\n  {'start': 73, 'end': 83, 'label': 'aspect_changing'},\n  {'start': 91, 'end': 96, 'label': 'change_direction'},\n  {'start': 105, 'end': 111, 'label': 'base'},\n  {'start': 127, 'end': 133, 'label': 'base'},\n  {'start': 138, 'end': 146, 'label': 'type_of'},\n  {'start': 147, 'end': 157, 'label': 'base'},\n  {'start': 176, 'end': 182, 'label': 'base'},\n  {'start': 192, 'end': 203, 'label': 'change_direction'},\n  {'start': 204, 'end': 216, 'label': 'aspect_changing'},\n  {'start': 226, 'end': 231, 'label': 'change_direction'},\n  {'start': 232, 'end': 238, 'label': 'aspect_changing'}],\n [{'start': 32, 'end': 36, 'label': 'change_direction'},\n  {'start': 45, 'end': 52, 'label': 'type_of'},\n  {'start': 53, 'end': 67, 'label': 'base'},\n  {'start': 81, 'end': 86, 'label': 'type_of'},\n  {'start': 90, 'end': 95, 'label': 'change_direction'},\n  {'start': 98, 'end': 107, 'label': 'aspect_changing'},\n  {'start': 111, 'end': 116, 'label': 'base'},\n  {'start': 122, 'end': 128, 'label': 'aspect_changing'},\n  {'start': 136, 'end': 145, 'label': 'type_of'},\n  {'start': 151, 'end': 159, 'label': 'change_direction'},\n  {'start': 160, 'end': 166, 'label': 'base'},\n  {'start': 172, 'end': 180, 'label': 'change_direction'},\n  {'start': 184, 'end': 188, 'label': 'base'},\n  {'start': 189, 'end': 197, 'label': 'aspect_changing'},\n  {'start': 240, 'end': 244, 'label': 'type_of'},\n  {'start': 258, 'end': 266, 'label': 'change_direction'},\n  {'start': 270, 'end': 278, 'label': 'base'},\n  {'start': 292, 'end': 299, 'label': 'change_direction'}],\n [{'start': 0, 'end': 9, 'label': 'base'},\n  {'start': 42, 'end': 62, 'label': 'aspect_changing'},\n  {'start': 72, 'end': 85, 'label': 'base'},\n  {'start': 86, 'end': 96, 'label': 'aspect_changing'},\n  {'start': 98, 'end': 106, 'label': 'base'},\n  {'start': 107, 'end': 115, 'label': 'aspect_changing'},\n  {'start': 137, 'end': 156, 'label': 'change_direction'},\n  {'start': 157, 'end': 163, 'label': 'base'},\n  {'start': 170, 'end': 175, 'label': 'type_of'},\n  {'start': 176, 'end': 182, 'label': 'base'},\n  {'start': 192, 'end': 201, 'label': 'change_direction'},\n  {'start': 202, 'end': 216, 'label': 'aspect_changing'},\n  {'start': 217, 'end': 225, 'label': 'base'}],\n [{'start': 26, 'end': 40, 'label': 'base'},\n  {'start': 45, 'end': 62, 'label': 'change_direction'},\n  {'start': 63, 'end': 73, 'label': 'change_direction'},\n  {'start': 74, 'end': 79, 'label': 'type_of'},\n  {'start': 80, 'end': 91, 'label': 'base'},\n  {'start': 96, 'end': 102, 'label': 'aspect_changing'},\n  {'start': 113, 'end': 117, 'label': 'type_of'},\n  {'start': 118, 'end': 126, 'label': 'base'},\n  {'start': 127, 'end': 133, 'label': 'change_direction'},\n  {'start': 147, 'end': 151, 'label': 'aspect_changing'}],\n [{'start': 0, 'end': 14, 'label': 'base'},\n  {'start': 28, 'end': 34, 'label': 'change_direction'},\n  {'start': 35, 'end': 38, 'label': 'base'},\n  {'start': 39, 'end': 45, 'label': 'aspect_changing'},\n  {'start': 54, 'end': 62, 'label': 'change_direction'},\n  {'start': 66, 'end': 74, 'label': 'base'},\n  {'start': 91, 'end': 99, 'label': 'base'},\n  {'start': 114, 'end': 118, 'label': 'change_direction'},\n  {'start': 119, 'end': 130, 'label': 'aspect_changing'},\n  {'start': 134, 'end': 141, 'label': 'base'},\n  {'start': 165, 'end': 177, 'label': 'base'}],\n [{'start': 0, 'end': 14, 'label': 'base'},\n  {'start': 18, 'end': 30, 'label': 'change_direction'},\n  {'start': 31, 'end': 38, 'label': 'type_of'},\n  {'start': 39, 'end': 46, 'label': 'base'},\n  {'start': 47, 'end': 53, 'label': 'aspect_changing'}],\n [{'start': 0, 'end': 14, 'label': 'base'},\n  {'start': 26, 'end': 38, 'label': 'aspect_changing'},\n  {'start': 42, 'end': 50, 'label': 'base'},\n  {'start': 51, 'end': 57, 'label': 'aspect_changing'},\n  {'start': 61, 'end': 71, 'label': 'change_direction'},\n  {'start': 72, 'end': 85, 'label': 'base'},\n  {'start': 90, 'end': 96, 'label': 'aspect_changing'},\n  {'start': 101, 'end': 109, 'label': 'aspect_changing'},\n  {'start': 138, 'end': 148, 'label': 'aspect_changing'}],\n [{'start': 60, 'end': 67, 'label': 'base'},\n  {'start': 85, 'end': 99, 'label': 'base'},\n  {'start': 121, 'end': 133, 'label': 'base'}],\n [{'start': 34, 'end': 40, 'label': 'base'},\n  {'start': 45, 'end': 53, 'label': 'base'},\n  {'start': 64, 'end': 86, 'label': 'aspect_changing'}],\n [{'start': 98, 'end': 104, 'label': 'base'},\n  {'start': 105, 'end': 114, 'label': 'aspect_changing'},\n  {'start': 120, 'end': 130, 'label': 'base'},\n  {'start': 178, 'end': 188, 'label': 'type_of'},\n  {'start': 189, 'end': 194, 'label': 'base'},\n  {'start': 225, 'end': 239, 'label': 'base'}],\n [{'start': 2, 'end': 9, 'label': 'type_of'},\n  {'start': 10, 'end': 15, 'label': 'base'},\n  {'start': 50, 'end': 53, 'label': 'change_direction'},\n  {'start': 73, 'end': 77, 'label': 'base'},\n  {'start': 78, 'end': 88, 'label': 'aspect_changing'},\n  {'start': 168, 'end': 174, 'label': 'change_direction'},\n  {'start': 175, 'end': 184, 'label': 'base'},\n  {'start': 185, 'end': 197, 'label': 'aspect_changing'},\n  {'start': 199, 'end': 211, 'label': 'base'}],\n [{'start': 73, 'end': 82, 'label': 'change_direction'},\n  {'start': 83, 'end': 89, 'label': 'aspect_changing'},\n  {'start': 101, 'end': 111, 'label': 'base'},\n  {'start': 215, 'end': 229, 'label': 'base'},\n  {'start': 250, 'end': 256, 'label': 'base'},\n  {'start': 262, 'end': 292, 'label': 'change_direction'}],\n [{'start': 22, 'end': 28, 'label': 'change_direction'},\n  {'start': 89, 'end': 100, 'label': 'type_of'},\n  {'start': 101, 'end': 109, 'label': 'base'},\n  {'start': 125, 'end': 128, 'label': 'base'},\n  {'start': 175, 'end': 184, 'label': 'change_direction'},\n  {'start': 185, 'end': 193, 'label': 'aspect_changing'},\n  {'start': 194, 'end': 203, 'label': 'aspect_changing'},\n  {'start': 205, 'end': 217, 'label': 'base'}],\n [{'start': 17, 'end': 23, 'label': 'base'},\n  {'start': 28, 'end': 33, 'label': 'base'},\n  {'start': 34, 'end': 50, 'label': 'aspect_changing'},\n  {'start': 85, 'end': 99, 'label': 'base'}],\n [{'start': 27, 'end': 40, 'label': 'type_of'},\n  {'start': 41, 'end': 66, 'label': 'aspect_changing'},\n  {'start': 122, 'end': 128, 'label': 'change_direction'},\n  {'start': 140, 'end': 151, 'label': 'base'},\n  {'start': 156, 'end': 166, 'label': 'base'}],\n [{'start': 0, 'end': 10, 'label': 'base'},\n  {'start': 71, 'end': 77, 'label': 'change_direction'},\n  {'start': 78, 'end': 83, 'label': 'base'},\n  {'start': 84, 'end': 90, 'label': 'aspect_changing'},\n  {'start': 112, 'end': 115, 'label': 'base'},\n  {'start': 116, 'end': 121, 'label': 'aspect_changing'},\n  {'start': 122, 'end': 126, 'label': 'change_direction'},\n  {'start': 128, 'end': 140, 'label': 'base'}],\n [{'start': 12, 'end': 38, 'label': 'aspect_changing'},\n  {'start': 39, 'end': 53, 'label': 'base'},\n  {'start': 92, 'end': 106, 'label': 'aspect_changing'},\n  {'start': 108, 'end': 120, 'label': 'base'}],\n [{'start': 0, 'end': 14, 'label': 'base'},\n  {'start': 43, 'end': 55, 'label': 'aspect_changing'},\n  {'start': 59, 'end': 64, 'label': 'type_of'},\n  {'start': 65, 'end': 71, 'label': 'base'},\n  {'start': 83, 'end': 88, 'label': 'type_of'},\n  {'start': 90, 'end': 93, 'label': 'type_of'},\n  {'start': 95, 'end': 99, 'label': 'base'},\n  {'start': 100, 'end': 107, 'label': 'aspect_changing'},\n  {'start': 112, 'end': 120, 'label': 'aspect_changing'},\n  {'start': 122, 'end': 132, 'label': 'base'},\n  {'start': 134, 'end': 145, 'label': 'base'},\n  {'start': 163, 'end': 177, 'label': 'base'}],\n [{'start': 11, 'end': 16, 'label': 'base'},\n  {'start': 35, 'end': 40, 'label': 'base'},\n  {'start': 74, 'end': 91, 'label': 'aspect_changing'},\n  {'start': 92, 'end': 101, 'label': 'type_of'},\n  {'start': 165, 'end': 172, 'label': 'base'}],\n [{'start': 9, 'end': 14, 'label': 'type_of'},\n  {'start': 15, 'end': 21, 'label': 'base'},\n  {'start': 67, 'end': 75, 'label': 'aspect_changing'},\n  {'start': 90, 'end': 96, 'label': 'change_direction'},\n  {'start': 97, 'end': 103, 'label': 'type_of'},\n  {'start': 108, 'end': 116, 'label': 'type_of'},\n  {'start': 117, 'end': 123, 'label': 'base'}],\n [{'start': 0, 'end': 4, 'label': 'base'},\n  {'start': 5, 'end': 14, 'label': 'change_direction'},\n  {'start': 16, 'end': 21, 'label': 'base'},\n  {'start': 30, 'end': 35, 'label': 'base'},\n  {'start': 40, 'end': 45, 'label': 'type_of'},\n  {'start': 47, 'end': 53, 'label': 'type_of'},\n  {'start': 54, 'end': 63, 'label': 'base'},\n  {'start': 65, 'end': 70, 'label': 'base'},\n  {'start': 75, 'end': 83, 'label': 'base'},\n  {'start': 93, 'end': 100, 'label': 'type_of'},\n  {'start': 101, 'end': 113, 'label': 'aspect_changing'},\n  {'start': 115, 'end': 127, 'label': 'base'}],\n [{'start': 3, 'end': 22, 'label': 'aspect_changing'},\n  {'start': 23, 'end': 27, 'label': 'change_direction'},\n  {'start': 29, 'end': 43, 'label': 'base'},\n  {'start': 46, 'end': 53, 'label': 'aspect_changing'},\n  {'start': 57, 'end': 63, 'label': 'type_of'},\n  {'start': 64, 'end': 70, 'label': 'base'},\n  {'start': 75, 'end': 104, 'label': 'change_direction'},\n  {'start': 106, 'end': 118, 'label': 'base'}],\n [{'start': 48, 'end': 55, 'label': 'base'},\n  {'start': 60, 'end': 65, 'label': 'type_of'},\n  {'start': 66, 'end': 72, 'label': 'base'},\n  {'start': 83, 'end': 90, 'label': 'aspect_changing'},\n  {'start': 94, 'end': 108, 'label': 'base'},\n  {'start': 158, 'end': 162, 'label': 'base'},\n  {'start': 164, 'end': 169, 'label': 'base'},\n  {'start': 171, 'end': 175, 'label': 'base'},\n  {'start': 181, 'end': 188, 'label': 'base'},\n  {'start': 217, 'end': 223, 'label': 'base'},\n  {'start': 234, 'end': 243, 'label': 'base'},\n  {'start': 252, 'end': 256, 'label': 'type_of'},\n  {'start': 265, 'end': 277, 'label': 'base'}],\n [{'start': 0, 'end': 3, 'label': 'type_of'},\n  {'start': 4, 'end': 13, 'label': 'base'},\n  {'start': 78, 'end': 85, 'label': 'type_of'},\n  {'start': 86, 'end': 91, 'label': 'base'}],\n [{'start': 15, 'end': 21, 'label': 'base'},\n  {'start': 103, 'end': 110, 'label': 'aspect_changing'},\n  {'start': 114, 'end': 126, 'label': 'type_of'},\n  {'start': 127, 'end': 133, 'label': 'base'},\n  {'start': 180, 'end': 192, 'label': 'base'}],\n [{'start': 0, 'end': 6, 'label': 'base'},\n  {'start': 15, 'end': 25, 'label': 'base'},\n  {'start': 66, 'end': 71, 'label': 'type_of'},\n  {'start': 72, 'end': 79, 'label': 'base'},\n  {'start': 80, 'end': 86, 'label': 'aspect_changing'},\n  {'start': 87, 'end': 96, 'label': 'change_direction'},\n  {'start': 100, 'end': 114, 'label': 'base'},\n  {'start': 124, 'end': 136, 'label': 'aspect_changing'},\n  {'start': 152, 'end': 159, 'label': 'base'}],\n [{'start': 12, 'end': 24, 'label': 'base'},\n  {'start': 119, 'end': 133, 'label': 'base'},\n  {'start': 148, 'end': 164, 'label': 'change_direction'},\n  {'start': 189, 'end': 195, 'label': 'base'},\n  {'start': 204, 'end': 213, 'label': 'change_direction'},\n  {'start': 214, 'end': 221, 'label': 'type_of'},\n  {'start': 222, 'end': 230, 'label': 'base'},\n  {'start': 246, 'end': 260, 'label': 'base'},\n  {'start': 262, 'end': 271, 'label': 'change_direction'},\n  {'start': 272, 'end': 284, 'label': 'base'},\n  {'start': 289, 'end': 298, 'label': 'change_direction'},\n  {'start': 299, 'end': 305, 'label': 'base'},\n  {'start': 306, 'end': 313, 'label': 'aspect_changing'},\n  {'start': 366, 'end': 374, 'label': 'base'},\n  {'start': 379, 'end': 393, 'label': 'base'},\n  {'start': 429, 'end': 441, 'label': 'base'}],\n [{'start': 8, 'end': 14, 'label': 'aspect_changing'},\n  {'start': 18, 'end': 28, 'label': 'base'},\n  {'start': 54, 'end': 68, 'label': 'base'},\n  {'start': 86, 'end': 95, 'label': 'change_direction'},\n  {'start': 110, 'end': 122, 'label': 'base'}],\n [{'start': 22, 'end': 26, 'label': 'change_direction'},\n  {'start': 27, 'end': 30, 'label': 'base'},\n  {'start': 31, 'end': 38, 'label': 'aspect_changing'},\n  {'start': 42, 'end': 45, 'label': 'base'},\n  {'start': 46, 'end': 55, 'label': 'aspect_changing'},\n  {'start': 61, 'end': 68, 'label': 'change_direction'},\n  {'start': 72, 'end': 78, 'label': 'type_of'},\n  {'start': 79, 'end': 84, 'label': 'base'},\n  {'start': 104, 'end': 118, 'label': 'base'},\n  {'start': 128, 'end': 137, 'label': 'base'},\n  {'start': 139, 'end': 151, 'label': 'base'}],\n [{'start': 0, 'end': 7, 'label': 'type_of'},\n  {'start': 8, 'end': 14, 'label': 'base'},\n  {'start': 19, 'end': 32, 'label': 'change_direction'},\n  {'start': 59, 'end': 76, 'label': 'base'},\n  {'start': 92, 'end': 99, 'label': 'change_direction'}],\n [{'start': 13, 'end': 19, 'label': 'base'},\n  {'start': 52, 'end': 56, 'label': 'change_direction'},\n  {'start': 60, 'end': 67, 'label': 'type_of'},\n  {'start': 68, 'end': 75, 'label': 'base'},\n  {'start': 112, 'end': 118, 'label': 'change_direction'},\n  {'start': 119, 'end': 127, 'label': 'base'},\n  {'start': 129, 'end': 141, 'label': 'base'}],\n [{'start': 0, 'end': 4, 'label': 'base'},\n  {'start': 5, 'end': 14, 'label': 'aspect_changing'},\n  {'start': 37, 'end': 43, 'label': 'change_direction'},\n  {'start': 44, 'end': 50, 'label': 'aspect_changing'},\n  {'start': 75, 'end': 79, 'label': 'type_of'},\n  {'start': 84, 'end': 87, 'label': 'base'},\n  {'start': 132, 'end': 136, 'label': 'base'}],\n [{'start': 4, 'end': 23, 'label': 'aspect_changing'},\n  {'start': 27, 'end': 35, 'label': 'base'},\n  {'start': 66, 'end': 78, 'label': 'aspect_changing'},\n  {'start': 124, 'end': 138, 'label': 'base'},\n  {'start': 200, 'end': 207, 'label': 'change_direction'},\n  {'start': 215, 'end': 221, 'label': 'base'},\n  {'start': 228, 'end': 237, 'label': 'base'},\n  {'start': 242, 'end': 247, 'label': 'change_direction'}],\n [{'start': 37, 'end': 56, 'label': 'aspect_changing'},\n  {'start': 75, 'end': 87, 'label': 'change_direction'},\n  {'start': 195, 'end': 215, 'label': 'aspect_changing'},\n  {'start': 257, 'end': 275, 'label': 'aspect_changing'},\n  {'start': 298, 'end': 305, 'label': 'change_direction'},\n  {'start': 309, 'end': 312, 'label': 'type_of'},\n  {'start': 313, 'end': 316, 'label': 'base'},\n  {'start': 317, 'end': 323, 'label': 'aspect_changing'}],\n [{'start': 26, 'end': 30, 'label': 'base'},\n  {'start': 34, 'end': 41, 'label': 'type_of'},\n  {'start': 42, 'end': 51, 'label': 'base'},\n  {'start': 52, 'end': 60, 'label': 'aspect_changing'},\n  {'start': 65, 'end': 74, 'label': 'change_direction'},\n  {'start': 75, 'end': 80, 'label': 'base'},\n  {'start': 81, 'end': 85, 'label': 'aspect_changing'},\n  {'start': 87, 'end': 93, 'label': 'change_direction'},\n  {'start': 94, 'end': 106, 'label': 'type_of'},\n  {'start': 107, 'end': 117, 'label': 'aspect_changing'},\n  {'start': 129, 'end': 139, 'label': 'aspect_changing'},\n  {'start': 156, 'end': 179, 'label': 'change_direction'}],\n [{'start': 0, 'end': 8, 'label': 'type_of'},\n  {'start': 9, 'end': 34, 'label': 'base'},\n  {'start': 58, 'end': 69, 'label': 'change_direction'},\n  {'start': 80, 'end': 89, 'label': 'base'},\n  {'start': 111, 'end': 118, 'label': 'change_direction'},\n  {'start': 119, 'end': 123, 'label': 'base'},\n  {'start': 124, 'end': 130, 'label': 'aspect_changing'},\n  {'start': 132, 'end': 136, 'label': 'change_direction'},\n  {'start': 137, 'end': 149, 'label': 'base'},\n  {'start': 159, 'end': 163, 'label': 'aspect_changing'},\n  {'start': 167, 'end': 172, 'label': 'base'},\n  {'start': 177, 'end': 181, 'label': 'base'},\n  {'start': 189, 'end': 198, 'label': 'base'},\n  {'start': 203, 'end': 211, 'label': 'base'}],\n [{'start': 50, 'end': 59, 'label': 'change_direction'},\n  {'start': 60, 'end': 68, 'label': 'base'},\n  {'start': 104, 'end': 109, 'label': 'type_of'},\n  {'start': 110, 'end': 124, 'label': 'base'},\n  {'start': 132, 'end': 143, 'label': 'aspect_changing'},\n  {'start': 147, 'end': 161, 'label': 'type_of'},\n  {'start': 162, 'end': 168, 'label': 'base'},\n  {'start': 170, 'end': 185, 'label': 'base'},\n  {'start': 187, 'end': 195, 'label': 'type_of'},\n  {'start': 196, 'end': 207, 'label': 'aspect_changing'},\n  {'start': 209, 'end': 223, 'label': 'change_direction'},\n  {'start': 227, 'end': 236, 'label': 'base'}],\n [{'start': 4, 'end': 18, 'label': 'base'},\n  {'start': 23, 'end': 30, 'label': 'type_of'},\n  {'start': 31, 'end': 38, 'label': 'base'},\n  {'start': 39, 'end': 45, 'label': 'aspect_changing'},\n  {'start': 55, 'end': 61, 'label': 'type_of'},\n  {'start': 62, 'end': 70, 'label': 'base'},\n  {'start': 76, 'end': 79, 'label': 'change_direction'},\n  {'start': 80, 'end': 84, 'label': 'base'},\n  {'start': 85, 'end': 91, 'label': 'aspect_changing'},\n  {'start': 152, 'end': 171, 'label': 'change_direction'},\n  {'start': 173, 'end': 185, 'label': 'base'}],\n [{'start': 17, 'end': 23, 'label': 'change_direction'},\n  {'start': 27, 'end': 31, 'label': 'change_direction'},\n  {'start': 39, 'end': 47, 'label': 'base'},\n  {'start': 66, 'end': 72, 'label': 'base'}],\n [{'start': 2, 'end': 9, 'label': 'type_of'},\n  {'start': 10, 'end': 17, 'label': 'base'},\n  {'start': 34, 'end': 43, 'label': 'change_direction'},\n  {'start': 44, 'end': 54, 'label': 'base'},\n  {'start': 55, 'end': 59, 'label': 'aspect_changing'},\n  {'start': 72, 'end': 80, 'label': 'aspect_changing'},\n  {'start': 84, 'end': 91, 'label': 'base'},\n  {'start': 97, 'end': 103, 'label': 'aspect_changing'},\n  {'start': 107, 'end': 115, 'label': 'base'},\n  {'start': 120, 'end': 131, 'label': 'change_direction'},\n  {'start': 135, 'end': 139, 'label': 'type_of'},\n  {'start': 140, 'end': 148, 'label': 'base'},\n  {'start': 154, 'end': 179, 'label': 'change_direction'},\n  {'start': 180, 'end': 185, 'label': 'base'},\n  {'start': 190, 'end': 211, 'label': 'aspect_changing'},\n  {'start': 213, 'end': 225, 'label': 'base'}],\n [{'start': 5, 'end': 13, 'label': 'base'},\n  {'start': 23, 'end': 39, 'label': 'change_direction'}],\n [{'start': 0, 'end': 9, 'label': 'type_of'},\n  {'start': 10, 'end': 14, 'label': 'type_of'},\n  {'start': 15, 'end': 27, 'label': 'base'},\n  {'start': 51, 'end': 61, 'label': 'base'}],\n [{'start': 61, 'end': 79, 'label': 'type_of'},\n  {'start': 80, 'end': 95, 'label': 'aspect_changing'},\n  {'start': 99, 'end': 109, 'label': 'base'},\n  {'start': 123, 'end': 128, 'label': 'type_of'},\n  {'start': 130, 'end': 135, 'label': 'type_of'},\n  {'start': 136, 'end': 147, 'label': 'base'},\n  {'start': 148, 'end': 151, 'label': 'aspect_changing'},\n  {'start': 156, 'end': 167, 'label': 'aspect_changing'},\n  {'start': 171, 'end': 181, 'label': 'base'}],\n [{'start': 67, 'end': 73, 'label': 'aspect_changing'},\n  {'start': 79, 'end': 85, 'label': 'aspect_changing'},\n  {'start': 96, 'end': 106, 'label': 'base'},\n  {'start': 111, 'end': 119, 'label': 'base'},\n  {'start': 171, 'end': 179, 'label': 'change_direction'},\n  {'start': 190, 'end': 202, 'label': 'base'}]]"
          },
          "metadata": {}
        }
      ],
      "execution_count": 42,
      "metadata": {
        "jupyter": {
          "source_hidden": false,
          "outputs_hidden": false
        },
        "nteract": {
          "transient": {
            "deleting": false
          }
        },
        "gather": {
          "logged": 1664394580674
        }
      },
      "id": "0d8dae21-588d-4e10-9d5b-085603aebb0c"
    },
    {
      "cell_type": "code",
      "source": [
        "def create_nerevaluate_file(data):\n",
        "    ans = []\n",
        "    for s in data:\n",
        "        tmp = []\n",
        "        for e in s[1][\"entities\"]:\n",
        "            ans_dict = {}\n",
        "            ans_dict[\"start\"] = e[0]\n",
        "            ans_dict[\"end\"] = e[1]\n",
        "            ans_dict[\"label\"] = e[2]\n",
        "            tmp.append(ans_dict)\n",
        "        ans.append(tmp)\n",
        "\n",
        "    return ans\n",
        "\n",
        "actual_answers = create_nerevaluate_file(TEST_DATA)\n",
        "\n",
        "assert len(PRED_DATA) == len(actual_answers)\n",
        "\n",
        "evaluator = Evaluator(actual_answers, PRED_DATA, tags=LABEL)\n",
        "\n",
        "results, results_per_tag = evaluator.evaluate()\n",
        "#print(results)\n",
        "#print()\n",
        "#print(results_per_tag)\n",
        "\n",
        "with open(result_dir + \"/results_SPACY.json\", \"w\") as f:\n",
        "    json.dump(results, f, indent=4)\n",
        "with open(result_dir + \"/results_per_tag_SPACY.json\", \"w\") as f:\n",
        "    json.dump(results_per_tag, f, indent=4)"
      ],
      "outputs": [],
      "execution_count": 48,
      "metadata": {
        "jupyter": {
          "source_hidden": false,
          "outputs_hidden": false
        },
        "nteract": {
          "transient": {
            "deleting": false
          }
        },
        "gather": {
          "logged": 1664394720516
        }
      },
      "id": "81941c15-0d24-408f-bd9a-5421c1616d7a"
    },
    {
      "cell_type": "code",
      "source": [],
      "outputs": [],
      "execution_count": null,
      "metadata": {
        "jupyter": {
          "source_hidden": false,
          "outputs_hidden": false
        },
        "nteract": {
          "transient": {
            "deleting": false
          }
        }
      },
      "id": "4dd31198-4a75-4ad9-a722-88c496fb2b3d"
    }
  ],
  "metadata": {
    "kernelspec": {
      "name": "python3",
      "language": "python",
      "display_name": "Python 3"
    },
    "language_info": {
      "name": "python",
      "version": "3.8.5",
      "mimetype": "text/x-python",
      "codemirror_mode": {
        "name": "ipython",
        "version": 3
      },
      "pygments_lexer": "ipython3",
      "nbconvert_exporter": "python",
      "file_extension": ".py"
    },
    "kernel_info": {
      "name": "python3"
    },
    "nteract": {
      "version": "nteract-front-end@1.0.0"
    },
    "microsoft": {
      "host": {
        "AzureML": {
          "notebookHasBeenCompleted": true
        }
      }
    }
  },
  "nbformat": 4,
  "nbformat_minor": 5
}