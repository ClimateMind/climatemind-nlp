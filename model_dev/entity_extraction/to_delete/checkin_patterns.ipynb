{
 "cells": [
  {
   "cell_type": "code",
   "execution_count": 1,
   "id": "1f30d527",
   "metadata": {},
   "outputs": [],
   "source": [
    "import spacy"
   ]
  },
  {
   "cell_type": "code",
   "execution_count": 2,
   "id": "7319851b",
   "metadata": {},
   "outputs": [],
   "source": [
    "import pandas as pd\n",
    "import json\n",
    "import ast"
   ]
  },
  {
   "cell_type": "code",
   "execution_count": 3,
   "id": "84e55195",
   "metadata": {},
   "outputs": [
    {
     "data": {
      "text/plain": [
       "Index(['text', '_input_hash', '_task_hash', 'spans', 'tokens', '_session_id',\n",
       "       '_view_id', 'relations', 'answer', 'flagged', 'relation count',\n",
       "       'complexity', 'original_text', 'document_index', 'md_sentence_index',\n",
       "       'classification_origin', 'url', 'order', 'Used?', 'Dataset name',\n",
       "       'ignore?', 'reason', 'original_md_text', 'characters'],\n",
       "      dtype='object')"
      ]
     },
     "execution_count": 3,
     "metadata": {},
     "output_type": "execute_result"
    }
   ],
   "source": [
    "answers = pd.read_json('checkin_answers.jsonl', lines=True)\n",
    "answers.columns"
   ]
  },
  {
   "cell_type": "code",
   "execution_count": 4,
   "id": "948ab86a",
   "metadata": {
    "scrolled": true
   },
   "outputs": [
    {
     "data": {
      "text/plain": [
       "[{'start': 0, 'end': 4, 'token_start': 0, 'token_end': 0, 'label': 'type_of'},\n",
       " {'start': 5, 'end': 11, 'token_start': 1, 'token_end': 1, 'label': 'base'},\n",
       " {'start': 16,\n",
       "  'end': 26,\n",
       "  'token_start': 3,\n",
       "  'token_end': 3,\n",
       "  'label': 'type_of'},\n",
       " {'start': 27, 'end': 38, 'token_start': 4, 'token_end': 4, 'label': 'base'},\n",
       " {'start': 39,\n",
       "  'end': 42,\n",
       "  'token_start': 5,\n",
       "  'token_end': 5,\n",
       "  'label': 'confidence'},\n",
       " {'start': 43,\n",
       "  'end': 48,\n",
       "  'token_start': 6,\n",
       "  'token_end': 6,\n",
       "  'label': 'predicate'},\n",
       " {'start': 49, 'end': 55, 'token_start': 7, 'token_end': 7, 'label': 'base'},\n",
       " {'start': 56,\n",
       "  'end': 62,\n",
       "  'token_start': 8,\n",
       "  'token_end': 8,\n",
       "  'label': 'aspect_changing'}]"
      ]
     },
     "execution_count": 4,
     "metadata": {},
     "output_type": "execute_result"
    }
   ],
   "source": [
    "answers['spans'].iloc[0]"
   ]
  },
  {
   "cell_type": "code",
   "execution_count": 5,
   "id": "d61078a9",
   "metadata": {},
   "outputs": [
    {
     "data": {
      "text/plain": [
       "'Heat stress and persistent dehydration can cause kidney damage. IMPLIED_BASE IMPLIED_BASE'"
      ]
     },
     "execution_count": 5,
     "metadata": {},
     "output_type": "execute_result"
    }
   ],
   "source": [
    "answers['text'].iloc[0]"
   ]
  },
  {
   "cell_type": "code",
   "execution_count": 6,
   "id": "8136a27c",
   "metadata": {},
   "outputs": [
    {
     "data": {
      "text/plain": [
       "[{'head': 0,\n",
       "  'child': 1,\n",
       "  'head_span': {'start': 0,\n",
       "   'end': 4,\n",
       "   'token_start': 0,\n",
       "   'token_end': 0,\n",
       "   'label': 'type_of'},\n",
       "  'child_span': {'start': 5,\n",
       "   'end': 11,\n",
       "   'token_start': 1,\n",
       "   'token_end': 1,\n",
       "   'label': 'base'},\n",
       "  'color': '#c5bdf4',\n",
       "  'label': 'Concept_Member'},\n",
       " {'head': 3,\n",
       "  'child': 4,\n",
       "  'head_span': {'start': 16,\n",
       "   'end': 26,\n",
       "   'token_start': 3,\n",
       "   'token_end': 3,\n",
       "   'label': 'type_of'},\n",
       "  'child_span': {'start': 27,\n",
       "   'end': 38,\n",
       "   'token_start': 4,\n",
       "   'token_end': 4,\n",
       "   'label': 'base'},\n",
       "  'color': '#c5bdf4',\n",
       "  'label': 'Concept_Member'},\n",
       " {'head': 8,\n",
       "  'child': 7,\n",
       "  'head_span': {'start': 56,\n",
       "   'end': 62,\n",
       "   'token_start': 8,\n",
       "   'token_end': 8,\n",
       "   'label': 'aspect_changing'},\n",
       "  'child_span': {'start': 49,\n",
       "   'end': 55,\n",
       "   'token_start': 7,\n",
       "   'token_end': 7,\n",
       "   'label': 'base'},\n",
       "  'color': '#c5bdf4',\n",
       "  'label': 'Concept_Member'},\n",
       " {'head': 1,\n",
       "  'child': 7,\n",
       "  'head_span': {'start': 5,\n",
       "   'end': 11,\n",
       "   'token_start': 1,\n",
       "   'token_end': 1,\n",
       "   'label': 'base'},\n",
       "  'child_span': {'start': 49,\n",
       "   'end': 55,\n",
       "   'token_start': 7,\n",
       "   'token_end': 7,\n",
       "   'label': 'base'},\n",
       "  'color': '#ffd882',\n",
       "  'label': 'Contributes_To'},\n",
       " {'head': 4,\n",
       "  'child': 7,\n",
       "  'head_span': {'start': 27,\n",
       "   'end': 38,\n",
       "   'token_start': 4,\n",
       "   'token_end': 4,\n",
       "   'label': 'base'},\n",
       "  'child_span': {'start': 49,\n",
       "   'end': 55,\n",
       "   'token_start': 7,\n",
       "   'token_end': 7,\n",
       "   'label': 'base'},\n",
       "  'color': '#ffd882',\n",
       "  'label': 'Contributes_To'}]"
      ]
     },
     "execution_count": 6,
     "metadata": {},
     "output_type": "execute_result"
    }
   ],
   "source": [
    "answers['relations'].iloc[0]"
   ]
  },
  {
   "cell_type": "code",
   "execution_count": 19,
   "id": "ec130f7a",
   "metadata": {},
   "outputs": [],
   "source": [
    "from spacy.matcher import Matcher\n",
    "import networkx as nx\n",
    "from tqdm import tqdm\n",
    "tqdm.pandas()"
   ]
  },
  {
   "cell_type": "code",
   "execution_count": 46,
   "id": "725520b5",
   "metadata": {},
   "outputs": [],
   "source": [
    "def get_dependency_patterns(answers, head_type='type_of', tail_type='base'):\n",
    "    patterns = {}\n",
    "    for _, answer in tqdm(answers.iterrows(), total=answers.shape[0]):\n",
    "        spans = answer['spans']\n",
    "        text = answer['text']\n",
    "        relations = answer['relations']\n",
    "        nlp = spacy.load('en_core_web_md')\n",
    "        doc = nlp(text)\n",
    "        for relation in relations:\n",
    "            if relation['label'] != 'Concept_Member':\n",
    "                continue\n",
    "            head_span = relation['head_span']\n",
    "            child_span = relation['child_span']\n",
    "            if head_span['label'] == head_type and child_span['label'] == tail_type:\n",
    "                src_span = doc[head_span['token_start']: head_span['token_end'] + 1]\n",
    "                tgt_span = doc[child_span['token_start']: child_span['token_end'] + 1]\n",
    "                src_root = src_span.root\n",
    "                tgt_root = tgt_span.root\n",
    "                if tgt_span.text.lower() == 'implied_base':\n",
    "                    continue\n",
    "                edges = []\n",
    "                for token in doc:\n",
    "                    for child in token.children:\n",
    "                        edges.append(('{}-{}'.format(token.lower_,token.i), '{}-{}'.format(child.lower_,child.i))) \n",
    "                graph = nx.Graph(edges) \n",
    "                path = None\n",
    "                source = '{}-{}'.format(src_root.lower_, src_root.i)\n",
    "                target = '{}-{}'.format(tgt_root.lower_, tgt_root.i)\n",
    "                if nx.has_path(graph, source=source, target=target):\n",
    "                    path = nx.shortest_path(graph, source=source, target=target)\n",
    "                if path is not None:\n",
    "                    for t in src_span:\n",
    "                        n = '{}-{}'.format(t.lower_, t.i)  \n",
    "                        if n not in path:\n",
    "                            path.append(n)\n",
    "                    for t in tgt_span:\n",
    "                        n = '{}-{}'.format(t.lower_, t.i)\n",
    "                        if n not in path:\n",
    "                            path.append(n)\n",
    "                    path_nodes = {}\n",
    "                    for p in path:\n",
    "                        t, i = p.rsplit('-', 1)\n",
    "                        i = int(i)\n",
    "                        if i in range(head_span['token_start'], head_span['token_end'] + 1):\n",
    "                            t = '<src>'\n",
    "                        elif i in range(child_span['token_start'], child_span['token_end'] + 1):\n",
    "                            t = '<tgt>'\n",
    "                        path_nodes[i] = t\n",
    "                    path_nodes = sorted(path_nodes.items(), key=lambda x: x[0])\n",
    "                    pattern = ' '.join([p[1] for p in path_nodes])\n",
    "                    patterns[pattern] = patterns.get(pattern, 0) + 1\n",
    "    patterns = {k:v for k,v in patterns.items()}\n",
    "    patterns = sorted(patterns.items(), key=lambda x: x[1], reverse=True)\n",
    "    return patterns"
   ]
  },
  {
   "cell_type": "code",
   "execution_count": 47,
   "id": "de25d878",
   "metadata": {},
   "outputs": [
    {
     "name": "stderr",
     "output_type": "stream",
     "text": [
      "100%|███████████████████████████████████████████| 60/60 [01:19<00:00,  1.32s/it]\n"
     ]
    },
    {
     "data": {
      "text/plain": [
       "[('<src> <tgt>', 46),\n",
       " ('<src> <tgt> <tgt>', 6),\n",
       " ('<src> <tgt> <tgt> <tgt> <tgt> <tgt>', 2),\n",
       " ('<src> <src> <src> <tgt>', 2),\n",
       " ('project <tgt> <tgt> on <src> <src> lead', 1),\n",
       " ('<tgt> are <src>', 1),\n",
       " ('<src> <src> <tgt>', 1),\n",
       " ('due part to loss <src> <src> <src> <src> <tgt>', 1),\n",
       " ('acute <src> <tgt>', 1),\n",
       " ('pregnancy <src> <tgt>', 1),\n",
       " ('neurological <src> <tgt> <tgt> <tgt> <tgt> <tgt>', 1),\n",
       " ('<src> water <tgt>', 1),\n",
       " ('<src> <tgt> cover', 1),\n",
       " ('is first point link between rates <tgt> <tgt> growing frequent <src>', 1),\n",
       " ('is first point link between rates <tgt> <tgt> growing <src>', 1)]"
      ]
     },
     "execution_count": 47,
     "metadata": {},
     "output_type": "execute_result"
    }
   ],
   "source": [
    "get_dependency_patterns(answers, head_type='type_of', tail_type='base')"
   ]
  },
  {
   "cell_type": "code",
   "execution_count": 48,
   "id": "ac3c2453",
   "metadata": {},
   "outputs": [
    {
     "name": "stderr",
     "output_type": "stream",
     "text": [
      "100%|███████████████████████████████████████████| 60/60 [01:18<00:00,  1.30s/it]\n"
     ]
    },
    {
     "data": {
      "text/plain": [
       "[('<tgt> <src>', 27),\n",
       " ('<src> of <tgt>', 14),\n",
       " ('<src> to <tgt> <tgt>', 2),\n",
       " ('<src> to <tgt>', 2),\n",
       " ('<src> of <tgt> <tgt>', 2),\n",
       " ('rain <tgt> <src>', 1),\n",
       " ('causing <src> in <tgt>', 1),\n",
       " ('socioeconomic <tgt> <src>', 1),\n",
       " ('<src> <src> <tgt> are', 1),\n",
       " ('leave <tgt> with <src> <src> <src> <src> <src>', 1),\n",
       " ('is source of <tgt> <tgt> <src> is', 1),\n",
       " ('<src> reverberated throughout <tgt>', 1),\n",
       " ('<src> of <tgt> stocks', 1),\n",
       " ('<tgt> to <src>', 1),\n",
       " ('<src> to security <tgt>', 1),\n",
       " ('<tgt> <tgt> holds led accelerated <src> <src>', 1),\n",
       " ('<src> from <tgt>', 1),\n",
       " ('<tgt> <tgt> <src>', 1),\n",
       " ('pushing number of <tgt> <src> <src> <src>', 1),\n",
       " ('<src> on <tgt>', 1),\n",
       " ('water <tgt> <src>', 1),\n",
       " ('<src> of waves <tgt>', 1),\n",
       " ('<src> of waves droughts <tgt>', 1),\n",
       " ('frequency <src> of <tgt> <tgt>', 1),\n",
       " ('frequency <src> of waves <tgt>', 1),\n",
       " ('frequency <src> of waves droughts <tgt>', 1),\n",
       " ('<src> of conflict <tgt>', 1),\n",
       " ('<src> <src> demand for <tgt>', 1),\n",
       " ('<src> for <tgt>', 1),\n",
       " ('<tgt> melting at <src>', 1),\n",
       " ('increase <src> <tgt>', 1),\n",
       " ('lowers <src> from <tgt>', 1),\n",
       " ('<src> of flooding <tgt>', 1),\n",
       " ('were at <src> <tgt>', 1)]"
      ]
     },
     "execution_count": 48,
     "metadata": {},
     "output_type": "execute_result"
    }
   ],
   "source": [
    "get_dependency_patterns(answers, head_type='aspect_changing', tail_type='base')"
   ]
  },
  {
   "cell_type": "code",
   "execution_count": 49,
   "id": "8d5a6e03",
   "metadata": {},
   "outputs": [
    {
     "name": "stderr",
     "output_type": "stream",
     "text": [
      "100%|███████████████████████████████████████████| 60/60 [01:17<00:00,  1.30s/it]\n"
     ]
    },
    {
     "data": {
      "text/plain": [
       "[('<src> <tgt>', 16),\n",
       " ('<tgt> <src>', 9),\n",
       " ('<src> of <tgt>', 4),\n",
       " ('<src> <src> <tgt>', 3),\n",
       " ('<tgt> level <src>', 2),\n",
       " ('<src> risk of <tgt>', 2),\n",
       " ('<src> <src> <src> <tgt>', 2),\n",
       " ('<src> <src> clouds <tgt> activity', 1),\n",
       " ('<src> <src> clouds rain <tgt> activity', 1),\n",
       " ('<src> <src> <src> <src> <src> <tgt>', 1),\n",
       " ('causing <src> rainfall in <tgt>', 1),\n",
       " ('<src> levels of <tgt>', 1),\n",
       " ('<src> in <tgt>', 1),\n",
       " ('<src> impact <tgt> availability', 1),\n",
       " ('growth <src> <tgt>', 1),\n",
       " ('<src> period <tgt> are', 1),\n",
       " ('<src> <src> spreading <tgt>', 1),\n",
       " ('leave <tgt> with <src> notice', 1),\n",
       " ('been <src> comes to growth of <tgt>', 1),\n",
       " ('poses <src> to viability of <tgt>', 1),\n",
       " ('<src> in likelihood of <tgt>', 1),\n",
       " ('<tgt> <src> <src> <src>', 1),\n",
       " ('<src> sellable <tgt>', 1),\n",
       " ('<src> <tgt> quality', 1),\n",
       " ('<tgt> <src> <src>', 1),\n",
       " ('<src> <tgt> <tgt>', 1),\n",
       " ('<src> concentrations of <tgt>', 1),\n",
       " ('<src> <src> <tgt> growth', 1),\n",
       " ('<src> distributions of <tgt> stocks', 1),\n",
       " ('<src> vulnerability of <tgt>', 1),\n",
       " ('<src> <tgt> rates', 1),\n",
       " ('<src> rates use of <tgt>', 1),\n",
       " ('due <tgt> <src>', 1),\n",
       " ('<tgt> <tgt> holds led <src>', 1),\n",
       " ('<src> releases from <tgt>', 1),\n",
       " ('told take <tgt> levels drop <src>', 1),\n",
       " ('<src> hurricanes <tgt> <tgt> events', 1),\n",
       " ('<tgt> during disorders <src>', 1),\n",
       " ('<src> of <tgt> <tgt>', 1),\n",
       " ('<src> <tgt> resources', 1),\n",
       " ('<src> water <tgt> resources', 1),\n",
       " ('<src> <tgt> risk', 1),\n",
       " ('<src> <tgt> productivity', 1),\n",
       " ('<src> frequency of <tgt> <tgt>', 1),\n",
       " ('<src> frequency of waves <tgt>', 1),\n",
       " ('<src> frequency of waves droughts <tgt>', 1),\n",
       " ('<src> risks of <tgt>', 1),\n",
       " ('<src> risks of conflict <tgt>', 1),\n",
       " ('<src> on <tgt> growth', 1),\n",
       " ('<src> chains demand for <tgt>', 1),\n",
       " ('<src> <tgt> costs', 1),\n",
       " ('<src> <tgt> cover', 1),\n",
       " ('<src> <src> <src> resources <tgt> <tgt>', 1),\n",
       " ('<tgt> melting at <src> pace', 1),\n",
       " ('<tgt> levels poised <src> <src> <src>', 1),\n",
       " ('as concentrations of <tgt> <src>', 1),\n",
       " ('<src> ferocious <tgt>', 1),\n",
       " ('<src> threat to <tgt>', 1),\n",
       " ('<src> frequency of <tgt>', 1),\n",
       " ('become <src> at <tgt>', 1),\n",
       " ('<src> from <tgt>', 1),\n",
       " ('<src> spread of <tgt>', 1),\n",
       " ('<src> risk of flooding <tgt>', 1),\n",
       " ('were at <src> risk <tgt>', 1),\n",
       " ('is first point link between rates <tgt> <tgt> growing <src> frequent', 1),\n",
       " ('forests meadows <tgt> <src>', 1),\n",
       " ('forests <tgt> <src>', 1)]"
      ]
     },
     "execution_count": 49,
     "metadata": {},
     "output_type": "execute_result"
    }
   ],
   "source": [
    "get_dependency_patterns(answers, head_type='change_direction', tail_type='base')"
   ]
  },
  {
   "cell_type": "code",
   "execution_count": 88,
   "id": "6ee39f22",
   "metadata": {},
   "outputs": [],
   "source": [
    "def get_pos_patterns(answers, head_type='type_of', tail_type='base'):\n",
    "    patterns = {}\n",
    "    nlp = spacy.load('en_core_web_md')\n",
    "    for _, answer in tqdm(answers.iterrows(), total=answers.shape[0]):\n",
    "        spans = answer['spans']\n",
    "        text = answer['text']\n",
    "        relations = answer['relations']\n",
    "        doc = nlp(text)\n",
    "        token_tags = {}\n",
    "        for span in spans:\n",
    "            if 'token_start' not in span or 'token_end' not in span:\n",
    "                continue\n",
    "            token_start = span['token_start']\n",
    "            token_end = span['token_end']\n",
    "            tag = span['label']\n",
    "            for i in range(token_start, token_end+1):\n",
    "                token_tags[i] = tag\n",
    "        for relation in relations:\n",
    "            if relation['label'] != 'Concept_Member':\n",
    "                continue\n",
    "            head_span = relation['head_span']\n",
    "            child_span = relation['child_span']\n",
    "            if head_span['label'] == head_type and child_span['label'] == tail_type:\n",
    "                src_span = doc[head_span['token_start']: head_span['token_end'] + 1]\n",
    "                tgt_span = doc[child_span['token_start']: child_span['token_end'] + 1]\n",
    "\n",
    "                start_idx = min(head_span['token_start'], child_span['token_start'])\n",
    "                end_idx = max(head_span['token_end'], child_span['token_end']) + 1\n",
    "\n",
    "                doc_span = doc[start_idx: end_idx]\n",
    "                pattern = []\n",
    "                for token in doc_span:\n",
    "                    tag = token_tags.get(token.i, 'UNK')\n",
    "                    elem = '{}_{}'.format(token.pos_, tag)\n",
    "                    pattern.append(elem)\n",
    "                pattern = ' '.join(pattern)\n",
    "                patterns[pattern] = patterns.get(pattern, 0) + 1\n",
    "                \n",
    "    patterns = {k:v for k,v in patterns.items()}\n",
    "    patterns = sorted(patterns.items(), key=lambda x: x[1], reverse=True)\n",
    "    return patterns"
   ]
  },
  {
   "cell_type": "code",
   "execution_count": 89,
   "id": "01bbe57d",
   "metadata": {},
   "outputs": [
    {
     "name": "stderr",
     "output_type": "stream",
     "text": [
      "100%|██████████████████████████████████████████| 60/60 [00:00<00:00, 100.85it/s]\n"
     ]
    },
    {
     "data": {
      "text/plain": [
       "[('ADJ_type_of NOUN_base', 28),\n",
       " ('NOUN_type_of NOUN_base', 17),\n",
       " ('ADJ_type_of NOUN_base NOUN_base', 5),\n",
       " ('ADJ_type_of NOUN_type_of NOUN_base', 2),\n",
       " ('NOUN_base NOUN_base PUNCT_UNK ADP_UNK PRON_UNK ADJ_type_of NOUN_type_of',\n",
       "  1),\n",
       " ('ADJ_type_of NOUN_aspect_changing ADP_when NUM_when PUNCT_UNK CCONJ_UNK SYM_effect_size NUM_effect_size NUM_effect_size PUNCT_UNK PUNCT_base NUM_base',\n",
       "  1),\n",
       " ('NOUN_base VERB_UNK ADJ_type_of', 1),\n",
       " ('ADV_type_of ADJ_type_of NOUN_base', 1),\n",
       " ('NOUN_type_of NOUN_type_of CCONJ_type_of NOUN_type_of NOUN_base', 1),\n",
       " ('ADJ_type_of CCONJ_UNK ADJ_type_of NOUN_base', 1),\n",
       " ('ADJ_type_of NOUN_base ADP_base DET_base ADJ_base NOUN_base', 1),\n",
       " ('ADJ_type_of CCONJ_UNK ADJ_type_of NOUN_base ADP_base DET_base ADJ_base NOUN_base',\n",
       "  1),\n",
       " ('ADJ_type_of CCONJ_UNK ADV_UNK DET_UNK ADJ_type_of CCONJ_UNK ADJ_type_of NOUN_base ADP_base DET_base ADJ_base NOUN_base',\n",
       "  1),\n",
       " ('NOUN_type_of PUNCT_type_of ADJ_type_of NOUN_base', 1),\n",
       " ('ADJ_type_of NOUN_type_of NOUN_base CCONJ_UNK NOUN_base', 1),\n",
       " ('ADJ_type_of ADJ_base NOUN_base', 1),\n",
       " ('NOUN_type_of PUNCT_type_of VERB_type_of NOUN_type_of NOUN_base', 1),\n",
       " ('ADJ_type_of ADJ_type_of NOUN_base', 1),\n",
       " ('ADJ_base NOUN_base PUNCT_UNK DET_UNK ADJ_UNK ADP_UNK DET_UNK AUX_confidence VERB_UNK ADV_change_direction ADJ_type_of CCONJ_UNK ADJ_type_of',\n",
       "  1),\n",
       " ('ADJ_base NOUN_base PUNCT_UNK DET_UNK ADJ_UNK ADP_UNK DET_UNK AUX_confidence VERB_UNK ADV_change_direction ADJ_type_of',\n",
       "  1)]"
      ]
     },
     "execution_count": 89,
     "metadata": {},
     "output_type": "execute_result"
    }
   ],
   "source": [
    "get_pos_patterns(answers, head_type='type_of', tail_type='base')"
   ]
  },
  {
   "cell_type": "code",
   "execution_count": 91,
   "id": "fac89d47",
   "metadata": {},
   "outputs": [
    {
     "name": "stderr",
     "output_type": "stream",
     "text": [
      "100%|███████████████████████████████████████████| 60/60 [00:00<00:00, 97.71it/s]\n"
     ]
    },
    {
     "data": {
      "text/plain": [
       "[('NOUN_base NOUN_aspect_changing', 20),\n",
       " ('NOUN_aspect_changing ADP_UNK NOUN_base', 11),\n",
       " ('ADJ_base NOUN_aspect_changing', 7),\n",
       " ('NOUN_aspect_changing ADP_UNK ADJ_type_of NOUN_base', 5),\n",
       " ('NOUN_aspect_changing ADP_UNK NOUN_type_of NOUN_base', 3),\n",
       " ('NOUN_aspect_changing ADP_UNK NOUN_base NOUN_base', 2),\n",
       " ('NOUN_aspect_changing ADP_UNK ADJ_UNK NOUN_base', 1),\n",
       " ('NOUN_aspect_changing PUNCT_UNK NUM_base', 1),\n",
       " ('NOUN_aspect_changing NOUN_aspect_changing PUNCT_UNK DET_UNK AUX_confidence VERB_predicate ADJ_base CCONJ_UNK ADJ_base NOUN_aspect_changing PUNCT_UNK PUNCT_base',\n",
       "  1),\n",
       " ('ADJ_base CCONJ_UNK ADJ_base NOUN_aspect_changing', 1),\n",
       " ('NOUN_aspect_changing CCONJ_UNK NOUN_change_direction NOUN_base DET_UNK AUX_confidence VERB_change_direction NUM_effect_size NOUN_effect_size ADP_UNK ADJ_type_of NOUN_aspect_changing ADP_when NUM_when PUNCT_UNK CCONJ_UNK SYM_effect_size NUM_effect_size NUM_effect_size PUNCT_UNK PUNCT_base',\n",
       "  1),\n",
       " ('NOUN_aspect_changing ADP_when NUM_when PUNCT_UNK CCONJ_UNK SYM_effect_size NUM_effect_size NUM_effect_size PUNCT_UNK PUNCT_base NUM_base',\n",
       "  1),\n",
       " ('NOUN_aspect_changing AUX_confidence ADV_confidence ADJ_change_direction CCONJ_UNK ADV_predicate VERB_change_direction DET_UNK NOUN_aspect_changing NOUN_aspect_changing ADP_UNK DET_UNK NOUN_base VERB_UNK ADJ_type_of PUNCT_UNK NUM_base',\n",
       "  1),\n",
       " ('NOUN_aspect_changing NOUN_aspect_changing ADP_UNK DET_UNK NOUN_base', 1),\n",
       " ('NOUN_base ADP_UNK ADJ_change_direction NOUN_aspect_changing CCONJ_aspect_changing NOUN_aspect_changing PART_aspect_changing VERB_aspect_changing',\n",
       "  1),\n",
       " ('NOUN_aspect_changing ADP_where PROPN_where PUNCT_UNK ADP_UNK ADJ_change_direction NOUN_UNK VERB_predicate ADP_predicate ADJ_confidence NOUN_change_direction ADP_UNK DET_UNK NOUN_aspect_changing ADP_UNK NOUN_base PUNCT_UNK PUNCT_base NUM_base',\n",
       "  1),\n",
       " ('NOUN_base NOUN_base PUNCT_UNK PROPN_UNK PUNCT_UNK NOUN_aspect_changing', 1),\n",
       " ('NOUN_aspect_changing VERB_UNK ADP_UNK DET_UNK NOUN_base', 1),\n",
       " ('NOUN_aspect_changing VERB_predicate ADP_predicate NOUN_base CCONJ_UNK NOUN_base ADP_UNK SYM_effect_size NUM_effect_size NUM_effect_size ADP_UNK ADJ_when NOUN_UNK PUNCT_UNK DET_UNK AUX_UNK VERB_UNK ADV_UNK PUNCT_UNK PUNCT_UNK NUM_base',\n",
       "  1),\n",
       " ('ADJ_aspect_changing NOUN_aspect_changing ADP_predicate NOUN_aspect_changing VERB_predicate ADP_predicate NOUN_base CCONJ_UNK NOUN_base ADP_UNK SYM_effect_size NUM_effect_size NUM_effect_size ADP_UNK ADJ_when NOUN_UNK PUNCT_UNK DET_UNK AUX_UNK VERB_UNK ADV_UNK PUNCT_UNK PUNCT_UNK NUM_base NUM_base',\n",
       "  1),\n",
       " ('NOUN_aspect_changing NOUN_change_direction VERB_predicate ADP_predicate VERB_change_direction NOUN_aspect_changing ADP_UNK NOUN_type_of NOUN_base ADP_where PROPN_where PART_where NOUN_where AUX_confidence VERB_change_direction ADJ_where NOUN_where ADP_where PROPN_where CCONJ_where PROPN_where PUNCT_UNK SCONJ_UNK VERB_change_direction ADP_change_direction ADJ_base NOUN_aspect_changing ADP_where ADJ_where NOUN_where ADJ_where ADP_where PROPN_where CCONJ_where PROPN_where PUNCT_UNK PUNCT_base',\n",
       "  1),\n",
       " ('NOUN_base ADP_UNK NOUN_aspect_changing', 1),\n",
       " ('NOUN_aspect_changing ADP_UNK NOUN_base NOUN_base CCONJ_UNK NOUN_to_whom PART_UNK NOUN_base',\n",
       "  1),\n",
       " ('NOUN_aspect_changing PUNCT_UNK VERB_predicate ADP_predicate ADJ_change_direction NOUN_base PUNCT_UNK PUNCT_base',\n",
       "  1),\n",
       " ('NOUN_aspect_changing VERB_change_direction DET_UNK NOUN_base NOUN_aspect_changing CCONJ_UNK DET_UNK NOUN_aspect_changing ADP_UNK ADJ_type_of NOUN_base ADP_where PROPN_where PUNCT_UNK NUM_base',\n",
       "  1),\n",
       " ('NOUN_aspect_changing AUX_confidence VERB_predicate AUX_predicate VERB_change_direction ADJ_aspect_changing NOUN_aspect_changing PUNCT_UNK NUM_base',\n",
       "  1),\n",
       " ('PROPN_base PROPN_base VERB_UNK NUM_UNK NOUN_UNK ADP_UNK NOUN_UNK NOUN_UNK ADJ_UNK CCONJ_UNK ADP_when ADJ_when NOUN_when PUNCT_UNK VERB_change_direction NOUN_aspect_changing AUX_confidence VERB_predicate AUX_predicate VERB_change_direction ADJ_aspect_changing NOUN_aspect_changing',\n",
       "  1),\n",
       " ('NOUN_aspect_changing VERB_predicate ADP_predicate NOUN_base CCONJ_UNK ADJ_type_of NOUN_base AUX_confidence ADV_when VERB_change_direction PUNCT_UNK VERB_UNK ADP_UNK PROPN_UNK PROPN_UNK PUNCT_UNK NUM_UNK ADP_UNK DET_UNK NOUN_UNK PART_UNK ADJ_UNK NOUN_to_whom NOUN_to_whom PUNCT_UNK NUM_base',\n",
       "  1),\n",
       " ('NOUN_aspect_changing ADP_UNK PROPN_UNK PROPN_base', 1),\n",
       " ('NOUN_aspect_changing DET_when NOUN_when PUNCT_UNK NUM_base', 1),\n",
       " ('ADJ_base NOUN_base NOUN_aspect_changing', 1),\n",
       " ('NOUN_base PUNCT_UNK ADJ_UNK ADP_UNK DET_UNK PROPN_UNK NOUN_UNK PUNCT_UNK ADV_aspect_changing ADP_aspect_changing NOUN_aspect_changing',\n",
       "  1),\n",
       " ('NOUN_aspect_changing VERB_change_direction CCONJ_UNK ADV_UNK VERB_predicate NOUN_type_of NOUN_base ADP_where PROPN_where PROPN_where PUNCT_UNK PRON_UNK VERB_UNK PUNCT_UNK NUM_base',\n",
       "  1),\n",
       " ('NOUN_base CCONJ_UNK NOUN_base NOUN_aspect_changing', 1),\n",
       " ('VERB_aspect_changing ADJ_aspect_changing NOUN_aspect_changing AUX_confidence ADV_UNK VERB_change_direction ADJ_base NOUN_aspect_changing PUNCT_UNK VERB_predicate ADP_predicate ADJ_base NOUN_base PUNCT_UNK NUM_base',\n",
       "  1),\n",
       " ('NOUN_aspect_changing CCONJ_UNK NOUN_aspect_changing ADP_UNK NOUN_base NOUN_base',\n",
       "  1),\n",
       " ('NOUN_aspect_changing CCONJ_UNK NOUN_aspect_changing ADP_UNK NOUN_base NOUN_base PUNCT_UNK NOUN_base',\n",
       "  1),\n",
       " ('NOUN_aspect_changing CCONJ_UNK NOUN_aspect_changing ADP_UNK NOUN_base NOUN_base PUNCT_UNK NOUN_base PUNCT_UNK NOUN_base',\n",
       "  1),\n",
       " ('NOUN_aspect_changing ADP_UNK NOUN_base NOUN_base PUNCT_UNK NOUN_base', 1),\n",
       " ('NOUN_aspect_changing ADP_UNK NOUN_base NOUN_base PUNCT_UNK NOUN_base PUNCT_UNK NOUN_base',\n",
       "  1),\n",
       " ('NOUN_aspect_changing ADP_UNK NOUN_base CCONJ_UNK NOUN_base', 1),\n",
       " ('NOUN_aspect_changing NOUN_aspect_changing CCONJ_UNK NOUN_aspect_changing ADP_UNK NOUN_base',\n",
       "  1),\n",
       " ('NOUN_aspect_changing ADP_aspect_changing NOUN_aspect_changing PUNCT_UNK CCONJ_UNK ADJ_change_direction NOUN_base PUNCT_UNK NUM_base NUM_base',\n",
       "  1),\n",
       " ('NOUN_aspect_changing PUNCT_UNK VERB_change_direction NOUN_aspect_changing ADP_aspect_changing NOUN_aspect_changing PUNCT_UNK CCONJ_UNK ADJ_change_direction NOUN_base PUNCT_UNK NUM_base',\n",
       "  1),\n",
       " ('NOUN_aspect_changing ADP_UNK ADJ_type_of ADJ_base NOUN_base', 1),\n",
       " ('NOUN_base AUX_confidence AUX_UNK VERB_aspect_changing', 1),\n",
       " ('NOUN_base AUX_confidence AUX_UNK VERB_aspect_changing ADP_UNK DET_UNK VERB_change_direction NOUN_aspect_changing',\n",
       "  1),\n",
       " ('NOUN_aspect_changing ADP_UNK NOUN_type_of PUNCT_type_of VERB_type_of NOUN_type_of NOUN_base',\n",
       "  1),\n",
       " ('NOUN_aspect_changing ADP_UNK DET_UNK NOUN_base NOUN_base', 1),\n",
       " ('NOUN_aspect_changing ADP_UNK ADJ_type_of NOUN_base ADP_effect_size NUM_effect_size NOUN_effect_size CCONJ_UNK NOUN_type_of NOUN_base',\n",
       "  1),\n",
       " ('NOUN_aspect_changing CCONJ_UNK ADJ_type_of NOUN_base AUX_confidence VERB_change_direction DET_UNK NOUN_aspect_changing ADP_UNK ADJ_type_of NOUN_base ADP_effect_size NUM_effect_size NOUN_effect_size CCONJ_UNK NOUN_type_of NOUN_base ADP_effect_size NUM_effect_size NOUN_effect_size PUNCT_UNK PROPN_UNK PROPN_UNK PROPN_UNK PROPN_UNK PUNCT_UNK NUM_UNK PUNCT_UNK PUNCT_UNK NUM_base',\n",
       "  1),\n",
       " ('NOUN_aspect_changing ADP_UNK NOUN_base PUNCT_UNK NOUN_base', 1),\n",
       " ('NOUN_aspect_changing ADP_UNK NOUN_base PUNCT_UNK NOUN_base PUNCT_UNK NOUN_base',\n",
       "  1)]"
      ]
     },
     "execution_count": 91,
     "metadata": {},
     "output_type": "execute_result"
    }
   ],
   "source": [
    "get_pos_patterns(answers, head_type='aspect_changing', tail_type='base')"
   ]
  },
  {
   "cell_type": "code",
   "execution_count": 92,
   "id": "f293633b",
   "metadata": {},
   "outputs": [
    {
     "name": "stderr",
     "output_type": "stream",
     "text": [
      "100%|██████████████████████████████████████████| 60/60 [00:00<00:00, 101.30it/s]\n"
     ]
    },
    {
     "data": {
      "text/plain": [
       "[('ADJ_change_direction NOUN_base', 6),\n",
       " ('VERB_change_direction NOUN_base', 5),\n",
       " ('VERB_change_direction NOUN_aspect_changing ADP_UNK NOUN_base', 3),\n",
       " ('NOUN_base VERB_change_direction', 3),\n",
       " ('VERB_change_direction DET_UNK NOUN_aspect_changing ADP_UNK NOUN_base', 3),\n",
       " ('NOUN_base AUX_confidence VERB_change_direction', 2),\n",
       " ('VERB_change_direction DET_UNK NOUN_base', 2),\n",
       " ('VERB_change_direction NUM_effect_size NOUN_base', 2),\n",
       " ('NOUN_change_direction NOUN_base', 2),\n",
       " ('NOUN_base NOUN_aspect_changing NOUN_change_direction', 2),\n",
       " ('NOUN_base NOUN_change_direction', 2),\n",
       " ('VERB_change_direction ADJ_base', 2),\n",
       " ('NOUN_change_direction ADP_change_direction NOUN_base', 1),\n",
       " ('NOUN_change_direction ADP_change_direction NOUN_base PUNCT_UNK NOUN_base',\n",
       "  1),\n",
       " ('NOUN_change_direction ADP_change_direction NOUN_base PUNCT_UNK NOUN_base CCONJ_UNK NOUN_base',\n",
       "  1),\n",
       " ('ADJ_change_direction PUNCT_change_direction SCONJ_change_direction PUNCT_change_direction ADJ_change_direction NOUN_type_of NOUN_base',\n",
       "  1),\n",
       " ('ADJ_change_direction NOUN_aspect_changing ADP_UNK ADJ_UNK NOUN_base', 1),\n",
       " ('ADJ_change_direction NOUN_aspect_changing ADP_UNK ADJ_type_of NOUN_base',\n",
       "  1),\n",
       " ('NOUN_change_direction ADP_UNK NOUN_base', 1),\n",
       " ('ADJ_change_direction NOUN_aspect_changing PUNCT_UNK NUM_base', 1),\n",
       " ('ADV_change_direction VERB_predicate NOUN_base', 1),\n",
       " ('VERB_change_direction NOUN_aspect_changing CCONJ_UNK NOUN_change_direction NOUN_base DET_UNK AUX_confidence VERB_change_direction NUM_effect_size NOUN_effect_size ADP_UNK ADJ_type_of NOUN_aspect_changing ADP_when NUM_when PUNCT_UNK CCONJ_UNK SYM_effect_size NUM_effect_size NUM_effect_size PUNCT_UNK PUNCT_base',\n",
       "  1),\n",
       " ('VERB_change_direction NUM_effect_size NOUN_effect_size ADP_UNK ADJ_type_of NOUN_aspect_changing ADP_when NUM_when PUNCT_UNK CCONJ_UNK SYM_effect_size NUM_effect_size NUM_effect_size PUNCT_UNK PUNCT_base NUM_base',\n",
       "  1),\n",
       " ('ADJ_change_direction CCONJ_UNK ADV_predicate VERB_change_direction DET_UNK NOUN_aspect_changing NOUN_aspect_changing ADP_UNK DET_UNK NOUN_base VERB_UNK ADJ_type_of PUNCT_UNK NUM_base',\n",
       "  1),\n",
       " ('VERB_change_direction DET_UNK NOUN_aspect_changing NOUN_aspect_changing ADP_UNK DET_UNK NOUN_base',\n",
       "  1),\n",
       " ('NOUN_change_direction ADP_UNK DET_UNK NOUN_base', 1),\n",
       " ('VERB_change_direction DET_UNK NOUN_type_of NOUN_base', 1),\n",
       " ('ADV_change_direction ADJ_change_direction CCONJ_UNK ADV_change_direction VERB_change_direction NOUN_base',\n",
       "  1),\n",
       " ('ADV_change_direction VERB_change_direction NOUN_base', 1),\n",
       " ('NOUN_base ADP_UNK ADJ_change_direction', 1),\n",
       " ('ADJ_change_direction ADV_UNK PRON_UNK VERB_UNK ADP_UNK DET_UNK NOUN_aspect_changing ADP_UNK NOUN_type_of NOUN_base',\n",
       "  1),\n",
       " ('NOUN_change_direction ADP_UNK DET_UNK NOUN_aspect_changing ADP_UNK ADJ_type_of NOUN_base',\n",
       "  1),\n",
       " ('ADJ_change_direction NOUN_UNK VERB_predicate ADP_predicate ADJ_confidence NOUN_change_direction ADP_UNK DET_UNK NOUN_aspect_changing ADP_UNK NOUN_base PUNCT_UNK PUNCT_base',\n",
       "  1),\n",
       " ('NOUN_change_direction ADP_UNK DET_UNK NOUN_aspect_changing ADP_UNK NOUN_base',\n",
       "  1),\n",
       " ('NOUN_change_direction ADP_UNK NOUN_type_of NOUN_base', 1),\n",
       " ('VERB_change_direction ADP_change_direction NOUN_base', 1),\n",
       " ('NOUN_base AUX_confidence VERB_change_direction ADV_change_direction ADV_change_direction',\n",
       "  1),\n",
       " ('ADV_change_direction ADJ_type_of NOUN_base', 1),\n",
       " ('VERB_change_direction ADP_UNK PROPN_UNK NUM_UNK SCONJ_predicate ADP_predicate ADJ_change_direction NOUN_base NOUN_aspect_changing VERB_predicate ADP_predicate NOUN_base ADP_where ADJ_where PROPN_where PUNCT_UNK NUM_base',\n",
       "  1),\n",
       " ('NOUN_base PART_change_direction VERB_change_direction', 1),\n",
       " ('VERB_change_direction PUNCT_UNK PUNCT_base', 1),\n",
       " ('VERB_change_direction NOUN_base NOUN_base', 1),\n",
       " ('NOUN_change_direction VERB_predicate ADP_predicate VERB_change_direction NOUN_aspect_changing ADP_UNK NOUN_type_of NOUN_base ADP_where PROPN_where PART_where NOUN_where AUX_confidence VERB_change_direction ADJ_where NOUN_where ADP_where PROPN_where CCONJ_where PROPN_where PUNCT_UNK SCONJ_UNK VERB_change_direction ADP_change_direction ADJ_base NOUN_aspect_changing ADP_where ADJ_where NOUN_where ADJ_where ADP_where PROPN_where CCONJ_where PROPN_where PUNCT_UNK PUNCT_base',\n",
       "  1),\n",
       " ('VERB_change_direction NOUN_aspect_changing ADP_UNK NOUN_type_of NOUN_base',\n",
       "  1),\n",
       " ('VERB_change_direction ADJ_where NOUN_where ADP_where PROPN_where CCONJ_where PROPN_where PUNCT_UNK SCONJ_UNK VERB_change_direction ADP_change_direction ADJ_base NOUN_aspect_changing ADP_where ADJ_where NOUN_where ADJ_where ADP_where PROPN_where CCONJ_where PROPN_where PUNCT_UNK PUNCT_base NUM_base',\n",
       "  1),\n",
       " ('VERB_change_direction ADP_change_direction ADJ_base', 1),\n",
       " ('VERB_change_direction DET_UNK NOUN_aspect_changing ADP_UNK NOUN_type_of NOUN_base',\n",
       "  1),\n",
       " ('AUX_change_direction VERB_change_direction ADJ_change_direction NOUN_aspect_changing PUNCT_UNK VERB_predicate ADP_predicate ADJ_change_direction NOUN_base PUNCT_UNK PUNCT_base',\n",
       "  1),\n",
       " ('ADJ_change_direction SCONJ_effect_size ADJ_effect_size NOUN_aspect_changing VERB_change_direction DET_UNK NOUN_base NOUN_aspect_changing CCONJ_UNK DET_UNK NOUN_aspect_changing ADP_UNK ADJ_type_of NOUN_base ADP_where PROPN_where PUNCT_UNK NUM_base',\n",
       "  1),\n",
       " ('VERB_change_direction DET_UNK NOUN_base NOUN_aspect_changing CCONJ_UNK DET_UNK NOUN_aspect_changing ADP_UNK ADJ_type_of NOUN_base',\n",
       "  1),\n",
       " ('NOUN_base AUX_confidence ADV_when VERB_change_direction', 1),\n",
       " ('PROPN_base PROPN_base VERB_UNK NUM_UNK NOUN_UNK ADP_UNK NOUN_UNK NOUN_UNK ADJ_UNK CCONJ_UNK ADP_when ADJ_when NOUN_when PUNCT_UNK VERB_change_direction NOUN_aspect_changing AUX_confidence VERB_predicate AUX_predicate VERB_change_direction',\n",
       "  1),\n",
       " ('VERB_change_direction NOUN_aspect_changing AUX_confidence VERB_predicate AUX_predicate VERB_change_direction ADJ_aspect_changing NOUN_aspect_changing PUNCT_UNK NUM_base',\n",
       "  1),\n",
       " ('VERB_change_direction PUNCT_UNK VERB_UNK ADP_UNK PROPN_UNK PROPN_UNK PUNCT_UNK NUM_UNK ADP_UNK DET_UNK NOUN_UNK PART_UNK ADJ_UNK NOUN_to_whom NOUN_to_whom PUNCT_UNK NUM_base',\n",
       "  1),\n",
       " ('VERB_change_direction NOUN_aspect_changing ADP_UNK PROPN_UNK PROPN_base',\n",
       "  1),\n",
       " ('NOUN_base NOUN_aspect_changing PART_UNK VERB_UNK PUNCT_UNK CCONJ_UNK DET_UNK VERB_change_direction NOUN_aspect_changing ADP_UNK PROPN_UNK PROPN_base AUX_confidence VERB_change_direction',\n",
       "  1),\n",
       " ('VERB_change_direction ADJ_UNK NOUN_base', 1),\n",
       " ('ADJ_change_direction NOUN_base CCONJ_UNK ADJ_base NOUN_base', 1),\n",
       " ('NOUN_base PUNCT_UNK DET_UNK AUX_confidence AUX_UNK VERB_change_direction',\n",
       "  1),\n",
       " ('NOUN_base ADP_when NOUN_when CCONJ_UNK NOUN_type_of NOUN_base PUNCT_UNK DET_UNK AUX_confidence AUX_UNK VERB_change_direction',\n",
       "  1),\n",
       " ('NOUN_change_direction ADP_UNK NOUN_type_of PUNCT_type_of ADJ_type_of NOUN_base',\n",
       "  1),\n",
       " ('VERB_change_direction NOUN_change_direction ADP_change_direction NOUN_base',\n",
       "  1),\n",
       " ('VERB_change_direction CCONJ_UNK ADV_UNK VERB_predicate NOUN_type_of NOUN_base ADP_where PROPN_where PROPN_where PUNCT_UNK PRON_UNK VERB_UNK PUNCT_UNK NUM_base',\n",
       "  1),\n",
       " ('NOUN_change_direction ADP_UNK NOUN_base NOUN_base', 1),\n",
       " ('VERB_change_direction ADJ_type_of NOUN_type_of NOUN_base', 1),\n",
       " ('VERB_change_direction ADJ_type_of NOUN_type_of NOUN_base CCONJ_UNK NOUN_base',\n",
       "  1),\n",
       " ('VERB_change_direction NOUN_aspect_changing CCONJ_UNK NOUN_aspect_changing ADP_UNK NOUN_base NOUN_base',\n",
       "  1),\n",
       " ('VERB_change_direction NOUN_aspect_changing CCONJ_UNK NOUN_aspect_changing ADP_UNK NOUN_base NOUN_base PUNCT_UNK NOUN_base',\n",
       "  1),\n",
       " ('VERB_change_direction NOUN_aspect_changing CCONJ_UNK NOUN_aspect_changing ADP_UNK NOUN_base NOUN_base PUNCT_UNK NOUN_base PUNCT_UNK NOUN_base',\n",
       "  1),\n",
       " ('VERB_change_direction DET_UNK NOUN_aspect_changing ADP_UNK NOUN_base CCONJ_UNK NOUN_base',\n",
       "  1),\n",
       " ('NOUN_change_direction ADP_UNK ADJ_base', 1),\n",
       " ('VERB_change_direction NOUN_aspect_changing NOUN_aspect_changing CCONJ_UNK NOUN_aspect_changing ADP_UNK NOUN_base',\n",
       "  1),\n",
       " ('VERB_change_direction NOUN_aspect_changing ADP_aspect_changing NOUN_aspect_changing PUNCT_UNK CCONJ_UNK ADJ_change_direction NOUN_base PUNCT_UNK NUM_base NUM_base',\n",
       "  1),\n",
       " ('VERB_change_direction NOUN_aspect_changing PUNCT_UNK VERB_change_direction NOUN_aspect_changing ADP_aspect_changing NOUN_aspect_changing PUNCT_UNK CCONJ_UNK ADJ_change_direction NOUN_base PUNCT_UNK NUM_base',\n",
       "  1),\n",
       " ('VERB_change_direction ADJ_type_of NOUN_base', 1),\n",
       " ('ADV_change_direction PUNCT_change_direction VERB_change_direction ADJ_type_of NOUN_base',\n",
       "  1),\n",
       " ('ADV_change_direction PUNCT_change_direction VERB_change_direction ADJ_type_of NOUN_base CCONJ_UNK NOUN_base NOUN_base',\n",
       "  1),\n",
       " ('NOUN_base AUX_confidence AUX_UNK VERB_aspect_changing ADP_UNK DET_UNK VERB_change_direction',\n",
       "  1),\n",
       " ('NOUN_base NOUN_aspect_changing AUX_confidence VERB_UNK PART_UNK VERB_change_direction ADV_change_direction ADV_change_direction',\n",
       "  1),\n",
       " ('NOUN_change_direction ADP_UNK ADJ_type_of NOUN_type_of NOUN_base', 1),\n",
       " ('ADV_change_direction ADJ_type_of ADJ_type_of NOUN_base', 1),\n",
       " ('VERB_change_direction NOUN_aspect_changing ADP_UNK ADJ_type_of NOUN_base',\n",
       "  1),\n",
       " ('VERB_change_direction DET_UNK NOUN_aspect_changing ADP_UNK ADJ_type_of NOUN_base',\n",
       "  1),\n",
       " ('VERB_change_direction DET_UNK NOUN_aspect_changing ADP_UNK ADJ_type_of NOUN_base ADP_effect_size NUM_effect_size NOUN_effect_size CCONJ_UNK NOUN_type_of NOUN_base',\n",
       "  1),\n",
       " ('NOUN_change_direction ADP_UNK ADJ_where NOUN_aspect_changing CCONJ_UNK ADJ_type_of NOUN_base AUX_confidence VERB_change_direction DET_UNK NOUN_aspect_changing ADP_UNK ADJ_type_of NOUN_base ADP_effect_size NUM_effect_size NOUN_effect_size CCONJ_UNK NOUN_type_of NOUN_base ADP_effect_size NUM_effect_size NOUN_effect_size PUNCT_UNK PROPN_UNK PROPN_UNK PROPN_UNK PROPN_UNK PUNCT_UNK NUM_UNK PUNCT_UNK PUNCT_UNK NUM_base',\n",
       "  1),\n",
       " ('ADJ_change_direction ADP_UNK NOUN_base', 1),\n",
       " ('VERB_base ADJ_change_direction', 1),\n",
       " ('VERB_change_direction NOUN_aspect_changing ADP_UNK NOUN_base PUNCT_UNK NOUN_base',\n",
       "  1),\n",
       " ('VERB_change_direction NOUN_aspect_changing ADP_UNK NOUN_base PUNCT_UNK NOUN_base PUNCT_UNK NOUN_base',\n",
       "  1),\n",
       " ('ADJ_base NOUN_base PUNCT_UNK DET_UNK ADJ_UNK ADP_UNK DET_UNK AUX_confidence VERB_UNK ADV_change_direction',\n",
       "  1),\n",
       " ('NOUN_base AUX_confidence AUX_UNK VERB_change_direction', 1),\n",
       " ('NOUN_base CCONJ_UNK ADJ_type_of NOUN_base AUX_confidence AUX_UNK VERB_change_direction',\n",
       "  1),\n",
       " ('NOUN_base PUNCT_UNK NOUN_type_of NOUN_base CCONJ_UNK ADJ_type_of NOUN_base AUX_confidence AUX_UNK VERB_change_direction',\n",
       "  1)]"
      ]
     },
     "execution_count": 92,
     "metadata": {},
     "output_type": "execute_result"
    }
   ],
   "source": [
    "get_pos_patterns(answers, head_type='change_direction', tail_type='base')"
   ]
  },
  {
   "cell_type": "code",
   "execution_count": null,
   "id": "b8d4790a",
   "metadata": {},
   "outputs": [],
   "source": []
  }
 ],
 "metadata": {
  "kernelspec": {
   "display_name": "Python 3 (ipykernel)",
   "language": "python",
   "name": "python3"
  },
  "language_info": {
   "codemirror_mode": {
    "name": "ipython",
    "version": 3
   },
   "file_extension": ".py",
   "mimetype": "text/x-python",
   "name": "python",
   "nbconvert_exporter": "python",
   "pygments_lexer": "ipython3",
   "version": "3.9.7"
  }
 },
 "nbformat": 4,
 "nbformat_minor": 5
}
