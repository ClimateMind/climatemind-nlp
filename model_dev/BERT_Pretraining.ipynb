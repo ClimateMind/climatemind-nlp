{
 "cells": [
  {
   "cell_type": "code",
   "execution_count": null,
   "metadata": {},
   "outputs": [],
   "source": "! pip install -U tokenizers"
  },
  {
   "cell_type": "code",
   "execution_count": null,
   "metadata": {},
   "outputs": [],
   "source": "!pip install tensorflow==1.15"
  },
  {
   "cell_type": "markdown",
   "metadata": {},
   "source": "cd into directory with google's bert training scripts from original bert repo "
  },
  {
   "cell_type": "code",
   "execution_count": null,
   "metadata": {},
   "outputs": [],
   "source": "cd /kaggle/input/bert-master/bert-master"
  },
  {
   "cell_type": "code",
   "execution_count": null,
   "metadata": {},
   "outputs": [],
   "source": "!ls"
  },
  {
   "cell_type": "code",
   "execution_count": null,
   "metadata": {},
   "outputs": [],
   "source": "!python create_pretraining_data.py \\\n    --input_file=/kaggle/input/path/to/txt/file \\\n    --output_file=/kaggle/working/final.tfrecord \\\n    --vocab_file=/kaggle/input/path/to/vocab.txt \\\n    --do_lower_case=True \\\n    --max_seq_length=256 \\\n    --max_predictions_per_seq=39 \\\n    --masked_lm_prob=0.15 \\\n    --random_seed=42 \\\n    --dupe_factor=5"
  },
  {
   "cell_type": "markdown",
   "metadata": {},
   "source": ""
  },
  {
   "cell_type": "code",
   "execution_count": null,
   "metadata": {},
   "outputs": [],
   "source": "!python run_pretraining.py \\\n    --input_file=gs://path/to/final.tfrecord \\\n    --output_dir=gs://path/to/output/dir \\\n    --do_train=True \\\n    --do_eval=True \\\n    --bert_config_file=gs://path/to/bert_config.json \\\n    --init_checkpoint=gs://path/to/bert_model.ckpt \\\n    --train_batch_size=32 \\\n    --max_seq_length=256 \\\n    --max_predictions_per_seq=39 \\\n    --num_train_steps=50000 \\\n    --num_warmup_steps=10 \\\n    --learning_rate=2e-5 \\\n    --use_tpu=True \\\n    --tpu_name=$TPU_NAME"
  },
  {
   "cell_type": "code",
   "execution_count": null,
   "metadata": {},
   "outputs": [],
   "source": ""
  },
  {
   "cell_type": "code",
   "execution_count": null,
   "metadata": {},
   "outputs": [],
   "source": ""
  }
 ],
 "metadata": {
  "kernelspec": {
   "display_name": "Python 3",
   "language": "python",
   "name": "python3"
  }
 },
 "nbformat": 4,
 "nbformat_minor": 4
}
