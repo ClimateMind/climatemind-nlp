{
 "cells": [
  {
   "cell_type": "markdown",
   "metadata": {},
   "source": [
    "# ClimateMind NLP\n",
    "\n",
    "This is the repo for the ClimateMind NLP projct. Check out the [ICML 2021 Proposal](https://www.climatechange.ai/papers/icml2021/65) to learn more about the system!\n",
    "\n",
    "If you want to get involved head over to [our site](https://climatemind.org/#get-involved) to connect."
   ]
  },
  {
   "cell_type": "markdown",
   "metadata": {},
   "source": [
    "## Install\n",
    "\n",
    "NLP is in the middle of redesigning its developer workflow so check back here for detailed install instructions soon!\n",
    "\n",
    "## Dev Practices\n",
    "\n",
    "### Issue\n",
    "\n",
    "Avaible issues & tickets can be found in our internal Jira.\n",
    "\n",
    "### Pull Requests\n",
    "\n",
    "Pull Requests require 1 approving review from a team member before being merged, we also use Github's CodeQL for the Python code security checks.\n"
   ]
  }
 ],
 "metadata": {
  "kernelspec": {
   "display_name": "Python 3",
   "language": "python",
   "name": "python3"
  }
 },
 "nbformat": 4,
 "nbformat_minor": 2
}
