{
 "cells": [
  {
   "cell_type": "code",
   "execution_count": null,
   "metadata": {},
   "outputs": [],
   "source": [
    "#export\n",
    "def url(endpoint):\n",
    "    \"\"\"Returns the Pocket URL endpoint\"\"\"\n",
    "    return \"https://getpocket.com/v3/\" + endpoint"
   ]
  },
  {
   "cell_type": "code",
   "execution_count": null,
   "metadata": {},
   "outputs": [],
   "source": [
    "#export \n",
    "def authorize(consumer_key, headers = {\"X-Accept\": \"application/json\"}):\n",
    "    \"\"\" Creates an authorization token to access our Pocket article database.\"\"\"\n",
    "    redirect_uri = \"https://google.com\"\n",
    "    req = requests.post(url(\"oauth/request\"), data={\n",
    "        \"consumer_key\": consumer_key,\n",
    "        \"redirect_uri\": redirect_uri\n",
    "    }, headers=headers)\n",
    "    request_token = req.json()[\"code\"]\n",
    "    print(\"<<< After signing in at link below press ENTER >>>\")\n",
    "    print(f\"https://getpocket.com/auth/authorize?request_token={request_token}&redirect_uri={redirect_uri}\")\n",
    "    input() # super hacky way of making it wait\n",
    "    # After authenticating the request_token ask for an access token\n",
    "    res = requests.post(url(\"oauth/authorize\"), data={\n",
    "        \"consumer_key\": consumer_key,\n",
    "        \"code\": request_token,\n",
    "    }, headers=headers)\n",
    "\n",
    "    if not res.ok:\n",
    "        print(\"ERROR: Authorization failed:\", req.text)\n",
    "        sys.exit(1)\n",
    "\n",
    "    return res.json()[\"access_token\"]"
   ]
  }
 ],
 "metadata": {},
 "nbformat": 4,
 "nbformat_minor": 2
}
