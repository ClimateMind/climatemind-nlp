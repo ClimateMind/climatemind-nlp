{
  "nbformat": 4,
  "nbformat_minor": 0,
  "metadata": {
    "colab": {
      "name": "climateCausalityClassifier.ipynb",
      "provenance": []
    },
    "kernelspec": {
      "name": "python3",
      "display_name": "Python 3"
    },
    "accelerator": "GPU"
  },
  "cells": [
    {
      "cell_type": "code",
      "metadata": {
        "id": "COXAXervmgiq"
      },
      "source": [
        "# Finetuning neuralcoref based on instructions from here: https://github.com/huggingface/neuralcoref/blob/master/neuralcoref/train/training.md"
      ],
      "execution_count": null,
      "outputs": []
    }
  ]
}