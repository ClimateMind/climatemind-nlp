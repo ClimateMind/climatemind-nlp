{
  "nbformat": 4,
  "nbformat_minor": 0,
  "metadata": {
    "colab": {
      "name": "climateCausalityClassifier.ipynb",
      "provenance": []
    },
    "kernelspec": {
      "name": "python3",
      "display_name": "Python 3"
    },
    "accelerator": "GPU"
  },
  "cells": [
    {
      "cell_type": "code",
      "metadata": {
        "id": "gI4ZWfTxerCT"
      },
      "source": [
        "import os"
      ],
      "execution_count": 57,
      "outputs": []
    },
    {
      "cell_type": "code",
      "metadata": {
        "colab": {
          "base_uri": "https://localhost:8080/"
        },
        "id": "zP0D9QGClMYY",
        "outputId": "a99dd14e-40cd-42dd-87d4-c395f56e7b5a"
      },
      "source": [
        "print(os.getcwd())"
      ],
      "execution_count": 58,
      "outputs": [
        {
          "output_type": "stream",
          "text": [
            "/content/drive/My Drive/climateMind\n"
          ],
          "name": "stdout"
        }
      ]
    },
    {
      "cell_type": "code",
      "metadata": {
        "id": "5sT8DRwGlPxG"
      },
      "source": [
        "os.chdir('SemEval')"
      ],
      "execution_count": 60,
      "outputs": []
    },
    {
      "cell_type": "code",
      "metadata": {
        "colab": {
          "base_uri": "https://localhost:8080/"
        },
        "id": "R_yd923TlVRG",
        "outputId": "efd49179-9944-42c2-dc8b-325467434334"
      },
      "source": [
        "os.listdir()"
      ],
      "execution_count": 61,
      "outputs": [
        {
          "output_type": "execute_result",
          "data": {
            "text/plain": [
              "['semeval_2010_extracted_train_data.csv',\n",
              " 'semeval_2007_extracted_train_data.csv',\n",
              " 'semeval_2010_extracted_test_data.csv',\n",
              " 'semeval_2007_extracted_test_data.csv']"
            ]
          },
          "metadata": {
            "tags": []
          },
          "execution_count": 61
        }
      ]
    },
    {
      "cell_type": "code",
      "metadata": {
        "id": "e5XUDC1OlYKf"
      },
      "source": [
        "import pandas as pd"
      ],
      "execution_count": 62,
      "outputs": []
    },
    {
      "cell_type": "code",
      "metadata": {
        "id": "TwRk6Bj2ld72"
      },
      "source": [
        "df = pd.read_csv('semeval_2010_extracted_train_data.csv', delimiter=';')\r\n",
        "df2 = pd.read_csv('semeval_2007_extracted_train_data.csv', delimiter=';')"
      ],
      "execution_count": 63,
      "outputs": []
    },
    {
      "cell_type": "code",
      "metadata": {
        "colab": {
          "base_uri": "https://localhost:8080/"
        },
        "id": "xja8YN56lyl-",
        "outputId": "23fa7ff3-5664-4162-b14f-e7aaffcd9200"
      },
      "source": [
        "type(df.iloc[0]['Sentence'])"
      ],
      "execution_count": 64,
      "outputs": [
        {
          "output_type": "execute_result",
          "data": {
            "text/plain": [
              "str"
            ]
          },
          "metadata": {
            "tags": []
          },
          "execution_count": 64
        }
      ]
    },
    {
      "cell_type": "code",
      "metadata": {
        "colab": {
          "base_uri": "https://localhost:8080/",
          "height": 1000
        },
        "id": "3xkD4ZrRl8Md",
        "outputId": "0a668f7f-0310-4b8e-acaa-aa1735daeee4"
      },
      "source": [
        "df.sample(50)"
      ],
      "execution_count": 65,
      "outputs": [
        {
          "output_type": "execute_result",
          "data": {
            "text/html": [
              "<div>\n",
              "<style scoped>\n",
              "    .dataframe tbody tr th:only-of-type {\n",
              "        vertical-align: middle;\n",
              "    }\n",
              "\n",
              "    .dataframe tbody tr th {\n",
              "        vertical-align: top;\n",
              "    }\n",
              "\n",
              "    .dataframe thead th {\n",
              "        text-align: right;\n",
              "    }\n",
              "</style>\n",
              "<table border=\"1\" class=\"dataframe\">\n",
              "  <thead>\n",
              "    <tr style=\"text-align: right;\">\n",
              "      <th></th>\n",
              "      <th>Sentence</th>\n",
              "      <th>Relation</th>\n",
              "      <th>Label</th>\n",
              "    </tr>\n",
              "  </thead>\n",
              "  <tbody>\n",
              "    <tr>\n",
              "      <th>266</th>\n",
              "      <td>When you strike someone with a bottle full of ...</td>\n",
              "      <td>Content-Container(e2,e1)\\n</td>\n",
              "      <td>0</td>\n",
              "    </tr>\n",
              "    <tr>\n",
              "      <th>6651</th>\n",
              "      <td>Air pollution from coal fired sources is so se...</td>\n",
              "      <td>Cause-Effect(e2,e1)\\n</td>\n",
              "      <td>1</td>\n",
              "    </tr>\n",
              "    <tr>\n",
              "      <th>2867</th>\n",
              "      <td>The government's plans for the future of commu...</td>\n",
              "      <td>Message-Topic(e2,e1)\\n</td>\n",
              "      <td>0</td>\n",
              "    </tr>\n",
              "    <tr>\n",
              "      <th>932</th>\n",
              "      <td>This is made possible by unscrewing the three ...</td>\n",
              "      <td>Component-Whole(e1,e2)\\n</td>\n",
              "      <td>0</td>\n",
              "    </tr>\n",
              "    <tr>\n",
              "      <th>7061</th>\n",
              "      <td>In the poem, the author develops the metaphysi...</td>\n",
              "      <td>Product-Producer(e1,e2)\\n</td>\n",
              "      <td>0</td>\n",
              "    </tr>\n",
              "    <tr>\n",
              "      <th>2180</th>\n",
              "      <td>The weapon was hidden in what appears to be a ...</td>\n",
              "      <td>Content-Container(e1,e2)\\n</td>\n",
              "      <td>0</td>\n",
              "    </tr>\n",
              "    <tr>\n",
              "      <th>6</th>\n",
              "      <td>The current view is that the chronic inflammat...</td>\n",
              "      <td>Cause-Effect(e2,e1)\\n</td>\n",
              "      <td>1</td>\n",
              "    </tr>\n",
              "    <tr>\n",
              "      <th>6417</th>\n",
              "      <td>The first British steam powered vibrator dates...</td>\n",
              "      <td>Product-Producer(e1,e2)\\n</td>\n",
              "      <td>0</td>\n",
              "    </tr>\n",
              "    <tr>\n",
              "      <th>6321</th>\n",
              "      <td>Operation Homefront and partners delivered toy...</td>\n",
              "      <td>Entity-Destination(e1,e2)\\n</td>\n",
              "      <td>0</td>\n",
              "    </tr>\n",
              "    <tr>\n",
              "      <th>1711</th>\n",
              "      <td>We derive a pair of optimal weights on the dol...</td>\n",
              "      <td>Other\\n</td>\n",
              "      <td>0</td>\n",
              "    </tr>\n",
              "    <tr>\n",
              "      <th>6066</th>\n",
              "      <td>We placed the burlap into the bucket as lining.</td>\n",
              "      <td>Entity-Destination(e1,e2)\\n</td>\n",
              "      <td>0</td>\n",
              "    </tr>\n",
              "    <tr>\n",
              "      <th>4711</th>\n",
              "      <td>A trillion gallons of water have been poured i...</td>\n",
              "      <td>Entity-Destination(e1,e2)\\n</td>\n",
              "      <td>0</td>\n",
              "    </tr>\n",
              "    <tr>\n",
              "      <th>3041</th>\n",
              "      <td>It is a branch of philosophy dealing with the ...</td>\n",
              "      <td>Other\\n</td>\n",
              "      <td>0</td>\n",
              "    </tr>\n",
              "    <tr>\n",
              "      <th>2097</th>\n",
              "      <td>He released the brake cable by detaching the r...</td>\n",
              "      <td>Component-Whole(e2,e1)\\n</td>\n",
              "      <td>0</td>\n",
              "    </tr>\n",
              "    <tr>\n",
              "      <th>5507</th>\n",
              "      <td>Crime fiction is the genre of fiction that dea...</td>\n",
              "      <td>Message-Topic(e1,e2)\\n</td>\n",
              "      <td>0</td>\n",
              "    </tr>\n",
              "    <tr>\n",
              "      <th>2021</th>\n",
              "      <td>A pack of the most popular cigarettes in the S...</td>\n",
              "      <td>Content-Container(e2,e1)\\n</td>\n",
              "      <td>0</td>\n",
              "    </tr>\n",
              "    <tr>\n",
              "      <th>6644</th>\n",
              "      <td>An organization with the mission of allowing a...</td>\n",
              "      <td>Cause-Effect(e2,e1)\\n</td>\n",
              "      <td>1</td>\n",
              "    </tr>\n",
              "    <tr>\n",
              "      <th>7378</th>\n",
              "      <td>The findings clearly show a high level of sati...</td>\n",
              "      <td>Other\\n</td>\n",
              "      <td>0</td>\n",
              "    </tr>\n",
              "    <tr>\n",
              "      <th>1173</th>\n",
              "      <td>A state church is created by the state, as in ...</td>\n",
              "      <td>Product-Producer(e1,e2)\\n</td>\n",
              "      <td>0</td>\n",
              "    </tr>\n",
              "    <tr>\n",
              "      <th>1759</th>\n",
              "      <td>A Boy Scout in North Carolina found a purse wi...</td>\n",
              "      <td>Content-Container(e2,e1)\\n</td>\n",
              "      <td>0</td>\n",
              "    </tr>\n",
              "    <tr>\n",
              "      <th>1516</th>\n",
              "      <td>Symptoms vary according to the degree of infla...</td>\n",
              "      <td>Cause-Effect(e2,e1)\\n</td>\n",
              "      <td>1</td>\n",
              "    </tr>\n",
              "    <tr>\n",
              "      <th>2344</th>\n",
              "      <td>In this constitution the people was the source...</td>\n",
              "      <td>Entity-Origin(e2,e1)\\n</td>\n",
              "      <td>0</td>\n",
              "    </tr>\n",
              "    <tr>\n",
              "      <th>1610</th>\n",
              "      <td>The reconstitution of boards of governors take...</td>\n",
              "      <td>Member-Collection(e2,e1)\\n</td>\n",
              "      <td>0</td>\n",
              "    </tr>\n",
              "    <tr>\n",
              "      <th>1461</th>\n",
              "      <td>Teetotallers zip over the Causeway in the mids...</td>\n",
              "      <td>Member-Collection(e2,e1)\\n</td>\n",
              "      <td>0</td>\n",
              "    </tr>\n",
              "    <tr>\n",
              "      <th>4410</th>\n",
              "      <td>In order to gather experimental data, research...</td>\n",
              "      <td>Other\\n</td>\n",
              "      <td>0</td>\n",
              "    </tr>\n",
              "    <tr>\n",
              "      <th>4479</th>\n",
              "      <td>Malaria is caused by infection with a parasite...</td>\n",
              "      <td>Cause-Effect(e2,e1)\\n</td>\n",
              "      <td>1</td>\n",
              "    </tr>\n",
              "    <tr>\n",
              "      <th>3404</th>\n",
              "      <td>In the healthy heart, the left ventricle perfo...</td>\n",
              "      <td>Other\\n</td>\n",
              "      <td>0</td>\n",
              "    </tr>\n",
              "    <tr>\n",
              "      <th>1790</th>\n",
              "      <td>The vagina was sutured behind the neourethra; ...</td>\n",
              "      <td>Other\\n</td>\n",
              "      <td>0</td>\n",
              "    </tr>\n",
              "    <tr>\n",
              "      <th>5948</th>\n",
              "      <td>This machine was in a suitcase that was the si...</td>\n",
              "      <td>Content-Container(e1,e2)\\n</td>\n",
              "      <td>0</td>\n",
              "    </tr>\n",
              "    <tr>\n",
              "      <th>5735</th>\n",
              "      <td>Ants are spreading into new habitats.</td>\n",
              "      <td>Entity-Destination(e1,e2)\\n</td>\n",
              "      <td>0</td>\n",
              "    </tr>\n",
              "    <tr>\n",
              "      <th>7263</th>\n",
              "      <td>Quality forged pinking scissors cut with excep...</td>\n",
              "      <td>Other\\n</td>\n",
              "      <td>0</td>\n",
              "    </tr>\n",
              "    <tr>\n",
              "      <th>7201</th>\n",
              "      <td>It is a family luxury villa with breeze-kissed...</td>\n",
              "      <td>Other\\n</td>\n",
              "      <td>0</td>\n",
              "    </tr>\n",
              "    <tr>\n",
              "      <th>835</th>\n",
              "      <td>A Channel 4 drama set in a psychiatric unit ha...</td>\n",
              "      <td>Other\\n</td>\n",
              "      <td>0</td>\n",
              "    </tr>\n",
              "    <tr>\n",
              "      <th>4938</th>\n",
              "      <td>The film details plastic's path over the last ...</td>\n",
              "      <td>Message-Topic(e1,e2)\\n</td>\n",
              "      <td>0</td>\n",
              "    </tr>\n",
              "    <tr>\n",
              "      <th>6322</th>\n",
              "      <td>The term has been used by a number of publicat...</td>\n",
              "      <td>Message-Topic(e1,e2)\\n</td>\n",
              "      <td>0</td>\n",
              "    </tr>\n",
              "    <tr>\n",
              "      <th>2188</th>\n",
              "      <td>The cold temperature waves are flowing into th...</td>\n",
              "      <td>Entity-Destination(e1,e2)\\n</td>\n",
              "      <td>0</td>\n",
              "    </tr>\n",
              "    <tr>\n",
              "      <th>6616</th>\n",
              "      <td>Cream of mushroom soup was first made availabl...</td>\n",
              "      <td>Entity-Origin(e2,e1)\\n</td>\n",
              "      <td>0</td>\n",
              "    </tr>\n",
              "    <tr>\n",
              "      <th>762</th>\n",
              "      <td>The two populations started from the same gene...</td>\n",
              "      <td>Entity-Origin(e1,e2)\\n</td>\n",
              "      <td>0</td>\n",
              "    </tr>\n",
              "    <tr>\n",
              "      <th>5868</th>\n",
              "      <td>I'm going with some girls to get a bunch of fl...</td>\n",
              "      <td>Member-Collection(e2,e1)\\n</td>\n",
              "      <td>0</td>\n",
              "    </tr>\n",
              "    <tr>\n",
              "      <th>5116</th>\n",
              "      <td>There is an exhaust vent and a cable to start ...</td>\n",
              "      <td>Instrument-Agency(e1,e2)\\n</td>\n",
              "      <td>0</td>\n",
              "    </tr>\n",
              "    <tr>\n",
              "      <th>5157</th>\n",
              "      <td>In the present study, we adapted a battery of ...</td>\n",
              "      <td>Member-Collection(e2,e1)\\n</td>\n",
              "      <td>0</td>\n",
              "    </tr>\n",
              "    <tr>\n",
              "      <th>4847</th>\n",
              "      <td>First of all, it is a source of specialist cad...</td>\n",
              "      <td>Other\\n</td>\n",
              "      <td>0</td>\n",
              "    </tr>\n",
              "    <tr>\n",
              "      <th>5746</th>\n",
              "      <td>The immediate post-war years were a hive of id...</td>\n",
              "      <td>Other\\n</td>\n",
              "      <td>0</td>\n",
              "    </tr>\n",
              "    <tr>\n",
              "      <th>421</th>\n",
              "      <td>The supreme court has applied the protections ...</td>\n",
              "      <td>Instrument-Agency(e2,e1)\\n</td>\n",
              "      <td>0</td>\n",
              "    </tr>\n",
              "    <tr>\n",
              "      <th>1366</th>\n",
              "      <td>Down the winding path which curved among the r...</td>\n",
              "      <td>Member-Collection(e2,e1)\\n</td>\n",
              "      <td>0</td>\n",
              "    </tr>\n",
              "    <tr>\n",
              "      <th>2005</th>\n",
              "      <td>In the book, the main female character is a wo...</td>\n",
              "      <td>Message-Topic(e2,e1)\\n</td>\n",
              "      <td>0</td>\n",
              "    </tr>\n",
              "    <tr>\n",
              "      <th>6741</th>\n",
              "      <td>The association keeps teachers informed about ...</td>\n",
              "      <td>Other\\n</td>\n",
              "      <td>0</td>\n",
              "    </tr>\n",
              "    <tr>\n",
              "      <th>504</th>\n",
              "      <td>While the job was good, Ahmed's daily exposure...</td>\n",
              "      <td>Member-Collection(e2,e1)\\n</td>\n",
              "      <td>0</td>\n",
              "    </tr>\n",
              "    <tr>\n",
              "      <th>4779</th>\n",
              "      <td>Allegations were made about Galloway's persona...</td>\n",
              "      <td>Message-Topic(e1,e2)\\n</td>\n",
              "      <td>0</td>\n",
              "    </tr>\n",
              "    <tr>\n",
              "      <th>1176</th>\n",
              "      <td>The e-mail was sent from the private account o...</td>\n",
              "      <td>Entity-Origin(e1,e2)\\n</td>\n",
              "      <td>0</td>\n",
              "    </tr>\n",
              "  </tbody>\n",
              "</table>\n",
              "</div>"
            ],
            "text/plain": [
              "                                               Sentence  ... Label\n",
              "266   When you strike someone with a bottle full of ...  ...     0\n",
              "6651  Air pollution from coal fired sources is so se...  ...     1\n",
              "2867  The government's plans for the future of commu...  ...     0\n",
              "932   This is made possible by unscrewing the three ...  ...     0\n",
              "7061  In the poem, the author develops the metaphysi...  ...     0\n",
              "2180  The weapon was hidden in what appears to be a ...  ...     0\n",
              "6     The current view is that the chronic inflammat...  ...     1\n",
              "6417  The first British steam powered vibrator dates...  ...     0\n",
              "6321  Operation Homefront and partners delivered toy...  ...     0\n",
              "1711  We derive a pair of optimal weights on the dol...  ...     0\n",
              "6066    We placed the burlap into the bucket as lining.  ...     0\n",
              "4711  A trillion gallons of water have been poured i...  ...     0\n",
              "3041  It is a branch of philosophy dealing with the ...  ...     0\n",
              "2097  He released the brake cable by detaching the r...  ...     0\n",
              "5507  Crime fiction is the genre of fiction that dea...  ...     0\n",
              "2021  A pack of the most popular cigarettes in the S...  ...     0\n",
              "6644  An organization with the mission of allowing a...  ...     1\n",
              "7378  The findings clearly show a high level of sati...  ...     0\n",
              "1173  A state church is created by the state, as in ...  ...     0\n",
              "1759  A Boy Scout in North Carolina found a purse wi...  ...     0\n",
              "1516  Symptoms vary according to the degree of infla...  ...     1\n",
              "2344  In this constitution the people was the source...  ...     0\n",
              "1610  The reconstitution of boards of governors take...  ...     0\n",
              "1461  Teetotallers zip over the Causeway in the mids...  ...     0\n",
              "4410  In order to gather experimental data, research...  ...     0\n",
              "4479  Malaria is caused by infection with a parasite...  ...     1\n",
              "3404  In the healthy heart, the left ventricle perfo...  ...     0\n",
              "1790  The vagina was sutured behind the neourethra; ...  ...     0\n",
              "5948  This machine was in a suitcase that was the si...  ...     0\n",
              "5735              Ants are spreading into new habitats.  ...     0\n",
              "7263  Quality forged pinking scissors cut with excep...  ...     0\n",
              "7201  It is a family luxury villa with breeze-kissed...  ...     0\n",
              "835   A Channel 4 drama set in a psychiatric unit ha...  ...     0\n",
              "4938  The film details plastic's path over the last ...  ...     0\n",
              "6322  The term has been used by a number of publicat...  ...     0\n",
              "2188  The cold temperature waves are flowing into th...  ...     0\n",
              "6616  Cream of mushroom soup was first made availabl...  ...     0\n",
              "762   The two populations started from the same gene...  ...     0\n",
              "5868  I'm going with some girls to get a bunch of fl...  ...     0\n",
              "5116  There is an exhaust vent and a cable to start ...  ...     0\n",
              "5157  In the present study, we adapted a battery of ...  ...     0\n",
              "4847  First of all, it is a source of specialist cad...  ...     0\n",
              "5746  The immediate post-war years were a hive of id...  ...     0\n",
              "421   The supreme court has applied the protections ...  ...     0\n",
              "1366  Down the winding path which curved among the r...  ...     0\n",
              "2005  In the book, the main female character is a wo...  ...     0\n",
              "6741  The association keeps teachers informed about ...  ...     0\n",
              "504   While the job was good, Ahmed's daily exposure...  ...     0\n",
              "4779  Allegations were made about Galloway's persona...  ...     0\n",
              "1176  The e-mail was sent from the private account o...  ...     0\n",
              "\n",
              "[50 rows x 3 columns]"
            ]
          },
          "metadata": {
            "tags": []
          },
          "execution_count": 65
        }
      ]
    },
    {
      "cell_type": "code",
      "metadata": {
        "colab": {
          "base_uri": "https://localhost:8080/",
          "height": 1000
        },
        "id": "LqUnDganmo2N",
        "outputId": "017afb03-774a-49a1-9bc0-0e16da1d895e"
      },
      "source": [
        "df2.sample(50)"
      ],
      "execution_count": 66,
      "outputs": [
        {
          "output_type": "execute_result",
          "data": {
            "text/html": [
              "<div>\n",
              "<style scoped>\n",
              "    .dataframe tbody tr th:only-of-type {\n",
              "        vertical-align: middle;\n",
              "    }\n",
              "\n",
              "    .dataframe tbody tr th {\n",
              "        vertical-align: top;\n",
              "    }\n",
              "\n",
              "    .dataframe thead th {\n",
              "        text-align: right;\n",
              "    }\n",
              "</style>\n",
              "<table border=\"1\" class=\"dataframe\">\n",
              "  <thead>\n",
              "    <tr style=\"text-align: right;\">\n",
              "      <th></th>\n",
              "      <th>Sentence</th>\n",
              "      <th>Relation</th>\n",
              "      <th>Label</th>\n",
              "    </tr>\n",
              "  </thead>\n",
              "  <tbody>\n",
              "    <tr>\n",
              "      <th>202</th>\n",
              "      <td>Tou should use a screwdriver to tighten the bo...</td>\n",
              "      <td>WordNet(e1) = \"screwdriver%1:06:00::\", WordNet...</td>\n",
              "      <td>0</td>\n",
              "    </tr>\n",
              "    <tr>\n",
              "      <th>188</th>\n",
              "      <td>The event featured a demonstration of weaving ...</td>\n",
              "      <td>WordNet(e1) = \"loom%1:06:00::\", WordNet(e2) = ...</td>\n",
              "      <td>0</td>\n",
              "    </tr>\n",
              "    <tr>\n",
              "      <th>540</th>\n",
              "      <td>Located near the equator in South America, the...</td>\n",
              "      <td>WordNet(e1) = \"tree%1:20:00::\", WordNet(e2) = ...</td>\n",
              "      <td>0</td>\n",
              "    </tr>\n",
              "    <tr>\n",
              "      <th>351</th>\n",
              "      <td>Lowering your blood sugar is the key to managi...</td>\n",
              "      <td>WordNet(e1) = \"blood%1:08:00::\", WordNet(e2) =...</td>\n",
              "      <td>0</td>\n",
              "    </tr>\n",
              "    <tr>\n",
              "      <th>863</th>\n",
              "      <td>The process for obtaining a visa depends on wh...</td>\n",
              "      <td>WordNet(e1) = \"process%1:04:00::\", WordNet(e2)...</td>\n",
              "      <td>0</td>\n",
              "    </tr>\n",
              "    <tr>\n",
              "      <th>765</th>\n",
              "      <td>The design of the shape of the can ends moreov...</td>\n",
              "      <td>WordNet(e1) = \"deformation%1:11:01::\", WordNet...</td>\n",
              "      <td>1</td>\n",
              "    </tr>\n",
              "    <tr>\n",
              "      <th>815</th>\n",
              "      <td>Villagers live in constant terror of indiscrim...</td>\n",
              "      <td>WordNet(e1) = \"terror%1:12:00::\", WordNet(e2) ...</td>\n",
              "      <td>1</td>\n",
              "    </tr>\n",
              "    <tr>\n",
              "      <th>623</th>\n",
              "      <td>The kitchen contained one other interesting it...</td>\n",
              "      <td>WordNet(e1) = \"kitchen%1:06:00::\", WordNet(e2)...</td>\n",
              "      <td>0</td>\n",
              "    </tr>\n",
              "    <tr>\n",
              "      <th>767</th>\n",
              "      <td>Myles and Simpson also identify defensive beha...</td>\n",
              "      <td>WordNet(e1) = \"behaviour%1:07:00::\", WordNet(e...</td>\n",
              "      <td>1</td>\n",
              "    </tr>\n",
              "    <tr>\n",
              "      <th>430</th>\n",
              "      <td>The simulation study produces voluminous resul...</td>\n",
              "      <td>WordNet(e1) = \"study%1:04:00::\", WordNet(e2) =...</td>\n",
              "      <td>0</td>\n",
              "    </tr>\n",
              "    <tr>\n",
              "      <th>354</th>\n",
              "      <td>What did the residents and scientists learn fr...</td>\n",
              "      <td>WordNet(e1) = \"scientist%1:18:00::\", WordNet(e...</td>\n",
              "      <td>0</td>\n",
              "    </tr>\n",
              "    <tr>\n",
              "      <th>604</th>\n",
              "      <td>I am installing lights under the cabinets in m...</td>\n",
              "      <td>WordNet(e1) = \"cabinet%1:06:02::\", WordNet(e2)...</td>\n",
              "      <td>0</td>\n",
              "    </tr>\n",
              "    <tr>\n",
              "      <th>752</th>\n",
              "      <td>Delay and procrastination set you up for frust...</td>\n",
              "      <td>WordNet(e1) = \"frustration%1:12:00::\", WordNet...</td>\n",
              "      <td>1</td>\n",
              "    </tr>\n",
              "    <tr>\n",
              "      <th>840</th>\n",
              "      <td>We provide test preparers with a platform for ...</td>\n",
              "      <td>WordNet(e1) = \"platform%1:06:03::\", WordNet(e2...</td>\n",
              "      <td>0</td>\n",
              "    </tr>\n",
              "    <tr>\n",
              "      <th>172</th>\n",
              "      <td>When the taxi driver stopped his car and got o...</td>\n",
              "      <td>WordNet(e1) = \"driver%1:18:00::\", WordNet(e2) ...</td>\n",
              "      <td>0</td>\n",
              "    </tr>\n",
              "    <tr>\n",
              "      <th>375</th>\n",
              "      <td>Chicken bouillon can be obtained in three diff...</td>\n",
              "      <td>WordNet(e1) = \"chicken%1:13:00::\", WordNet(e2)...</td>\n",
              "      <td>0</td>\n",
              "    </tr>\n",
              "    <tr>\n",
              "      <th>203</th>\n",
              "      <td>The Norwalk juicer grinds and presses any frui...</td>\n",
              "      <td>WordNet(e1) = \"juicer%1:06:00::\", WordNet(e2) ...</td>\n",
              "      <td>0</td>\n",
              "    </tr>\n",
              "    <tr>\n",
              "      <th>768</th>\n",
              "      <td>In the most common form of such an attack, cal...</td>\n",
              "      <td>WordNet(e1) = \"blockage%1:26:00::\", WordNet(e2...</td>\n",
              "      <td>1</td>\n",
              "    </tr>\n",
              "    <tr>\n",
              "      <th>298</th>\n",
              "      <td>The guarantees so painfully obtained by formal...</td>\n",
              "      <td>WordNet(e1) = \"compiler%1:10:00::\", WordNet(e2...</td>\n",
              "      <td>0</td>\n",
              "    </tr>\n",
              "    <tr>\n",
              "      <th>406</th>\n",
              "      <td>This surgical operation isolates most of the r...</td>\n",
              "      <td>WordNet(e1) = \"right_hemisphere%1:08:00::\", Wo...</td>\n",
              "      <td>0</td>\n",
              "    </tr>\n",
              "    <tr>\n",
              "      <th>698</th>\n",
              "      <td>Some inactivated influenza vaccine contains th...</td>\n",
              "      <td>WordNet(e1) = \"preservative%1:27:00::\", WordNe...</td>\n",
              "      <td>0</td>\n",
              "    </tr>\n",
              "    <tr>\n",
              "      <th>808</th>\n",
              "      <td>Scientific progress comes from breakthroughs a...</td>\n",
              "      <td>WordNet(e1) = \"progress%1:04:01::\", WordNet(e2...</td>\n",
              "      <td>1</td>\n",
              "    </tr>\n",
              "    <tr>\n",
              "      <th>709</th>\n",
              "      <td>One newly formed Iraqi battalion is on duty, w...</td>\n",
              "      <td>WordNet(e1) = \"activation%1:04:00::\", WordNet(...</td>\n",
              "      <td>1</td>\n",
              "    </tr>\n",
              "    <tr>\n",
              "      <th>106</th>\n",
              "      <td>Original works of authorship were fixed in a t...</td>\n",
              "      <td>WordNet(e1) = \"works%1:06:00::\", WordNet(e2) =...</td>\n",
              "      <td>0</td>\n",
              "    </tr>\n",
              "    <tr>\n",
              "      <th>508</th>\n",
              "      <td>Agarwood, the world's most valuable incense, i...</td>\n",
              "      <td>WordNet(e1) = \"?\", WordNet(e2) = \"tree%1:20:00...</td>\n",
              "      <td>0</td>\n",
              "    </tr>\n",
              "    <tr>\n",
              "      <th>175</th>\n",
              "      <td>The actor played a psychopathic preacher with ...</td>\n",
              "      <td>WordNet(e1) = \"actor%1:18:00::\", WordNet(e2) =...</td>\n",
              "      <td>0</td>\n",
              "    </tr>\n",
              "    <tr>\n",
              "      <th>806</th>\n",
              "      <td>This program will be an effective step to miti...</td>\n",
              "      <td>WordNet(e1) = \"damage%1:11:00::\", WordNet(e2) ...</td>\n",
              "      <td>1</td>\n",
              "    </tr>\n",
              "    <tr>\n",
              "      <th>969</th>\n",
              "      <td>This information is used for tracking down err...</td>\n",
              "      <td>WordNet(e1) = \"information%1:14:00::\", WordNet...</td>\n",
              "      <td>0</td>\n",
              "    </tr>\n",
              "    <tr>\n",
              "      <th>879</th>\n",
              "      <td>I mentioned some time ago that our tendency is...</td>\n",
              "      <td>WordNet(e1) = \"tendency%1:09:00::\", WordNet(e2...</td>\n",
              "      <td>0</td>\n",
              "    </tr>\n",
              "    <tr>\n",
              "      <th>233</th>\n",
              "      <td>Many games can be played with Go equipment.</td>\n",
              "      <td>WordNet(e1) = \"game%1:04:00::\", WordNet(e2) = ...</td>\n",
              "      <td>0</td>\n",
              "    </tr>\n",
              "    <tr>\n",
              "      <th>85</th>\n",
              "      <td>I was only thirteen, and they were going to ha...</td>\n",
              "      <td>WordNet(e1) = \"window%1:06:05::\", WordNet(e2) ...</td>\n",
              "      <td>0</td>\n",
              "    </tr>\n",
              "    <tr>\n",
              "      <th>127</th>\n",
              "      <td>The Group's influence was so widespread by the...</td>\n",
              "      <td>WordNet(e1) = \"group%1:03:00::\", WordNet(e2) =...</td>\n",
              "      <td>0</td>\n",
              "    </tr>\n",
              "    <tr>\n",
              "      <th>548</th>\n",
              "      <td>Normally, the bone marrow produces stem cells ...</td>\n",
              "      <td>WordNet(e1) = \"bone_marrow%1:08:00::\", WordNet...</td>\n",
              "      <td>0</td>\n",
              "    </tr>\n",
              "    <tr>\n",
              "      <th>358</th>\n",
              "      <td>Different from the curry source, chicken bouil...</td>\n",
              "      <td>WordNet(e1) = \"bouillon%1:13:00::\", WordNet(e2...</td>\n",
              "      <td>0</td>\n",
              "    </tr>\n",
              "    <tr>\n",
              "      <th>214</th>\n",
              "      <td>We can make rolling easier and more effective ...</td>\n",
              "      <td>WordNet(e1) = \"rolling%1:04:00::\", WordNet(e2)...</td>\n",
              "      <td>0</td>\n",
              "    </tr>\n",
              "    <tr>\n",
              "      <th>280</th>\n",
              "      <td>The physician bill is from the physician who p...</td>\n",
              "      <td>WordNet(e1) = \"bill%1:10:01::\", WordNet(e2) = ...</td>\n",
              "      <td>0</td>\n",
              "    </tr>\n",
              "    <tr>\n",
              "      <th>10</th>\n",
              "      <td>And of course the original development that en...</td>\n",
              "      <td>WordNet(e1) = \"split%1:04:00::\", WordNet(e2) =...</td>\n",
              "      <td>0</td>\n",
              "    </tr>\n",
              "    <tr>\n",
              "      <th>934</th>\n",
              "      <td>The purpose of this Guide is to provide you wi...</td>\n",
              "      <td>WordNet(e1) = \"purpose%1:09:00::\", WordNet(e2)...</td>\n",
              "      <td>0</td>\n",
              "    </tr>\n",
              "    <tr>\n",
              "      <th>383</th>\n",
              "      <td>The remarkably comprehensive 32-page 2004 Memo...</td>\n",
              "      <td>WordNet(e1) = \"candidate%1:18:01::\", WordNet(e...</td>\n",
              "      <td>0</td>\n",
              "    </tr>\n",
              "    <tr>\n",
              "      <th>350</th>\n",
              "      <td>So you are not only sharing the speaker inform...</td>\n",
              "      <td>WordNet(e1) = \"audio%1:10:00::\", WordNet(e2) =...</td>\n",
              "      <td>0</td>\n",
              "    </tr>\n",
              "    <tr>\n",
              "      <th>77</th>\n",
              "      <td>A light cheese full of rustic flavors, it wake...</td>\n",
              "      <td>WordNet(e1) = \"cheese%1:13:00::\", WordNet(e2) ...</td>\n",
              "      <td>0</td>\n",
              "    </tr>\n",
              "    <tr>\n",
              "      <th>333</th>\n",
              "      <td>They understand the stakes from a personal per...</td>\n",
              "      <td>WordNet(e1) = \"stakes%1:21:00::\", WordNet(e2) ...</td>\n",
              "      <td>0</td>\n",
              "    </tr>\n",
              "    <tr>\n",
              "      <th>409</th>\n",
              "      <td>The homes are from a simpler time, when closet...</td>\n",
              "      <td>WordNet(e1) = \"home%1:06:00::\", WordNet(e2) = ...</td>\n",
              "      <td>0</td>\n",
              "    </tr>\n",
              "    <tr>\n",
              "      <th>408</th>\n",
              "      <td>The rest of the points are awarded proportiona...</td>\n",
              "      <td>WordNet(e1) = \"ball%1:06:01::\", WordNet(e2) = ...</td>\n",
              "      <td>0</td>\n",
              "    </tr>\n",
              "    <tr>\n",
              "      <th>761</th>\n",
              "      <td>If governments were once content to passively ...</td>\n",
              "      <td>WordNet(e1) = \"benefit%1:07:00::\", WordNet(e2)...</td>\n",
              "      <td>1</td>\n",
              "    </tr>\n",
              "    <tr>\n",
              "      <th>389</th>\n",
              "      <td>The ball is retrieved from the hedge.</td>\n",
              "      <td>WordNet(e1) = \"ball%1:06:01::\", WordNet(e2) = ...</td>\n",
              "      <td>0</td>\n",
              "    </tr>\n",
              "    <tr>\n",
              "      <th>716</th>\n",
              "      <td>The age of first marriage does not predict hap...</td>\n",
              "      <td>WordNet(e1) = \"happiness%1:26:00::\", WordNet(e...</td>\n",
              "      <td>1</td>\n",
              "    </tr>\n",
              "    <tr>\n",
              "      <th>524</th>\n",
              "      <td>PHY 319 is presently taught in three 50-minute...</td>\n",
              "      <td>WordNet(e1) = \"instructor%1:18:00::\", WordNet(...</td>\n",
              "      <td>0</td>\n",
              "    </tr>\n",
              "    <tr>\n",
              "      <th>733</th>\n",
              "      <td>In summer 2000, an Adventist church in Polotsk...</td>\n",
              "      <td>WordNet(e1) = \"fire%1:11:00::\", WordNet(e2) = ...</td>\n",
              "      <td>1</td>\n",
              "    </tr>\n",
              "    <tr>\n",
              "      <th>234</th>\n",
              "      <td>Sitting by the beach, Yuki mended the net whil...</td>\n",
              "      <td>WordNet(e1) = \"net%1:06:02::\", WordNet(e2) = \"...</td>\n",
              "      <td>0</td>\n",
              "    </tr>\n",
              "  </tbody>\n",
              "</table>\n",
              "</div>"
            ],
            "text/plain": [
              "                                              Sentence  ... Label\n",
              "202  Tou should use a screwdriver to tighten the bo...  ...     0\n",
              "188  The event featured a demonstration of weaving ...  ...     0\n",
              "540  Located near the equator in South America, the...  ...     0\n",
              "351  Lowering your blood sugar is the key to managi...  ...     0\n",
              "863  The process for obtaining a visa depends on wh...  ...     0\n",
              "765  The design of the shape of the can ends moreov...  ...     1\n",
              "815  Villagers live in constant terror of indiscrim...  ...     1\n",
              "623  The kitchen contained one other interesting it...  ...     0\n",
              "767  Myles and Simpson also identify defensive beha...  ...     1\n",
              "430  The simulation study produces voluminous resul...  ...     0\n",
              "354  What did the residents and scientists learn fr...  ...     0\n",
              "604  I am installing lights under the cabinets in m...  ...     0\n",
              "752  Delay and procrastination set you up for frust...  ...     1\n",
              "840  We provide test preparers with a platform for ...  ...     0\n",
              "172  When the taxi driver stopped his car and got o...  ...     0\n",
              "375  Chicken bouillon can be obtained in three diff...  ...     0\n",
              "203  The Norwalk juicer grinds and presses any frui...  ...     0\n",
              "768  In the most common form of such an attack, cal...  ...     1\n",
              "298  The guarantees so painfully obtained by formal...  ...     0\n",
              "406  This surgical operation isolates most of the r...  ...     0\n",
              "698  Some inactivated influenza vaccine contains th...  ...     0\n",
              "808  Scientific progress comes from breakthroughs a...  ...     1\n",
              "709  One newly formed Iraqi battalion is on duty, w...  ...     1\n",
              "106  Original works of authorship were fixed in a t...  ...     0\n",
              "508  Agarwood, the world's most valuable incense, i...  ...     0\n",
              "175  The actor played a psychopathic preacher with ...  ...     0\n",
              "806  This program will be an effective step to miti...  ...     1\n",
              "969  This information is used for tracking down err...  ...     0\n",
              "879  I mentioned some time ago that our tendency is...  ...     0\n",
              "233        Many games can be played with Go equipment.  ...     0\n",
              "85   I was only thirteen, and they were going to ha...  ...     0\n",
              "127  The Group's influence was so widespread by the...  ...     0\n",
              "548  Normally, the bone marrow produces stem cells ...  ...     0\n",
              "358  Different from the curry source, chicken bouil...  ...     0\n",
              "214  We can make rolling easier and more effective ...  ...     0\n",
              "280  The physician bill is from the physician who p...  ...     0\n",
              "10   And of course the original development that en...  ...     0\n",
              "934  The purpose of this Guide is to provide you wi...  ...     0\n",
              "383  The remarkably comprehensive 32-page 2004 Memo...  ...     0\n",
              "350  So you are not only sharing the speaker inform...  ...     0\n",
              "77   A light cheese full of rustic flavors, it wake...  ...     0\n",
              "333  They understand the stakes from a personal per...  ...     0\n",
              "409  The homes are from a simpler time, when closet...  ...     0\n",
              "408  The rest of the points are awarded proportiona...  ...     0\n",
              "761  If governments were once content to passively ...  ...     1\n",
              "389              The ball is retrieved from the hedge.  ...     0\n",
              "716  The age of first marriage does not predict hap...  ...     1\n",
              "524  PHY 319 is presently taught in three 50-minute...  ...     0\n",
              "733  In summer 2000, an Adventist church in Polotsk...  ...     1\n",
              "234  Sitting by the beach, Yuki mended the net whil...  ...     0\n",
              "\n",
              "[50 rows x 3 columns]"
            ]
          },
          "metadata": {
            "tags": []
          },
          "execution_count": 66
        }
      ]
    },
    {
      "cell_type": "code",
      "metadata": {
        "colab": {
          "base_uri": "https://localhost:8080/"
        },
        "id": "RXBiGt_dmtf-",
        "outputId": "ce69c237-08fc-4b7c-b768-80f3b6435e57"
      },
      "source": [
        "import tensorflow as tf\r\n",
        "\r\n",
        "# Get the GPU device name.\r\n",
        "device_name = tf.test.gpu_device_name()\r\n",
        "\r\n",
        "# The device name should look like the following:\r\n",
        "if device_name == '/device:GPU:0':\r\n",
        "    print('Found GPU at: {}'.format(device_name))\r\n",
        "else:\r\n",
        "    raise SystemError('GPU device not found')"
      ],
      "execution_count": 3,
      "outputs": [
        {
          "output_type": "stream",
          "text": [
            "Found GPU at: /device:GPU:0\n"
          ],
          "name": "stdout"
        }
      ]
    },
    {
      "cell_type": "code",
      "metadata": {
        "colab": {
          "base_uri": "https://localhost:8080/"
        },
        "id": "rQXDc1Xvn7QA",
        "outputId": "2473adf6-e682-4ae0-d253-83d13b5943a6"
      },
      "source": [
        "import torch\r\n",
        "\r\n",
        "# If there's a GPU available...\r\n",
        "if torch.cuda.is_available():    \r\n",
        "\r\n",
        "    # Tell PyTorch to use the GPU.    \r\n",
        "    device = torch.device(\"cuda\")\r\n",
        "\r\n",
        "    print('There are %d GPU(s) available.' % torch.cuda.device_count())\r\n",
        "\r\n",
        "    print('We will use the GPU:', torch.cuda.get_device_name(0))\r\n",
        "\r\n",
        "# If not...\r\n",
        "else:\r\n",
        "    print('No GPU available, using the CPU instead.')\r\n",
        "    device = torch.device(\"cpu\")"
      ],
      "execution_count": 4,
      "outputs": [
        {
          "output_type": "stream",
          "text": [
            "There are 1 GPU(s) available.\n",
            "We will use the GPU: Tesla T4\n"
          ],
          "name": "stdout"
        }
      ]
    },
    {
      "cell_type": "code",
      "metadata": {
        "colab": {
          "base_uri": "https://localhost:8080/"
        },
        "id": "L3taU9EYoAWF",
        "outputId": "032fc5fe-469f-46cf-b011-77b3afeabeaa"
      },
      "source": [
        "!pip install transformers==3"
      ],
      "execution_count": 5,
      "outputs": [
        {
          "output_type": "stream",
          "text": [
            "Collecting transformers==3\n",
            "\u001b[?25l  Downloading https://files.pythonhosted.org/packages/9c/35/1c3f6e62d81f5f0daff1384e6d5e6c5758682a8357ebc765ece2b9def62b/transformers-3.0.0-py3-none-any.whl (754kB)\n",
            "\u001b[K     |████████████████████████████████| 757kB 8.7MB/s \n",
            "\u001b[?25hCollecting sentencepiece\n",
            "\u001b[?25l  Downloading https://files.pythonhosted.org/packages/f5/99/e0808cb947ba10f575839c43e8fafc9cc44e4a7a2c8f79c60db48220a577/sentencepiece-0.1.95-cp37-cp37m-manylinux2014_x86_64.whl (1.2MB)\n",
            "\u001b[K     |████████████████████████████████| 1.2MB 19.4MB/s \n",
            "\u001b[?25hRequirement already satisfied: packaging in /usr/local/lib/python3.7/dist-packages (from transformers==3) (20.9)\n",
            "Requirement already satisfied: requests in /usr/local/lib/python3.7/dist-packages (from transformers==3) (2.23.0)\n",
            "Collecting tokenizers==0.8.0-rc4\n",
            "\u001b[?25l  Downloading https://files.pythonhosted.org/packages/f7/82/0e82a95bd9db2b32569500cc1bb47aa7c4e0f57aa5e35cceba414096917b/tokenizers-0.8.0rc4-cp37-cp37m-manylinux1_x86_64.whl (3.0MB)\n",
            "\u001b[K     |████████████████████████████████| 3.0MB 50.3MB/s \n",
            "\u001b[?25hRequirement already satisfied: filelock in /usr/local/lib/python3.7/dist-packages (from transformers==3) (3.0.12)\n",
            "Requirement already satisfied: tqdm>=4.27 in /usr/local/lib/python3.7/dist-packages (from transformers==3) (4.41.1)\n",
            "Collecting sacremoses\n",
            "\u001b[?25l  Downloading https://files.pythonhosted.org/packages/7d/34/09d19aff26edcc8eb2a01bed8e98f13a1537005d31e95233fd48216eed10/sacremoses-0.0.43.tar.gz (883kB)\n",
            "\u001b[K     |████████████████████████████████| 890kB 48.7MB/s \n",
            "\u001b[?25hRequirement already satisfied: regex!=2019.12.17 in /usr/local/lib/python3.7/dist-packages (from transformers==3) (2019.12.20)\n",
            "Requirement already satisfied: numpy in /usr/local/lib/python3.7/dist-packages (from transformers==3) (1.19.5)\n",
            "Requirement already satisfied: pyparsing>=2.0.2 in /usr/local/lib/python3.7/dist-packages (from packaging->transformers==3) (2.4.7)\n",
            "Requirement already satisfied: chardet<4,>=3.0.2 in /usr/local/lib/python3.7/dist-packages (from requests->transformers==3) (3.0.4)\n",
            "Requirement already satisfied: urllib3!=1.25.0,!=1.25.1,<1.26,>=1.21.1 in /usr/local/lib/python3.7/dist-packages (from requests->transformers==3) (1.24.3)\n",
            "Requirement already satisfied: certifi>=2017.4.17 in /usr/local/lib/python3.7/dist-packages (from requests->transformers==3) (2020.12.5)\n",
            "Requirement already satisfied: idna<3,>=2.5 in /usr/local/lib/python3.7/dist-packages (from requests->transformers==3) (2.10)\n",
            "Requirement already satisfied: six in /usr/local/lib/python3.7/dist-packages (from sacremoses->transformers==3) (1.15.0)\n",
            "Requirement already satisfied: click in /usr/local/lib/python3.7/dist-packages (from sacremoses->transformers==3) (7.1.2)\n",
            "Requirement already satisfied: joblib in /usr/local/lib/python3.7/dist-packages (from sacremoses->transformers==3) (1.0.1)\n",
            "Building wheels for collected packages: sacremoses\n",
            "  Building wheel for sacremoses (setup.py) ... \u001b[?25l\u001b[?25hdone\n",
            "  Created wheel for sacremoses: filename=sacremoses-0.0.43-cp37-none-any.whl size=893262 sha256=b2f627ef9c454c87192fefad0b0a0b8efeb649b8b5400ca85beb37fb7fe16bd3\n",
            "  Stored in directory: /root/.cache/pip/wheels/29/3c/fd/7ce5c3f0666dab31a50123635e6fb5e19ceb42ce38d4e58f45\n",
            "Successfully built sacremoses\n",
            "Installing collected packages: sentencepiece, tokenizers, sacremoses, transformers\n",
            "Successfully installed sacremoses-0.0.43 sentencepiece-0.1.95 tokenizers-0.8.0rc4 transformers-3.0.0\n"
          ],
          "name": "stdout"
        }
      ]
    },
    {
      "cell_type": "code",
      "metadata": {
        "id": "JmOx2fvkoEot"
      },
      "source": [
        "df_train=df.append(df2, ignore_index=True)"
      ],
      "execution_count": 67,
      "outputs": []
    },
    {
      "cell_type": "code",
      "metadata": {
        "colab": {
          "base_uri": "https://localhost:8080/"
        },
        "id": "l8B9dol6ofBV",
        "outputId": "b9c0996d-4add-4de3-ba94-2606249d4b70"
      },
      "source": [
        "len(df)"
      ],
      "execution_count": 68,
      "outputs": [
        {
          "output_type": "execute_result",
          "data": {
            "text/plain": [
              "8000"
            ]
          },
          "metadata": {
            "tags": []
          },
          "execution_count": 68
        }
      ]
    },
    {
      "cell_type": "code",
      "metadata": {
        "colab": {
          "base_uri": "https://localhost:8080/"
        },
        "id": "6hSoyB3dolB8",
        "outputId": "0cf24c57-c4ce-476a-e51d-156c9efb102d"
      },
      "source": [
        "len(df2)"
      ],
      "execution_count": 69,
      "outputs": [
        {
          "output_type": "execute_result",
          "data": {
            "text/plain": [
              "980"
            ]
          },
          "metadata": {
            "tags": []
          },
          "execution_count": 69
        }
      ]
    },
    {
      "cell_type": "code",
      "metadata": {
        "colab": {
          "base_uri": "https://localhost:8080/"
        },
        "id": "IYRI0-UKuWT7",
        "outputId": "7532d442-0706-4931-97f4-b6cbddd19c63"
      },
      "source": [
        "len(df_train)"
      ],
      "execution_count": 70,
      "outputs": [
        {
          "output_type": "execute_result",
          "data": {
            "text/plain": [
              "8980"
            ]
          },
          "metadata": {
            "tags": []
          },
          "execution_count": 70
        }
      ]
    },
    {
      "cell_type": "code",
      "metadata": {
        "colab": {
          "base_uri": "https://localhost:8080/",
          "height": 947
        },
        "id": "TLGvtLu7ozR0",
        "outputId": "abf89941-fafe-4995-f284-858ae3b84bee"
      },
      "source": [
        "df_train.sample(30)"
      ],
      "execution_count": 34,
      "outputs": [
        {
          "output_type": "execute_result",
          "data": {
            "text/html": [
              "<div>\n",
              "<style scoped>\n",
              "    .dataframe tbody tr th:only-of-type {\n",
              "        vertical-align: middle;\n",
              "    }\n",
              "\n",
              "    .dataframe tbody tr th {\n",
              "        vertical-align: top;\n",
              "    }\n",
              "\n",
              "    .dataframe thead th {\n",
              "        text-align: right;\n",
              "    }\n",
              "</style>\n",
              "<table border=\"1\" class=\"dataframe\">\n",
              "  <thead>\n",
              "    <tr style=\"text-align: right;\">\n",
              "      <th></th>\n",
              "      <th>Sentence</th>\n",
              "      <th>Relation</th>\n",
              "      <th>Label</th>\n",
              "    </tr>\n",
              "  </thead>\n",
              "  <tbody>\n",
              "    <tr>\n",
              "      <th>8242</th>\n",
              "      <td>The surgeon cuts a small hole in the skull and...</td>\n",
              "      <td>WordNet(e1) = \"surgeon%1:18:00::\", WordNet(e2)...</td>\n",
              "      <td>0</td>\n",
              "    </tr>\n",
              "    <tr>\n",
              "      <th>6525</th>\n",
              "      <td>I have already fetched the mail into my accoun...</td>\n",
              "      <td>Entity-Destination(e1,e2)\\n</td>\n",
              "      <td>0</td>\n",
              "    </tr>\n",
              "    <tr>\n",
              "      <th>2841</th>\n",
              "      <td>The toy was inside a box and had been left on ...</td>\n",
              "      <td>Content-Container(e1,e2)\\n</td>\n",
              "      <td>0</td>\n",
              "    </tr>\n",
              "    <tr>\n",
              "      <th>7885</th>\n",
              "      <td>The total contents of the purse included a cel...</td>\n",
              "      <td>Content-Container(e2,e1)\\n</td>\n",
              "      <td>0</td>\n",
              "    </tr>\n",
              "    <tr>\n",
              "      <th>7290</th>\n",
              "      <td>The architect carefully designed the 15 rowhou...</td>\n",
              "      <td>Other\\n</td>\n",
              "      <td>0</td>\n",
              "    </tr>\n",
              "    <tr>\n",
              "      <th>7955</th>\n",
              "      <td>The box holds all our empty promises to give b...</td>\n",
              "      <td>Content-Container(e2,e1)\\n</td>\n",
              "      <td>0</td>\n",
              "    </tr>\n",
              "    <tr>\n",
              "      <th>8757</th>\n",
              "      <td>The spiciness comes from small capsaicin gland...</td>\n",
              "      <td>WordNet(e1) = \"spiciness%1:07:00::\", WordNet(e...</td>\n",
              "      <td>1</td>\n",
              "    </tr>\n",
              "    <tr>\n",
              "      <th>4505</th>\n",
              "      <td>Two years passed before I saw the ibex again, ...</td>\n",
              "      <td>Other\\n</td>\n",
              "      <td>0</td>\n",
              "    </tr>\n",
              "    <tr>\n",
              "      <th>324</th>\n",
              "      <td>The executive board of this company reported o...</td>\n",
              "      <td>Component-Whole(e1,e2)\\n</td>\n",
              "      <td>0</td>\n",
              "    </tr>\n",
              "    <tr>\n",
              "      <th>2781</th>\n",
              "      <td>The prisoner has been released into her new fa...</td>\n",
              "      <td>Entity-Destination(e1,e2)\\n</td>\n",
              "      <td>0</td>\n",
              "    </tr>\n",
              "    <tr>\n",
              "      <th>8358</th>\n",
              "      <td>Different from the curry source, chicken bouil...</td>\n",
              "      <td>WordNet(e1) = \"bouillon%1:13:00::\", WordNet(e2...</td>\n",
              "      <td>0</td>\n",
              "    </tr>\n",
              "    <tr>\n",
              "      <th>8674</th>\n",
              "      <td>Suppose you were given a bottle that contains ...</td>\n",
              "      <td>WordNet(e1) = \"bottle%1:06:00::\", WordNet(e2) ...</td>\n",
              "      <td>0</td>\n",
              "    </tr>\n",
              "    <tr>\n",
              "      <th>4466</th>\n",
              "      <td>For example, measles and chickenpox cause rash...</td>\n",
              "      <td>Cause-Effect(e1,e2)\\n</td>\n",
              "      <td>1</td>\n",
              "    </tr>\n",
              "    <tr>\n",
              "      <th>4376</th>\n",
              "      <td>There are two important personalities among th...</td>\n",
              "      <td>Member-Collection(e2,e1)\\n</td>\n",
              "      <td>0</td>\n",
              "    </tr>\n",
              "    <tr>\n",
              "      <th>4598</th>\n",
              "      <td>The answer to the inquiry was solicited from h...</td>\n",
              "      <td>Entity-Origin(e1,e2)\\n</td>\n",
              "      <td>0</td>\n",
              "    </tr>\n",
              "    <tr>\n",
              "      <th>640</th>\n",
              "      <td>A person regains the movement roughly equal to...</td>\n",
              "      <td>Instrument-Agency(e2,e1)\\n</td>\n",
              "      <td>0</td>\n",
              "    </tr>\n",
              "    <tr>\n",
              "      <th>8472</th>\n",
              "      <td>To better follow the quality, the company manu...</td>\n",
              "      <td>WordNet(e1) = \"company%1:14:01::\", WordNet(e2)...</td>\n",
              "      <td>0</td>\n",
              "    </tr>\n",
              "    <tr>\n",
              "      <th>2688</th>\n",
              "      <td>Teacher Man is a 2005 memoir written by Frank ...</td>\n",
              "      <td>Message-Topic(e1,e2)\\n</td>\n",
              "      <td>0</td>\n",
              "    </tr>\n",
              "    <tr>\n",
              "      <th>7730</th>\n",
              "      <td>The morning session contains a tutorial that a...</td>\n",
              "      <td>Component-Whole(e2,e1)\\n</td>\n",
              "      <td>0</td>\n",
              "    </tr>\n",
              "    <tr>\n",
              "      <th>2096</th>\n",
              "      <td>A stereo buss outputs the stereo buss signal; ...</td>\n",
              "      <td>Cause-Effect(e1,e2)\\n</td>\n",
              "      <td>1</td>\n",
              "    </tr>\n",
              "    <tr>\n",
              "      <th>160</th>\n",
              "      <td>I have recently developed creases in my ear lo...</td>\n",
              "      <td>Component-Whole(e2,e1)\\n</td>\n",
              "      <td>0</td>\n",
              "    </tr>\n",
              "    <tr>\n",
              "      <th>8874</th>\n",
              "      <td>In most part, it was another a plea for the st...</td>\n",
              "      <td>WordNet(e1) = \"plea%1:10:00::\", WordNet(e2) = ...</td>\n",
              "      <td>0</td>\n",
              "    </tr>\n",
              "    <tr>\n",
              "      <th>8605</th>\n",
              "      <td>When he was back he noticed that he had locked...</td>\n",
              "      <td>WordNet(e1) = \"key%1:06:00::\", WordNet(e2) = \"...</td>\n",
              "      <td>0</td>\n",
              "    </tr>\n",
              "    <tr>\n",
              "      <th>1441</th>\n",
              "      <td>Heartwater disease was imported into the major...</td>\n",
              "      <td>Entity-Destination(e1,e2)\\n</td>\n",
              "      <td>0</td>\n",
              "    </tr>\n",
              "    <tr>\n",
              "      <th>4317</th>\n",
              "      <td>Hardcore country cats are happy to live in the...</td>\n",
              "      <td>Other\\n</td>\n",
              "      <td>0</td>\n",
              "    </tr>\n",
              "    <tr>\n",
              "      <th>1711</th>\n",
              "      <td>We derive a pair of optimal weights on the dol...</td>\n",
              "      <td>Other\\n</td>\n",
              "      <td>0</td>\n",
              "    </tr>\n",
              "    <tr>\n",
              "      <th>8417</th>\n",
              "      <td>The dose makes the poison.</td>\n",
              "      <td>WordNet(e1) = \"dose%1:06:00::\", WordNet(e2) = ...</td>\n",
              "      <td>0</td>\n",
              "    </tr>\n",
              "    <tr>\n",
              "      <th>6977</th>\n",
              "      <td>The cool fog of the summer morning had inundat...</td>\n",
              "      <td>Cause-Effect(e1,e2)\\n</td>\n",
              "      <td>1</td>\n",
              "    </tr>\n",
              "    <tr>\n",
              "      <th>8513</th>\n",
              "      <td>The tenant has farmed for this owner for sever...</td>\n",
              "      <td>WordNet(e1) = \"tenant%1:18:00::\", WordNet(e2) ...</td>\n",
              "      <td>0</td>\n",
              "    </tr>\n",
              "    <tr>\n",
              "      <th>4843</th>\n",
              "      <td>Salva Kiir gave a speech criticising the north...</td>\n",
              "      <td>Message-Topic(e1,e2)\\n</td>\n",
              "      <td>0</td>\n",
              "    </tr>\n",
              "  </tbody>\n",
              "</table>\n",
              "</div>"
            ],
            "text/plain": [
              "                                               Sentence  ... Label\n",
              "8242  The surgeon cuts a small hole in the skull and...  ...     0\n",
              "6525  I have already fetched the mail into my accoun...  ...     0\n",
              "2841  The toy was inside a box and had been left on ...  ...     0\n",
              "7885  The total contents of the purse included a cel...  ...     0\n",
              "7290  The architect carefully designed the 15 rowhou...  ...     0\n",
              "7955  The box holds all our empty promises to give b...  ...     0\n",
              "8757  The spiciness comes from small capsaicin gland...  ...     1\n",
              "4505  Two years passed before I saw the ibex again, ...  ...     0\n",
              "324   The executive board of this company reported o...  ...     0\n",
              "2781  The prisoner has been released into her new fa...  ...     0\n",
              "8358  Different from the curry source, chicken bouil...  ...     0\n",
              "8674  Suppose you were given a bottle that contains ...  ...     0\n",
              "4466  For example, measles and chickenpox cause rash...  ...     1\n",
              "4376  There are two important personalities among th...  ...     0\n",
              "4598  The answer to the inquiry was solicited from h...  ...     0\n",
              "640   A person regains the movement roughly equal to...  ...     0\n",
              "8472  To better follow the quality, the company manu...  ...     0\n",
              "2688  Teacher Man is a 2005 memoir written by Frank ...  ...     0\n",
              "7730  The morning session contains a tutorial that a...  ...     0\n",
              "2096  A stereo buss outputs the stereo buss signal; ...  ...     1\n",
              "160   I have recently developed creases in my ear lo...  ...     0\n",
              "8874  In most part, it was another a plea for the st...  ...     0\n",
              "8605  When he was back he noticed that he had locked...  ...     0\n",
              "1441  Heartwater disease was imported into the major...  ...     0\n",
              "4317  Hardcore country cats are happy to live in the...  ...     0\n",
              "1711  We derive a pair of optimal weights on the dol...  ...     0\n",
              "8417                         The dose makes the poison.  ...     0\n",
              "6977  The cool fog of the summer morning had inundat...  ...     1\n",
              "8513  The tenant has farmed for this owner for sever...  ...     0\n",
              "4843  Salva Kiir gave a speech criticising the north...  ...     0\n",
              "\n",
              "[30 rows x 3 columns]"
            ]
          },
          "metadata": {
            "tags": []
          },
          "execution_count": 34
        }
      ]
    },
    {
      "cell_type": "code",
      "metadata": {
        "id": "6oxDNxBzvfbA"
      },
      "source": [
        "df_train = df_train[df_train['Sentence'].notna()]"
      ],
      "execution_count": 71,
      "outputs": []
    },
    {
      "cell_type": "code",
      "metadata": {
        "colab": {
          "base_uri": "https://localhost:8080/"
        },
        "id": "pDUKlA-KpNM0",
        "outputId": "76954c70-5f15-41a6-bdbb-7d41f9a11227"
      },
      "source": [
        "count = 0\r\n",
        "for x in range(0,len(df_train)):\r\n",
        "  if df_train.iloc[x]['Label']==1:\r\n",
        "    count+=1\r\n",
        "\r\n",
        "print(count)"
      ],
      "execution_count": 72,
      "outputs": [
        {
          "output_type": "stream",
          "text": [
            "1142\n"
          ],
          "name": "stdout"
        }
      ]
    },
    {
      "cell_type": "code",
      "metadata": {
        "id": "UZ2XOztCuD4j"
      },
      "source": [
        "sentences = df_train.Sentence.values\r\n",
        "labels = df_train.Label.values"
      ],
      "execution_count": 73,
      "outputs": []
    },
    {
      "cell_type": "code",
      "metadata": {
        "colab": {
          "base_uri": "https://localhost:8080/"
        },
        "id": "XK6gWRpru3FZ",
        "outputId": "56cc77bb-9791-4294-d68e-a7ddf45ffaa4"
      },
      "source": [
        "from transformers import BertTokenizer\r\n",
        "\r\n",
        "# Load the BERT tokenizer.\r\n",
        "print('Loading BERT tokenizer...')\r\n",
        "tokenizer = BertTokenizer.from_pretrained('bert-base-uncased', do_lower_case=True)"
      ],
      "execution_count": 74,
      "outputs": [
        {
          "output_type": "stream",
          "text": [
            "Loading BERT tokenizer...\n"
          ],
          "name": "stdout"
        }
      ]
    },
    {
      "cell_type": "code",
      "metadata": {
        "colab": {
          "base_uri": "https://localhost:8080/",
          "height": 0
        },
        "id": "PliVaep3u5ih",
        "outputId": "8ca49f16-28e8-4384-cfb9-19f2ec36f1f1"
      },
      "source": [
        "# Print the original sentence.\r\n",
        "print(' Original: ', sentences[0])\r\n",
        "\r\n",
        "# Print the sentence split into tokens.\r\n",
        "print('Tokenized: ', tokenizer.tokenize(sentences[0]))\r\n",
        "\r\n",
        "# Print the sentence mapped to token ids.\r\n",
        "print('Token IDs: ', tokenizer.convert_tokens_to_ids(tokenizer.tokenize(sentences[0])))"
      ],
      "execution_count": 56,
      "outputs": [
        {
          "output_type": "stream",
          "text": [
            " Original:  The system as described above has its greatest application in an arrayed configuration of antenna elements.\n",
            "Tokenized:  ['the', 'system', 'as', 'described', 'above', 'has', 'its', 'greatest', 'application', 'in', 'an', 'array', '##ed', 'configuration', 'of', 'antenna', 'elements', '.']\n",
            "Token IDs:  [1996, 2291, 2004, 2649, 2682, 2038, 2049, 4602, 4646, 1999, 2019, 9140, 2098, 9563, 1997, 13438, 3787, 1012]\n"
          ],
          "name": "stdout"
        }
      ]
    },
    {
      "cell_type": "code",
      "metadata": {
        "colab": {
          "base_uri": "https://localhost:8080/"
        },
        "id": "K0eKUQNnvWtQ",
        "outputId": "e2151ecd-7066-4312-8340-1c37bb4de170"
      },
      "source": [
        "max_len = 0\r\n",
        "\r\n",
        "# For every sentence...\r\n",
        "for sent in sentences:\r\n",
        "\r\n",
        "    # Tokenize the text and add `[CLS]` and `[SEP]` tokens.\r\n",
        "    input_ids = tokenizer.encode(sent, add_special_tokens=True)\r\n",
        "\r\n",
        "    # Update the maximum sentence length.\r\n",
        "    max_len = max(max_len, len(input_ids))\r\n",
        "\r\n",
        "print('Max sentence length: ', max_len)"
      ],
      "execution_count": 75,
      "outputs": [
        {
          "output_type": "stream",
          "text": [
            "Max sentence length:  123\n"
          ],
          "name": "stdout"
        }
      ]
    },
    {
      "cell_type": "code",
      "metadata": {
        "colab": {
          "base_uri": "https://localhost:8080/"
        },
        "id": "gATwFZGEvZA4",
        "outputId": "557e507b-99a1-4bf2-dd26-b3bdf138913a"
      },
      "source": [
        "# Tokenize all of the sentences and map the tokens to thier word IDs.\r\n",
        "input_ids = []\r\n",
        "attention_masks = []\r\n",
        "\r\n",
        "# For every sentence...\r\n",
        "for sent in sentences:\r\n",
        "    # `encode_plus` will:\r\n",
        "    #   (1) Tokenize the sentence.\r\n",
        "    #   (2) Prepend the `[CLS]` token to the start.\r\n",
        "    #   (3) Append the `[SEP]` token to the end.\r\n",
        "    #   (4) Map tokens to their IDs.\r\n",
        "    #   (5) Pad or truncate the sentence to `max_length`\r\n",
        "    #   (6) Create attention masks for [PAD] tokens.\r\n",
        "    encoded_dict = tokenizer.encode_plus(\r\n",
        "                        sent,                      # Sentence to encode.\r\n",
        "                        add_special_tokens = True, # Add '[CLS]' and '[SEP]'\r\n",
        "                        max_length = 128,           # Pad & truncate all sentences.\r\n",
        "                        pad_to_max_length = True,\r\n",
        "                        truncation=True,\r\n",
        "                        return_attention_mask = True,   # Construct attn. masks.\r\n",
        "                        return_tensors = 'pt',     # Return pytorch tensors.\r\n",
        "                   )\r\n",
        "    \r\n",
        "    # Add the encoded sentence to the list.    \r\n",
        "    input_ids.append(encoded_dict['input_ids'])\r\n",
        "    \r\n",
        "    # And its attention mask (simply differentiates padding from non-padding).\r\n",
        "    attention_masks.append(encoded_dict['attention_mask'])\r\n",
        "\r\n",
        "# Convert the lists into tensors.\r\n",
        "input_ids = torch.cat(input_ids, dim=0)\r\n",
        "attention_masks = torch.cat(attention_masks, dim=0)\r\n",
        "labels = torch.tensor(labels)\r\n",
        "\r\n",
        "# Print sentence 0, now as a list of IDs.\r\n",
        "print('Original: ', sentences[0])\r\n",
        "print('Token IDs:', input_ids[0])"
      ],
      "execution_count": 76,
      "outputs": [
        {
          "output_type": "stream",
          "text": [
            "Original:  The system as described above has its greatest application in an arrayed configuration of antenna elements.\n",
            "Token IDs: tensor([  101,  1996,  2291,  2004,  2649,  2682,  2038,  2049,  4602,  4646,\n",
            "         1999,  2019,  9140,  2098,  9563,  1997, 13438,  3787,  1012,   102,\n",
            "            0,     0,     0,     0,     0,     0,     0,     0,     0,     0,\n",
            "            0,     0,     0,     0,     0,     0,     0,     0,     0,     0,\n",
            "            0,     0,     0,     0,     0,     0,     0,     0,     0,     0,\n",
            "            0,     0,     0,     0,     0,     0,     0,     0,     0,     0,\n",
            "            0,     0,     0,     0,     0,     0,     0,     0,     0,     0,\n",
            "            0,     0,     0,     0,     0,     0,     0,     0,     0,     0,\n",
            "            0,     0,     0,     0,     0,     0,     0,     0,     0,     0,\n",
            "            0,     0,     0,     0,     0,     0,     0,     0,     0,     0,\n",
            "            0,     0,     0,     0,     0,     0,     0,     0,     0,     0,\n",
            "            0,     0,     0,     0,     0,     0,     0,     0,     0,     0,\n",
            "            0,     0,     0,     0,     0,     0,     0,     0])\n"
          ],
          "name": "stdout"
        }
      ]
    },
    {
      "cell_type": "code",
      "metadata": {
        "colab": {
          "base_uri": "https://localhost:8080/"
        },
        "id": "R85Kfq6j0pIV",
        "outputId": "d4798ba9-4d5c-4860-8b99-3e0994021f66"
      },
      "source": [
        "from torch.utils.data import TensorDataset, random_split\r\n",
        "\r\n",
        "# Combine the training inputs into a TensorDataset.\r\n",
        "dataset = TensorDataset(input_ids, attention_masks, labels)\r\n",
        "\r\n",
        "# Create a 90-10 train-validation split.\r\n",
        "\r\n",
        "# Calculate the number of samples to include in each set.\r\n",
        "train_size = int(0.9 * len(dataset))\r\n",
        "val_size = len(dataset) - train_size\r\n",
        "\r\n",
        "# Divide the dataset by randomly selecting samples.\r\n",
        "train_dataset, val_dataset = random_split(dataset, [train_size, val_size])\r\n",
        "\r\n",
        "print('{:>5,} training samples'.format(train_size))\r\n",
        "print('{:>5,} validation samples'.format(val_size))"
      ],
      "execution_count": 77,
      "outputs": [
        {
          "output_type": "stream",
          "text": [
            "8,074 training samples\n",
            "  898 validation samples\n"
          ],
          "name": "stdout"
        }
      ]
    },
    {
      "cell_type": "code",
      "metadata": {
        "id": "s5uQzNAx0piG"
      },
      "source": [
        "from torch.utils.data import DataLoader, RandomSampler, SequentialSampler\r\n",
        "\r\n",
        "# The DataLoader needs to know our batch size for training, so we specify it \r\n",
        "# here. For fine-tuning BERT on a specific task, the authors recommend a batch \r\n",
        "# size of 16 or 32.\r\n",
        "batch_size = 16\r\n",
        "\r\n",
        "# Create the DataLoaders for our training and validation sets.\r\n",
        "# We'll take training samples in random order. \r\n",
        "train_dataloader = DataLoader(\r\n",
        "            train_dataset,  # The training samples.\r\n",
        "            sampler = RandomSampler(train_dataset), # Select batches randomly\r\n",
        "            batch_size = batch_size # Trains with this batch size.\r\n",
        "        )\r\n",
        "\r\n",
        "# For validation the order doesn't matter, so we'll just read them sequentially.\r\n",
        "validation_dataloader = DataLoader(\r\n",
        "            val_dataset, # The validation samples.\r\n",
        "            sampler = SequentialSampler(val_dataset), # Pull out batches sequentially.\r\n",
        "            batch_size = batch_size # Evaluate with this batch size.\r\n",
        "        )"
      ],
      "execution_count": 79,
      "outputs": []
    },
    {
      "cell_type": "code",
      "metadata": {
        "id": "8mUnA8xn1EMs"
      },
      "source": [
        "os.chdir('/content')"
      ],
      "execution_count": 80,
      "outputs": []
    },
    {
      "cell_type": "code",
      "metadata": {
        "colab": {
          "base_uri": "https://localhost:8080/",
          "height": 35
        },
        "id": "TQYN5Lj31Vrm",
        "outputId": "5e08ec68-624a-4826-d3e2-aa905bf5b5bf"
      },
      "source": [
        "os.getcwd()"
      ],
      "execution_count": 81,
      "outputs": [
        {
          "output_type": "execute_result",
          "data": {
            "application/vnd.google.colaboratory.intrinsic+json": {
              "type": "string"
            },
            "text/plain": [
              "'/content'"
            ]
          },
          "metadata": {
            "tags": []
          },
          "execution_count": 81
        }
      ]
    },
    {
      "cell_type": "code",
      "metadata": {
        "id": "XFrPMGC_1JgN"
      },
      "source": [
        "os.chdir('drive/MyDrive/ClimateBERT')"
      ],
      "execution_count": 82,
      "outputs": []
    },
    {
      "cell_type": "code",
      "metadata": {
        "colab": {
          "base_uri": "https://localhost:8080/"
        },
        "id": "6XrGP_0x01Tt",
        "outputId": "138ac8b0-3e53-4d0e-de8f-4d6c2eea3dc6"
      },
      "source": [
        "from transformers import BertForSequenceClassification, AdamW, BertConfig\r\n",
        "\r\n",
        "# Load BertForSequenceClassification, the pretrained BERT model with a single \r\n",
        "# linear classification layer on top. \r\n",
        "model = BertForSequenceClassification.from_pretrained(\r\n",
        "    \"pytorch\", # Use the 12-layer BERT model, with an uncased vocab.\r\n",
        "    num_labels = 2, # The number of output labels--2 for binary classification.\r\n",
        "                    # You can increase this for multi-class tasks.   \r\n",
        "    output_attentions = False, # Whether the model returns attentions weights.\r\n",
        "    output_hidden_states = False, # Whether the model returns all hidden-states.\r\n",
        ")\r\n",
        "\r\n",
        "# Tell pytorch to run this model on the GPU.\r\n",
        "#device = xm.xla_device()\r\n",
        "#model.to(device)\r\n",
        "model.cuda()\r\n",
        "\r\n",
        "print(device)"
      ],
      "execution_count": 83,
      "outputs": [
        {
          "output_type": "stream",
          "text": [
            "Some weights of the model checkpoint at pytorch were not used when initializing BertForSequenceClassification: ['cls.predictions.bias', 'cls.predictions.transform.dense.weight', 'cls.predictions.transform.dense.bias', 'cls.predictions.transform.LayerNorm.weight', 'cls.predictions.transform.LayerNorm.bias', 'cls.predictions.decoder.weight', 'cls.predictions.decoder.bias', 'cls.seq_relationship.weight', 'cls.seq_relationship.bias', 'bert.embeddings.position_ids']\n",
            "- This IS expected if you are initializing BertForSequenceClassification from the checkpoint of a model trained on another task or with another architecture (e.g. initializing a BertForSequenceClassification model from a BertForPretraining model).\n",
            "- This IS NOT expected if you are initializing BertForSequenceClassification from the checkpoint of a model that you expect to be exactly identical (initializing a BertForSequenceClassification model from a BertForSequenceClassification model).\n",
            "Some weights of BertForSequenceClassification were not initialized from the model checkpoint at pytorch and are newly initialized: ['classifier.weight', 'classifier.bias']\n",
            "You should probably TRAIN this model on a down-stream task to be able to use it for predictions and inference.\n"
          ],
          "name": "stderr"
        },
        {
          "output_type": "stream",
          "text": [
            "cuda\n"
          ],
          "name": "stdout"
        }
      ]
    },
    {
      "cell_type": "code",
      "metadata": {
        "id": "Lr04yh-_1eUf"
      },
      "source": [
        "# Note: AdamW is a class from the huggingface library (as opposed to pytorch) \r\n",
        "# I believe the 'W' stands for 'Weight Decay fix\"\r\n",
        "optimizer = AdamW(model.parameters(),\r\n",
        "                  lr = 2e-5, # args.learning_rate - default is 5e-5, our notebook had 2e-5\r\n",
        "                  eps = 1e-8 # args.adam_epsilon  - default is 1e-8.\r\n",
        "                )\r\n"
      ],
      "execution_count": 84,
      "outputs": []
    },
    {
      "cell_type": "code",
      "metadata": {
        "id": "IBvDQkn71sfN"
      },
      "source": [
        "from transformers import get_linear_schedule_with_warmup\r\n",
        "\r\n",
        "# Number of training epochs. The BERT authors recommend between 2 and 4. \r\n",
        "# We chose to run for 4, but we'll see later that this may be over-fitting the\r\n",
        "# training data.\r\n",
        "epochs = 4\r\n",
        "\r\n",
        "# Total number of training steps is [number of batches] x [number of epochs]. \r\n",
        "# (Note that this is not the same as the number of training samples).\r\n",
        "total_steps = len(train_dataloader) * epochs\r\n",
        "\r\n",
        "# Create the learning rate scheduler.\r\n",
        "scheduler = get_linear_schedule_with_warmup(optimizer, \r\n",
        "                                            num_warmup_steps = 0, # Default value in run_glue.py\r\n",
        "                                            num_training_steps = total_steps)"
      ],
      "execution_count": 85,
      "outputs": []
    },
    {
      "cell_type": "code",
      "metadata": {
        "id": "eufPGc3w1weF"
      },
      "source": [
        "import numpy as np\r\n",
        "\r\n",
        "# Function to calculate the accuracy of our predictions vs labels\r\n",
        "def flat_accuracy(preds, labels):\r\n",
        "    pred_flat = np.argmax(preds, axis=1).flatten()\r\n",
        "    labels_flat = labels.flatten()\r\n",
        "    return np.sum(pred_flat == labels_flat) / len(labels_flat)"
      ],
      "execution_count": 86,
      "outputs": []
    },
    {
      "cell_type": "code",
      "metadata": {
        "id": "m1Cgf94A1yeG"
      },
      "source": [
        "import time\r\n",
        "import datetime\r\n",
        "\r\n",
        "def format_time(elapsed):\r\n",
        "    '''\r\n",
        "    Takes a time in seconds and returns a string hh:mm:ss\r\n",
        "    '''\r\n",
        "    # Round to the nearest second.\r\n",
        "    elapsed_rounded = int(round((elapsed)))\r\n",
        "    \r\n",
        "    # Format as hh:mm:ss\r\n",
        "    return str(datetime.timedelta(seconds=elapsed_rounded))\r\n"
      ],
      "execution_count": 87,
      "outputs": []
    },
    {
      "cell_type": "code",
      "metadata": {
        "colab": {
          "base_uri": "https://localhost:8080/"
        },
        "id": "M9--Fx6s1z4t",
        "outputId": "a5e13376-abe1-4872-df65-612a9ff5a7f6"
      },
      "source": [
        "import random\r\n",
        "import numpy as np\r\n",
        "\r\n",
        "# This training code is based on the `run_glue.py` script here:\r\n",
        "# https://github.com/huggingface/transformers/blob/5bfcd0485ece086ebcbed2d008813037968a9e58/examples/run_glue.py#L128\r\n",
        "\r\n",
        "# Set the seed value all over the place to make this reproducible.\r\n",
        "seed_val = 42\r\n",
        "\r\n",
        "random.seed(seed_val)\r\n",
        "np.random.seed(seed_val)\r\n",
        "torch.manual_seed(seed_val)\r\n",
        "torch.cuda.manual_seed_all(seed_val)\r\n",
        "\r\n",
        "# We'll store a number of quantities such as training and validation loss, \r\n",
        "# validation accuracy, and timings.\r\n",
        "training_stats = []\r\n",
        "\r\n",
        "# Measure the total training time for the whole run.\r\n",
        "total_t0 = time.time()\r\n",
        "\r\n",
        "# For each epoch...\r\n",
        "for epoch_i in range(0, epochs):\r\n",
        "    \r\n",
        "    # ========================================\r\n",
        "    #               Training\r\n",
        "    # ========================================\r\n",
        "    \r\n",
        "    # Perform one full pass over the training set.\r\n",
        "\r\n",
        "    print(\"\")\r\n",
        "    print('======== Epoch {:} / {:} ========'.format(epoch_i + 1, epochs))\r\n",
        "    print('Training...')\r\n",
        "\r\n",
        "    # Measure how long the training epoch takes.\r\n",
        "    t0 = time.time()\r\n",
        "\r\n",
        "    # Reset the total loss for this epoch.\r\n",
        "    total_train_loss = 0\r\n",
        "\r\n",
        "    # Put the model into training mode. Don't be mislead--the call to \r\n",
        "    # `train` just changes the *mode*, it doesn't *perform* the training.\r\n",
        "    # `dropout` and `batchnorm` layers behave differently during training\r\n",
        "    # vs. test (source: https://stackoverflow.com/questions/51433378/what-does-model-train-do-in-pytorch)\r\n",
        "    model.train()\r\n",
        "\r\n",
        "    # For each batch of training data...\r\n",
        "    for step, batch in enumerate(train_dataloader):\r\n",
        "\r\n",
        "        # Progress update every 40 batches.\r\n",
        "        if step % 40 == 0 and not step == 0:\r\n",
        "            # Calculate elapsed time in minutes.\r\n",
        "            elapsed = format_time(time.time() - t0)\r\n",
        "            \r\n",
        "            # Report progress.\r\n",
        "            print('  Batch {:>5,}  of  {:>5,}.    Elapsed: {:}.'.format(step, len(train_dataloader), elapsed))\r\n",
        "\r\n",
        "        # Unpack this training batch from our dataloader. \r\n",
        "        #\r\n",
        "        # As we unpack the batch, we'll also copy each tensor to the GPU using the \r\n",
        "        # `to` method.\r\n",
        "        #\r\n",
        "        # `batch` contains three pytorch tensors:\r\n",
        "        #   [0]: input ids \r\n",
        "        #   [1]: attention masks\r\n",
        "        #   [2]: labels \r\n",
        "        b_input_ids = batch[0].to(device)\r\n",
        "        b_input_mask = batch[1].to(device)\r\n",
        "        b_labels = batch[2].to(device)\r\n",
        "\r\n",
        "        # Always clear any previously calculated gradients before performing a\r\n",
        "        # backward pass. PyTorch doesn't do this automatically because \r\n",
        "        # accumulating the gradients is \"convenient while training RNNs\". \r\n",
        "        # (source: https://stackoverflow.com/questions/48001598/why-do-we-need-to-call-zero-grad-in-pytorch)\r\n",
        "        model.zero_grad()        \r\n",
        "\r\n",
        "        # Perform a forward pass (evaluate the model on this training batch).\r\n",
        "        # The documentation for this `model` function is here: \r\n",
        "        # https://huggingface.co/transformers/v2.2.0/model_doc/bert.html#transformers.BertForSequenceClassification\r\n",
        "        # It returns different numbers of parameters depending on what arguments\r\n",
        "        # arge given and what flags are set. For our useage here, it returns\r\n",
        "        # the loss (because we provided labels) and the \"logits\"--the model\r\n",
        "        # outputs prior to activation.\r\n",
        "        loss, logits = model(b_input_ids, \r\n",
        "                             token_type_ids=None, \r\n",
        "                             attention_mask=b_input_mask, \r\n",
        "                             labels=b_labels)\r\n",
        "\r\n",
        "        # Accumulate the training loss over all of the batches so that we can\r\n",
        "        # calculate the average loss at the end. `loss` is a Tensor containing a\r\n",
        "        # single value; the `.item()` function just returns the Python value \r\n",
        "        # from the tensor.\r\n",
        "        total_train_loss += loss.item()\r\n",
        "\r\n",
        "        # Perform a backward pass to calculate the gradients.\r\n",
        "        loss.backward()\r\n",
        "\r\n",
        "        # Clip the norm of the gradients to 1.0.\r\n",
        "        # This is to help prevent the \"exploding gradients\" problem.\r\n",
        "        torch.nn.utils.clip_grad_norm_(model.parameters(), 1.0)\r\n",
        "\r\n",
        "        # Update parameters and take a step using the computed gradient.\r\n",
        "        # The optimizer dictates the \"update rule\"--how the parameters are\r\n",
        "        # modified based on their gradients, the learning rate, etc.\r\n",
        "        optimizer.step()\r\n",
        "\r\n",
        "        # Update the learning rate.\r\n",
        "        scheduler.step()\r\n",
        "\r\n",
        "    # Calculate the average loss over all of the batches.\r\n",
        "    avg_train_loss = total_train_loss / len(train_dataloader)            \r\n",
        "    \r\n",
        "    # Measure how long this epoch took.\r\n",
        "    training_time = format_time(time.time() - t0)\r\n",
        "\r\n",
        "    print(\"\")\r\n",
        "    print(\"  Average training loss: {0:.2f}\".format(avg_train_loss))\r\n",
        "    print(\"  Training epcoh took: {:}\".format(training_time))\r\n",
        "        \r\n",
        "    # ========================================\r\n",
        "    #               Validation\r\n",
        "    # ========================================\r\n",
        "    # After the completion of each training epoch, measure our performance on\r\n",
        "    # our validation set.\r\n",
        "\r\n",
        "    print(\"\")\r\n",
        "    print(\"Running Validation...\")\r\n",
        "\r\n",
        "    t0 = time.time()\r\n",
        "\r\n",
        "    # Put the model in evaluation mode--the dropout layers behave differently\r\n",
        "    # during evaluation.\r\n",
        "    model.eval()\r\n",
        "\r\n",
        "    # Tracking variables \r\n",
        "    total_eval_accuracy = 0\r\n",
        "    total_eval_loss = 0\r\n",
        "    nb_eval_steps = 0\r\n",
        "\r\n",
        "    # Evaluate data for one epoch\r\n",
        "    for batch in validation_dataloader:\r\n",
        "        \r\n",
        "        # Unpack this training batch from our dataloader. \r\n",
        "        #\r\n",
        "        # As we unpack the batch, we'll also copy each tensor to the GPU using \r\n",
        "        # the `to` method.\r\n",
        "        #\r\n",
        "        # `batch` contains three pytorch tensors:\r\n",
        "        #   [0]: input ids \r\n",
        "        #   [1]: attention masks\r\n",
        "        #   [2]: labels \r\n",
        "        b_input_ids = batch[0].to(device)\r\n",
        "        b_input_mask = batch[1].to(device)\r\n",
        "        b_labels = batch[2].to(device)\r\n",
        "        \r\n",
        "        # Tell pytorch not to bother with constructing the compute graph during\r\n",
        "        # the forward pass, since this is only needed for backprop (training).\r\n",
        "        with torch.no_grad():        \r\n",
        "\r\n",
        "            # Forward pass, calculate logit predictions.\r\n",
        "            # token_type_ids is the same as the \"segment ids\", which \r\n",
        "            # differentiates sentence 1 and 2 in 2-sentence tasks.\r\n",
        "            # The documentation for this `model` function is here: \r\n",
        "            # https://huggingface.co/transformers/v2.2.0/model_doc/bert.html#transformers.BertForSequenceClassification\r\n",
        "            # Get the \"logits\" output by the model. The \"logits\" are the output\r\n",
        "            # values prior to applying an activation function like the softmax.\r\n",
        "            (loss, logits) = model(b_input_ids, \r\n",
        "                                   token_type_ids=None, \r\n",
        "                                   attention_mask=b_input_mask,\r\n",
        "                                   labels=b_labels)\r\n",
        "            \r\n",
        "        # Accumulate the validation loss.\r\n",
        "        total_eval_loss += loss.item()\r\n",
        "\r\n",
        "        # Move logits and labels to CPU\r\n",
        "        logits = logits.detach().cpu().numpy()\r\n",
        "        label_ids = b_labels.to('cpu').numpy()\r\n",
        "\r\n",
        "        # Calculate the accuracy for this batch of test sentences, and\r\n",
        "        # accumulate it over all batches.\r\n",
        "        total_eval_accuracy += flat_accuracy(logits, label_ids)\r\n",
        "        \r\n",
        "\r\n",
        "    # Report the final accuracy for this validation run.\r\n",
        "    avg_val_accuracy = total_eval_accuracy / len(validation_dataloader)\r\n",
        "    print(\"  Accuracy: {0:.2f}\".format(avg_val_accuracy))\r\n",
        "\r\n",
        "    # Calculate the average loss over all of the batches.\r\n",
        "    avg_val_loss = total_eval_loss / len(validation_dataloader)\r\n",
        "    \r\n",
        "    # Measure how long the validation run took.\r\n",
        "    validation_time = format_time(time.time() - t0)\r\n",
        "    \r\n",
        "    print(\"  Validation Loss: {0:.2f}\".format(avg_val_loss))\r\n",
        "    print(\"  Validation took: {:}\".format(validation_time))\r\n",
        "\r\n",
        "    # Record all statistics from this epoch.\r\n",
        "    training_stats.append(\r\n",
        "        {\r\n",
        "            'epoch': epoch_i + 1,\r\n",
        "            'Training Loss': avg_train_loss,\r\n",
        "            'Valid. Loss': avg_val_loss,\r\n",
        "            'Valid. Accur.': avg_val_accuracy,\r\n",
        "            'Training Time': training_time,\r\n",
        "            'Validation Time': validation_time\r\n",
        "        }\r\n",
        "    )\r\n",
        "\r\n",
        "print(\"\")\r\n",
        "print(\"Training complete!\")\r\n",
        "\r\n",
        "print(\"Total training took {:} (h:mm:ss)\".format(format_time(time.time()-total_t0)))"
      ],
      "execution_count": 88,
      "outputs": [
        {
          "output_type": "stream",
          "text": [
            "\n",
            "======== Epoch 1 / 4 ========\n",
            "Training...\n",
            "  Batch    40  of    505.    Elapsed: 0:00:16.\n",
            "  Batch    80  of    505.    Elapsed: 0:00:32.\n",
            "  Batch   120  of    505.    Elapsed: 0:00:47.\n",
            "  Batch   160  of    505.    Elapsed: 0:01:02.\n",
            "  Batch   200  of    505.    Elapsed: 0:01:17.\n",
            "  Batch   240  of    505.    Elapsed: 0:01:32.\n",
            "  Batch   280  of    505.    Elapsed: 0:01:47.\n",
            "  Batch   320  of    505.    Elapsed: 0:02:02.\n",
            "  Batch   360  of    505.    Elapsed: 0:02:17.\n",
            "  Batch   400  of    505.    Elapsed: 0:02:33.\n",
            "  Batch   440  of    505.    Elapsed: 0:02:48.\n",
            "  Batch   480  of    505.    Elapsed: 0:03:03.\n",
            "\n",
            "  Average training loss: 0.18\n",
            "  Training epcoh took: 0:03:12\n",
            "\n",
            "Running Validation...\n",
            "  Accuracy: 0.95\n",
            "  Validation Loss: 0.17\n",
            "  Validation took: 0:00:07\n",
            "\n",
            "======== Epoch 2 / 4 ========\n",
            "Training...\n",
            "  Batch    40  of    505.    Elapsed: 0:00:15.\n",
            "  Batch    80  of    505.    Elapsed: 0:00:30.\n",
            "  Batch   120  of    505.    Elapsed: 0:00:45.\n",
            "  Batch   160  of    505.    Elapsed: 0:01:01.\n",
            "  Batch   200  of    505.    Elapsed: 0:01:16.\n",
            "  Batch   240  of    505.    Elapsed: 0:01:31.\n",
            "  Batch   280  of    505.    Elapsed: 0:01:46.\n",
            "  Batch   320  of    505.    Elapsed: 0:02:01.\n",
            "  Batch   360  of    505.    Elapsed: 0:02:16.\n",
            "  Batch   400  of    505.    Elapsed: 0:02:31.\n",
            "  Batch   440  of    505.    Elapsed: 0:02:46.\n",
            "  Batch   480  of    505.    Elapsed: 0:03:01.\n",
            "\n",
            "  Average training loss: 0.09\n",
            "  Training epcoh took: 0:03:11\n",
            "\n",
            "Running Validation...\n",
            "  Accuracy: 0.95\n",
            "  Validation Loss: 0.22\n",
            "  Validation took: 0:00:07\n",
            "\n",
            "======== Epoch 3 / 4 ========\n",
            "Training...\n",
            "  Batch    40  of    505.    Elapsed: 0:00:15.\n",
            "  Batch    80  of    505.    Elapsed: 0:00:30.\n",
            "  Batch   120  of    505.    Elapsed: 0:00:45.\n",
            "  Batch   160  of    505.    Elapsed: 0:01:00.\n",
            "  Batch   200  of    505.    Elapsed: 0:01:15.\n",
            "  Batch   240  of    505.    Elapsed: 0:01:31.\n",
            "  Batch   280  of    505.    Elapsed: 0:01:46.\n",
            "  Batch   320  of    505.    Elapsed: 0:02:01.\n",
            "  Batch   360  of    505.    Elapsed: 0:02:16.\n",
            "  Batch   400  of    505.    Elapsed: 0:02:31.\n",
            "  Batch   440  of    505.    Elapsed: 0:02:46.\n",
            "  Batch   480  of    505.    Elapsed: 0:03:01.\n",
            "\n",
            "  Average training loss: 0.05\n",
            "  Training epcoh took: 0:03:10\n",
            "\n",
            "Running Validation...\n",
            "  Accuracy: 0.95\n",
            "  Validation Loss: 0.24\n",
            "  Validation took: 0:00:07\n",
            "\n",
            "======== Epoch 4 / 4 ========\n",
            "Training...\n",
            "  Batch    40  of    505.    Elapsed: 0:00:15.\n",
            "  Batch    80  of    505.    Elapsed: 0:00:30.\n",
            "  Batch   120  of    505.    Elapsed: 0:00:45.\n",
            "  Batch   160  of    505.    Elapsed: 0:01:00.\n",
            "  Batch   200  of    505.    Elapsed: 0:01:15.\n",
            "  Batch   240  of    505.    Elapsed: 0:01:30.\n",
            "  Batch   280  of    505.    Elapsed: 0:01:45.\n",
            "  Batch   320  of    505.    Elapsed: 0:02:01.\n",
            "  Batch   360  of    505.    Elapsed: 0:02:16.\n",
            "  Batch   400  of    505.    Elapsed: 0:02:31.\n",
            "  Batch   440  of    505.    Elapsed: 0:02:46.\n",
            "  Batch   480  of    505.    Elapsed: 0:03:01.\n",
            "\n",
            "  Average training loss: 0.03\n",
            "  Training epcoh took: 0:03:10\n",
            "\n",
            "Running Validation...\n",
            "  Accuracy: 0.95\n",
            "  Validation Loss: 0.25\n",
            "  Validation took: 0:00:07\n",
            "\n",
            "Training complete!\n",
            "Total training took 0:13:13 (h:mm:ss)\n"
          ],
          "name": "stdout"
        }
      ]
    },
    {
      "cell_type": "code",
      "metadata": {
        "colab": {
          "base_uri": "https://localhost:8080/",
          "height": 197
        },
        "id": "Lds_mCR513Ld",
        "outputId": "489595fc-d26d-4235-d72b-ff4757ce5803"
      },
      "source": [
        "import pandas as pd\r\n",
        "\r\n",
        "# Display floats with two decimal places.\r\n",
        "pd.set_option('precision', 2)\r\n",
        "\r\n",
        "# Create a DataFrame from our training statistics.\r\n",
        "df_stats = pd.DataFrame(data=training_stats)\r\n",
        "\r\n",
        "# Use the 'epoch' as the row index.\r\n",
        "df_stats = df_stats.set_index('epoch')\r\n",
        "\r\n",
        "# A hack to force the column headers to wrap.\r\n",
        "#df = df.style.set_table_styles([dict(selector=\"th\",props=[('max-width', '70px')])])\r\n",
        "\r\n",
        "# Display the table.\r\n",
        "df_stats"
      ],
      "execution_count": 89,
      "outputs": [
        {
          "output_type": "execute_result",
          "data": {
            "text/html": [
              "<div>\n",
              "<style scoped>\n",
              "    .dataframe tbody tr th:only-of-type {\n",
              "        vertical-align: middle;\n",
              "    }\n",
              "\n",
              "    .dataframe tbody tr th {\n",
              "        vertical-align: top;\n",
              "    }\n",
              "\n",
              "    .dataframe thead th {\n",
              "        text-align: right;\n",
              "    }\n",
              "</style>\n",
              "<table border=\"1\" class=\"dataframe\">\n",
              "  <thead>\n",
              "    <tr style=\"text-align: right;\">\n",
              "      <th></th>\n",
              "      <th>Training Loss</th>\n",
              "      <th>Valid. Loss</th>\n",
              "      <th>Valid. Accur.</th>\n",
              "      <th>Training Time</th>\n",
              "      <th>Validation Time</th>\n",
              "    </tr>\n",
              "    <tr>\n",
              "      <th>epoch</th>\n",
              "      <th></th>\n",
              "      <th></th>\n",
              "      <th></th>\n",
              "      <th></th>\n",
              "      <th></th>\n",
              "    </tr>\n",
              "  </thead>\n",
              "  <tbody>\n",
              "    <tr>\n",
              "      <th>1</th>\n",
              "      <td>0.18</td>\n",
              "      <td>0.17</td>\n",
              "      <td>0.95</td>\n",
              "      <td>0:03:12</td>\n",
              "      <td>0:00:07</td>\n",
              "    </tr>\n",
              "    <tr>\n",
              "      <th>2</th>\n",
              "      <td>0.09</td>\n",
              "      <td>0.22</td>\n",
              "      <td>0.95</td>\n",
              "      <td>0:03:11</td>\n",
              "      <td>0:00:07</td>\n",
              "    </tr>\n",
              "    <tr>\n",
              "      <th>3</th>\n",
              "      <td>0.05</td>\n",
              "      <td>0.24</td>\n",
              "      <td>0.95</td>\n",
              "      <td>0:03:10</td>\n",
              "      <td>0:00:07</td>\n",
              "    </tr>\n",
              "    <tr>\n",
              "      <th>4</th>\n",
              "      <td>0.03</td>\n",
              "      <td>0.25</td>\n",
              "      <td>0.95</td>\n",
              "      <td>0:03:10</td>\n",
              "      <td>0:00:07</td>\n",
              "    </tr>\n",
              "  </tbody>\n",
              "</table>\n",
              "</div>"
            ],
            "text/plain": [
              "       Training Loss  Valid. Loss  Valid. Accur. Training Time Validation Time\n",
              "epoch                                                                         \n",
              "1               0.18         0.17           0.95       0:03:12         0:00:07\n",
              "2               0.09         0.22           0.95       0:03:11         0:00:07\n",
              "3               0.05         0.24           0.95       0:03:10         0:00:07\n",
              "4               0.03         0.25           0.95       0:03:10         0:00:07"
            ]
          },
          "metadata": {
            "tags": []
          },
          "execution_count": 89
        }
      ]
    },
    {
      "cell_type": "code",
      "metadata": {
        "colab": {
          "base_uri": "https://localhost:8080/",
          "height": 426
        },
        "id": "4lhqmqL88PGN",
        "outputId": "cc9dc483-7705-4a9b-e40c-60533ec9170e"
      },
      "source": [
        "import matplotlib.pyplot as plt\r\n",
        "% matplotlib inline\r\n",
        "\r\n",
        "import seaborn as sns\r\n",
        "\r\n",
        "# Use plot styling from seaborn.\r\n",
        "sns.set(style='darkgrid')\r\n",
        "\r\n",
        "# Increase the plot size and font size.\r\n",
        "sns.set(font_scale=1.5)\r\n",
        "plt.rcParams[\"figure.figsize\"] = (12,6)\r\n",
        "\r\n",
        "# Plot the learning curve.\r\n",
        "plt.plot(df_stats['Training Loss'], 'b-o', label=\"Training\")\r\n",
        "plt.plot(df_stats['Valid. Loss'], 'g-o', label=\"Validation\")\r\n",
        "\r\n",
        "# Label the plot.\r\n",
        "plt.title(\"Training & Validation Loss\")\r\n",
        "plt.xlabel(\"Epoch\")\r\n",
        "plt.ylabel(\"Loss\")\r\n",
        "plt.legend()\r\n",
        "plt.xticks([1, 2, 3, 4])\r\n",
        "\r\n",
        "plt.show()"
      ],
      "execution_count": 90,
      "outputs": [
        {
          "output_type": "display_data",
          "data": {
            "image/png": "[encoded data removed]",
            "text/plain": [
              "<Figure size 864x432 with 1 Axes>"
            ]
          },
          "metadata": {
            "tags": []
          }
        }
      ]
    },
    {
      "cell_type": "markdown",
      "metadata": {
        "id": "UTjc-6Dgd4sW"
      },
      "source": [
        "Testing on SemEval test set"
      ]
    },
    {
      "cell_type": "code",
      "metadata": {
        "id": "HTktGH3o-8I3"
      },
      "source": [
        "df_test = df4.append(df3)"
      ],
      "execution_count": 87,
      "outputs": []
    },
    {
      "cell_type": "code",
      "metadata": {
        "colab": {
          "base_uri": "https://localhost:8080/"
        },
        "id": "GM0EMJRm__N_",
        "outputId": "915d7ec8-6667-4e27-b0c4-9a060df4a78c"
      },
      "source": [
        "df_test.info"
      ],
      "execution_count": 88,
      "outputs": [
        {
          "output_type": "execute_result",
          "data": {
            "text/plain": [
              "<bound method DataFrame.info of                                                Sentence  ... Label\n",
              "0     The name given to our cluster, Valhalla, comes...  ...     1\n",
              "1     This as well as kinetic data support the hypot...  ...     1\n",
              "2     Hundreds of thousands in central China are sle...  ...     1\n",
              "3     Dehydration from fluid loss generally is the o...  ...     1\n",
              "4     Fathers, in particular, are often more involve...  ...     1\n",
              "...                                                 ...  ...   ...\n",
              "2712  After seating all the idols, which itself take...  ...     0\n",
              "2713  The minister attributed the slow production of...  ...     0\n",
              "2714  The umbrella frame is provided with a movable ...  ...     0\n",
              "2715  Manos: The Hands of Fate is a low-budget horro...  ...     0\n",
              "2716  A few days before the service, Tom Burris had ...  ...     0\n",
              "\n",
              "[3266 rows x 3 columns]>"
            ]
          },
          "metadata": {
            "tags": []
          },
          "execution_count": 88
        }
      ]
    },
    {
      "cell_type": "code",
      "metadata": {
        "id": "3aENE39NAWTm"
      },
      "source": [
        "df_test = df_test[df_test['Sentence'].notna()]"
      ],
      "execution_count": 92,
      "outputs": []
    },
    {
      "cell_type": "code",
      "metadata": {
        "colab": {
          "base_uri": "https://localhost:8080/"
        },
        "id": "W-3JCjXIAFqn",
        "outputId": "b0da84bc-9e0d-43a1-f7a9-2a9ca18caafc"
      },
      "source": [
        "# Report the number of sentences.\r\n",
        "print('Number of test sentences: {:,}\\n'.format(df.shape[0]))\r\n",
        "\r\n",
        "# Create sentence and label lists\r\n",
        "sentences = df_test.Sentence.values\r\n",
        "labels = df_test.Label.values\r\n",
        "\r\n",
        "# Tokenize all of the sentences and map the tokens to thier word IDs.\r\n",
        "input_ids = []\r\n",
        "attention_masks = []\r\n",
        "\r\n",
        "# For every sentence...\r\n",
        "for sent in sentences:\r\n",
        "    # `encode_plus` will:\r\n",
        "    #   (1) Tokenize the sentence.\r\n",
        "    #   (2) Prepend the `[CLS]` token to the start.\r\n",
        "    #   (3) Append the `[SEP]` token to the end.\r\n",
        "    #   (4) Map tokens to their IDs.\r\n",
        "    #   (5) Pad or truncate the sentence to `max_length`\r\n",
        "    #   (6) Create attention masks for [PAD] tokens.\r\n",
        "    encoded_dict = tokenizer.encode_plus(\r\n",
        "                        sent,                      # Sentence to encode.\r\n",
        "                        add_special_tokens = True, # Add '[CLS]' and '[SEP]'\r\n",
        "                        max_length = 128,           # Pad & truncate all sentences.\r\n",
        "                        pad_to_max_length = True,\r\n",
        "                        return_attention_mask = True,   # Construct attn. masks.\r\n",
        "                        return_tensors = 'pt',     # Return pytorch tensors.\r\n",
        "                        truncation=True\r\n",
        "                   )\r\n",
        "    \r\n",
        "    # Add the encoded sentence to the list.    \r\n",
        "    input_ids.append(encoded_dict['input_ids'])\r\n",
        "    \r\n",
        "    # And its attention mask (simply differentiates padding from non-padding).\r\n",
        "    attention_masks.append(encoded_dict['attention_mask'])\r\n",
        "\r\n",
        "# Convert the lists into tensors.\r\n",
        "input_ids = torch.cat(input_ids, dim=0)\r\n",
        "attention_masks = torch.cat(attention_masks, dim=0)\r\n",
        "labels = torch.tensor(labels)\r\n",
        "\r\n",
        "# Set the batch size.  \r\n",
        "batch_size = 16  \r\n",
        "\r\n",
        "# Create the DataLoader.\r\n",
        "prediction_data = TensorDataset(input_ids, attention_masks, labels)\r\n",
        "prediction_sampler = SequentialSampler(prediction_data)\r\n",
        "prediction_dataloader = DataLoader(prediction_data, sampler=prediction_sampler, batch_size=batch_size)"
      ],
      "execution_count": 93,
      "outputs": [
        {
          "output_type": "stream",
          "text": [
            "Number of test sentences: 8,000\n",
            "\n"
          ],
          "name": "stdout"
        }
      ]
    },
    {
      "cell_type": "code",
      "metadata": {
        "colab": {
          "base_uri": "https://localhost:8080/"
        },
        "id": "iVMbLjSjAUEn",
        "outputId": "312fbc8a-e488-44c6-dc08-b134875b0155"
      },
      "source": [
        "# Prediction on test set\r\n",
        "\r\n",
        "print('Predicting labels for {:,} test sentences...'.format(len(input_ids)))\r\n",
        "\r\n",
        "# Put model in evaluation mode\r\n",
        "model.eval()\r\n",
        "\r\n",
        "# Tracking variables \r\n",
        "predictions , true_labels = [], []\r\n",
        "\r\n",
        "# Predict \r\n",
        "for batch in prediction_dataloader:\r\n",
        "  # Add batch to GPU\r\n",
        "  batch = tuple(t.to(device) for t in batch)\r\n",
        "  \r\n",
        "  # Unpack the inputs from our dataloader\r\n",
        "  b_input_ids, b_input_mask, b_labels = batch\r\n",
        "  \r\n",
        "  # Telling the model not to compute or store gradients, saving memory and \r\n",
        "  # speeding up prediction\r\n",
        "  with torch.no_grad():\r\n",
        "      # Forward pass, calculate logit predictions\r\n",
        "      outputs = model(b_input_ids, token_type_ids=None, \r\n",
        "                      attention_mask=b_input_mask)\r\n",
        "\r\n",
        "  logits = outputs[0]\r\n",
        "\r\n",
        "  # Move logits and labels to CPU\r\n",
        "  logits = logits.detach().cpu().numpy()\r\n",
        "  label_ids = b_labels.to('cpu').numpy()\r\n",
        "  \r\n",
        "  # Store predictions and true labels\r\n",
        "  predictions.append(logits)\r\n",
        "  true_labels.append(label_ids)\r\n",
        "\r\n",
        "print('    DONE.')"
      ],
      "execution_count": 94,
      "outputs": [
        {
          "output_type": "stream",
          "text": [
            "Predicting labels for 3,264 test sentences...\n",
            "    DONE.\n"
          ],
          "name": "stdout"
        }
      ]
    },
    {
      "cell_type": "code",
      "metadata": {
        "colab": {
          "base_uri": "https://localhost:8080/"
        },
        "id": "HCKBAux3Ao5e",
        "outputId": "9d5f529c-6f5b-408e-a0c4-2c6a45de9fa4"
      },
      "source": [
        "from sklearn.metrics import classification_report,confusion_matrix,accuracy_score\r\n",
        "# Combine the results across all batches. \r\n",
        "flat_predictions = np.concatenate(predictions, axis=0)\r\n",
        "\r\n",
        "# For each sample, pick the label (0 or 1) with the higher score.\r\n",
        "flat_predictions = np.argmax(flat_predictions, axis=1).flatten()\r\n",
        "\r\n",
        "# Combine the correct labels for each batch into a single list.\r\n",
        "flat_true_labels = np.concatenate(true_labels, axis=0)\r\n",
        "\r\n",
        "\r\n",
        "matrix = confusion_matrix(flat_true_labels,flat_predictions)\r\n",
        "print(matrix)\r\n",
        "score = accuracy_score(flat_true_labels,flat_predictions)\r\n",
        "print(score)\r\n",
        "report = classification_report(flat_true_labels, flat_predictions)\r\n",
        "print(report)"
      ],
      "execution_count": 95,
      "outputs": [
        {
          "output_type": "stream",
          "text": [
            "[[2782   74]\n",
            " [  58  350]]\n",
            "0.9595588235294118\n",
            "              precision    recall  f1-score   support\n",
            "\n",
            "           0       0.98      0.97      0.98      2856\n",
            "           1       0.83      0.86      0.84       408\n",
            "\n",
            "    accuracy                           0.96      3264\n",
            "   macro avg       0.90      0.92      0.91      3264\n",
            "weighted avg       0.96      0.96      0.96      3264\n",
            "\n"
          ],
          "name": "stdout"
        }
      ]
    },
    {
      "cell_type": "markdown",
      "metadata": {
        "id": "tXWCSeOJRymC"
      },
      "source": [
        "Testing on Climate Val Set"
      ]
    },
    {
      "cell_type": "code",
      "metadata": {
        "id": "hpWcMjkOTPM-"
      },
      "source": [
        "os.chdir('/content/drive/MyDrive/climateMind')"
      ],
      "execution_count": 91,
      "outputs": []
    },
    {
      "cell_type": "code",
      "metadata": {
        "id": "MWr8BCriBRkm"
      },
      "source": [
        "df_test = pd.read_csv('Validation Dataset- Cause_Effects - Classifier (1).csv')"
      ],
      "execution_count": 92,
      "outputs": []
    },
    {
      "cell_type": "code",
      "metadata": {
        "colab": {
          "base_uri": "https://localhost:8080/"
        },
        "id": "FwGGt2wqT-dU",
        "outputId": "09b5e4d6-031a-40d5-d457-2393a3c54ec5"
      },
      "source": [
        "df_test['Sentence(s)']"
      ],
      "execution_count": 93,
      "outputs": [
        {
          "output_type": "execute_result",
          "data": {
            "text/plain": [
              "0      Record downpours in Tennessee provoked a state...\n",
              "1      In California, heavy precipitation damaged tho...\n",
              "2      Extreme rain events have devastated communitie...\n",
              "3      More than 70% of the planet’s surface is water...\n",
              "4      Every 1°F rise also allows the atmosphere to h...\n",
              "                             ...                        \n",
              "215    Climate scientists have correlated the growing...\n",
              "216    By mid-century, the annual area burned in the ...\n",
              "217    Wildfire season can spark anytime throughout t...\n",
              "218                            Can rain cause more fire?\n",
              "219                         Wet vegetation doesn’t burn.\n",
              "Name: Sentence(s), Length: 220, dtype: object"
            ]
          },
          "metadata": {
            "tags": []
          },
          "execution_count": 93
        }
      ]
    },
    {
      "cell_type": "code",
      "metadata": {
        "colab": {
          "base_uri": "https://localhost:8080/"
        },
        "id": "RK0V18tfUBa1",
        "outputId": "c55a3728-e480-4349-a54e-a0285bb08d0f"
      },
      "source": [
        "df_test['Nikita_has_cause_effect']"
      ],
      "execution_count": 94,
      "outputs": [
        {
          "output_type": "execute_result",
          "data": {
            "text/plain": [
              "0      1\n",
              "1      1\n",
              "2      1\n",
              "3      1\n",
              "4      1\n",
              "      ..\n",
              "215    0\n",
              "216    0\n",
              "217    0\n",
              "218    0\n",
              "219    0\n",
              "Name: Nikita_has_cause_effect, Length: 220, dtype: int64"
            ]
          },
          "metadata": {
            "tags": []
          },
          "execution_count": 94
        }
      ]
    },
    {
      "cell_type": "code",
      "metadata": {
        "colab": {
          "base_uri": "https://localhost:8080/"
        },
        "id": "aq7lgP0hUuW8",
        "outputId": "69a64de2-0c33-454c-c45b-d16e42de0cb9"
      },
      "source": [
        "for x in range(0, len(df_test)):\r\n",
        "  df_test.iloc[x]['Nikita_has_cause_effect'] = (int)(df_test.iloc[x]['Nikita_has_cause_effect'])"
      ],
      "execution_count": 95,
      "outputs": [
        {
          "output_type": "stream",
          "text": [
            "/usr/local/lib/python3.7/dist-packages/ipykernel_launcher.py:2: SettingWithCopyWarning: \n",
            "A value is trying to be set on a copy of a slice from a DataFrame\n",
            "\n",
            "See the caveats in the documentation: https://pandas.pydata.org/pandas-docs/stable/user_guide/indexing.html#returning-a-view-versus-a-copy\n",
            "  \n"
          ],
          "name": "stderr"
        }
      ]
    },
    {
      "cell_type": "code",
      "metadata": {
        "colab": {
          "base_uri": "https://localhost:8080/",
          "height": 764
        },
        "id": "TLUSyWwbVLHc",
        "outputId": "18e6e5a1-5372-44ee-de1f-6c1a3f6e38ad"
      },
      "source": [
        "df_test.sample(10)"
      ],
      "execution_count": 96,
      "outputs": [
        {
          "output_type": "execute_result",
          "data": {
            "text/html": [
              "<div>\n",
              "<style scoped>\n",
              "    .dataframe tbody tr th:only-of-type {\n",
              "        vertical-align: middle;\n",
              "    }\n",
              "\n",
              "    .dataframe tbody tr th {\n",
              "        vertical-align: top;\n",
              "    }\n",
              "\n",
              "    .dataframe thead th {\n",
              "        text-align: right;\n",
              "    }\n",
              "</style>\n",
              "<table border=\"1\" class=\"dataframe\">\n",
              "  <thead>\n",
              "    <tr style=\"text-align: right;\">\n",
              "      <th></th>\n",
              "      <th>original curator</th>\n",
              "      <th>keep</th>\n",
              "      <th>Sentence(s)</th>\n",
              "      <th>if edge, edge type (causes or inhibits/inhibited by) ?</th>\n",
              "      <th>Nikita_has_cause_effect</th>\n",
              "      <th>Shweta_has_cause_effect</th>\n",
              "      <th>key word that indicates edge type</th>\n",
              "      <th>if edge, node(s) 1 [start node(s)]</th>\n",
              "      <th>if edge, node(s) 2 [end node(s)]</th>\n",
              "      <th>Easy / Hard Label</th>\n",
              "      <th>Comments</th>\n",
              "      <th>Unnamed: 11</th>\n",
              "    </tr>\n",
              "  </thead>\n",
              "  <tbody>\n",
              "    <tr>\n",
              "      <th>132</th>\n",
              "      <td>Nikita</td>\n",
              "      <td>yes?</td>\n",
              "      <td>Earth’s warming climate is forecasted to make ...</td>\n",
              "      <td>causes_or_promotes</td>\n",
              "      <td>1</td>\n",
              "      <td>1</td>\n",
              "      <td>NaN</td>\n",
              "      <td>warming climate</td>\n",
              "      <td>global precipitation patterns more extreme</td>\n",
              "      <td>NaN</td>\n",
              "      <td>warming climate leads to more extreme weather ...</td>\n",
              "      <td>NaN</td>\n",
              "    </tr>\n",
              "    <tr>\n",
              "      <th>148</th>\n",
              "      <td>Shweta</td>\n",
              "      <td>no</td>\n",
              "      <td>Western Washington, also deemed to be at risk ...</td>\n",
              "      <td>causes_or_promotes</td>\n",
              "      <td>0</td>\n",
              "      <td>0</td>\n",
              "      <td>NaN</td>\n",
              "      <td>heavy snow packs and rains</td>\n",
              "      <td>unusual number of fires</td>\n",
              "      <td>NaN</td>\n",
              "      <td>NaN</td>\n",
              "      <td>NaN</td>\n",
              "    </tr>\n",
              "    <tr>\n",
              "      <th>93</th>\n",
              "      <td>Nikita</td>\n",
              "      <td>yes</td>\n",
              "      <td>Insurance in fire-prone areas is getting more ...</td>\n",
              "      <td>causes_or_promotes</td>\n",
              "      <td>1</td>\n",
              "      <td>1</td>\n",
              "      <td>NaN</td>\n",
              "      <td>fire-prone areas</td>\n",
              "      <td>expensive Insurance</td>\n",
              "      <td>NaN</td>\n",
              "      <td>NaN</td>\n",
              "      <td>NaN</td>\n",
              "    </tr>\n",
              "    <tr>\n",
              "      <th>180</th>\n",
              "      <td>Kameron</td>\n",
              "      <td>yes</td>\n",
              "      <td>Westerling identified a clear link between cha...</td>\n",
              "      <td>associates with</td>\n",
              "      <td>0</td>\n",
              "      <td>0</td>\n",
              "      <td>clear link between</td>\n",
              "      <td>changes in temperature</td>\n",
              "      <td>changes in length of fire season</td>\n",
              "      <td>NaN</td>\n",
              "      <td>NaN</td>\n",
              "      <td>NaN</td>\n",
              "    </tr>\n",
              "    <tr>\n",
              "      <th>15</th>\n",
              "      <td>Kameron</td>\n",
              "      <td>yes</td>\n",
              "      <td>Yet high temperatures and low rain and snowfal...</td>\n",
              "      <td>causes_or_promotes</td>\n",
              "      <td>1</td>\n",
              "      <td>1</td>\n",
              "      <td>driver of</td>\n",
              "      <td>[increase in] high temperatures</td>\n",
              "      <td>[increase in] intense forest fires</td>\n",
              "      <td>NaN</td>\n",
              "      <td>NaN</td>\n",
              "      <td>NaN</td>\n",
              "    </tr>\n",
              "    <tr>\n",
              "      <th>115</th>\n",
              "      <td>Sampath</td>\n",
              "      <td>yes</td>\n",
              "      <td>For instance, rising average temperatures are ...</td>\n",
              "      <td>causes_or_promotes</td>\n",
              "      <td>1</td>\n",
              "      <td>1</td>\n",
              "      <td>leading to</td>\n",
              "      <td>rising average temperatures</td>\n",
              "      <td>longer ragweed pollen season</td>\n",
              "      <td>NaN</td>\n",
              "      <td>NaN</td>\n",
              "      <td>NaN</td>\n",
              "    </tr>\n",
              "    <tr>\n",
              "      <th>172</th>\n",
              "      <td>Nikita</td>\n",
              "      <td>no</td>\n",
              "      <td>He and his team examined soil moisture data se...</td>\n",
              "      <td>causes_or_promotes</td>\n",
              "      <td>1</td>\n",
              "      <td>1</td>\n",
              "      <td>NaN</td>\n",
              "      <td>greenhouse gas emissions</td>\n",
              "      <td>risk of a megadrought</td>\n",
              "      <td>NaN</td>\n",
              "      <td>NaN</td>\n",
              "      <td>NaN</td>\n",
              "    </tr>\n",
              "    <tr>\n",
              "      <th>209</th>\n",
              "      <td>new_sampled</td>\n",
              "      <td>NaN</td>\n",
              "      <td>Many military bases along the US East Coast an...</td>\n",
              "      <td>NaN</td>\n",
              "      <td>0</td>\n",
              "      <td>0</td>\n",
              "      <td>NaN</td>\n",
              "      <td>NaN</td>\n",
              "      <td>NaN</td>\n",
              "      <td>NaN</td>\n",
              "      <td>NaN</td>\n",
              "      <td>NaN</td>\n",
              "    </tr>\n",
              "    <tr>\n",
              "      <th>75</th>\n",
              "      <td>Nikita</td>\n",
              "      <td>yes</td>\n",
              "      <td>Wildfire smoke has also been linked to longer-...</td>\n",
              "      <td>causes_or_promotes</td>\n",
              "      <td>1</td>\n",
              "      <td>1</td>\n",
              "      <td>NaN</td>\n",
              "      <td>Wildfire smoke</td>\n",
              "      <td>lower birth weight for babies</td>\n",
              "      <td>NaN</td>\n",
              "      <td>NaN</td>\n",
              "      <td>NaN</td>\n",
              "    </tr>\n",
              "    <tr>\n",
              "      <th>142</th>\n",
              "      <td>Nikita</td>\n",
              "      <td>?</td>\n",
              "      <td>With climate change raising the risk of hot an...</td>\n",
              "      <td>causes_or_promotes</td>\n",
              "      <td>1</td>\n",
              "      <td>1</td>\n",
              "      <td>NaN</td>\n",
              "      <td>climate change</td>\n",
              "      <td>risk of hot and dry weather</td>\n",
              "      <td>NaN</td>\n",
              "      <td>no explicit mention of the cause relationship</td>\n",
              "      <td>NaN</td>\n",
              "    </tr>\n",
              "  </tbody>\n",
              "</table>\n",
              "</div>"
            ],
            "text/plain": [
              "    original curator  ... Unnamed: 11\n",
              "132           Nikita  ...         NaN\n",
              "148           Shweta  ...         NaN\n",
              "93            Nikita  ...         NaN\n",
              "180          Kameron  ...         NaN\n",
              "15           Kameron  ...         NaN\n",
              "115          Sampath  ...         NaN\n",
              "172           Nikita  ...         NaN\n",
              "209      new_sampled  ...         NaN\n",
              "75            Nikita  ...         NaN\n",
              "142           Nikita  ...         NaN\n",
              "\n",
              "[10 rows x 12 columns]"
            ]
          },
          "metadata": {
            "tags": []
          },
          "execution_count": 96
        }
      ]
    },
    {
      "cell_type": "code",
      "metadata": {
        "id": "760AqCwya6Ni"
      },
      "source": [
        "df_test.columns = ['original curator', 'keep', 'Sentence',\r\n",
        "       'if edge, edge type (causes or inhibits/inhibited by) ?',\r\n",
        "       'Nikita_has_cause_effect', 'Shweta_has_cause_effect',\r\n",
        "       'key word that indicates edge type',\r\n",
        "       'if edge, node(s) 1 [start node(s)]',\r\n",
        "       'if edge, node(s) 2 [end node(s)]', 'Easy / Hard Label', 'Comments',\r\n",
        "       'Unnamed: 11']"
      ],
      "execution_count": 97,
      "outputs": []
    },
    {
      "cell_type": "code",
      "metadata": {
        "colab": {
          "base_uri": "https://localhost:8080/"
        },
        "id": "pXKsOKYjZLdb",
        "outputId": "17a20623-0fba-431b-aa72-b0e4c46141e8"
      },
      "source": [
        "df_test.Sentence.values"
      ],
      "execution_count": 98,
      "outputs": [
        {
          "output_type": "execute_result",
          "data": {
            "text/plain": [
              "array(['Record downpours in Tennessee provoked a state of emergency and led to mudslides.',\n",
              "       'In California, heavy precipitation damaged thousands of buildings. ',\n",
              "       'Extreme rain events have devastated communities around the nation — and the frequency and severity of such events are expected to worsen in a warming world.',\n",
              "       'More than 70% of the planet’s surface is water, and as the world warms, more water evaporates from oceans, lakes, and soils.',\n",
              "       'Every 1°F rise also allows the atmosphere to hold 4% more water vapor.',\n",
              "       'In most areas, rainfall extremes have intensified as the climate has warmed.',\n",
              "       'So when weather patterns lead to heavy rain, there is even more moisture available for stronger downpours, increasing the risk and severity of flooding.',\n",
              "       'As the climate warms, these stronger storms can intensify flooding.',\n",
              "       'Finally, most cities have recently observed more storms with an inch of rain or more, causing threats of flooding to spike upward.',\n",
              "       'There are many different factors that contribute to forest fires in a given year, including how many fires are ignited (arson, lightning strikes, downed power lines, malfunctioning equipment, etc), where they occur, how high temperatures are, how low precipitation has been and wind conditions where fires occur.',\n",
              "       'They found that, while land-use history and “fuel-loading” – the amount of accumulated burnable vegetation – were important factors for specific forest areas, “the broad-scale increase in wildfire frequency across the western US has been driven primarily by sensitivity of fire regimes to recent changes in climate over a relatively large area”.',\n",
              "       'Most of the area burned today is in the western US, where dryer conditions tend to allow for large, quickly-spreading wildfires.',\n",
              "       'I think it is shown without any room for reasonable doubt that climate is warming and becoming more variable because of human activity.',\n",
              "       'Because precipitation is more variable in western US and temperatures are increasing, you know that wildfires will be amped up because of climate change.',\n",
              "       'While climate models agree that temperatures have increased in the western US due to human activity, the human role in changes in rain and snow over that period is less clear-cut and varies greatly between models.',\n",
              "       'Yet high temperatures and low rain and snowfall are not the only driver of intense forest fires.',\n",
              "       'Fuel-loading and the damages resulting from wildfires have also been magnified by an increase in the number of people living in remote, forested areas in recent decades.',\n",
              "       'Larger populations increase the political pressure to limit controlled burns and other preventative measures to reduce fuel load.',\n",
              "       'The figure below, taken from their 2014 paper, shows the role that changes in human activity – mainly burning land to convert forest areas to agriculture – as well as climate change and CO2 fertilisation and increased nitrogen deposition – increased atmospheric CO2 and nitrogen pollution that both help fertilize plants and increase growth of flammable vegetation – have played in the area burned by wildfires in different regions of the world.',\n",
              "       'The data, to be published in full next month, shows the extra strain that poor air quality is putting on already stretched NHS emergency resources',\n",
              "       'Simon Stevens, the chief executive of NHS England, said: “These new figures show air pollution is now causing thousands of strokes, cardiac arrests and asthma attacks, so it’s clear that the climate emergency is in fact also a health emergency',\n",
              "       'Jenny Bates, an air pollution campaigner at Friends of the Earth, said: “Many people may not realise how dangerous air pollution at high levels can be, and that it can trigger heart attacks, strokes and asthma attacks as well as having long-term health effects.',\n",
              "       'Bates said clean air zones were needed, but also measures to cut all traffic “because all vehicles produce deadly fine particle air pollution from brake and tyre wear',\n",
              "       'Climate change contributes to more and bigger wildfires in a variety of ways.\\n',\n",
              "       'The rise in average global temperatures has led to higher spring and summer temperatures, and importantly an earlier onset of spring',\n",
              "       'This pattern has led to a rapid melting of spring snowpack, causing soils to dry out earlier and remain dry longer.',\n",
              "       'Warming temperatures have allowed populations of mountain pine beetles to explode at elevations and latitudes where winters were historically cold enough to limit their numbers',\n",
              "       'As wildfires grow in frequency, intensity, and the amount of area burned, they pose serious health risks.\\n\\n',\n",
              "       'Smoke from wildfires contains volatile and semi-volatile organic compounds and nitrogen oxides that form ozone and organic particulates and other toxic pollutants – all of which can be dangerous and even deadly for sensitive populations',\n",
              "       'Wildfires also impact climate change because they emit massive amounts of carbon dioxide and other pollutants that can affect regional and even global climate.',\n",
              "       'While wildfires can be natural drivers of rejuvenation in forest landscapes, the frequency and intensity of fires as the global climate warms can sterilize soils and destroy a forest’s ability to recover.',\n",
              "       'To limit the damage from such destructive fires, many forest managers say it’s critical to thin dying and dead timber from forests',\n",
              "       'The rain and snow created perfect growing conditions for shrubs, grasses and young trees — highly flammable material that, along with dead wood from previous years, becomes a tinderbox during the dry summer season.',\n",
              "       'Fire has always been a fact of life in the West, but the length and severity of fire season are increasing because of decades of fire suppression that caused fuel to build up on the forest floor, and ever-rising temperatures that are drying out our wildlands.',\n",
              "       'As we implement these programs, we must put a premium on increasing community resilience and preparedness in high-risk areas — by clearing small trees and fuel and building literal fire breaks to keep people and property safer.',\n",
              "       'Volatility in conditions, from rains to extreme drought, can prime the land for fire',\n",
              "       'Wildfires can spread easily during periods of dry and warm conditions',\n",
              "       'If the dry conditions persist, a drought can develop, leading to conditions favorable for wildfires as all the excess dried-out vegetation provides ample fuel for the fires.',\n",
              "       'Wildfires will ignite very easily under such dry conditions and can spread quickly',\n",
              "       'Lightning can be a good starter of wildfires, especially under such dry conditions',\n",
              "       'Careless use of camping or trash-burning fires and even tossed cigarettes can also start fires',\n",
              "       'In these areas, burn bans will be put into effect in an effort to stop the wildfires from developing and easily spreading.',\n",
              "       'In many areas across the Southeast US, controlled burning efforts are used as a precaution to try to contain wildfires if they do happen to start up randomly',\n",
              "       'With controlled burning efforts, the short brush in the forest is burned up to eliminate the fuel source for the fires',\n",
              "       'Though El Niño conditions vary in each episode, the increase in the average amount of rainfall allows for underbrush to grow in forests',\n",
              "       'Communities in the Southeast are often happy to welcome the warmer weather during the winter season because frosts and freezes will be less likely, although the warmer weather can cause problems in the Midwest for crops like winter wheat, due to more frequent freeze-thaw cycles in these years in the colder climates.',\n",
              "       'This wet and warm weather allowed plants and underbrush to grow in the forests',\n",
              "       'The hot and dry conditions led to the development of large numbers of wildfires across Florida’s coast.',\n",
              "       'This led to the drought across the state of Florida with the below average amount of rainfall which continued throughout the rest of the year, damaging many hundreds of acres of farmland and forests. ',\n",
              "       'Wildfires can start easily under warm and dry conditions with low relative humidity',\n",
              "       'Wildfires get easily out of control in California because of the type of trees in the forest accompanied by conditions of low relative humidity and warm air',\n",
              "       'Strong winds also help with the spread of wildfires throughout California',\n",
              "       'These California fires damage a lot of farmland every year as well as forests that are a natural habitat for animals',\n",
              "       'Increased forest fire activity across the western United States in recent decades has contributed to widespread forest mortality, carbon emissions, periods of degraded air quality, and substantial fire suppression expenditures.',\n",
              "       'Although numerous factors aided the recent rise in fire activity, observed warming and drying have significantly increased fire-season fuel aridity, fostering a more favorable fire environment across forested systems',\n",
              "       'We demonstrate that human-caused climate change caused over half of the documented increases in fuel aridity since the 1970s and doubled the cumulative forest fire area since 1984.',\n",
              "       'Anthropogenic increases in temperature and vapor pressure deficit significantly enhanced fuel aridity across western US forests over the past several decades and, during 2000–2015, contributed to 75% more forested area experiencing high (>1 σ) fire-season fuel aridity and an average of nine additional days per year of high fire potential.',\n",
              "       'Our analysis shows that ACC accounts for ∼54% of the increase in fire-weather season length in the all-metric mean (15–79% for individual metrics).',\n",
              "       'Since the 1970s, human-caused increases in temperature and vapor pressure deficit have enhanced fuel aridity across western continental US forests, accounting for approximately over half of the observed increases in fuel aridity during this period.',\n",
              "       'The growing ACC influence on fuel aridity is projected to increasingly promote wildfire potential across western US forests in the coming decades and pose threats to ecosystems, the carbon budget, human health, and fire suppression budgets (13, 48) that will collectively encourage the development of fire-resilient landscapes',\n",
              "       'Wildfires are a major driver of greenhouse gas emissions and are also responsible for 5-8% of the 3.3 million annual premature deaths from poor air quality, research suggests.',\n",
              "       'Fires in Indonesia have been worsened by the practice of draining peatlands.',\n",
              "       'When temperatures are warmer than average, rates of evaporation increase, causing moisture to be drawn out from plants on the land',\n",
              "       'But if you have a huge drought or heatwave, a lot of that vegetation will be very dry and, therefore, it will become fuel.',\n",
              "       'We found that climate change made the bushfires at least 30% more likely – and that is a conservative estimate.',\n",
              "       'As well as making fires more severe, warming temperatures are also making fire seasons longer in some regions, explains Dr Megan Kirchmeier-Young, a researcher of climate extremes at the Government of Canada.',\n",
              "       'This creates “fire breaks” in the landscape, which can prevent fires from quickly spreading over large areas of wildland.',\n",
              "       'A study published in Science in 2006 found that the accumulation of trees – also known as “fuel loading” – and human-caused climate change are both important factors in increased fire risk across the western US. Lake says',\n",
              "       'Fires in the country have been exacerbated further by the practice of peatland draining.',\n",
              "       'Climate change will continue to drive temperature rise and more unpredictable rainfall in many parts of the world',\n",
              "       'But outdated forest management practices and climate change — which brings hotter, drier conditions — have provided the kindling for infernos of such immense scale. ',\n",
              "       'New growth, including more flammable brush and grasses, could fuel fires and put homes and lives at risk again, he said. ',\n",
              "       'As the climate has warmed, fire season, which traditionally peaks in late summer and into the fall, has been expanding — sometimes starting as early as the spring, and lasting into late fall.',\n",
              "       'Fires have become more destructive over time, especially as people have moved further into fire-prone areas.',\n",
              "       'Breathing in high concentrations of particulate pollution can worsen asthma and other respiratory problems in the short term, and can even lead to strokes or heart attacks.',\n",
              "       'Wildfire smoke has also been linked to longer-term consequences, like lower birth weight for babies and impaired lung function in adults. ',\n",
              "       'Increasing heat, changing rain and snow patterns, shifts in plant communities, and other climate-related changes have vastly increased the likelihood that fires will start more often and burn more intensely and widely than they have in the past.',\n",
              "       'Other factors also hike fire risk, like forest management decisions that have allowed for the buildup of vast amounts of vegetation that can quickly turn into fuel, as well as more problematic issues like the slow creep of houses and other infrastructure into risky areas.',\n",
              "       'Human-caused ignitions are clearly a major part of the risk: A study published in September, on which Balch was a co-author, found that humans were responsible for 97 percent of the ignitions that caused fires that then threatened homes in the wildland-urban interface, between 1992 and 2015',\n",
              "       'The planet has heated up nearly continuously since the start of the Industrial Revolution in the late 1800s, when humans started burning massive quantities of fossil fuels, releasing carbon dioxide that traps excess heat in the atmosphere',\n",
              "       'Scientists can measure this \"vapor pressure deficit\"—the difference between how much water the air holds and how much it could hold. If that deficit is cranked up for a long time, soils and vegetation will parch.',\n",
              "       'Intense, record-breaking heat waves like the ones that encompassed the West during August and early September likely caused major crisping of burnable material, as the regional vapor pressure deficit and associated drought climbed to record levels.',\n",
              "       'When excess heat stays in place for months or longer, the wildfire risk rises even further.',\n",
              "       'An early, warm spring can jump-start a summer drought by extending the season of heat and growth, increasing the amount of water vapor that is shed by plant leaves or that evaporates directly from soil. ',\n",
              "       'When there’s no moisture left to evaporate, the soil or vegetation, dead and alive, absorbs that heat instead—feeding back into the drying-out process that increases fire risk.',\n",
              "       'Since the 1970s, a recent study found, human-caused climate change caused more than half of the drying-out of burnable materials and consequent fire risk.',\n",
              "       'Higher autumn temperatures and less precipitation—in particular, a growing delay in the onset of winter rains, which usually puts an end to the fire season in California—have led to a 20 percent increase in the number of autumn days ripe for burning',\n",
              "       \"California's fires are disruptive long after they are put out, displacing homeowners and even entire communities for months or years\",\n",
              "       \"Weakened by a prolonged drought, which scientists link to climate change, California's ubiquitous pines and oaks are vulnerable to insect infestation and disease\",\n",
              "       'Moreover, as more trees die, another weapon to combat climate change is lost: the prodigious ability of healthy trees to absorb carbon from the atmosphere. ',\n",
              "       'Fast-growing and opportunistic non-native plants rush in after fires, with the potential to wholly supplant native species.',\n",
              "       'Invasive grasses and weeds often burn more readily, fanning hotter and more frequent fires.',\n",
              "       'When fires burn in uninhabited wildlands, their corrosive effects can be carried hundreds of miles by the wind, causing stinging eyes, burning throats and severe coughing.',\n",
              "       'Insurance in fire-prone areas is getting more expensive.',\n",
              "       'Droughts can create ideal conditions for wildfires',\n",
              "       'Lack of rain and low humidity dry out trees and vegetation, providing fuel.',\n",
              "       'So in the short term, more droughts probably mean more fire as the vegetation dries out,',\n",
              "       '“Once we change the climatology and get drier and drier fuels, we should expect more intense fires and higher fire severity,” said Adam Kochanski, an atmospheric scientist at the University of Utah, referring to the size and impact of the fires.',\n",
              "       'Dry conditions may prevent new seeds from germinating in the burned areas.',\n",
              "       'Vegetation loss can lead to erosion and sediment blocking waterways, and firefighting chemicals may contaminate water sources.',\n",
              "       'It creates this vicious cycle where snow melts earlier due to climate change, which extends the summer drought period where the soil dries out, and when the fuels dry out, you get these big fires',\n",
              "       'As climate change progresses, temperatures will continue to rise, meaning greater rates of evapotranspiration that will cause plants to dry out faster',\n",
              "       '“Global warming is expected to cause extreme weather events, which may, in turn, result in large day-to-day fluctuations in temperature,” said Hedvig Andersson, a cardiology researcher at the University of Michigan. “Our study suggests that such fluctuations in outdoor temperature could potentially lead to an increased number of heart attacks and affect global cardiac health in the future.”',\n",
              "       'Changes of more than 25 degrees Celsius, or 45 degrees Fahrenheit, were linked to a greater increase in heart attack rates compared to a smaller increase with temperature swings of 10 to 25 degrees Celsius, or 18–45 degrees Fahrenheit, according to the researchers.',\n",
              "       'A study in the British Medical Journal found that each 1C temperature drop on a single day in the UK is linked to 200 extra heart attacks.',\n",
              "       'They found that a 1C reduction in average daily temperature was linked with a cumulative 2% increase in risk of heart attack for 28 days, even in the summer.',\n",
              "       'Both excessively low and high temperatures affect cardiac diseases [2], and climate change can therefore affect local patterns of heart disease in several ways.',\n",
              "       '\"Our study suggests that greater consideration should be given to high temperatures as a potential trigger for heart attacks -- especially in view of climate change,\"',\n",
              "       'Analyses of daily death rates have shown that both low and high temperatures are associated with increases in cardiovascular disease mortality.',\n",
              "       'Many states were affected by extreme drought. Drought conditions persisted in the Four Corners region of the Southwest, causing damage to crops.',\n",
              "       'It found that in certain years and certain contexts, warming-related drought sparked conflicts that sent refugees abroad.',\n",
              "       'She stressed that climate change may also contribute to low agricultural yields and gross domestic product — conditions that might set the stage for conflict or compel people to leave a country',\n",
              "       'the violence was a consequence of the drought',\n",
              "       'claiming that each rise in temperature or extreme rainfall by one standard variation increased the frequency of interpersonal violence by 4% and intergroup conflict by 14%.',\n",
              "       'by increasing the frequency and intensity of extreme weather events, including floods and droughts, it makes conflict likelier than it would otherwise be',\n",
              "       'For instance, rising average temperatures are leading to a longer ragweed pollen season, as you can see here',\n",
              "       'A 2019 paper published in The Lancet Planetary Health journal found that airborne pollen counts have increased around the world as average temperatures climbed',\n",
              "       'the change in carbon dioxide concentrations from a preindustrial level of 280 parts per million to today’s concentrations of more than 400 ppm has led to a corresponding doubling in pollen production per plant of ragweed.',\n",
              "       'It turns out that higher carbon dioxide concentrations encourage plants to produce more pollen.',\n",
              "       'These findings indicate that air pollutants are significantly associated with ischemic stroke mortality, which suggests an acute pathogenetic process in the cerebrovascular system induced by air pollution.',\n",
              "       'After months of drying in the longer periods of higher temperatures, stressed forests have become more susceptible to infestations by bark beetles and other insects that thrive in warmer temperatures',\n",
              "       'Throughout the western United States and Canada, bark beetles have killed off hundreds of millions of trees and devastated forestlands, turning them into kindling for catastrophic wildfires',\n",
              "       'Meanwhile, the West Coast of the U.S. is particularly susceptible to a kind of weather whiplash – wet winters fueled by atmospheric river storms originating in the Eastern Pacific, followed by parched summers that dry out spring vegetation and transform it into kindling for wildfires in the fall.',\n",
              "       'Wildfires can occur during drought conditions when the land and vegetation have dried out.',\n",
              "       'There’s too much fuel loading and it’s now too warm, the ability of ignition is greater with both lightning and human-set fires, and now we have these much larger and more extensive fires',\n",
              "       'Many fires that erupted in California in August were sparked by lightning strikes, including the August Complex, which has become the state’s largest. ',\n",
              "       'Oregon hospitals reported a 10 percent increase in emergency room visits for breathing problems during this month’s fires',\n",
              "       'More recent blazes feasted on vegetation that has been sucked of moisture by persistent drought',\n",
              "       'decaying forests continue to emit harmful pollutants.',\n",
              "       \"And the damage doesn't cease once flames are snuffed out\",\n",
              "       \"When fires rage in California's mountains, the system that stores and cleans water, feeds streams and rivers, supports fish and other wildlife and literally holds the hillsides together burns up\",\n",
              "       'Areas that face increasingly severe droughts will also be at risk for more and larger fires',\n",
              "       'Earth’s warming climate is forecasted to make global precipitation patterns more extreme:',\n",
              "       'We could also see an increased variability in rainfall, meaning that rain could come in short intense bursts followed by long periods of dryness. soakings during our wet season, recovery from dry periods is more difficult. ',\n",
              "       'Overall, the results showed the risk of a heart attack increased by about 5 percent for every five-degree Celsius jump in temperature differential',\n",
              "       'In September 2013, Boulder, Colorado, received almost a year’s worth of rainfall (17 inches) in four days. The resulting flooding destroyed homes, shut down thousands of oil and gas wells, and damaged crops.',\n",
              "       'And then if dry conditions follow, you’ve got the perfect setting for fire — dry fuel, and lots of it.  ',\n",
              "       'We need to quickly draw down emissions to avoid more catastrophic impacts, and to prioritize measures that reduce our vulnerability to the fires that will continue to occur.',\n",
              "       'Drought conditions sometimes develop after a period of above average amounts of rainfall over an extended area.',\n",
              "       'The complex interactions between fire, climate, and vegetation are one of the more interesting and challenging aspects of understanding how fire is changing on our landscape in response to climatic change.',\n",
              "       'Local fires can be seen in the United States almost every year when the lands start to dry out, particularly in Florida or California in the middle of spring',\n",
              "       'Under drought conditions, not enough precipitation falls to relieve the land from drought and wildfires get out of hand',\n",
              "       'With climate change raising the risk of hot and dry weather in many parts of the world, it may seem prudent to assume that the global area burned by wildfires each year is increasing.',\n",
              "       'With less wild savannah left, sub-Saharan Africa has seen a decline in the number of large wildfires, says Santin.\\n\\n',\n",
              "       'The authors of the Science paper also attribute decreases in burnt area to the conversion of savannah to agricultural land.',\n",
              "       'Much of the recent research on air pollution has focused on the lifelong effects of chronic exposure, including cognitive decline, stunted growth in children and premature death. ',\n",
              "       'The absence of significantly increased powers for local leaders, together with a lack of reference to the need for adequate funding, are the big holes in the bill that will hold action back.',\n",
              "       'Meanwhile, in arid Arizona, heavier-than-normal rains since last fall recently prompted fire officials to issue warnings to people in or near wildland areas prone to fire.',\n",
              "       'Western Washington, also deemed to be at risk this year after heavy snow packs and rains, has already logged an unusual number of fires',\n",
              "       'But then in 2005 rains came and led to a burst of vegetation growth, and sure enough, large fires followed',\n",
              "       'By 2005, rains moistened the forest, helping to protect it from fire.  ',\n",
              "       'These new plants and shallow-rooted trees are the first to start to wilt when dry conditions begin.',\n",
              "       'Many regions experience distinct wildfire seasons, driven by rainy and dry periods and human practices, such as agricultural burning',\n",
              "       'The fires have also wiped out populations of endangered species, including half of Washington’s pygmy rabbit population, according to the New York Times',\n",
              "       'In 2015, Indonesia’s wildfires spiked, causing greenhouse gas release on the same scale as Brazil’s total annual emissions.',\n",
              "       'In the Attica region of Greece, wildfires ripped across large swathes of dry land at lightning speed, causing people to rush to nearby beaches and into the sea.',\n",
              "       'We’ve seen longer fire seasons, which has also affected plant phenology, and we have extended periods of drought.',\n",
              "       'This year, Science Brief – a UK-based web platform run by a team of scientists – released a review of 73 scientific studies finding that climate change is increasing the risk of wildfires at a global level.',\n",
              "       'The review found strong evidence that climate change is making the weather conditions needed for wildfires more likely',\n",
              "       'For example, a study published in 2020 found that, in California, “climate change will further amplify the number of days with extreme fire weather by the end of this century”. ',\n",
              "       'In Australia, days with fire weather akin to that seen during the 2019-2020 bushfires could become at least four times more likely under 2C of global warming, according to Otto’s recent analysis.',\n",
              "       'For future scenarios, global burnt area will continue to decline under a moderate emissions scenario',\n",
              "       'As wind fueled many of the fires in the last month, it also spread a thick blanket of smoke and soot across the region.',\n",
              "       'Climate change has inexorably stacked the deck in favor of bigger and more intense fires across the American West over the past few decades, science has incontrovertibly shown',\n",
              "       'Short-term drought events or heat waves are really impactful for drying those out.',\n",
              "       'So climate change has increased fire risk in both direct and indirect ways',\n",
              "       'The state has exceeded projected fire suppression costs in seven of the last 10 years.',\n",
              "       \"And rather than waiting to respond to a wildfire, emergency personnel have shifted to pre-positioning strike teams before a fire even starts. It's a strategy that costs more.\",\n",
              "       'The financial toll for homeowners, renters and businesses in the past two fire seasons has topped $10 billion in insured losses each year.',\n",
              "       'A December 2017 survey by the California Department of Insurance found an uptick in renewal complaints in areas designated by Cal Fire as having the greatest risk of wildfire.',\n",
              "       'At the same time, insurance policies of last resort written for brush and wildfire areas have increased from 22,397 policies to 33,898 policies, a 51 percent increase over five years.',\n",
              "       'Fire investigators say PG&E equipment caused a dozen Northern California fires, including the Nuns Fire and Atlas Fire, during a month of hot, dry and windy conditions',\n",
              "       'He and his team examined soil moisture data sets and drought severity indices from 17 different future climate models, and they all predicted that if greenhouse gas emissions continue to increase at their present rate, the risk of a megadrought in the American Southwest could hit 80 percent by the end of the century. ',\n",
              "       'An increase in the risk of acute-onset ischaemic heart disease with increasing temperatures is biologically plausible, given the pathophysiological implications of increased heat exposure.',\n",
              "       'In 2010, almost 20 inches of rain fell in the Nashville, Tennessee, area over three days. Losses in Nashville alone totaled over $1 billion.',\n",
              "       \"According to an analysis performed by insurance company Munich Re, the United States incurred $95 billion in damages caused by natural disasters in 2020, thanks at least in part to climate change's role in producing increasingly common instances of extreme weather events.\",\n",
              "       'Climate change had a hand in the Arab Spring uprising in Tunisia, Libya, Yemen and Syria between 2010 and 2012.',\n",
              "       'Allergies, which are already a major health burden, will become an even larger drain on the economy.',\n",
              "       'Trend data suggest that the prevalence of asthma, including forms of the disease triggered by pollen, mold, and other allergenic substances, is on the rise',\n",
              "       'The recent period of large wildfires in forested areas of the western US has coincided with near-record warm temperatures.',\n",
              "       'Westerling identified a clear link between changes in temperature, length of fire season and areas burned over time.',\n",
              "       'As the figure below shows, there is a strong relationship between temperature (black line) and fire extent (red bars), with warmer years generally having higher fire extent than relatively cooler ones since the early 1980s.',\n",
              "       'A recent 2016 paper in PNAS by Prof John Abatzogloua at the University of Idaho and Prof A Park Williams at Columbia University found an even stronger relationship between forest fire area and fuel aridity – a combination of temperature and precipitation – in the western US.',\n",
              "       'Abatzogloua tells Carbon Brief: “We see a strong relationship between year-to-year variations in how dry fuels are and how much burns in western forests.”',\n",
              "       'He explains that about 75% of year-to-year variations in burned area can be explained by a single climate variable – fuel aridity.',\n",
              "       'Previous studies have found spikes in hospital admissions and GP visits on days of high pollution, but the new data gives precise numbers for nine English cities and shows a clear relationship between heart attacks, strokes and respiratory illnesses and dirty air.',\n",
              "       'Heather Walton, a health expert with the environmental research group at KCL, said the study was intended to provide more detail than others that have tended to concentrate on the effects of air pollution on life expectancy, such as estimates that pollution contributes to 36,000 deaths a year in the UK.',\n",
              "       'As global temperatures rise, wildfires are getting more frequent and intense',\n",
              "       'Climate scientists have correlated the growing incidence and intensity of wildfires with rising global temperatures.',\n",
              "       'The Department for Environment, Food and Rural Affairs said: “We are taking urgent action to improve air quality and tackle pollution so people can live longer healthier lives',\n",
              "       'Last week Europe’s environmental watchdog found that little or no progress had been made across Europe on cutting levels of fine particulate matter, known as PM2.5, which is one of the most dangerous forms of pollution because it can lodge deep in the lungs and penetrate the bloodstream.',\n",
              "       'Each year emergency services see more than 120 additional cardiac arrests, more than 230 additional strokes and nearly 200 more people with asthma requiring hospital treatment on days of high pollution compared with the average on days of lower pollution.',\n",
              "       'By homing in on hospital admissions for cardiac arrests, strokes and asthma, the researchers were able to provide a clearer picture of the acute impacts on people and how emergency services are affected. ',\n",
              "       'Wildfire season can spark anytime throughout the year in arid regions where Mediterranean climates predominate, such as Spain, Portugal, and much of California.',\n",
              "       'Researchers in the United Kingdom have found the strongest link yet between climate change, conflict and migration',\n",
              "       '\"The reality is that climate change is shaping the conversations that they\\'re having in the Security Council now,\" she said.',\n",
              "       'The most obvious cause of their suffering is ideological.',\n",
              "       'We’re seeing increases in both the number of people with allergies and what they’re allergic to',\n",
              "       'Pollen, an allergy trigger for one in five Americans, is surging year after year. ',\n",
              "       'Coupled climate/tropospheric chemistry modeling indicates ozone levels could rise significantly by the end of the century as emissions of precursor pollutants also continue rising',\n",
              "       'Epidemiological studies incorporating time-series analyses have demonstrated an association between short-term exposure to air pollution and increased mortality after adjustment for confounding factors.',\n",
              "       'Relative risks for the pollutant increases were greater for ischemic stroke mortality than for hemorrhagic stroke mortality, except for TSP on the same day.',\n",
              "       'This is a portentous harbinger of global climate change, and an irksome turn of events, as it forced people to switch their clothes, thermostats and ceiling fans from one day to another.',\n",
              "       'As it turns out, such abrupt temperature swings also may be bad for your health.',\n",
              "       'Many of these were sudden cardiac deaths related to heart conditions other than heart attack.',\n",
              "       'Most of the casualties were people in their 70s and 80s, but people who had been taking aspirin long-term appeared to be less vulnerable for some reason. ',\n",
              "       \"In the Shanghai Women's Health Study, cycling for transportation was inversely and independently associated with all-cause mortality.\",\n",
              "       'Analyses of daily death rates have shown that both low and high temperatures are associated with increases in cardiovascular disease mortality',\n",
              "       'Prices and precision vary for these approaches, but the value can be high, especially for high operating cost, high water scarcity regions.',\n",
              "       'Many military bases along the US East Coast and Gulf of Mexico are at risk of permanently losing land to the ocean in the decades ahead.',\n",
              "       'The biggest preventive measure the academy will take is improving the seawall that extends around three-quarters of the yard’s perimeter.',\n",
              "       'Although exposure to sulphur dioxide has been greatly reduced in the developed world through the use of scrubbing equipment in coal-fired power plants and energy sources other than coal combustion, it is a problem in developing countries. ',\n",
              "       'The conflicting results hint at the complexities of climate research, but, since then, the influence of human-caused climate change on extreme weather has become more clear.',\n",
              "       'We’re going to see increases in extreme events, and we need to be prepared.',\n",
              "       'The government has pledged to tackle air pollution in its environment bill, proposals for which were laid out after the Queen’s speech',\n",
              "       'Climate scientists have correlated the growing incidence and intensity of wildfires with rising global temperatures.',\n",
              "       'By mid-century, the annual area burned in the Western U.S., for example, could increase two to six times what it is today, according to the Fourth National Climate Assessment.',\n",
              "       'Wildfire season can spark anytime throughout the year in arid regions where Mediterranean climates predominate, such as Spain, Portugal, and much of California',\n",
              "       'Can rain cause more fire?', 'Wet vegetation doesn’t burn.'],\n",
              "      dtype=object)"
            ]
          },
          "metadata": {
            "tags": []
          },
          "execution_count": 98
        }
      ]
    },
    {
      "cell_type": "code",
      "metadata": {
        "colab": {
          "base_uri": "https://localhost:8080/"
        },
        "id": "-fLynoeBaHJu",
        "outputId": "bdc00268-f857-46e1-f233-25139ed00665"
      },
      "source": [
        "df_test.Nikita_has_cause_effect.values"
      ],
      "execution_count": 32,
      "outputs": [
        {
          "output_type": "execute_result",
          "data": {
            "text/plain": [
              "array([1, 1, 1, 1, 1, 1, 1, 1, 1, 1, 1, 1, 1, 1, 1, 1, 1, 1, 1, 1, 1, 1,\n",
              "       1, 1, 1, 1, 1, 1, 1, 1, 1, 1, 1, 1, 1, 1, 1, 1, 1, 1, 1, 1, 1, 1,\n",
              "       1, 1, 1, 1, 1, 1, 1, 1, 1, 1, 1, 1, 1, 1, 1, 1, 1, 1, 1, 1, 1, 1,\n",
              "       1, 1, 1, 1, 1, 1, 1, 1, 1, 1, 1, 1, 1, 1, 1, 1, 1, 1, 1, 1, 1, 1,\n",
              "       1, 1, 1, 1, 1, 1, 1, 1, 1, 1, 1, 1, 1, 1, 1, 1, 1, 1, 1, 1, 1, 1,\n",
              "       1, 1, 1, 1, 1, 1, 1, 1, 1, 1, 1, 1, 1, 0, 1, 1, 1, 1, 1, 0, 1, 1,\n",
              "       1, 0, 1, 1, 1, 0, 0, 0, 0, 1, 1, 1, 1, 0, 0, 0, 0, 1, 1, 0, 0, 1,\n",
              "       1, 1, 1, 1, 1, 1, 1, 0, 1, 1, 0, 1, 0, 0, 0, 0, 0, 1, 1, 0, 0, 1,\n",
              "       1, 0, 0, 0, 0, 0, 0, 0, 0, 0, 0, 0, 0, 0, 0, 0, 0, 0, 0, 0, 0, 0,\n",
              "       0, 0, 0, 0, 0, 0, 0, 0, 0, 0, 0, 0, 0, 0, 0, 0, 0, 0, 0, 0, 0, 0])"
            ]
          },
          "metadata": {
            "tags": []
          },
          "execution_count": 32
        }
      ]
    },
    {
      "cell_type": "code",
      "metadata": {
        "colab": {
          "base_uri": "https://localhost:8080/"
        },
        "id": "z88DQ-fcVU_N",
        "outputId": "1d033e7b-be56-41c8-bd1f-fa75ae894b10"
      },
      "source": [
        "# Report the number of sentences.\r\n",
        "print('Number of test sentences: {:,}\\n'.format(df_test.shape[0]))\r\n",
        "\r\n",
        "# Create sentence and label lists\r\n",
        "labels = df_test.Nikita_has_cause_effect.values\r\n",
        "sentences = df_test.Sentence.values\r\n",
        "\r\n",
        "\r\n",
        "# Tokenize all of the sentences and map the tokens to thier word IDs.\r\n",
        "input_ids = []\r\n",
        "attention_masks = []\r\n",
        "\r\n",
        "# For every sentence...\r\n",
        "for sent in sentences:\r\n",
        "    # `encode_plus` will:\r\n",
        "    #   (1) Tokenize the sentence.\r\n",
        "    #   (2) Prepend the `[CLS]` token to the start.\r\n",
        "    #   (3) Append the `[SEP]` token to the end.\r\n",
        "    #   (4) Map tokens to their IDs.\r\n",
        "    #   (5) Pad or truncate the sentence to `max_length`\r\n",
        "    #   (6) Create attention masks for [PAD] tokens.\r\n",
        "    encoded_dict = tokenizer.encode_plus(\r\n",
        "                        sent,                      # Sentence to encode.\r\n",
        "                        add_special_tokens = True, # Add '[CLS]' and '[SEP]'\r\n",
        "                        max_length = 128,           # Pad & truncate all sentences.\r\n",
        "                        pad_to_max_length = True,\r\n",
        "                        return_attention_mask = True,   # Construct attn. masks.\r\n",
        "                        return_tensors = 'pt',     # Return pytorch tensors.\r\n",
        "                        truncation=True\r\n",
        "                   )\r\n",
        "    \r\n",
        "    # Add the encoded sentence to the list.    \r\n",
        "    input_ids.append(encoded_dict['input_ids'])\r\n",
        "    \r\n",
        "    # And its attention mask (simply differentiates padding from non-padding).\r\n",
        "    attention_masks.append(encoded_dict['attention_mask'])\r\n",
        "\r\n",
        "# Convert the lists into tensors.\r\n",
        "input_ids = torch.cat(input_ids, dim=0)\r\n",
        "attention_masks = torch.cat(attention_masks, dim=0)\r\n",
        "labels = torch.tensor(labels)\r\n",
        "\r\n",
        "# Set the batch size.  \r\n",
        "batch_size = 16  \r\n",
        "\r\n",
        "# Create the DataLoader.\r\n",
        "prediction_data = TensorDataset(input_ids, attention_masks, labels)\r\n",
        "prediction_sampler = SequentialSampler(prediction_data)\r\n",
        "prediction_dataloader = DataLoader(prediction_data, sampler=prediction_sampler, batch_size=batch_size)"
      ],
      "execution_count": 99,
      "outputs": [
        {
          "output_type": "stream",
          "text": [
            "Number of test sentences: 220\n",
            "\n"
          ],
          "name": "stdout"
        }
      ]
    },
    {
      "cell_type": "code",
      "metadata": {
        "colab": {
          "base_uri": "https://localhost:8080/"
        },
        "id": "Jq2T8Xp6YMel",
        "outputId": "75de95ab-ab3d-4aa5-d98c-6572a59a083a"
      },
      "source": [
        "# Prediction on test set\r\n",
        "\r\n",
        "print('Predicting labels for {:,} test sentences...'.format(len(input_ids)))\r\n",
        "\r\n",
        "# Put model in evaluation mode\r\n",
        "model.eval()\r\n",
        "\r\n",
        "# Tracking variables \r\n",
        "predictions , true_labels = [], []\r\n",
        "\r\n",
        "# Predict \r\n",
        "for batch in prediction_dataloader:\r\n",
        "  # Add batch to GPU\r\n",
        "  batch = tuple(t.to(device) for t in batch)\r\n",
        "  \r\n",
        "  # Unpack the inputs from our dataloader\r\n",
        "  b_input_ids, b_input_mask, b_labels = batch\r\n",
        "  \r\n",
        "  # Telling the model not to compute or store gradients, saving memory and \r\n",
        "  # speeding up prediction\r\n",
        "  with torch.no_grad():\r\n",
        "      # Forward pass, calculate logit predictions\r\n",
        "      outputs = model(b_input_ids, token_type_ids=None, \r\n",
        "                      attention_mask=b_input_mask)\r\n",
        "\r\n",
        "  logits = outputs[0]\r\n",
        "\r\n",
        "  # Move logits and labels to CPU\r\n",
        "  logits = logits.detach().cpu().numpy()\r\n",
        "  label_ids = b_labels.to('cpu').numpy()\r\n",
        "  \r\n",
        "  # Store predictions and true labels\r\n",
        "  predictions.append(logits)\r\n",
        "  true_labels.append(label_ids)\r\n",
        "\r\n",
        "print('    DONE.')"
      ],
      "execution_count": 100,
      "outputs": [
        {
          "output_type": "stream",
          "text": [
            "Predicting labels for 220 test sentences...\n",
            "    DONE.\n"
          ],
          "name": "stdout"
        }
      ]
    },
    {
      "cell_type": "code",
      "metadata": {
        "colab": {
          "base_uri": "https://localhost:8080/"
        },
        "id": "amIOdVhWicBP",
        "outputId": "7342162c-7336-4cfa-a0de-6ba6f1b6fc84"
      },
      "source": [
        "from sklearn.metrics import classification_report,confusion_matrix,accuracy_score\r\n",
        "# Combine the results across all batches. \r\n",
        "flat_predictions = np.concatenate(predictions, axis=0)\r\n",
        "\r\n",
        "# For each sample, pick the label (0 or 1) with the higher score.\r\n",
        "flat_predictions = np.argmax(flat_predictions, axis=1).flatten()\r\n",
        "\r\n",
        "# Combine the correct labels for each batch into a single list.\r\n",
        "flat_true_labels = np.concatenate(true_labels, axis=0)\r\n",
        "\r\n",
        "\r\n",
        "matrix = confusion_matrix(flat_true_labels,flat_predictions)\r\n",
        "print(matrix)\r\n",
        "score = accuracy_score(flat_true_labels,flat_predictions)\r\n",
        "print(score)\r\n",
        "report = classification_report(flat_true_labels, flat_predictions)\r\n",
        "print(report)"
      ],
      "execution_count": 103,
      "outputs": [
        {
          "output_type": "stream",
          "text": [
            "[[ 31  34]\n",
            " [ 36 119]]\n",
            "0.6818181818181818\n",
            "              precision    recall  f1-score   support\n",
            "\n",
            "           0       0.46      0.48      0.47        65\n",
            "           1       0.78      0.77      0.77       155\n",
            "\n",
            "    accuracy                           0.68       220\n",
            "   macro avg       0.62      0.62      0.62       220\n",
            "weighted avg       0.68      0.68      0.68       220\n",
            "\n"
          ],
          "name": "stdout"
        }
      ]
    },
    {
      "cell_type": "code",
      "metadata": {
        "colab": {
          "base_uri": "https://localhost:8080/"
        },
        "id": "AS1W4S-BjNQ9",
        "outputId": "07b6d561-fa25-4548-ed14-0465edda6568"
      },
      "source": [
        "flat_predictions"
      ],
      "execution_count": 113,
      "outputs": [
        {
          "output_type": "execute_result",
          "data": {
            "text/plain": [
              "array([1, 1, 1, 0, 0, 1, 1, 1, 1, 1, 1, 0, 1, 1, 1, 1, 1, 0, 1, 0, 1, 1,\n",
              "       1, 1, 1, 1, 0, 1, 1, 1, 1, 1, 0, 1, 0, 1, 0, 1, 1, 1, 1, 0, 0, 1,\n",
              "       0, 1, 0, 1, 1, 1, 1, 1, 1, 1, 1, 1, 1, 1, 1, 1, 1, 1, 0, 1, 1, 1,\n",
              "       0, 1, 1, 1, 1, 1, 0, 0, 1, 1, 1, 1, 1, 0, 0, 1, 1, 1, 1, 1, 1, 0,\n",
              "       1, 0, 1, 0, 1, 0, 1, 1, 1, 1, 0, 1, 1, 1, 1, 1, 1, 1, 1, 1, 1, 1,\n",
              "       1, 1, 1, 1, 1, 1, 0, 1, 0, 1, 1, 0, 1, 1, 1, 1, 1, 0, 1, 0, 0, 1,\n",
              "       0, 1, 1, 1, 0, 1, 1, 0, 0, 1, 1, 1, 1, 1, 0, 0, 1, 1, 0, 0, 1, 1,\n",
              "       1, 0, 1, 0, 1, 1, 1, 0, 1, 0, 1, 1, 0, 0, 1, 1, 0, 1, 0, 1, 0, 1,\n",
              "       1, 1, 1, 1, 1, 0, 0, 0, 0, 1, 1, 1, 1, 0, 0, 1, 1, 0, 0, 0, 1, 1,\n",
              "       0, 0, 1, 1, 0, 1, 1, 0, 1, 1, 0, 0, 0, 1, 1, 1, 0, 1, 0, 0, 1, 0])"
            ]
          },
          "metadata": {
            "tags": []
          },
          "execution_count": 113
        }
      ]
    },
    {
      "cell_type": "code",
      "metadata": {
        "id": "mTSzDsEVjWbl"
      },
      "source": [
        "df_test['bert_pred'] = flat_predictions"
      ],
      "execution_count": 106,
      "outputs": []
    },
    {
      "cell_type": "code",
      "metadata": {
        "colab": {
          "base_uri": "https://localhost:8080/",
          "height": 856
        },
        "id": "Ny0f0t99kExF",
        "outputId": "48cac48a-2dd7-435b-df22-02eca3f3d77c"
      },
      "source": [
        "df_test"
      ],
      "execution_count": 107,
      "outputs": [
        {
          "output_type": "execute_result",
          "data": {
            "text/html": [
              "<div>\n",
              "<style scoped>\n",
              "    .dataframe tbody tr th:only-of-type {\n",
              "        vertical-align: middle;\n",
              "    }\n",
              "\n",
              "    .dataframe tbody tr th {\n",
              "        vertical-align: top;\n",
              "    }\n",
              "\n",
              "    .dataframe thead th {\n",
              "        text-align: right;\n",
              "    }\n",
              "</style>\n",
              "<table border=\"1\" class=\"dataframe\">\n",
              "  <thead>\n",
              "    <tr style=\"text-align: right;\">\n",
              "      <th></th>\n",
              "      <th>original curator</th>\n",
              "      <th>keep</th>\n",
              "      <th>Sentence</th>\n",
              "      <th>if edge, edge type (causes or inhibits/inhibited by) ?</th>\n",
              "      <th>Nikita_has_cause_effect</th>\n",
              "      <th>Shweta_has_cause_effect</th>\n",
              "      <th>key word that indicates edge type</th>\n",
              "      <th>if edge, node(s) 1 [start node(s)]</th>\n",
              "      <th>if edge, node(s) 2 [end node(s)]</th>\n",
              "      <th>Easy / Hard Label</th>\n",
              "      <th>Comments</th>\n",
              "      <th>Unnamed: 11</th>\n",
              "      <th>bert_pred</th>\n",
              "    </tr>\n",
              "  </thead>\n",
              "  <tbody>\n",
              "    <tr>\n",
              "      <th>0</th>\n",
              "      <td>Kameron</td>\n",
              "      <td>yes</td>\n",
              "      <td>Record downpours in Tennessee provoked a state...</td>\n",
              "      <td>causes_or_promotes</td>\n",
              "      <td>1</td>\n",
              "      <td>1</td>\n",
              "      <td>provoked</td>\n",
              "      <td>record downpours</td>\n",
              "      <td>state of emergency</td>\n",
              "      <td>NaN</td>\n",
              "      <td>NaN</td>\n",
              "      <td>NaN</td>\n",
              "      <td>1</td>\n",
              "    </tr>\n",
              "    <tr>\n",
              "      <th>1</th>\n",
              "      <td>Kameron</td>\n",
              "      <td>yes</td>\n",
              "      <td>In California, heavy precipitation damaged tho...</td>\n",
              "      <td>causes_or_promotes</td>\n",
              "      <td>1</td>\n",
              "      <td>1</td>\n",
              "      <td>unclear--it's just the way the sentence has di...</td>\n",
              "      <td>heavy precipitation</td>\n",
              "      <td>damaged buildings</td>\n",
              "      <td>NaN</td>\n",
              "      <td>NaN</td>\n",
              "      <td>NaN</td>\n",
              "      <td>1</td>\n",
              "    </tr>\n",
              "    <tr>\n",
              "      <th>2</th>\n",
              "      <td>Kameron</td>\n",
              "      <td>yes</td>\n",
              "      <td>Extreme rain events have devastated communitie...</td>\n",
              "      <td>causes_or_promotes</td>\n",
              "      <td>1</td>\n",
              "      <td>1</td>\n",
              "      <td>have</td>\n",
              "      <td>extreme rain events</td>\n",
              "      <td>devastated communities</td>\n",
              "      <td>NaN</td>\n",
              "      <td>NaN</td>\n",
              "      <td>NaN</td>\n",
              "      <td>1</td>\n",
              "    </tr>\n",
              "    <tr>\n",
              "      <th>3</th>\n",
              "      <td>Kameron</td>\n",
              "      <td>yes</td>\n",
              "      <td>More than 70% of the planet’s surface is water...</td>\n",
              "      <td>causes_or_promotes</td>\n",
              "      <td>1</td>\n",
              "      <td>1</td>\n",
              "      <td>as the ... more (and also use of comma?)</td>\n",
              "      <td>[increase in] warming world</td>\n",
              "      <td>more water evaporating from oceans, lakes, and...</td>\n",
              "      <td>NaN</td>\n",
              "      <td>NaN</td>\n",
              "      <td>NaN</td>\n",
              "      <td>0</td>\n",
              "    </tr>\n",
              "    <tr>\n",
              "      <th>4</th>\n",
              "      <td>Kameron</td>\n",
              "      <td>yes</td>\n",
              "      <td>Every 1°F rise also allows the atmosphere to h...</td>\n",
              "      <td>causes_or_promotes</td>\n",
              "      <td>1</td>\n",
              "      <td>1</td>\n",
              "      <td>allows</td>\n",
              "      <td>[increase in] rise in temperature</td>\n",
              "      <td>[increase in] atmosphere holding more water vapor</td>\n",
              "      <td>NaN</td>\n",
              "      <td>NaN</td>\n",
              "      <td>NaN</td>\n",
              "      <td>0</td>\n",
              "    </tr>\n",
              "    <tr>\n",
              "      <th>...</th>\n",
              "      <td>...</td>\n",
              "      <td>...</td>\n",
              "      <td>...</td>\n",
              "      <td>...</td>\n",
              "      <td>...</td>\n",
              "      <td>...</td>\n",
              "      <td>...</td>\n",
              "      <td>...</td>\n",
              "      <td>...</td>\n",
              "      <td>...</td>\n",
              "      <td>...</td>\n",
              "      <td>...</td>\n",
              "      <td>...</td>\n",
              "    </tr>\n",
              "    <tr>\n",
              "      <th>215</th>\n",
              "      <td>new_sampled</td>\n",
              "      <td>NaN</td>\n",
              "      <td>Climate scientists have correlated the growing...</td>\n",
              "      <td>NaN</td>\n",
              "      <td>0</td>\n",
              "      <td>0</td>\n",
              "      <td>NaN</td>\n",
              "      <td>NaN</td>\n",
              "      <td>NaN</td>\n",
              "      <td>NaN</td>\n",
              "      <td>NaN</td>\n",
              "      <td>NaN</td>\n",
              "      <td>1</td>\n",
              "    </tr>\n",
              "    <tr>\n",
              "      <th>216</th>\n",
              "      <td>new_sampled</td>\n",
              "      <td>NaN</td>\n",
              "      <td>By mid-century, the annual area burned in the ...</td>\n",
              "      <td>NaN</td>\n",
              "      <td>0</td>\n",
              "      <td>0</td>\n",
              "      <td>NaN</td>\n",
              "      <td>NaN</td>\n",
              "      <td>NaN</td>\n",
              "      <td>NaN</td>\n",
              "      <td>NaN</td>\n",
              "      <td>NaN</td>\n",
              "      <td>0</td>\n",
              "    </tr>\n",
              "    <tr>\n",
              "      <th>217</th>\n",
              "      <td>new_sampled</td>\n",
              "      <td>NaN</td>\n",
              "      <td>Wildfire season can spark anytime throughout t...</td>\n",
              "      <td>NaN</td>\n",
              "      <td>0</td>\n",
              "      <td>0</td>\n",
              "      <td>NaN</td>\n",
              "      <td>NaN</td>\n",
              "      <td>NaN</td>\n",
              "      <td>NaN</td>\n",
              "      <td>NaN</td>\n",
              "      <td>NaN</td>\n",
              "      <td>0</td>\n",
              "    </tr>\n",
              "    <tr>\n",
              "      <th>218</th>\n",
              "      <td>new_sampled</td>\n",
              "      <td>NaN</td>\n",
              "      <td>Can rain cause more fire?</td>\n",
              "      <td>NaN</td>\n",
              "      <td>0</td>\n",
              "      <td>0</td>\n",
              "      <td>NaN</td>\n",
              "      <td>NaN</td>\n",
              "      <td>NaN</td>\n",
              "      <td>NaN</td>\n",
              "      <td>NaN</td>\n",
              "      <td>NaN</td>\n",
              "      <td>1</td>\n",
              "    </tr>\n",
              "    <tr>\n",
              "      <th>219</th>\n",
              "      <td>new_sampled</td>\n",
              "      <td>NaN</td>\n",
              "      <td>Wet vegetation doesn’t burn.</td>\n",
              "      <td>NaN</td>\n",
              "      <td>0</td>\n",
              "      <td>0</td>\n",
              "      <td>NaN</td>\n",
              "      <td>NaN</td>\n",
              "      <td>NaN</td>\n",
              "      <td>NaN</td>\n",
              "      <td>NaN</td>\n",
              "      <td>NaN</td>\n",
              "      <td>0</td>\n",
              "    </tr>\n",
              "  </tbody>\n",
              "</table>\n",
              "<p>220 rows × 13 columns</p>\n",
              "</div>"
            ],
            "text/plain": [
              "    original curator keep  ... Unnamed: 11 bert_pred\n",
              "0            Kameron  yes  ...         NaN         1\n",
              "1            Kameron  yes  ...         NaN         1\n",
              "2            Kameron  yes  ...         NaN         1\n",
              "3            Kameron  yes  ...         NaN         0\n",
              "4            Kameron  yes  ...         NaN         0\n",
              "..               ...  ...  ...         ...       ...\n",
              "215      new_sampled  NaN  ...         NaN         1\n",
              "216      new_sampled  NaN  ...         NaN         0\n",
              "217      new_sampled  NaN  ...         NaN         0\n",
              "218      new_sampled  NaN  ...         NaN         1\n",
              "219      new_sampled  NaN  ...         NaN         0\n",
              "\n",
              "[220 rows x 13 columns]"
            ]
          },
          "metadata": {
            "tags": []
          },
          "execution_count": 107
        }
      ]
    },
    {
      "cell_type": "code",
      "metadata": {
        "id": "SUfejdvukF01"
      },
      "source": [
        "df_test.to_excel('bertPred_on_val_set.xlsx', columns = df_test.columns)"
      ],
      "execution_count": 111,
      "outputs": []
    },
    {
      "cell_type": "code",
      "metadata": {
        "colab": {
          "base_uri": "https://localhost:8080/"
        },
        "id": "shNQYQuYkc3u",
        "outputId": "ac2a8863-9993-4cb2-965c-831f52223353"
      },
      "source": [
        "import os\r\n",
        "\r\n",
        "# Saving best-practices: if you use defaults names for the model, you can reload it using from_pretrained()\r\n",
        "\r\n",
        "output_dir = './causalRel/'\r\n",
        "\r\n",
        "# Create output directory if needed\r\n",
        "if not os.path.exists(output_dir):\r\n",
        "    os.makedirs(output_dir)\r\n",
        "\r\n",
        "print(\"Saving model to %s\" % output_dir)\r\n",
        "\r\n",
        "# Save a trained model, configuration and tokenizer using `save_pretrained()`.\r\n",
        "# They can then be reloaded using `from_pretrained()`\r\n",
        "model_to_save = model.module if hasattr(model, 'module') else model  # Take care of distributed/parallel training\r\n",
        "model_to_save.save_pretrained(output_dir)\r\n",
        "tokenizer.save_pretrained(output_dir)\r\n",
        "\r\n",
        "# Good practice: save your training arguments together with the trained model\r\n",
        "# torch.save(args, os.path.join(output_dir, 'training_args.bin'))"
      ],
      "execution_count": 112,
      "outputs": [
        {
          "output_type": "stream",
          "text": [
            "Saving model to ./causalRel/\n"
          ],
          "name": "stdout"
        },
        {
          "output_type": "execute_result",
          "data": {
            "text/plain": [
              "('./causalRel/vocab.txt',\n",
              " './causalRel/special_tokens_map.json',\n",
              " './causalRel/added_tokens.json')"
            ]
          },
          "metadata": {
            "tags": []
          },
          "execution_count": 112
        }
      ]
    },
    {
      "cell_type": "code",
      "metadata": {
        "id": "COXAXervmgiq"
      },
      "source": [
        ""
      ],
      "execution_count": null,
      "outputs": []
    }
  ]
}