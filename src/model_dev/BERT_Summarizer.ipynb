{
 "cells": [
  {
   "cell_type": "code",
   "execution_count": null,
   "metadata": {},
   "outputs": [
    {
     "name": "stdout",
     "output_type": "stream",
     "text": [
      "Collecting newspaper3k\n",
      "  Downloading newspaper3k-0.2.8-py3-none-any.whl (211 kB)\n",
      "Collecting jieba3k>=0.35.1\n",
      "  Downloading jieba3k-0.35.1.zip (7.4 MB)\n",
      "Collecting cssselect>=0.9.2\n",
      "  Downloading cssselect-1.1.0-py2.py3-none-any.whl (16 kB)\n",
      "Collecting tldextract>=2.0.1\n",
      "  Downloading tldextract-3.0.2-py2.py3-none-any.whl (86 kB)\n",
      "Collecting feedparser>=5.2.1\n",
      "  Downloading feedparser-6.0.2-py3-none-any.whl (80 kB)\n",
      "Collecting tinysegmenter==0.3\n",
      "  Downloading tinysegmenter-0.3.tar.gz (16 kB)\n",
      "Requirement already satisfied: PyYAML>=3.11 in c:\\users\\mukut\\anaconda3\\lib\\site-packages (from newspaper3k) (5.3)\n",
      "Requirement already satisfied: nltk>=3.2.1 in c:\\users\\mukut\\anaconda3\\lib\\site-packages (from newspaper3k) (3.4.5)\n",
      "Requirement already satisfied: requests>=2.10.0 in c:\\users\\mukut\\anaconda3\\lib\\site-packages (from newspaper3k) (2.22.0)\n",
      "Requirement already satisfied: lxml>=3.6.0 in c:\\users\\mukut\\anaconda3\\lib\\site-packages (from newspaper3k) (4.5.0)\n",
      "Requirement already satisfied: python-dateutil>=2.5.3 in c:\\users\\mukut\\anaconda3\\lib\\site-packages (from newspaper3k) (2.8.1)\n",
      "Requirement already satisfied: Pillow>=3.3.0 in c:\\users\\mukut\\anaconda3\\lib\\site-packages (from newspaper3k) (7.0.0)\n",
      "Collecting feedfinder2>=0.0.4\n",
      "  Downloading feedfinder2-0.0.4.tar.gz (3.3 kB)\n",
      "Requirement already satisfied: beautifulsoup4>=4.4.1 in c:\\users\\mukut\\anaconda3\\lib\\site-packages (from newspaper3k) (4.8.2)\n",
      "Collecting requests-file>=1.4\n",
      "  Downloading requests_file-1.5.1-py2.py3-none-any.whl (3.7 kB)\n",
      "Requirement already satisfied: filelock>=3.0.8 in c:\\users\\mukut\\anaconda3\\lib\\site-packages (from tldextract>=2.0.1->newspaper3k) (3.0.12)\n",
      "Requirement already satisfied: idna in c:\\users\\mukut\\anaconda3\\lib\\site-packages (from tldextract>=2.0.1->newspaper3k) (2.8)\n",
      "Collecting sgmllib3k\n",
      "  Downloading sgmllib3k-1.0.0.tar.gz (5.8 kB)\n",
      "Requirement already satisfied: six in c:\\users\\mukut\\anaconda3\\lib\\site-packages (from nltk>=3.2.1->newspaper3k) (1.14.0)\n",
      "Requirement already satisfied: urllib3!=1.25.0,!=1.25.1,<1.26,>=1.21.1 in c:\\users\\mukut\\anaconda3\\lib\\site-packages (from requests>=2.10.0->newspaper3k) (1.25.8)\n",
      "Requirement already satisfied: certifi>=2017.4.17 in c:\\users\\mukut\\anaconda3\\lib\\site-packages (from requests>=2.10.0->newspaper3k) (2019.11.28)\n",
      "Requirement already satisfied: chardet<3.1.0,>=3.0.2 in c:\\users\\mukut\\anaconda3\\lib\\site-packages (from requests>=2.10.0->newspaper3k) (3.0.4)\n",
      "Requirement already satisfied: soupsieve>=1.2 in c:\\users\\mukut\\anaconda3\\lib\\site-packages (from beautifulsoup4>=4.4.1->newspaper3k) (1.9.5)\n",
      "Building wheels for collected packages: jieba3k, tinysegmenter, feedfinder2, sgmllib3k\n",
      "  Building wheel for jieba3k (setup.py): started\n",
      "  Building wheel for jieba3k (setup.py): finished with status 'done'\n",
      "  Created wheel for jieba3k: filename=jieba3k-0.35.1-py3-none-any.whl size=7398410 sha256=bf57faa8ddb2464cfa09b559b0ddbcf756f796a2dc3eabbe6f3b2972b0538420\n",
      "  Stored in directory: c:\\users\\mukut\\appdata\\local\\pip\\cache\\wheels\\4c\\91\\46\\3c208287b726df325a5979574324878b679116e4baae1af3c3\n",
      "  Building wheel for tinysegmenter (setup.py): started\n",
      "  Building wheel for tinysegmenter (setup.py): finished with status 'done'\n",
      "  Created wheel for tinysegmenter: filename=tinysegmenter-0.3-py3-none-any.whl size=13542 sha256=f81506f515422746f1a6fe1c0fe9c5b55769bf893f299f4759d8b4c92ff9578d\n",
      "  Stored in directory: c:\\users\\mukut\\appdata\\local\\pip\\cache\\wheels\\df\\67\\41\\faca10fa501ca010be41b49d40360c2959e1c4f09bcbfa37fa\n",
      "  Building wheel for feedfinder2 (setup.py): started\n",
      "  Building wheel for feedfinder2 (setup.py): finished with status 'done'\n",
      "  Created wheel for feedfinder2: filename=feedfinder2-0.0.4-py3-none-any.whl size=3359 sha256=298f2d9cd108d58557be1c4334f396c16f3425939937e4d548a9ac712b22a287\n",
      "  Stored in directory: c:\\users\\mukut\\appdata\\local\\pip\\cache\\wheels\\7f\\d4\\8f\\6e2ca54744c9d7292d88ddb8d42876bcdab5e6d84a21c10346\n",
      "  Building wheel for sgmllib3k (setup.py): started\n",
      "  Building wheel for sgmllib3k (setup.py): finished with status 'done'\n",
      "  Created wheel for sgmllib3k: filename=sgmllib3k-1.0.0-py3-none-any.whl size=6071 sha256=a766faa189c20aeb6d8ee7656cc762d86d57dea527eacecb81a7cb70ea8371f4\n",
      "  Stored in directory: c:\\users\\mukut\\appdata\\local\\pip\\cache\\wheels\\73\\ad\\a4\\0dff4a6ef231fc0dfa12ffbac2a36cebfdddfe059f50e019aa\n",
      "Successfully built jieba3k tinysegmenter feedfinder2 sgmllib3k\n",
      "Installing collected packages: jieba3k, cssselect, requests-file, tldextract, sgmllib3k, feedparser, tinysegmenter, feedfinder2, newspaper3k\n",
      "Successfully installed cssselect-1.1.0 feedfinder2-0.0.4 feedparser-6.0.2 jieba3k-0.35.1 newspaper3k-0.2.8 requests-file-1.5.1 sgmllib3k-1.0.0 tinysegmenter-0.3 tldextract-3.0.2\n"
     ]
    }
   ],
   "source": [
    "!pip install newspaper3k"
   ]
  },
  {
   "cell_type": "code",
   "execution_count": null,
   "metadata": {},
   "outputs": [],
   "source": [
    "from newspaper import fulltext\n",
    "import requests"
   ]
  },
  {
   "cell_type": "code",
   "execution_count": null,
   "metadata": {},
   "outputs": [],
   "source": [
    "url = \"https://www.denverpost.com/2020/10/25/colorado-wildfires-climate-change/\"\n",
    "text = fulltext(requests.get(url).text)"
   ]
  },
  {
   "cell_type": "code",
   "execution_count": null,
   "metadata": {},
   "outputs": [
    {
     "name": "stdout",
     "output_type": "stream",
     "text": [
      "The record-breaking forest fires burning in Colorado even as winter sets in are the latest sign climate warming is hitting the West hard, causing scientists to up their rhetoric and warn it is past time to move beyond planning and start aggressively acting.\n",
      "\n",
      "“We’ve got to get motivated and stop turning the thermostat up. That is urgent, not a sci-fi thing. It is us turning up the thermostat. It does not readily turn down. The farther we turn it up, the worse it will get,” said Scott Denning, a Colorado State University atmospheric scientist.\n",
      "\n",
      "Colorado and the West face more hot days and temperatures will shoot higher, scientists say. The rising heat is depleting water and drying soil across the Colorado River Basin and other river basins. Last week, federal authorities classified 97% of Colorado in severe to exceptional drought.\n",
      "\n",
      "Mega-fires including 2020’s Cameron Peak, East Troublesome and Pine Gulch are burning hotter and longer, with record destruction this year of 700,000 acres in Colorado and 6 million around the West. The smoke that exposed tens of millions of people to heavy particulates, health researchers say, will pose an even greater risk to public health in years to come.\n",
      "\n",
      "“We’re choking ourselves to death,” Commerce City teacher Renee Chacon, 35, concluded after closing windows against the latest billowing gray-brown barrage. Her sons suffer headaches and she went to a doctor with lethargy.\n",
      "\n",
      "Signs that the effects of climate warming are here and hurting Coloradans have kindled urgency within government agencies. Colorado Energy Office director Will Toor, at a recent climate forum, described “very significant impacts happening much earlier than expected.” Colorado Department of Natural Resources director Dan Gibbs, in an interview, said warming impacts over the next 30 years look “very troubling and, frankly, terrifying.”\n",
      "\n",
      "Politicians including presidential candidate Joe Biden and Senate hopeful John Hickenlooper now refer to “an existential threat” and call for a shift off the fossil fuels they’ve supported in the past.\n",
      "\n",
      "Yet efforts to help residents cope, and even draw down heat-trapping carbon dioxide in the atmosphere by re-greening farmland and cities, have barely begun. A Denver Post examination found a $4.2 billion backlog of forestry work identified by the Colorado State Forest Service as critical to protect people and property from fires.\n",
      "\n",
      "Owners of destroyed homes still typically rebuild on site, despite increased erosion and flooding. More people moving into fire-prone forests between now and 2040 likely will triple the size of a high-risk interface zone, according to a forest service report scheduled for publication next month.\n",
      "\n",
      "Farmers are left largely on their own as water vanishes and crops wilt. Local governments still approve urban expansion despite water supply strains.\n",
      "\n",
      "“We are behind,” Gibbs acknowledged. “But we’re doing a lot of things in the right direction.”\n",
      "\n",
      "Escalating impacts\n",
      "\n",
      "The heat that broke 90-degree day records in Front Range cities — 75 days in Denver, 52 in Colorado Springs, 98 in Pueblo — accelerated a statewide warming trend.\n",
      "\n",
      "Colorado’s average temperature has increased since 1990 by 2 degrees, faster than the global increase, with temperatures in western Colorado increasing more, said Clay Clarke, leader of a four-member climate team in the Colorado Department of Public Health and the Environment.\n",
      "\n",
      "“And we will see years hotter than what we’ve had,” state climatologist Russ Schumacher said. “There’s very high confidence in the climate science community that this warming is going to continue… and because the atmosphere is thirstier in hot years, what moisture you have goes away more quickly.”\n",
      "\n",
      "In cities, “heat islands” where surfaces are paved, absorbing heat and sluicing away water from rain and snow, amplify rising temperatures by up to 15 degrees, researchers in Portland and Richmond found in a recent national survey.\n",
      "\n",
      "Developers this century took advantage of lower land prices in old, treeless neighborhoods and built high-density luxury condos and shops — still without trees and parks. Denver has fallen behind other major cities in creating open greenspace that keeps cities habitable. The city’s chief climate officer Grace Rink told The Post that “we will be advocating for additional open space and more trees — connected greenspace.”\n",
      "\n",
      "Warmer atmosphere is thirstier\n",
      "\n",
      "Across the Southwest, the rising temperatures are drawing down water supplies, especially in the Colorado River Basin, where the crucial Lake Mead reservoir has dropped to 39% full and precious precipitation vanishes before it reaches rivers.\n",
      "\n",
      "Streams and rivers in the basin will lose about 4% to 5% of water for every 1 degree temperatures rise, said Jeff Lukas, author of the 2020 Colorado River Basin State of the Science report done for Denver Water, the Colorado Water Conservation Board and other water agencies. By the end of the century, stream flow will decrease by 12% to 15% due to warming, he said.\n",
      "\n",
      "A need to adapt became clear over the past 15 years as warming depleted water in the Colorado River by at least 6%, said Brad Udall, a CSU water center scientist who analyzes federal flow data.\n",
      "\n",
      "What’s the rational response?\n",
      "\n",
      "“Rationality means getting really serious about GHG (greenhouse gas) reductions. It also means planning for the worst with respect to water supplies and fires. We’re doing none of these things, although the water community at least realizes the threat and is making some efforts to think about it,” Udall said.\n",
      "\n",
      "“Climate change is the ultimate ‘kick-the-can-down-the-road’ game. To fix it you have to have pain now, and reap the benefits later. That’s never a good setup for political action.”\n",
      "\n",
      "Bigger, hotter wildfires\n",
      "\n",
      "Dry conditions also set the stage for bigger, hotter wildfires. Eight of Colorado’s 20 largest recorded fires hit after 2018 and all occurred in the last two decades. And the three largest burned in the last three months.\n",
      "\n",
      "For three decades, forest managers have advocated — especially after big burn years — increased forestry work such as thinning to let in more light and encourage species diversity, restoring natural resilience. That way fires could burn without causing catastrophic scorching and sterilization.\n",
      "\n",
      "But with more people building homes in the woods, land managers have been forced to snuff most fires. A U.S. Forest Service memo this year declared an aggressive suppression policy due to COVID-19 and air quality concerns, Colorado State Forest Service director Mike Lester said. A state forest service report projects that, at current population growth rates, the housing and other urbanization within 3.2 million acres of forest will expand before 2040 across 9 million acres.\n",
      "\n",
      "That report also estimates $4.2 billion would be needed to treat the 2.4 million acres where people and property are most vulnerable.\n",
      "\n",
      "“Because of higher temperatures, our fire season is getting longer,” Lester said. “We’re never going to have the money we really need to get this done. The irony is, we seem to have the money to put fires out but we don’t have the money to put our forests in a healthy condition. It is something we need to get done.”\n",
      "\n",
      "“The safety of our communities is at risk. Our water supply is at risk. And we provide water that leaves our high country and flows to 18 different states and Mexico. All of Colorado is in drought now and you’re not going to hang onto soil if you’ve burned all the vegetation off of it,” he said. “It doesn’t do any good to say you’re going to do something. At some point, you have to actually do it.”\n",
      "\n",
      "Colorado Division of Fire Prevention and Control chief Mike Morgan said population growth and development in forests will require better aerial capabilities to suppress flames and super-aggressive “initial attack” on any fire threatening homes — because small fires increasingly explode into uncontrollable mega-fires.\n",
      "\n",
      "“We’re clearly seeing the number of fires and the size of fires continuing to go up. It will continue to go up,” Morgan said. “And now this fire problem is everybody’s problem with more smoke coming into metro areas. We cannot ignore what is happening. We all have to chip in and do our part to reduce these impacts.”\n",
      "\n",
      "Worsening air quality\n",
      "\n",
      "The bigger burning, in turn, worsens respiratory health as people inhale tiny particulates that lodge in their lungs and clog airways, straining heart and lung functioning.\n",
      "\n",
      "Multiple weeks and even months of exposure to fire smoke in cities will lead to “increased respiratory infections and mortality,” said Emily Fischer, a researcher for CSU’s program on air, climate and health, who had just measured an Air Quality Index reading of 368 — hazardous — in Fort Collins.\n",
      "\n",
      "“The health effects are becoming more severe and widely felt,” said Fischer, co-author of a 2018 study that concluded deaths attributable to particulate pollution could double by the end of the century.\n",
      "\n",
      "“The cause of mortality is not always known, but when smoke comes to town there’s an increase. …There’s going to be a worsening of asthma and COPD (chronic obstructive pulmonary disease) and there will be more respiratory hospitalizations. Those are things that we know,” she said, urging greater efforts to prepare.\n",
      "\n",
      "“If you have the means to do it, you should have an air filter in your home. But this is not a solution for everybody. There are those who don’t have a house where they can filter their air and create clean air spaces — people who work outside, people who are homeless.”\n",
      "\n",
      "“Laying groundwork” to pollute less\n",
      "\n",
      "State government agencies are trying to complete studies so they can better assess progress toward air pollution reduction targets.\n",
      "\n",
      "Colorado officials working with federal emergency managers also have launched an interactive computer “Future Avoided Cost Explorer” that lets residents calculate costs of damages under various climate warming scenarios. For example, the damage costs from fires can be estimated at $440 million a year depending on variables.\n",
      "\n",
      "The idea is that damages could be minimized in the future with faster reductions of heat-trapping pollution.\n",
      "\n",
      "Similarly, the Environmental Defense Fund, NASA and others are launching a tool to help farmers, ranchers and cities measure water consumption more accurately to protect the environment and sustain future growth.\n",
      "\n",
      "Colorado has nearly completed a statewide inventory that estimates emissions from multiple sources of CO2, methane and other heat-trapping gases that drive climate warming. It will lay the groundwork for enforcing tougher regulations.\n",
      "\n",
      "Lawmakers have ordered cuts below 2005 levels — 30% by 2025, 50% by 2030 and 90% by 2050. Colorado’s emerging strategy would meet those goals by requiring a faster shift away from gas-power to zero-emission vehicles; closing coal-fired power plants; reducing methane pollution by the oil and gas industry; and making the heating and cooling of buildings more efficient.\n",
      "\n",
      "“We need to move fast, but we need to move right and we need to move carefully. We cannot impair the reliability of the electric grid,” CDPHE environment programs director John Putnam said. “If we blow the grid, nobody’s going to follow our model. I would love to say let’s get off fossil fuels now, but it just doesn’t work that way in the real world.”\n",
      "\n",
      "But officials last week acknowledged growing pressure to prepare for and adapt to immediate escalating threats. Putnam referred to “a multi-level emergency” as wildfires blew up.\n",
      "\n",
      "“I understand the impatience,” he said. “I suffer from asthma.”\n"
     ]
    }
   ],
   "source": [
    "print(text)"
   ]
  },
  {
   "cell_type": "code",
   "execution_count": null,
   "metadata": {},
   "outputs": [
    {
     "name": "stdout",
     "output_type": "stream",
     "text": [
      "Collecting bert-extractive-summarizer\n",
      "  Downloading bert_extractive_summarizer-0.5.1-py3-none-any.whl (17 kB)\n",
      "Requirement already satisfied: spacy in c:\\users\\mukut\\anaconda3\\lib\\site-packages (from bert-extractive-summarizer) (2.3.2)\n",
      "Requirement already satisfied: scikit-learn in c:\\users\\mukut\\anaconda3\\lib\\site-packages (from bert-extractive-summarizer) (0.22.1)\n",
      "Requirement already satisfied: transformers in c:\\users\\mukut\\anaconda3\\lib\\site-packages (from bert-extractive-summarizer) (3.0.2)\n",
      "Requirement already satisfied: catalogue<1.1.0,>=0.0.7 in c:\\users\\mukut\\anaconda3\\lib\\site-packages (from spacy->bert-extractive-summarizer) (1.0.0)\n",
      "Requirement already satisfied: requests<3.0.0,>=2.13.0 in c:\\users\\mukut\\anaconda3\\lib\\site-packages (from spacy->bert-extractive-summarizer) (2.22.0)\n",
      "Requirement already satisfied: cymem<2.1.0,>=2.0.2 in c:\\users\\mukut\\anaconda3\\lib\\site-packages (from spacy->bert-extractive-summarizer) (2.0.3)\n",
      "Requirement already satisfied: wasabi<1.1.0,>=0.4.0 in c:\\users\\mukut\\anaconda3\\lib\\site-packages (from spacy->bert-extractive-summarizer) (0.7.1)\n",
      "Requirement already satisfied: murmurhash<1.1.0,>=0.28.0 in c:\\users\\mukut\\anaconda3\\lib\\site-packages (from spacy->bert-extractive-summarizer) (1.0.2)\n",
      "Requirement already satisfied: numpy>=1.15.0 in c:\\users\\mukut\\anaconda3\\lib\\site-packages (from spacy->bert-extractive-summarizer) (1.18.1)\n",
      "Requirement already satisfied: thinc==7.4.1 in c:\\users\\mukut\\anaconda3\\lib\\site-packages (from spacy->bert-extractive-summarizer) (7.4.1)\n",
      "Requirement already satisfied: blis<0.5.0,>=0.4.0 in c:\\users\\mukut\\anaconda3\\lib\\site-packages (from spacy->bert-extractive-summarizer) (0.4.1)\n",
      "Requirement already satisfied: srsly<1.1.0,>=1.0.2 in c:\\users\\mukut\\anaconda3\\lib\\site-packages (from spacy->bert-extractive-summarizer) (1.0.2)\n",
      "Requirement already satisfied: setuptools in c:\\users\\mukut\\anaconda3\\lib\\site-packages (from spacy->bert-extractive-summarizer) (50.2.0)\n",
      "Requirement already satisfied: plac<1.2.0,>=0.9.6 in c:\\users\\mukut\\anaconda3\\lib\\site-packages (from spacy->bert-extractive-summarizer) (1.1.3)\n",
      "Requirement already satisfied: preshed<3.1.0,>=3.0.2 in c:\\users\\mukut\\anaconda3\\lib\\site-packages (from spacy->bert-extractive-summarizer) (3.0.2)\n",
      "Requirement already satisfied: tqdm<5.0.0,>=4.38.0 in c:\\users\\mukut\\anaconda3\\lib\\site-packages (from spacy->bert-extractive-summarizer) (4.42.1)\n",
      "Requirement already satisfied: joblib>=0.11 in c:\\users\\mukut\\anaconda3\\lib\\site-packages (from scikit-learn->bert-extractive-summarizer) (0.14.1)\n",
      "Requirement already satisfied: scipy>=0.17.0 in c:\\users\\mukut\\anaconda3\\lib\\site-packages (from scikit-learn->bert-extractive-summarizer) (1.4.1)\n",
      "Requirement already satisfied: packaging in c:\\users\\mukut\\anaconda3\\lib\\site-packages (from transformers->bert-extractive-summarizer) (20.1)\n",
      "Requirement already satisfied: filelock in c:\\users\\mukut\\anaconda3\\lib\\site-packages (from transformers->bert-extractive-summarizer) (3.0.12)\n",
      "Requirement already satisfied: sacremoses in c:\\users\\mukut\\anaconda3\\lib\\site-packages (from transformers->bert-extractive-summarizer) (0.0.43)\n",
      "Requirement already satisfied: tokenizers==0.8.1.rc1 in c:\\users\\mukut\\anaconda3\\lib\\site-packages (from transformers->bert-extractive-summarizer) (0.8.1rc1)\n",
      "Requirement already satisfied: sentencepiece!=0.1.92 in c:\\users\\mukut\\anaconda3\\lib\\site-packages (from transformers->bert-extractive-summarizer) (0.1.91)\n",
      "Requirement already satisfied: regex!=2019.12.17 in c:\\users\\mukut\\anaconda3\\lib\\site-packages (from transformers->bert-extractive-summarizer) (2020.6.8)\n",
      "Requirement already satisfied: importlib-metadata>=0.20; python_version < \"3.8\" in c:\\users\\mukut\\anaconda3\\lib\\site-packages (from catalogue<1.1.0,>=0.0.7->spacy->bert-extractive-summarizer) (1.5.0)\n",
      "Requirement already satisfied: idna<2.9,>=2.5 in c:\\users\\mukut\\anaconda3\\lib\\site-packages (from requests<3.0.0,>=2.13.0->spacy->bert-extractive-summarizer) (2.8)\n",
      "Requirement already satisfied: chardet<3.1.0,>=3.0.2 in c:\\users\\mukut\\anaconda3\\lib\\site-packages (from requests<3.0.0,>=2.13.0->spacy->bert-extractive-summarizer) (3.0.4)\n",
      "Requirement already satisfied: certifi>=2017.4.17 in c:\\users\\mukut\\anaconda3\\lib\\site-packages (from requests<3.0.0,>=2.13.0->spacy->bert-extractive-summarizer) (2019.11.28)\n",
      "Requirement already satisfied: urllib3!=1.25.0,!=1.25.1,<1.26,>=1.21.1 in c:\\users\\mukut\\anaconda3\\lib\\site-packages (from requests<3.0.0,>=2.13.0->spacy->bert-extractive-summarizer) (1.25.8)\n",
      "Requirement already satisfied: pyparsing>=2.0.2 in c:\\users\\mukut\\anaconda3\\lib\\site-packages (from packaging->transformers->bert-extractive-summarizer) (2.4.6)\n",
      "Requirement already satisfied: six in c:\\users\\mukut\\anaconda3\\lib\\site-packages (from packaging->transformers->bert-extractive-summarizer) (1.14.0)\n",
      "Requirement already satisfied: click in c:\\users\\mukut\\anaconda3\\lib\\site-packages (from sacremoses->transformers->bert-extractive-summarizer) (7.0)\n",
      "Requirement already satisfied: zipp>=0.5 in c:\\users\\mukut\\anaconda3\\lib\\site-packages (from importlib-metadata>=0.20; python_version < \"3.8\"->catalogue<1.1.0,>=0.0.7->spacy->bert-extractive-summarizer) (2.2.0)\n",
      "Installing collected packages: bert-extractive-summarizer\n",
      "Successfully installed bert-extractive-summarizer-0.5.1\n"
     ]
    }
   ],
   "source": [
    "!pip install bert-extractive-summarizer"
   ]
  },
  {
   "cell_type": "code",
   "execution_count": null,
   "metadata": {},
   "outputs": [
    {
     "data": {
      "application/vnd.jupyter.widget-view+json": {
       "model_id": "136195b9478443418d0ba011f168f7de",
       "version_major": 2,
       "version_minor": 0
      },
      "text/plain": [
       "HBox(children=(FloatProgress(value=0.0, description='Downloading', max=434.0, style=ProgressStyle(description_…"
      ]
     },
     "metadata": {},
     "output_type": "display_data"
    },
    {
     "name": "stdout",
     "output_type": "stream",
     "text": [
      "\n"
     ]
    },
    {
     "data": {
      "application/vnd.jupyter.widget-view+json": {
       "model_id": "5f8df51685524f018e9eaf49ce7dbd56",
       "version_major": 2,
       "version_minor": 0
      },
      "text/plain": [
       "HBox(children=(FloatProgress(value=0.0, description='Downloading', max=1344997306.0, style=ProgressStyle(descr…"
      ]
     },
     "metadata": {},
     "output_type": "display_data"
    },
    {
     "name": "stdout",
     "output_type": "stream",
     "text": [
      "\n"
     ]
    },
    {
     "data": {
      "application/vnd.jupyter.widget-view+json": {
       "model_id": "7845fcd5001547288ea4749bf7980537",
       "version_major": 2,
       "version_minor": 0
      },
      "text/plain": [
       "HBox(children=(FloatProgress(value=0.0, description='Downloading', max=231508.0, style=ProgressStyle(descripti…"
      ]
     },
     "metadata": {},
     "output_type": "display_data"
    },
    {
     "name": "stdout",
     "output_type": "stream",
     "text": [
      "\n"
     ]
    }
   ],
   "source": [
    "from summarizer import Summarizer\n",
    "model = Summarizer()\n",
    "result = model(text, min_length=30)\n",
    "full = \"\".join(result)"
   ]
  },
  {
   "cell_type": "code",
   "execution_count": null,
   "metadata": {},
   "outputs": [
    {
     "name": "stdout",
     "output_type": "stream",
     "text": [
      "The record-breaking forest fires burning in Colorado even as winter sets in are the latest sign climate warming is hitting the West hard, causing scientists to up their rhetoric and warn it is past time to move beyond planning and start aggressively acting. It is us turning up the thermostat. Yet efforts to help residents cope, and even draw down heat-trapping carbon dioxide in the atmosphere by re-greening farmland and cities, have barely begun. Owners of destroyed homes still typically rebuild on site, despite increased erosion and flooding. Local governments still approve urban expansion despite water supply strains. There’s very high confidence in the climate science community that this warming is going to continue… and because the atmosphere is thirstier in hot years, what moisture you have goes away more quickly.” Denver has fallen behind other major cities in creating open greenspace that keeps cities habitable. A need to adapt became clear over the past 15 years as warming depleted water in the Colorado River by at least 6%, said Brad Udall, a CSU water center scientist who analyzes federal flow data. And the three largest burned in the last three months. We’re never going to have the money we really need to get this done. The irony is, we seem to have the money to put fires out but we don’t have the money to put our forests in a healthy condition. And we provide water that leaves our high country and flows to 18 different states and Mexico. At some point, you have to actually do it.” “We’re clearly seeing the number of fires and the size of fires continuing to go up. Multiple weeks and even months of exposure to fire smoke in cities will lead to “increased respiratory infections and mortality,” said Emily Fischer, a researcher for CSU’s program on air, climate and health, who had just measured an Air Quality Index reading of 368 — hazardous — in Fort Collins. Those are things that we know,” she said, urging greater efforts to prepare. It will lay the groundwork for enforcing tougher regulations. Lawmakers have ordered cuts below 2005 levels — 30% by 2025, 50% by 2030 and 90% by 2050. “I understand the impatience,” he said. “\n"
     ]
    }
   ],
   "source": [
    "print(full)"
   ]
  },
  {
   "cell_type": "code",
   "execution_count": null,
   "metadata": {},
   "outputs": [],
   "source": []
  }
 ],
 "metadata": {
  "kernelspec": {
   "display_name": "Python 3",
   "language": "python",
   "name": "python3"
  }
 },
 "nbformat": 4,
 "nbformat_minor": 4
}
