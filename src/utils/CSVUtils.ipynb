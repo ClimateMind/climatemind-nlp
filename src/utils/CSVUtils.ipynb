{
 "cells": [
  {
   "cell_type": "code",
   "execution_count": null,
   "metadata": {},
   "outputs": [],
   "source": [
    "import json\n",
    "import pandas as pd"
   ]
  },
  {
   "cell_type": "code",
   "execution_count": null,
   "metadata": {},
   "outputs": [],
   "source": [
    "#export\n",
    "def csv_to_jsonl(input_file, output_file):\n",
    "    \"\"\" Turns a CSV into a JSONL file\"\"\"\n",
    "    sentences = pd.read_csv(input_file, sep = \",\")\n",
    "    sentence_list = sentences[sentences.Pred == 1].text.tolist()\n",
    "\n",
    "    text_list = []\n",
    "    for sentence in sentence_list:\n",
    "        text_list.append({\"text\": sentence})\n",
    "\n",
    "\n",
    "    with open(output_file, 'w') as f:\n",
    "        for item in text_list:\n",
    "            f.write(json.dumps(item) + \"\\n\")\n"
   ]
  }
 ],
 "metadata": {},
 "nbformat": 4,
 "nbformat_minor": 2
}
