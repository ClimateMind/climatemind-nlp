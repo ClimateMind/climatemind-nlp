{
  "cells": [
    {
      "cell_type": "code",
      "source": [
        "import srsly\n",
        "import numpy as np\n",
        "import spacy\n",
        "import pandas as pd\n",
        "\n",
        "!pip install benepar\n",
        "#!python -m spacy download en_core_web_md\n",
        "#!python -m spacy download en\n",
        "nlp = spacy.load('en')\n",
        "\n",
        "import benepar\n",
        "benepar.download('benepar_en3')\n",
        "if spacy.__version__.startswith('2'):\n",
        "    nlp.add_pipe(benepar.BeneparComponent(\"benepar_en3\"))\n",
        "else:\n",
        "    nlp.add_pipe(\"benepar\", config={\"model\": \"benepar_en3\"})\n",
        "\n",
        "!pip install node2vec\n",
        "#!pip install xgboost\n",
        "\n",
        "!pip install -U sentence-transformers\n",
        "from sentence_transformers import SentenceTransformer\n",
        "sbert_model = SentenceTransformer('bert-base-nli-mean-tokens')\n",
        "\n",
        "!pip install stellargraph[demos]"
      ],
      "outputs": [
        {
          "output_type": "stream",
          "name": "stdout",
          "text": "Requirement already satisfied: benepar in /anaconda/envs/azureml_py38/lib/python3.8/site-packages (0.2.0)\nRequirement already satisfied: sentencepiece>=0.1.91 in /anaconda/envs/azureml_py38/lib/python3.8/site-packages (from benepar) (0.1.96)\nRequirement already satisfied: torch-struct>=0.5 in /anaconda/envs/azureml_py38/lib/python3.8/site-packages (from benepar) (0.5)\nRequirement already satisfied: nltk>=3.2 in /anaconda/envs/azureml_py38/lib/python3.8/site-packages (from benepar) (3.7)\nRequirement already satisfied: torch>=1.6.0 in /anaconda/envs/azureml_py38/lib/python3.8/site-packages (from benepar) (1.10.2)\nRequirement already satisfied: transformers[tokenizers,torch]>=4.2.2 in /anaconda/envs/azureml_py38/lib/python3.8/site-packages (from benepar) (4.19.4)\nRequirement already satisfied: spacy>=2.0.9 in /anaconda/envs/azureml_py38/lib/python3.8/site-packages (from benepar) (2.2.4)\nRequirement already satisfied: tokenizers>=0.9.4 in /anaconda/envs/azureml_py38/lib/python3.8/site-packages (from benepar) (0.12.1)\nRequirement already satisfied: protobuf in /anaconda/envs/azureml_py38/lib/python3.8/site-packages (from benepar) (3.19.4)\nRequirement already satisfied: tqdm in /anaconda/envs/azureml_py38/lib/python3.8/site-packages (from nltk>=3.2->benepar) (4.64.0)\nRequirement already satisfied: regex>=2021.8.3 in /anaconda/envs/azureml_py38/lib/python3.8/site-packages (from nltk>=3.2->benepar) (2022.3.15)\nRequirement already satisfied: click in /anaconda/envs/azureml_py38/lib/python3.8/site-packages (from nltk>=3.2->benepar) (7.1.2)\nRequirement already satisfied: joblib in /anaconda/envs/azureml_py38/lib/python3.8/site-packages (from nltk>=3.2->benepar) (1.1.0)\nRequirement already satisfied: typing-extensions in /anaconda/envs/azureml_py38/lib/python3.8/site-packages (from torch>=1.6.0->benepar) (4.1.1)\nRequirement already satisfied: pyyaml>=5.1 in /anaconda/envs/azureml_py38/lib/python3.8/site-packages (from transformers[tokenizers,torch]>=4.2.2->benepar) (6.0)\nRequirement already satisfied: requests in /anaconda/envs/azureml_py38/lib/python3.8/site-packages (from transformers[tokenizers,torch]>=4.2.2->benepar) (2.27.1)\nRequirement already satisfied: packaging>=20.0 in /anaconda/envs/azureml_py38/lib/python3.8/site-packages (from transformers[tokenizers,torch]>=4.2.2->benepar) (21.3)\nRequirement already satisfied: filelock in /anaconda/envs/azureml_py38/lib/python3.8/site-packages (from transformers[tokenizers,torch]>=4.2.2->benepar) (3.6.0)\nRequirement already satisfied: huggingface-hub<1.0,>=0.1.0 in /anaconda/envs/azureml_py38/lib/python3.8/site-packages (from transformers[tokenizers,torch]>=4.2.2->benepar) (0.7.0)\nRequirement already satisfied: numpy>=1.17 in /anaconda/envs/azureml_py38/lib/python3.8/site-packages (from transformers[tokenizers,torch]>=4.2.2->benepar) (1.22.4)\nRequirement already satisfied: murmurhash<1.1.0,>=0.28.0 in /anaconda/envs/azureml_py38/lib/python3.8/site-packages (from spacy>=2.0.9->benepar) (1.0.6)\nRequirement already satisfied: plac<1.2.0,>=0.9.6 in /anaconda/envs/azureml_py38/lib/python3.8/site-packages (from spacy>=2.0.9->benepar) (1.1.3)\nRequirement already satisfied: preshed<3.1.0,>=3.0.2 in /anaconda/envs/azureml_py38/lib/python3.8/site-packages (from spacy>=2.0.9->benepar) (3.0.6)\nRequirement already satisfied: setuptools in /anaconda/envs/azureml_py38/lib/python3.8/site-packages (from spacy>=2.0.9->benepar) (59.5.0)\nRequirement already satisfied: cymem<2.1.0,>=2.0.2 in /anaconda/envs/azureml_py38/lib/python3.8/site-packages (from spacy>=2.0.9->benepar) (2.0.6)\nRequirement already satisfied: thinc==7.4.0 in /anaconda/envs/azureml_py38/lib/python3.8/site-packages (from spacy>=2.0.9->benepar) (7.4.0)\nRequirement already satisfied: wasabi<1.1.0,>=0.4.0 in /anaconda/envs/azureml_py38/lib/python3.8/site-packages (from spacy>=2.0.9->benepar) (0.9.1)\nRequirement already satisfied: srsly<1.1.0,>=1.0.2 in /anaconda/envs/azureml_py38/lib/python3.8/site-packages (from spacy>=2.0.9->benepar) (1.0.5)\nRequirement already satisfied: blis<0.5.0,>=0.4.0 in /anaconda/envs/azureml_py38/lib/python3.8/site-packages (from spacy>=2.0.9->benepar) (0.4.1)\nRequirement already satisfied: catalogue<1.1.0,>=0.0.7 in /anaconda/envs/azureml_py38/lib/python3.8/site-packages (from spacy>=2.0.9->benepar) (1.0.0)\nRequirement already satisfied: charset-normalizer~=2.0.0; python_version >= \"3\" in /anaconda/envs/azureml_py38/lib/python3.8/site-packages (from requests->transformers[tokenizers,torch]>=4.2.2->benepar) (2.0.12)\nRequirement already satisfied: urllib3<1.27,>=1.21.1 in /anaconda/envs/azureml_py38/lib/python3.8/site-packages (from requests->transformers[tokenizers,torch]>=4.2.2->benepar) (1.26.7)\nRequirement already satisfied: certifi>=2017.4.17 in /anaconda/envs/azureml_py38/lib/python3.8/site-packages (from requests->transformers[tokenizers,torch]>=4.2.2->benepar) (2021.10.8)\nRequirement already satisfied: idna<4,>=2.5; python_version >= \"3\" in /anaconda/envs/azureml_py38/lib/python3.8/site-packages (from requests->transformers[tokenizers,torch]>=4.2.2->benepar) (3.3)\nRequirement already satisfied: pyparsing!=3.0.5,>=2.0.2 in /anaconda/envs/azureml_py38/lib/python3.8/site-packages (from packaging>=20.0->transformers[tokenizers,torch]>=4.2.2->benepar) (3.0.7)\nRequirement already satisfied: node2vec in /anaconda/envs/azureml_py38/lib/python3.8/site-packages (0.4.5)\nRequirement already satisfied: joblib<2.0.0,>=1.1.0 in /anaconda/envs/azureml_py38/lib/python3.8/site-packages (from node2vec) (1.1.0)\nRequirement already satisfied: gensim<5.0.0,>=4.1.2 in /anaconda/envs/azureml_py38/lib/python3.8/site-packages (from node2vec) (4.2.0)\nRequirement already satisfied: networkx<3.0,>=2.5 in /anaconda/envs/azureml_py38/lib/python3.8/site-packages (from node2vec) (2.5)\nRequirement already satisfied: numpy<2.0.0,>=1.19.5 in /anaconda/envs/azureml_py38/lib/python3.8/site-packages (from node2vec) (1.22.4)\nRequirement already satisfied: tqdm<5.0.0,>=4.55.1 in /anaconda/envs/azureml_py38/lib/python3.8/site-packages (from node2vec) (4.64.0)\nRequirement already satisfied: smart-open>=1.8.1 in /anaconda/envs/azureml_py38/lib/python3.8/site-packages (from gensim<5.0.0,>=4.1.2->node2vec) (6.0.0)\nRequirement already satisfied: scipy>=0.18.1 in /anaconda/envs/azureml_py38/lib/python3.8/site-packages (from gensim<5.0.0,>=4.1.2->node2vec) (1.5.2)\nRequirement already satisfied: decorator>=4.3.0 in /anaconda/envs/azureml_py38/lib/python3.8/site-packages (from networkx<3.0,>=2.5->node2vec) (5.1.1)\nCollecting sentence-transformers\n  Downloading sentence-transformers-2.2.2.tar.gz (85 kB)\n\u001b[K     |████████████████████████████████| 85 kB 2.2 MB/s  eta 0:00:01\n\u001b[?25hRequirement already satisfied, skipping upgrade: transformers<5.0.0,>=4.6.0 in /anaconda/envs/azureml_py38/lib/python3.8/site-packages (from sentence-transformers) (4.19.4)\nRequirement already satisfied, skipping upgrade: tqdm in /anaconda/envs/azureml_py38/lib/python3.8/site-packages (from sentence-transformers) (4.64.0)\nRequirement already satisfied, skipping upgrade: torch>=1.6.0 in /anaconda/envs/azureml_py38/lib/python3.8/site-packages (from sentence-transformers) (1.10.2)\nRequirement already satisfied, skipping upgrade: torchvision in /anaconda/envs/azureml_py38/lib/python3.8/site-packages (from sentence-transformers) (0.9.1)\nRequirement already satisfied, skipping upgrade: numpy in /anaconda/envs/azureml_py38/lib/python3.8/site-packages (from sentence-transformers) (1.22.4)\nRequirement already satisfied, skipping upgrade: scikit-learn in /anaconda/envs/azureml_py38/lib/python3.8/site-packages (from sentence-transformers) (1.0.2)\nRequirement already satisfied, skipping upgrade: scipy in /anaconda/envs/azureml_py38/lib/python3.8/site-packages (from sentence-transformers) (1.5.2)\nRequirement already satisfied, skipping upgrade: nltk in /anaconda/envs/azureml_py38/lib/python3.8/site-packages (from sentence-transformers) (3.7)\nRequirement already satisfied, skipping upgrade: sentencepiece in /anaconda/envs/azureml_py38/lib/python3.8/site-packages (from sentence-transformers) (0.1.96)\nRequirement already satisfied, skipping upgrade: huggingface-hub>=0.4.0 in /anaconda/envs/azureml_py38/lib/python3.8/site-packages (from sentence-transformers) (0.7.0)\nRequirement already satisfied, skipping upgrade: requests in /anaconda/envs/azureml_py38/lib/python3.8/site-packages (from transformers<5.0.0,>=4.6.0->sentence-transformers) (2.27.1)\nRequirement already satisfied, skipping upgrade: filelock in /anaconda/envs/azureml_py38/lib/python3.8/site-packages (from transformers<5.0.0,>=4.6.0->sentence-transformers) (3.6.0)\nRequirement already satisfied, skipping upgrade: regex!=2019.12.17 in /anaconda/envs/azureml_py38/lib/python3.8/site-packages (from transformers<5.0.0,>=4.6.0->sentence-transformers) (2022.3.15)\nRequirement already satisfied, skipping upgrade: pyyaml>=5.1 in /anaconda/envs/azureml_py38/lib/python3.8/site-packages (from transformers<5.0.0,>=4.6.0->sentence-transformers) (6.0)\nRequirement already satisfied, skipping upgrade: packaging>=20.0 in /anaconda/envs/azureml_py38/lib/python3.8/site-packages (from transformers<5.0.0,>=4.6.0->sentence-transformers) (21.3)\nRequirement already satisfied, skipping upgrade: tokenizers!=0.11.3,<0.13,>=0.11.1 in /anaconda/envs/azureml_py38/lib/python3.8/site-packages (from transformers<5.0.0,>=4.6.0->sentence-transformers) (0.12.1)\nRequirement already satisfied, skipping upgrade: typing-extensions in /anaconda/envs/azureml_py38/lib/python3.8/site-packages (from torch>=1.6.0->sentence-transformers) (4.1.1)\nRequirement already satisfied, skipping upgrade: pillow>=4.1.1 in /anaconda/envs/azureml_py38/lib/python3.8/site-packages (from torchvision->sentence-transformers) (9.0.1)\nRequirement already satisfied, skipping upgrade: joblib>=0.11 in /anaconda/envs/azureml_py38/lib/python3.8/site-packages (from scikit-learn->sentence-transformers) (1.1.0)\nRequirement already satisfied, skipping upgrade: threadpoolctl>=2.0.0 in /anaconda/envs/azureml_py38/lib/python3.8/site-packages (from scikit-learn->sentence-transformers) (2.1.0)\nRequirement already satisfied, skipping upgrade: click in /anaconda/envs/azureml_py38/lib/python3.8/site-packages (from nltk->sentence-transformers) (7.1.2)\nRequirement already satisfied, skipping upgrade: charset-normalizer~=2.0.0; python_version >= \"3\" in /anaconda/envs/azureml_py38/lib/python3.8/site-packages (from requests->transformers<5.0.0,>=4.6.0->sentence-transformers) (2.0.12)\nRequirement already satisfied, skipping upgrade: certifi>=2017.4.17 in /anaconda/envs/azureml_py38/lib/python3.8/site-packages (from requests->transformers<5.0.0,>=4.6.0->sentence-transformers) (2021.10.8)\nRequirement already satisfied, skipping upgrade: urllib3<1.27,>=1.21.1 in /anaconda/envs/azureml_py38/lib/python3.8/site-packages (from requests->transformers<5.0.0,>=4.6.0->sentence-transformers) (1.26.7)\nRequirement already satisfied, skipping upgrade: idna<4,>=2.5; python_version >= \"3\" in /anaconda/envs/azureml_py38/lib/python3.8/site-packages (from requests->transformers<5.0.0,>=4.6.0->sentence-transformers) (3.3)\nRequirement already satisfied, skipping upgrade: pyparsing!=3.0.5,>=2.0.2 in /anaconda/envs/azureml_py38/lib/python3.8/site-packages (from packaging>=20.0->transformers<5.0.0,>=4.6.0->sentence-transformers) (3.0.7)\nBuilding wheels for collected packages: sentence-transformers\n  Building wheel for sentence-transformers (setup.py) ... \u001b[?25l-\b \b\\\b \b|\b \bdone\n\u001b[?25h  Created wheel for sentence-transformers: filename=sentence_transformers-2.2.2-py3-none-any.whl size=125937 sha256=c3e793ae5a17572605874772f339a2824abe5caaf682d00e233b9eac5f9f7b5a\n  Stored in directory: /home/azureuser/.cache/pip/wheels/5e/6f/8c/d88aec621f3f542d26fac0342bef5e693335d125f4e54aeffe\nSuccessfully built sentence-transformers\nInstalling collected packages: sentence-transformers\n  Attempting uninstall: sentence-transformers\n    Found existing installation: sentence-transformers 2.2.0\n    Uninstalling sentence-transformers-2.2.0:\n      Successfully uninstalled sentence-transformers-2.2.0\nSuccessfully installed sentence-transformers-2.2.2\nRequirement already satisfied: stellargraph[demos] in /anaconda/envs/azureml_py38/lib/python3.8/site-packages (1.2.1)\nRequirement already satisfied: scikit-learn>=0.20 in /anaconda/envs/azureml_py38/lib/python3.8/site-packages (from stellargraph[demos]) (1.0.2)\nRequirement already satisfied: networkx>=2.2 in /anaconda/envs/azureml_py38/lib/python3.8/site-packages (from stellargraph[demos]) (2.5)\nRequirement already satisfied: scipy>=1.1.0 in /anaconda/envs/azureml_py38/lib/python3.8/site-packages (from stellargraph[demos]) (1.5.2)\nRequirement already satisfied: numpy>=1.14 in /anaconda/envs/azureml_py38/lib/python3.8/site-packages (from stellargraph[demos]) (1.22.4)\nRequirement already satisfied: gensim>=3.4.0 in /anaconda/envs/azureml_py38/lib/python3.8/site-packages (from stellargraph[demos]) (4.2.0)\nRequirement already satisfied: matplotlib>=2.2 in /anaconda/envs/azureml_py38/lib/python3.8/site-packages (from stellargraph[demos]) (3.3.1)\nRequirement already satisfied: pandas>=0.24 in /anaconda/envs/azureml_py38/lib/python3.8/site-packages (from stellargraph[demos]) (1.1.5)\nRequirement already satisfied: tensorflow>=2.1.0 in /anaconda/envs/azureml_py38/lib/python3.8/site-packages (from stellargraph[demos]) (2.2.0)\nRequirement already satisfied: rdflib; extra == \"demos\" in /anaconda/envs/azureml_py38/lib/python3.8/site-packages (from stellargraph[demos]) (6.1.1)\nRequirement already satisfied: numba; extra == \"demos\" in /anaconda/envs/azureml_py38/lib/python3.8/site-packages (from stellargraph[demos]) (0.53.1)\nRequirement already satisfied: seaborn; extra == \"demos\" in /anaconda/envs/azureml_py38/lib/python3.8/site-packages (from stellargraph[demos]) (0.11.2)\nRequirement already satisfied: jupyter; extra == \"demos\" in /anaconda/envs/azureml_py38/lib/python3.8/site-packages (from stellargraph[demos]) (1.0.0)\nRequirement already satisfied: mplleaflet==0.0.5; extra == \"demos\" in /anaconda/envs/azureml_py38/lib/python3.8/site-packages (from stellargraph[demos]) (0.0.5)\nRequirement already satisfied: threadpoolctl>=2.0.0 in /anaconda/envs/azureml_py38/lib/python3.8/site-packages (from scikit-learn>=0.20->stellargraph[demos]) (2.1.0)\nRequirement already satisfied: joblib>=0.11 in /anaconda/envs/azureml_py38/lib/python3.8/site-packages (from scikit-learn>=0.20->stellargraph[demos]) (1.1.0)\nRequirement already satisfied: decorator>=4.3.0 in /anaconda/envs/azureml_py38/lib/python3.8/site-packages (from networkx>=2.2->stellargraph[demos]) (5.1.1)\nRequirement already satisfied: smart-open>=1.8.1 in /anaconda/envs/azureml_py38/lib/python3.8/site-packages (from gensim>=3.4.0->stellargraph[demos]) (6.0.0)\nRequirement already satisfied: python-dateutil>=2.1 in /anaconda/envs/azureml_py38/lib/python3.8/site-packages (from matplotlib>=2.2->stellargraph[demos]) (2.8.2)\nRequirement already satisfied: cycler>=0.10 in /anaconda/envs/azureml_py38/lib/python3.8/site-packages (from matplotlib>=2.2->stellargraph[demos]) (0.11.0)\nRequirement already satisfied: certifi>=2020.06.20 in /anaconda/envs/azureml_py38/lib/python3.8/site-packages (from matplotlib>=2.2->stellargraph[demos]) (2021.10.8)\nRequirement already satisfied: kiwisolver>=1.0.1 in /anaconda/envs/azureml_py38/lib/python3.8/site-packages (from matplotlib>=2.2->stellargraph[demos]) (1.4.2)\nRequirement already satisfied: pillow>=6.2.0 in /anaconda/envs/azureml_py38/lib/python3.8/site-packages (from matplotlib>=2.2->stellargraph[demos]) (9.0.1)\nRequirement already satisfied: pyparsing!=2.0.4,!=2.1.2,!=2.1.6,>=2.0.3 in /anaconda/envs/azureml_py38/lib/python3.8/site-packages (from matplotlib>=2.2->stellargraph[demos]) (3.0.7)\nRequirement already satisfied: pytz>=2017.2 in /anaconda/envs/azureml_py38/lib/python3.8/site-packages (from pandas>=0.24->stellargraph[demos]) (2021.3)\nRequirement already satisfied: opt-einsum>=2.3.2 in /anaconda/envs/azureml_py38/lib/python3.8/site-packages (from tensorflow>=2.1.0->stellargraph[demos]) (3.3.0)\nRequirement already satisfied: grpcio>=1.8.6 in /anaconda/envs/azureml_py38/lib/python3.8/site-packages (from tensorflow>=2.1.0->stellargraph[demos]) (1.44.0)\nRequirement already satisfied: wrapt>=1.11.1 in /anaconda/envs/azureml_py38/lib/python3.8/site-packages (from tensorflow>=2.1.0->stellargraph[demos]) (1.12.1)\nRequirement already satisfied: absl-py>=0.7.0 in /anaconda/envs/azureml_py38/lib/python3.8/site-packages (from tensorflow>=2.1.0->stellargraph[demos]) (0.15.0)\nRequirement already satisfied: keras-preprocessing>=1.1.0 in /anaconda/envs/azureml_py38/lib/python3.8/site-packages (from tensorflow>=2.1.0->stellargraph[demos]) (1.1.2)\nRequirement already satisfied: tensorboard<2.3.0,>=2.2.0 in /anaconda/envs/azureml_py38/lib/python3.8/site-packages (from tensorflow>=2.1.0->stellargraph[demos]) (2.2.2)\nRequirement already satisfied: protobuf>=3.8.0 in /anaconda/envs/azureml_py38/lib/python3.8/site-packages (from tensorflow>=2.1.0->stellargraph[demos]) (3.19.4)\nRequirement already satisfied: tensorflow-estimator<2.3.0,>=2.2.0 in /anaconda/envs/azureml_py38/lib/python3.8/site-packages (from tensorflow>=2.1.0->stellargraph[demos]) (2.2.0)\nRequirement already satisfied: google-pasta>=0.1.8 in /anaconda/envs/azureml_py38/lib/python3.8/site-packages (from tensorflow>=2.1.0->stellargraph[demos]) (0.2.0)\nRequirement already satisfied: six>=1.12.0 in /anaconda/envs/azureml_py38/lib/python3.8/site-packages (from tensorflow>=2.1.0->stellargraph[demos]) (1.16.0)\nRequirement already satisfied: h5py<2.11.0,>=2.10.0 in /anaconda/envs/azureml_py38/lib/python3.8/site-packages (from tensorflow>=2.1.0->stellargraph[demos]) (2.10.0)\nRequirement already satisfied: gast==0.3.3 in /anaconda/envs/azureml_py38/lib/python3.8/site-packages (from tensorflow>=2.1.0->stellargraph[demos]) (0.3.3)\nRequirement already satisfied: wheel>=0.26; python_version >= \"3\" in /anaconda/envs/azureml_py38/lib/python3.8/site-packages (from tensorflow>=2.1.0->stellargraph[demos]) (0.35.1)\nRequirement already satisfied: termcolor>=1.1.0 in /anaconda/envs/azureml_py38/lib/python3.8/site-packages (from tensorflow>=2.1.0->stellargraph[demos]) (1.1.0)\nRequirement already satisfied: astunparse==1.6.3 in /anaconda/envs/azureml_py38/lib/python3.8/site-packages (from tensorflow>=2.1.0->stellargraph[demos]) (1.6.3)\nRequirement already satisfied: setuptools in /anaconda/envs/azureml_py38/lib/python3.8/site-packages (from rdflib; extra == \"demos\"->stellargraph[demos]) (59.5.0)\nRequirement already satisfied: isodate in /anaconda/envs/azureml_py38/lib/python3.8/site-packages (from rdflib; extra == \"demos\"->stellargraph[demos]) (0.6.1)\nRequirement already satisfied: llvmlite<0.37,>=0.36.0rc1 in /anaconda/envs/azureml_py38/lib/python3.8/site-packages (from numba; extra == \"demos\"->stellargraph[demos]) (0.36.0)\nRequirement already satisfied: nbconvert in /anaconda/envs/azureml_py38/lib/python3.8/site-packages (from jupyter; extra == \"demos\"->stellargraph[demos]) (6.4.5)\nRequirement already satisfied: ipykernel in /anaconda/envs/azureml_py38/lib/python3.8/site-packages (from jupyter; extra == \"demos\"->stellargraph[demos]) (6.6.0)\nRequirement already satisfied: qtconsole in /anaconda/envs/azureml_py38/lib/python3.8/site-packages (from jupyter; extra == \"demos\"->stellargraph[demos]) (5.3.0)\nRequirement already satisfied: jupyter-console in /anaconda/envs/azureml_py38/lib/python3.8/site-packages (from jupyter; extra == \"demos\"->stellargraph[demos]) (6.4.3)\nRequirement already satisfied: notebook in /anaconda/envs/azureml_py38/lib/python3.8/site-packages (from jupyter; extra == \"demos\"->stellargraph[demos]) (6.4.11)\nRequirement already satisfied: ipywidgets in /anaconda/envs/azureml_py38/lib/python3.8/site-packages (from jupyter; extra == \"demos\"->stellargraph[demos]) (7.7.0)\nRequirement already satisfied: jinja2 in /anaconda/envs/azureml_py38/lib/python3.8/site-packages (from mplleaflet==0.0.5; extra == \"demos\"->stellargraph[demos]) (3.0.3)\nRequirement already satisfied: werkzeug>=0.11.15 in /anaconda/envs/azureml_py38/lib/python3.8/site-packages (from tensorboard<2.3.0,>=2.2.0->tensorflow>=2.1.0->stellargraph[demos]) (1.0.1)\nRequirement already satisfied: markdown>=2.6.8 in /anaconda/envs/azureml_py38/lib/python3.8/site-packages (from tensorboard<2.3.0,>=2.2.0->tensorflow>=2.1.0->stellargraph[demos]) (3.3.6)\nRequirement already satisfied: google-auth-oauthlib<0.5,>=0.4.1 in /anaconda/envs/azureml_py38/lib/python3.8/site-packages (from tensorboard<2.3.0,>=2.2.0->tensorflow>=2.1.0->stellargraph[demos]) (0.4.6)\nRequirement already satisfied: google-auth<2,>=1.6.3 in /anaconda/envs/azureml_py38/lib/python3.8/site-packages (from tensorboard<2.3.0,>=2.2.0->tensorflow>=2.1.0->stellargraph[demos]) (1.35.0)\nRequirement already satisfied: tensorboard-plugin-wit>=1.6.0 in /anaconda/envs/azureml_py38/lib/python3.8/site-packages (from tensorboard<2.3.0,>=2.2.0->tensorflow>=2.1.0->stellargraph[demos]) (1.8.1)\nRequirement already satisfied: requests<3,>=2.21.0 in /anaconda/envs/azureml_py38/lib/python3.8/site-packages (from tensorboard<2.3.0,>=2.2.0->tensorflow>=2.1.0->stellargraph[demos]) (2.27.1)\nRequirement already satisfied: jupyter-core in /anaconda/envs/azureml_py38/lib/python3.8/site-packages (from nbconvert->jupyter; extra == \"demos\"->stellargraph[demos]) (4.9.2)\nRequirement already satisfied: bleach in /anaconda/envs/azureml_py38/lib/python3.8/site-packages (from nbconvert->jupyter; extra == \"demos\"->stellargraph[demos]) (4.1.0)\nRequirement already satisfied: pygments>=2.4.1 in /anaconda/envs/azureml_py38/lib/python3.8/site-packages (from nbconvert->jupyter; extra == \"demos\"->stellargraph[demos]) (2.11.2)\nRequirement already satisfied: mistune<2,>=0.8.1 in /anaconda/envs/azureml_py38/lib/python3.8/site-packages (from nbconvert->jupyter; extra == \"demos\"->stellargraph[demos]) (0.8.4)\nRequirement already satisfied: testpath in /anaconda/envs/azureml_py38/lib/python3.8/site-packages (from nbconvert->jupyter; extra == \"demos\"->stellargraph[demos]) (0.6.0)\nRequirement already satisfied: traitlets>=5.0 in /anaconda/envs/azureml_py38/lib/python3.8/site-packages (from nbconvert->jupyter; extra == \"demos\"->stellargraph[demos]) (5.1.1)\nRequirement already satisfied: beautifulsoup4 in /anaconda/envs/azureml_py38/lib/python3.8/site-packages (from nbconvert->jupyter; extra == \"demos\"->stellargraph[demos]) (4.11.1)\nRequirement already satisfied: entrypoints>=0.2.2 in /anaconda/envs/azureml_py38/lib/python3.8/site-packages (from nbconvert->jupyter; extra == \"demos\"->stellargraph[demos]) (0.4)\nRequirement already satisfied: nbclient<0.6.0,>=0.5.0 in /anaconda/envs/azureml_py38/lib/python3.8/site-packages (from nbconvert->jupyter; extra == \"demos\"->stellargraph[demos]) (0.5.13)\nRequirement already satisfied: nbformat>=4.4 in /anaconda/envs/azureml_py38/lib/python3.8/site-packages (from nbconvert->jupyter; extra == \"demos\"->stellargraph[demos]) (5.3.0)\nRequirement already satisfied: pandocfilters>=1.4.1 in /anaconda/envs/azureml_py38/lib/python3.8/site-packages (from nbconvert->jupyter; extra == \"demos\"->stellargraph[demos]) (1.5.0)\nRequirement already satisfied: defusedxml in /anaconda/envs/azureml_py38/lib/python3.8/site-packages (from nbconvert->jupyter; extra == \"demos\"->stellargraph[demos]) (0.7.1)\nRequirement already satisfied: MarkupSafe>=2.0 in /anaconda/envs/azureml_py38/lib/python3.8/site-packages (from nbconvert->jupyter; extra == \"demos\"->stellargraph[demos]) (2.0.1)\nRequirement already satisfied: jupyterlab-pygments in /anaconda/envs/azureml_py38/lib/python3.8/site-packages (from nbconvert->jupyter; extra == \"demos\"->stellargraph[demos]) (0.1.2)\nRequirement already satisfied: ipython>=7.23.1 in /anaconda/envs/azureml_py38/lib/python3.8/site-packages (from ipykernel->jupyter; extra == \"demos\"->stellargraph[demos]) (8.2.0)\nRequirement already satisfied: debugpy<2.0,>=1.0.0 in /anaconda/envs/azureml_py38/lib/python3.8/site-packages (from ipykernel->jupyter; extra == \"demos\"->stellargraph[demos]) (1.6.0)\nRequirement already satisfied: tornado<7.0,>=4.2 in /anaconda/envs/azureml_py38/lib/python3.8/site-packages (from ipykernel->jupyter; extra == \"demos\"->stellargraph[demos]) (6.1)\nRequirement already satisfied: jupyter-client<8.0 in /anaconda/envs/azureml_py38/lib/python3.8/site-packages (from ipykernel->jupyter; extra == \"demos\"->stellargraph[demos]) (6.1.12)\nRequirement already satisfied: matplotlib-inline<0.2.0,>=0.1.0 in /anaconda/envs/azureml_py38/lib/python3.8/site-packages (from ipykernel->jupyter; extra == \"demos\"->stellargraph[demos]) (0.1.3)\nRequirement already satisfied: qtpy>=2.0.1 in /anaconda/envs/azureml_py38/lib/python3.8/site-packages (from qtconsole->jupyter; extra == \"demos\"->stellargraph[demos]) (2.0.1)\nRequirement already satisfied: pyzmq>=17.1 in /anaconda/envs/azureml_py38/lib/python3.8/site-packages (from qtconsole->jupyter; extra == \"demos\"->stellargraph[demos]) (22.3.0)\nRequirement already satisfied: ipython-genutils in /anaconda/envs/azureml_py38/lib/python3.8/site-packages (from qtconsole->jupyter; extra == \"demos\"->stellargraph[demos]) (0.2.0)\nRequirement already satisfied: prompt-toolkit!=3.0.0,!=3.0.1,<3.1.0,>=2.0.0 in /anaconda/envs/azureml_py38/lib/python3.8/site-packages (from jupyter-console->jupyter; extra == \"demos\"->stellargraph[demos]) (3.0.28)\nRequirement already satisfied: argon2-cffi in /anaconda/envs/azureml_py38/lib/python3.8/site-packages (from notebook->jupyter; extra == \"demos\"->stellargraph[demos]) (21.3.0)\nRequirement already satisfied: Send2Trash>=1.8.0 in /anaconda/envs/azureml_py38/lib/python3.8/site-packages (from notebook->jupyter; extra == \"demos\"->stellargraph[demos]) (1.8.0)\nRequirement already satisfied: prometheus-client in /anaconda/envs/azureml_py38/lib/python3.8/site-packages (from notebook->jupyter; extra == \"demos\"->stellargraph[demos]) (0.13.1)\nRequirement already satisfied: terminado>=0.8.3 in /anaconda/envs/azureml_py38/lib/python3.8/site-packages (from notebook->jupyter; extra == \"demos\"->stellargraph[demos]) (0.13.3)\nRequirement already satisfied: nest-asyncio>=1.5 in /anaconda/envs/azureml_py38/lib/python3.8/site-packages (from notebook->jupyter; extra == \"demos\"->stellargraph[demos]) (1.5.5)\nRequirement already satisfied: jupyterlab-widgets>=1.0.0; python_version >= \"3.6\" in /anaconda/envs/azureml_py38/lib/python3.8/site-packages (from ipywidgets->jupyter; extra == \"demos\"->stellargraph[demos]) (1.1.0)\nRequirement already satisfied: widgetsnbextension~=3.6.0 in /anaconda/envs/azureml_py38/lib/python3.8/site-packages (from ipywidgets->jupyter; extra == \"demos\"->stellargraph[demos]) (3.6.0)\nRequirement already satisfied: importlib-metadata>=4.4; python_version < \"3.10\" in /anaconda/envs/azureml_py38/lib/python3.8/site-packages (from markdown>=2.6.8->tensorboard<2.3.0,>=2.2.0->tensorflow>=2.1.0->stellargraph[demos]) (4.11.3)\nRequirement already satisfied: requests-oauthlib>=0.7.0 in /anaconda/envs/azureml_py38/lib/python3.8/site-packages (from google-auth-oauthlib<0.5,>=0.4.1->tensorboard<2.3.0,>=2.2.0->tensorflow>=2.1.0->stellargraph[demos]) (1.3.1)\nRequirement already satisfied: cachetools<5.0,>=2.0.0 in /anaconda/envs/azureml_py38/lib/python3.8/site-packages (from google-auth<2,>=1.6.3->tensorboard<2.3.0,>=2.2.0->tensorflow>=2.1.0->stellargraph[demos]) (4.2.4)\nRequirement already satisfied: rsa<5,>=3.1.4; python_version >= \"3.6\" in /anaconda/envs/azureml_py38/lib/python3.8/site-packages (from google-auth<2,>=1.6.3->tensorboard<2.3.0,>=2.2.0->tensorflow>=2.1.0->stellargraph[demos]) (4.8)\nRequirement already satisfied: pyasn1-modules>=0.2.1 in /anaconda/envs/azureml_py38/lib/python3.8/site-packages (from google-auth<2,>=1.6.3->tensorboard<2.3.0,>=2.2.0->tensorflow>=2.1.0->stellargraph[demos]) (0.2.8)\nRequirement already satisfied: charset-normalizer~=2.0.0; python_version >= \"3\" in /anaconda/envs/azureml_py38/lib/python3.8/site-packages (from requests<3,>=2.21.0->tensorboard<2.3.0,>=2.2.0->tensorflow>=2.1.0->stellargraph[demos]) (2.0.12)\nRequirement already satisfied: urllib3<1.27,>=1.21.1 in /anaconda/envs/azureml_py38/lib/python3.8/site-packages (from requests<3,>=2.21.0->tensorboard<2.3.0,>=2.2.0->tensorflow>=2.1.0->stellargraph[demos]) (1.26.7)\nRequirement already satisfied: idna<4,>=2.5; python_version >= \"3\" in /anaconda/envs/azureml_py38/lib/python3.8/site-packages (from requests<3,>=2.21.0->tensorboard<2.3.0,>=2.2.0->tensorflow>=2.1.0->stellargraph[demos]) (3.3)\nRequirement already satisfied: packaging in /anaconda/envs/azureml_py38/lib/python3.8/site-packages (from bleach->nbconvert->jupyter; extra == \"demos\"->stellargraph[demos]) (21.3)\nRequirement already satisfied: webencodings in /anaconda/envs/azureml_py38/lib/python3.8/site-packages (from bleach->nbconvert->jupyter; extra == \"demos\"->stellargraph[demos]) (0.5.1)\nRequirement already satisfied: soupsieve>1.2 in /anaconda/envs/azureml_py38/lib/python3.8/site-packages (from beautifulsoup4->nbconvert->jupyter; extra == \"demos\"->stellargraph[demos]) (2.3.2)\nRequirement already satisfied: fastjsonschema in /anaconda/envs/azureml_py38/lib/python3.8/site-packages (from nbformat>=4.4->nbconvert->jupyter; extra == \"demos\"->stellargraph[demos]) (2.15.1)\nRequirement already satisfied: jsonschema>=2.6 in /anaconda/envs/azureml_py38/lib/python3.8/site-packages (from nbformat>=4.4->nbconvert->jupyter; extra == \"demos\"->stellargraph[demos]) (4.4.0)\nRequirement already satisfied: stack-data in /anaconda/envs/azureml_py38/lib/python3.8/site-packages (from ipython>=7.23.1->ipykernel->jupyter; extra == \"demos\"->stellargraph[demos]) (0.2.0)\nRequirement already satisfied: backcall in /anaconda/envs/azureml_py38/lib/python3.8/site-packages (from ipython>=7.23.1->ipykernel->jupyter; extra == \"demos\"->stellargraph[demos]) (0.2.0)\nRequirement already satisfied: pickleshare in /anaconda/envs/azureml_py38/lib/python3.8/site-packages (from ipython>=7.23.1->ipykernel->jupyter; extra == \"demos\"->stellargraph[demos]) (0.7.5)\nRequirement already satisfied: pexpect>4.3; sys_platform != \"win32\" in /anaconda/envs/azureml_py38/lib/python3.8/site-packages (from ipython>=7.23.1->ipykernel->jupyter; extra == \"demos\"->stellargraph[demos]) (4.8.0)\nRequirement already satisfied: jedi>=0.16 in /anaconda/envs/azureml_py38/lib/python3.8/site-packages (from ipython>=7.23.1->ipykernel->jupyter; extra == \"demos\"->stellargraph[demos]) (0.18.1)\nRequirement already satisfied: wcwidth in /anaconda/envs/azureml_py38/lib/python3.8/site-packages (from prompt-toolkit!=3.0.0,!=3.0.1,<3.1.0,>=2.0.0->jupyter-console->jupyter; extra == \"demos\"->stellargraph[demos]) (0.2.5)\nRequirement already satisfied: argon2-cffi-bindings in /anaconda/envs/azureml_py38/lib/python3.8/site-packages (from argon2-cffi->notebook->jupyter; extra == \"demos\"->stellargraph[demos]) (21.2.0)\nRequirement already satisfied: ptyprocess; os_name != \"nt\" in /anaconda/envs/azureml_py38/lib/python3.8/site-packages (from terminado>=0.8.3->notebook->jupyter; extra == \"demos\"->stellargraph[demos]) (0.7.0)\nRequirement already satisfied: zipp>=0.5 in /anaconda/envs/azureml_py38/lib/python3.8/site-packages (from importlib-metadata>=4.4; python_version < \"3.10\"->markdown>=2.6.8->tensorboard<2.3.0,>=2.2.0->tensorflow>=2.1.0->stellargraph[demos]) (3.8.0)\nRequirement already satisfied: oauthlib>=3.0.0 in /anaconda/envs/azureml_py38/lib/python3.8/site-packages (from requests-oauthlib>=0.7.0->google-auth-oauthlib<0.5,>=0.4.1->tensorboard<2.3.0,>=2.2.0->tensorflow>=2.1.0->stellargraph[demos]) (3.2.0)\nRequirement already satisfied: pyasn1>=0.1.3 in /anaconda/envs/azureml_py38/lib/python3.8/site-packages (from rsa<5,>=3.1.4; python_version >= \"3.6\"->google-auth<2,>=1.6.3->tensorboard<2.3.0,>=2.2.0->tensorflow>=2.1.0->stellargraph[demos]) (0.4.8)\nRequirement already satisfied: importlib-resources>=1.4.0; python_version < \"3.9\" in /anaconda/envs/azureml_py38/lib/python3.8/site-packages (from jsonschema>=2.6->nbformat>=4.4->nbconvert->jupyter; extra == \"demos\"->stellargraph[demos]) (5.6.0)\nRequirement already satisfied: pyrsistent!=0.17.0,!=0.17.1,!=0.17.2,>=0.14.0 in /anaconda/envs/azureml_py38/lib/python3.8/site-packages (from jsonschema>=2.6->nbformat>=4.4->nbconvert->jupyter; extra == \"demos\"->stellargraph[demos]) (0.18.1)\nRequirement already satisfied: attrs>=17.4.0 in /anaconda/envs/azureml_py38/lib/python3.8/site-packages (from jsonschema>=2.6->nbformat>=4.4->nbconvert->jupyter; extra == \"demos\"->stellargraph[demos]) (21.4.0)\nRequirement already satisfied: pure-eval in /anaconda/envs/azureml_py38/lib/python3.8/site-packages (from stack-data->ipython>=7.23.1->ipykernel->jupyter; extra == \"demos\"->stellargraph[demos]) (0.2.2)\nRequirement already satisfied: executing in /anaconda/envs/azureml_py38/lib/python3.8/site-packages (from stack-data->ipython>=7.23.1->ipykernel->jupyter; extra == \"demos\"->stellargraph[demos]) (0.8.3)\nRequirement already satisfied: asttokens in /anaconda/envs/azureml_py38/lib/python3.8/site-packages (from stack-data->ipython>=7.23.1->ipykernel->jupyter; extra == \"demos\"->stellargraph[demos]) (2.0.5)\nRequirement already satisfied: parso<0.9.0,>=0.8.0 in /anaconda/envs/azureml_py38/lib/python3.8/site-packages (from jedi>=0.16->ipython>=7.23.1->ipykernel->jupyter; extra == \"demos\"->stellargraph[demos]) (0.8.3)\nRequirement already satisfied: cffi>=1.0.1 in /anaconda/envs/azureml_py38/lib/python3.8/site-packages (from argon2-cffi-bindings->argon2-cffi->notebook->jupyter; extra == \"demos\"->stellargraph[demos]) (1.15.0)\nRequirement already satisfied: pycparser in /anaconda/envs/azureml_py38/lib/python3.8/site-packages (from cffi>=1.0.1->argon2-cffi-bindings->argon2-cffi->notebook->jupyter; extra == \"demos\"->stellargraph[demos]) (2.21)\n"
        },
        {
          "output_type": "stream",
          "name": "stderr",
          "text": "[nltk_data] Downloading package benepar_en3 to\n[nltk_data]     /home/azureuser/nltk_data...\n[nltk_data]   Package benepar_en3 is already up-to-date!\n"
        }
      ],
      "execution_count": 1,
      "metadata": {
        "id": "6fa48c3c",
        "colab": {
          "base_uri": "https://localhost:8080/",
          "height": 1000
        },
        "outputId": "2baf699b-4e78-423c-8cdf-8651861733d0",
        "gather": {
          "logged": 1657225799917
        }
      },
      "id": "6fa48c3c"
    },
    {
      "cell_type": "code",
      "source": [
        "rel_label = [\"Contributes_To\"]\n",
        "ents = [\"base\", \"change_direction\", \"predicate\", \"aspect_changing\"]"
      ],
      "outputs": [],
      "execution_count": 2,
      "metadata": {
        "id": "ff7a6974",
        "colab": {
          "base_uri": "https://localhost:8080/",
          "height": 17
        },
        "outputId": "992a29c9-649a-4372-e691-4079394dcdb4",
        "gather": {
          "logged": 1655865064600
        }
      },
      "id": "ff7a6974"
    },
    {
      "cell_type": "code",
      "source": [
        "def prep_rel_data(rel_labels):\n",
        "    \n",
        "    file_name_answers = \"checkin_answers\"\n",
        "    file_path_answers = file_name_answers + \".jsonl\"\n",
        "    data = srsly.read_jsonl(file_path_answers)\n",
        "    final_rel_sent = []\n",
        "\n",
        "    for entry in data:\n",
        "        if \"text\" in entry:\n",
        "            text = entry[\"text\"]\n",
        "        label_arr = []\n",
        "        label_dict = {}\n",
        "        if entry['answer'] == \"accept\":\n",
        "            if entry['_session_id'] == \"main_3_per_cluster-Kameron\":\n",
        "                for relation in entry['relations']:\n",
        "                    if (\"label\" in relation) and (\"head_span\" in relation) and (\"child_span\" in relation):\n",
        "                        if relation[\"label\"] in rel_labels:\n",
        "                            head_span_start = relation[\"head_span\"][\"start\"]\n",
        "                            head_span_end = relation[\"head_span\"][\"end\"]\n",
        "                            child_span_start = relation[\"child_span\"][\"start\"]\n",
        "                            child_span_end = relation[\"child_span\"][\"end\"]\n",
        "                            head_word = text[head_span_start:head_span_end]\n",
        "                            child_word = text[child_span_start:child_span_end]\n",
        "                            tmp_dict = {\"head\": head_word, \"child\": child_word, \"label\": relation[\"label\"]}\n",
        "                            label_arr.append(tmp_dict)\n",
        "                if len(label_arr) > 0:\n",
        "                    label_tup = (text, {\"entities\": label_arr})\n",
        "                    final_rel_sent.append(label_tup)\n",
        "                else:\n",
        "                    pass\n",
        "                    #print(text)\n",
        "    return final_rel_sent\n",
        "                    \n",
        "final_rel_sent = prep_rel_data(rel_label)\n",
        "#print(final_rel_sent)"
      ],
      "outputs": [],
      "execution_count": 3,
      "metadata": {
        "id": "1e76999b",
        "colab": {
          "base_uri": "https://localhost:8080/",
          "height": 17
        },
        "outputId": "50d947d7-1455-4174-8fc7-deeb77ea6acb",
        "gather": {
          "logged": 1655865064756
        }
      },
      "id": "1e76999b"
    },
    {
      "cell_type": "code",
      "source": [
        "def prep_ent_data(ents):\n",
        "    \n",
        "    file_name_answers = \"checkin_answers\"\n",
        "    file_path_answers = file_name_answers + \".jsonl\"\n",
        "    data = srsly.read_jsonl(file_path_answers)\n",
        "    label_dict = {}\n",
        "\n",
        "    for entry in data:\n",
        "        if \"text\" in entry:\n",
        "            text = entry[\"text\"]\n",
        "        base_arr = []\n",
        "        cd_arr = []\n",
        "        pred_arr = []\n",
        "        ac_arr = []\n",
        "        if entry['answer'] == \"accept\":\n",
        "            if entry['_session_id'] == \"main_3_per_cluster-Kameron\":\n",
        "                for relation in entry['spans']:\n",
        "                    if (\"label\" in relation) and (\"start\" in relation) and (\"end\" in relation):\n",
        "                        child_span_start = relation[\"start\"]\n",
        "                        child_span_end = relation[\"end\"]\n",
        "                        word = text[child_span_start:child_span_end]\n",
        "                        if relation[\"label\"] in ents:\n",
        "                            if relation[\"label\"] == \"base\":\n",
        "                                base_arr.append(word)\n",
        "                            elif relation[\"label\"] == \"change_direction\":\n",
        "                                cd_arr.append(word)\n",
        "                            elif relation[\"label\"] == \"predicate\":\n",
        "                                pred_arr.append(word)\n",
        "                            elif relation[\"label\"] == \"aspect_changing\":\n",
        "                                ac_arr.append(word)\n",
        "\n",
        "                label_dict[text] = {\"base\": base_arr, \"change_direction\": cd_arr, \"predicate\": pred_arr, \"aspect_changing\": ac_arr}\n",
        "    return label_dict\n",
        "\n",
        "final_sent_ent = prep_ent_data(ents)\n",
        "#print(final_sent_ent)"
      ],
      "outputs": [],
      "execution_count": 4,
      "metadata": {
        "id": "c5711add",
        "colab": {
          "base_uri": "https://localhost:8080/",
          "height": 17
        },
        "outputId": "fecb1f25-c0bb-4c06-bc16-830df58c9534",
        "gather": {
          "logged": 1655865064870
        }
      },
      "id": "c5711add"
    },
    {
      "cell_type": "code",
      "source": [
        "def get_direction_counter():\n",
        "    left_to_right = 0\n",
        "    right_to_left = 0\n",
        "    for x in final_rel_sent:\n",
        "        sent = x[0]\n",
        "        for y in x[1]['entities']:\n",
        "            head = y['head']\n",
        "            tail = y['child']\n",
        "            start_index = sent.find(head)\n",
        "            end_index = sent.find(tail)\n",
        "            if head != \"IMPLIED_BASE\" and tail != \"IMPLIED_BASE\":\n",
        "                if start_index < end_index:\n",
        "                    right_to_left += 1\n",
        "                else:\n",
        "                    left_to_right += 1            \n",
        "    return {\"left_to_right\": left_to_right, \"right_to_left\": right_to_left}\n",
        "\n",
        "def get_num_unique_sent():\n",
        "    sentences = set()\n",
        "    for x in final_rel_sent:\n",
        "        sent = x[0]\n",
        "        sentences.add(sent)\n",
        "    return len(sentences)"
      ],
      "outputs": [],
      "execution_count": 5,
      "metadata": {
        "id": "1525537f",
        "colab": {
          "base_uri": "https://localhost:8080/",
          "height": 17
        },
        "outputId": "0bc453d5-8940-4654-e25f-675c7467e1d5",
        "gather": {
          "logged": 1655865064941
        }
      },
      "id": "1525537f"
    },
    {
      "cell_type": "code",
      "source": [
        "print(get_direction_counter())\n",
        "print(get_num_unique_sent())"
      ],
      "outputs": [
        {
          "output_type": "stream",
          "name": "stdout",
          "text": "{'left_to_right': 246, 'right_to_left': 447}\n305\n"
        }
      ],
      "execution_count": 6,
      "metadata": {
        "colab": {
          "base_uri": "https://localhost:8080/",
          "height": 53
        },
        "id": "1d2443b9",
        "outputId": "f9c57aab-c9f4-4d62-f64e-35f6fbedfded",
        "gather": {
          "logged": 1655865065004
        }
      },
      "id": "1d2443b9"
    },
    {
      "cell_type": "code",
      "source": [
        "from nltk.tree import Tree\n",
        "import networkx as nx\n",
        "from collections import defaultdict\n",
        "import itertools\n",
        "\n",
        "def convertToGraph(edges):\n",
        "    #G = defaultdict(list)\n",
        "    #G = nx.Graph()\n",
        "    #for a, b in tree_to_edges(edges):\n",
        "        #G[a] += [b]\n",
        "        #G[b] += [a]\n",
        "    #    G.add_node(a)\n",
        "    #    G.add_node(b)\n",
        "    #    G.add_edge(a, b)\n",
        "    #return G\n",
        "    \n",
        "    G = nx.Graph()\n",
        "    for node_tuple in tree_to_edges(edges):\n",
        "        G.add_edges_from(itertools.product(node_tuple, node_tuple))\n",
        "\n",
        "    G.remove_edges_from(nx.selfloop_edges(G))\n",
        "\n",
        "    return G\n",
        "    \n",
        "\n",
        "\n",
        "def get_edges(tree, i):\n",
        "    from_str = f\"{tree.label()}{i}\"\n",
        "    children = [f\"{child.label()} {child.leaves()[0]}\" for child in tree if isinstance(child, Tree) and child.height() == 2]\n",
        "    children.extend([f\"{child.label()}{i+1}\" for child in tree if isinstance(child, Tree) and child.height() > 2])\n",
        "    return [(from_str, child) for child in children]\n",
        "\n",
        "def tree_to_edges(tree):\n",
        "    height = 0\n",
        "    rv = []\n",
        "    to_check = [tree]\n",
        "    while to_check:\n",
        "        tree_to_check = to_check.pop(0)\n",
        "        rv.extend(get_edges(tree_to_check, height))\n",
        "        height += 1\n",
        "        to_check.extend([child for child in tree_to_check if isinstance(child, Tree) and child.height() > 2])\n",
        "    return rv\n",
        "\n",
        "def generate_graph(tmp_ans):\n",
        "    #t = Tree.fromstring(tmp_ans._.parse_string)\n",
        "    t = Tree.fromstring(tmp_ans)\n",
        "    #final_graph = convertToGraph(tree_to_edges(t))\n",
        "    final_graph = convertToGraph(t)\n",
        "    return final_graph\n",
        "\n",
        "\"\"\"\n",
        "tmp_sent = 'As freshwater lakes get hotter in the summer that leads to more amoebae in the water and increased human risk said Sonia Altizer an associate professor of ecology at the University of Georgia'\n",
        "tmp_doc = nlp(tmp_sent)        \n",
        "tmp_ans = list(tmp_doc.sents)[0]\n",
        "parse = tmp_ans._.parse_string\n",
        "final_graph = generate_graph(parse)\n",
        "print(final_graph)\n",
        "\"\"\""
      ],
      "outputs": [
        {
          "output_type": "execute_result",
          "execution_count": 7,
          "data": {
            "text/plain": "\"\\ntmp_sent = 'As freshwater lakes get hotter in the summer that leads to more amoebae in the water and increased human risk said Sonia Altizer an associate professor of ecology at the University of Georgia'\\ntmp_doc = nlp(tmp_sent)        \\ntmp_ans = list(tmp_doc.sents)[0]\\nparse = tmp_ans._.parse_string\\nfinal_graph = generate_graph(parse)\\nprint(final_graph)\\n\""
          },
          "metadata": {}
        }
      ],
      "execution_count": 7,
      "metadata": {
        "colab": {
          "base_uri": "https://localhost:8080/",
          "height": 17
        },
        "id": "8R7vT3u1Ll3o",
        "outputId": "7038dfb1-e6e2-4449-f30c-5e14690ed538",
        "gather": {
          "logged": 1655865065632
        }
      },
      "id": "8R7vT3u1Ll3o"
    },
    {
      "cell_type": "code",
      "source": [
        "from node2vec import Node2Vec\n",
        "from stellargraph import StellarGraph\n",
        "from stellargraph.data import BiasedRandomWalk\n",
        "from gensim.models import Word2Vec\n",
        "\n",
        "def generate_embeddings(final_graph):\n",
        "    node2vec = Node2Vec(final_graph, dimensions=64, walk_length=30, num_walks=200, workers=4)\n",
        "    model = node2vec.fit(window=10, min_count=1, batch_words=4)\n",
        "    return model.wv.vectors\n",
        "\n",
        "def generate_embeddings_new(final_graph):\n",
        "    G = StellarGraph.from_networkx(final_graph)\n",
        "    rw = BiasedRandomWalk(G)\n",
        "\n",
        "    walks = rw.run(\n",
        "        nodes=list(G.nodes()),  # root nodes\n",
        "        length=100,  # maximum length of a random walk\n",
        "        n=10,  # number of random walks per root node\n",
        "        p=0.5,  # Defines (unormalised) probability, 1/p, of returning to source node\n",
        "        q=2.0,  # Defines (unormalised) probability, 1/q, for moving away from source node\n",
        "    )\n",
        "    #print(\"Number of random walks: {}\".format(len(walks)))\n",
        "\n",
        "    str_walks = [[str(n) for n in walk] for walk in walks]\n",
        "    model = Word2Vec(str_walks, vector_size=128, window=5, min_count=0, sg=1, workers=2, epochs=1)\n",
        "\n",
        "    # Retrieve node embeddings and corresponding subjects\n",
        "    node_ids = model.wv.index_to_key  # list of node IDs\n",
        "    node_embeddings = (\n",
        "        model.wv.vectors\n",
        "    )  # numpy.ndarray of size number of nodes times embeddings dimensionality\n",
        "    return node_embeddings\n",
        "\n",
        "\"\"\"\n",
        "# Create a graph\n",
        "graph = nx.fast_gnp_random_graph(n=100, p=0.5)\n",
        "\n",
        "# Precompute probabilities and generate walks - **ON WINDOWS ONLY WORKS WITH workers=1**\n",
        "node2vec = Node2Vec(graph, dimensions=64, walk_length=30, num_walks=200, workers=4)  # Use temp_folder for big graphs\n",
        "\n",
        "# Embed nodes\n",
        "#model = node2vec.fit(window=10, min_count=1, batch_words=2)  # Any keywords acceptable by gensim.Word2Vec can be passed, `dimensions` and `workers` are automatically passed (from the Node2Vec constructor)\n",
        "\n",
        "# Look for most similar nodes\n",
        "model.wv.most_similar('2')  # Output node names are always strings\n",
        "\n",
        "# Save embeddings for later use\n",
        "model.wv.save_word2vec_format(EMBEDDING_FILENAME)\n",
        "\n",
        "# Save model for later use\n",
        "model.save(EMBEDDING_MODEL_FILENAME)\n",
        "\n",
        "# Embed edges using Hadamard method\n",
        "from node2vec.edges import HadamardEmbedder\n",
        "\n",
        "edges_embs = HadamardEmbedder(keyed_vectors=model.wv)\n",
        "\n",
        "# Look for embeddings on the fly - here we pass normal tuples\n",
        "edges_embs[('1', '2')]\n",
        "''' OUTPUT\n",
        "array([ 5.75068220e-03, -1.10937878e-02,  3.76693785e-01,  2.69105062e-02,\n",
        "       ... ... ....\n",
        "       ..................................................................],\n",
        "      dtype=float32)\n",
        "'''\n",
        "\n",
        "# Get all edges in a separate KeyedVectors instance - use with caution could be huge for big networks\n",
        "edges_kv = edges_embs.as_keyed_vectors()\n",
        "\n",
        "# Look for most similar edges - this time tuples must be sorted and as str\n",
        "edges_kv.most_similar(str(('1', '2')))\n",
        "\n",
        "# Save embeddings for later use\n",
        "edges_kv.save_word2vec_format(EDGES_EMBEDDING_FILENAME)\n",
        "\"\"\""
      ],
      "outputs": [
        {
          "output_type": "execute_result",
          "execution_count": 8,
          "data": {
            "text/plain": "\"\\n# Create a graph\\ngraph = nx.fast_gnp_random_graph(n=100, p=0.5)\\n\\n# Precompute probabilities and generate walks - **ON WINDOWS ONLY WORKS WITH workers=1**\\nnode2vec = Node2Vec(graph, dimensions=64, walk_length=30, num_walks=200, workers=4)  # Use temp_folder for big graphs\\n\\n# Embed nodes\\n#model = node2vec.fit(window=10, min_count=1, batch_words=2)  # Any keywords acceptable by gensim.Word2Vec can be passed, `dimensions` and `workers` are automatically passed (from the Node2Vec constructor)\\n\\n# Look for most similar nodes\\nmodel.wv.most_similar('2')  # Output node names are always strings\\n\\n# Save embeddings for later use\\nmodel.wv.save_word2vec_format(EMBEDDING_FILENAME)\\n\\n# Save model for later use\\nmodel.save(EMBEDDING_MODEL_FILENAME)\\n\\n# Embed edges using Hadamard method\\nfrom node2vec.edges import HadamardEmbedder\\n\\nedges_embs = HadamardEmbedder(keyed_vectors=model.wv)\\n\\n# Look for embeddings on the fly - here we pass normal tuples\\nedges_embs[('1', '2')]\\n''' OUTPUT\\narray([ 5.75068220e-03, -1.10937878e-02,  3.76693785e-01,  2.69105062e-02,\\n       ... ... ....\\n       ..................................................................],\\n      dtype=float32)\\n'''\\n\\n# Get all edges in a separate KeyedVectors instance - use with caution could be huge for big networks\\nedges_kv = edges_embs.as_keyed_vectors()\\n\\n# Look for most similar edges - this time tuples must be sorted and as str\\nedges_kv.most_similar(str(('1', '2')))\\n\\n# Save embeddings for later use\\nedges_kv.save_word2vec_format(EDGES_EMBEDDING_FILENAME)\\n\""
          },
          "metadata": {}
        }
      ],
      "execution_count": 8,
      "metadata": {
        "colab": {
          "base_uri": "https://localhost:8080/",
          "height": 143
        },
        "id": "6Zs_GeZmpxK5",
        "outputId": "e0882d72-9a39-4a47-a76a-a526db57a911",
        "gather": {
          "logged": 1655865067683
        }
      },
      "id": "6Zs_GeZmpxK5"
    },
    {
      "cell_type": "code",
      "source": [
        "def get_dep_tree(new_sent):\n",
        "    dep_tree = {}\n",
        "    doc = nlp(new_sent)        \n",
        "    sent = list(doc.sents)[0]\n",
        "    #dep_tree[new_sent] = sent._.parse_string.replace(\"(\", \"[\").replace(\")\", \"]\")\n",
        "    dep_tree[new_sent] = sent._.parse_string\n",
        "    return dep_tree"
      ],
      "outputs": [],
      "execution_count": 2,
      "metadata": {
        "colab": {
          "base_uri": "https://localhost:8080/",
          "height": 381,
          "referenced_widgets": [
            "77c2a3cb30444547917ef705d627b34e",
            "c34a6c42c93d4854aa7f4b4cbf190f18",
            "5f8cc9ceecb941949d7859c9a6a50e87",
            "f21d6f69293e4c968f0eb05fd5a3dab3",
            "1ec8e0b1f9b445f6af1d4524a4207b7f",
            "3e0584decb65406b9a9ab2d62d1ee757",
            "09abeb999394429daa67b1755fff502a",
            "00361e5c64844938922ab37c06b61115",
            "b9b4d1807321492e8a9add7aae3009ef",
            "f894fefe5d0a45a789418a4bc217a056",
            "bbf33695cf864f1a9d4705b415bc873f",
            "359ee725a949490c973600d9f1ed5719",
            "c011c79124964473a52c58b0ea434413",
            "a371cb1e2f4d40c48a5b7aab516c16c2",
            "3d26eb2d68ed47a49b61aeaf9106783f",
            "304d30f139184d0091d8ead7e1173e1a",
            "f994bc53e75444d3a6bbd88446457f45",
            "6a6f9ea1e61040bd840ab6f7e59ae28b",
            "5193ca43f561481f90e007e4ee624321",
            "e3322237cd514b86a94d28a738976e48",
            "ea94833057fd465faf90516d550911de",
            "cea473f5f7064c9194b6292dd134fdf4",
            "bf350c098f31480ab5cf418eea1fb883",
            "ec415743f79047deaeaa7c5226bae996",
            "fde50b8314174daa9ce7bd08e0d437f8",
            "cf719f7a35e94f12abe80dff415276c4",
            "77df230def2f4235965291f8e27cf7a3",
            "40224d9f1641453aa79b9d84e8b58e9b",
            "3523b39469df4de7a7a9d86b78489642",
            "abaf12b3b70b4e17bca8ed491a92bfea",
            "922641e2b0d84641987cd4e870cf2486",
            "f022f39316bf45ffa4731872751a7540",
            "f88c2cb94d1f48a686fb7b30aac4c2c9"
          ]
        },
        "id": "45kv9ni6CAvn",
        "outputId": "dd3537e0-13d7-4ec7-fe78-de8ac513ddc3",
        "gather": {
          "logged": 1657226126829
        }
      },
      "id": "45kv9ni6CAvn"
    },
    {
      "cell_type": "code",
      "source": [
        "tmp_sent = 'As freshwater lakes get hotter in the summer that leads to more amoebae in the water and increased human risk said Sonia Altizer an associate professor of ecology at the University of Georgia'\n",
        "res = get_dep_tree(tmp_sent)[tmp_sent]\n",
        "print(res.replace(\"(\", \"[\").replace(\")\", \"]\"))"
      ],
      "outputs": [
        {
          "output_type": "stream",
          "name": "stdout",
          "text": "[S [SBAR [IN As] [S [NP [NN freshwater] [NNS lakes]] [VP [VBP get] [ADJP [JJR hotter]] [PP [IN in] [NP [DT the] [NN summer]]]]]] [NP [WDT that]] [VP [VBZ leads] [PP [PP [IN to] [NP [NP [NP [JJR more] [NNS amoebae]] [PP [IN in] [NP [DT the] [NN water]]]] [CC and] [NP [VBN increased] [JJ human] [NN risk]]]] [PP [VP [VBD said]] [NP [NP [NNP Sonia] [NNP Altizer]] [NP [NP [DT an] [JJ associate] [NN professor]] [PP [IN of] [NP [NN ecology]]] [PP [IN at] [NP [NP [DT the] [NNP University]] [PP [IN of] [NP [NNP Georgia]]]]]]]]]]]\n"
        }
      ],
      "execution_count": 7,
      "metadata": {
        "jupyter": {
          "source_hidden": false,
          "outputs_hidden": false
        },
        "nteract": {
          "transient": {
            "deleting": false
          }
        },
        "gather": {
          "logged": 1657226188992
        }
      },
      "id": "7de6b8fa-87b2-49d8-8315-c1a1445f47a8"
    },
    {
      "cell_type": "code",
      "source": [
        "csv = []\n",
        "#features = [\"sent\", \"base1\", \"base2\", \"all_bases\", \"all_cd\", \"all_pred\", \"all_ac\", \"left_to_right\"]\n",
        "#features = [\"sent\", \"base1\", \"base2\", \"all_bases\", \"all_cd\", \"all_pred\", \"dep_tree\", \"left_to_right\"]\n",
        "features = [\"sent\", \"base1\", \"base2\", \"dep_tree\", \"left_to_right\"]\n",
        "csv.append(features)\n",
        "\n",
        "for x in final_rel_sent:\n",
        "    print(final_rel_sent.index(x))\n",
        "    sent = x[0]\n",
        "    for y in x[1]['entities']:\n",
        "        if y[\"head\"] != \"IMPLIED_BASE\" and y[\"child\"] != \"IMPLIED_BASE\":\n",
        "            start_index = sent.find(y[\"head\"])\n",
        "            end_index = sent.find(y[\"child\"])\n",
        "            if start_index < end_index:\n",
        "                left_to_right = 0\n",
        "            else:\n",
        "                left_to_right = 1\n",
        "                \n",
        "            new_sent = sent\n",
        "            new_sent = new_sent.replace(y[\"head\"], \"BASE\")\n",
        "            new_sent = new_sent.replace(y[\"child\"], \"BASE\")\n",
        "\n",
        "            #tmp = [sent, y[\"head\"], y[\"child\"], \", \".join(final_sent_ent[sent][\"base\"]), \", \".join(final_sent_ent[sent][\"change_direction\"]), \n",
        "            #    \", \".join(final_sent_ent[sent][\"predicate\"]), \", \".join(final_sent_ent[sent][\"aspect_changing\"]), left_to_right]\n",
        "            #tmp = [sent, y[\"head\"], y[\"child\"], \", \".join(final_sent_ent[sent][\"base\"]), \", \".join(final_sent_ent[sent][\"change_direction\"]), \n",
        "            #    \", \".join(final_sent_ent[sent][\"predicate\"]), left_to_right]\n",
        "            \n",
        "            # passing in dep tree/sentence grammar as a feature\n",
        "            #tmp = [sent, y[\"head\"], y[\"child\"], \", \".join(final_sent_ent[sent][\"base\"]), \", \".join(final_sent_ent[sent][\"change_direction\"]), \n",
        "            #    \", \".join(final_sent_ent[sent][\"predicate\"]), dep_tree[sent], left_to_right]\n",
        "\n",
        "            # swapping the actual words base to \"BASE\" to understand if the model is actually learning the grammar or not\n",
        "            #tmp = [new_sent, \"BASE\", \"BASE\", \", \".join(final_sent_ent[sent][\"base\"]), \", \".join(final_sent_ent[sent][\"change_direction\"]), \n",
        "            #    \", \".join(final_sent_ent[sent][\"predicate\"]), left_to_right]\n",
        "            #tmp = [new_sent, \"BASE\", \"BASE\", \", \".join(final_sent_ent[sent][\"change_direction\"]), \n",
        "            #    \", \".join(final_sent_ent[sent][\"predicate\"]), left_to_right]\n",
        "\n",
        "            dep_tree = get_dep_tree(new_sent)[new_sent]\n",
        "            #graph_generated = generate_graph(dep_tree)\n",
        "            #g_embeddings = generate_embeddings_new(graph_generated)\n",
        "\n",
        "            #sentence_embeddings_model = sbert_model.encode(new_sent)\n",
        "            #s_embeddings = list(sentence_embeddings_model)\n",
        "            tmp = [new_sent, \"BASE\", \"BASE\", dep_tree, left_to_right]\n",
        "            \n",
        "            #for e in g_embeddings:\n",
        "            #    tmp = [s_embeddings, \"BASE\", \"BASE\", e, left_to_right]\n",
        "            #    csv.append(tmp)\n",
        "            csv.append(tmp)\n",
        "            tmp = []    \n",
        "        \n",
        "print(len(csv))"
      ],
      "outputs": [],
      "execution_count": null,
      "metadata": {
        "id": "68b9c88d",
        "gather": {
          "logged": 1655865232104
        }
      },
      "id": "68b9c88d"
    },
    {
      "cell_type": "code",
      "source": [
        "len(csv)"
      ],
      "outputs": [
        {
          "output_type": "execute_result",
          "execution_count": 11,
          "data": {
            "text/plain": "694"
          },
          "metadata": {}
        }
      ],
      "execution_count": 11,
      "metadata": {
        "jupyter": {
          "source_hidden": false,
          "outputs_hidden": false
        },
        "nteract": {
          "transient": {
            "deleting": false
          }
        },
        "gather": {
          "logged": 1655865165791
        }
      },
      "id": "cd86adc9-d6f6-4934-8797-f6066f8d981e"
    },
    {
      "cell_type": "code",
      "source": [
        "df = pd.DataFrame(i for i in csv)\n",
        "df.drop(0, axis=0, inplace=True)\n",
        "df.columns = csv[0]\n",
        "df['left_to_right'] = df['left_to_right'].astype(int)\n",
        "#df.to_csv('data.csv')"
      ],
      "outputs": [],
      "execution_count": 12,
      "metadata": {
        "id": "34434937",
        "gather": {
          "logged": 1655865165863
        }
      },
      "id": "34434937"
    },
    {
      "cell_type": "code",
      "source": [
        "df.head()"
      ],
      "outputs": [
        {
          "output_type": "execute_result",
          "execution_count": 13,
          "data": {
            "text/plain": "                                                sent base1 base2  \\\n1  [-0.3926697, 0.29174235, 0.34444395, 0.1115106...  BASE  BASE   \n2  [-0.4879627, 0.20637694, 0.35121828, 0.1713416...  BASE  BASE   \n3  [-0.2728444, 0.3277352, 0.4151958, 0.036221836...  BASE  BASE   \n4  [-0.2765118, 0.2526166, 0.36175925, 0.10105675...  BASE  BASE   \n5  [-0.2971289, 0.28096542, 0.47723004, 0.0929106...  BASE  BASE   \n\n                                            dep_tree  left_to_right  \n1  (S (NP (DT These) (NNS risks)) (VP (VBP are) (...              1  \n2  (S (NP (DT These) (NNS risks)) (VP (VBP are) (...              1  \n3  (S (NP (DT These) (NNS risks)) (VP (VBP are) (...              1  \n4  (S (NP (DT These) (NNS risks)) (VP (VBP are) (...              1  \n5  (S (NP (DT These) (NNS risks)) (VP (VBP are) (...              1  ",
            "text/html": "<div>\n<style scoped>\n    .dataframe tbody tr th:only-of-type {\n        vertical-align: middle;\n    }\n\n    .dataframe tbody tr th {\n        vertical-align: top;\n    }\n\n    .dataframe thead th {\n        text-align: right;\n    }\n</style>\n<table border=\"1\" class=\"dataframe\">\n  <thead>\n    <tr style=\"text-align: right;\">\n      <th></th>\n      <th>sent</th>\n      <th>base1</th>\n      <th>base2</th>\n      <th>dep_tree</th>\n      <th>left_to_right</th>\n    </tr>\n  </thead>\n  <tbody>\n    <tr>\n      <th>1</th>\n      <td>[-0.3926697, 0.29174235, 0.34444395, 0.1115106...</td>\n      <td>BASE</td>\n      <td>BASE</td>\n      <td>(S (NP (DT These) (NNS risks)) (VP (VBP are) (...</td>\n      <td>1</td>\n    </tr>\n    <tr>\n      <th>2</th>\n      <td>[-0.4879627, 0.20637694, 0.35121828, 0.1713416...</td>\n      <td>BASE</td>\n      <td>BASE</td>\n      <td>(S (NP (DT These) (NNS risks)) (VP (VBP are) (...</td>\n      <td>1</td>\n    </tr>\n    <tr>\n      <th>3</th>\n      <td>[-0.2728444, 0.3277352, 0.4151958, 0.036221836...</td>\n      <td>BASE</td>\n      <td>BASE</td>\n      <td>(S (NP (DT These) (NNS risks)) (VP (VBP are) (...</td>\n      <td>1</td>\n    </tr>\n    <tr>\n      <th>4</th>\n      <td>[-0.2765118, 0.2526166, 0.36175925, 0.10105675...</td>\n      <td>BASE</td>\n      <td>BASE</td>\n      <td>(S (NP (DT These) (NNS risks)) (VP (VBP are) (...</td>\n      <td>1</td>\n    </tr>\n    <tr>\n      <th>5</th>\n      <td>[-0.2971289, 0.28096542, 0.47723004, 0.0929106...</td>\n      <td>BASE</td>\n      <td>BASE</td>\n      <td>(S (NP (DT These) (NNS risks)) (VP (VBP are) (...</td>\n      <td>1</td>\n    </tr>\n  </tbody>\n</table>\n</div>"
          },
          "metadata": {}
        }
      ],
      "execution_count": 13,
      "metadata": {
        "id": "899826a3",
        "gather": {
          "logged": 1655865165952
        }
      },
      "id": "899826a3"
    },
    {
      "cell_type": "code",
      "source": [
        "\"\"\"\n",
        "square_edges = pd.DataFrame(\n",
        "    {\"source\": df.dep_tree, \"target\": df.left_to_right}\n",
        ")\n",
        "square = StellarGraph(edges=square_edges)\n",
        "print(square.info())\n",
        "\"\"\""
      ],
      "outputs": [],
      "execution_count": 16,
      "metadata": {
        "jupyter": {
          "source_hidden": false,
          "outputs_hidden": false
        },
        "nteract": {
          "transient": {
            "deleting": false
          }
        },
        "gather": {
          "logged": 1655865409383
        }
      },
      "id": "8e0622f0-07b7-4aeb-972a-30c41da92c19"
    },
    {
      "cell_type": "code",
      "source": [
        "#df[\"sent\"] = df[\"sent\"].astype('category')\n",
        "df[\"base1\"] = df[\"base1\"].astype('category')\n",
        "df[\"base2\"] = df[\"base2\"].astype('category')\n",
        "#df[\"all_bases\"] = df[\"all_bases\"].astype('category')\n",
        "#df[\"all_cd\"] = df[\"all_cd\"].astype('category')\n",
        "#df[\"all_pred\"] = df[\"all_pred\"].astype('category')\n",
        "#df[\"dep_tree\"] = df[\"dep_tree\"][:0,].astype('category')\n",
        "#df[\"all_ac\"] = df[\"all_ac\"].astype('category')\n",
        "\n",
        "# Second, replace the strings with their code values.\n",
        "#df[\"sent\"] = df[\"sent\"].cat.codes\n",
        "df[\"base1\"] = df[\"base1\"].cat.codes\n",
        "df[\"base2\"] = df[\"base2\"].cat.codes\n",
        "#df[\"all_bases\"] = df[\"all_bases\"].cat.codes\n",
        "#df[\"all_cd\"] = df[\"all_cd\"].cat.codes\n",
        "#df[\"all_pred\"] = df[\"all_pred\"].cat.codes\n",
        "#df[\"dep_tree\"] = df[\"dep_tree\"].cat.codes\n",
        "#df[\"all_ac\"] = df[\"all_ac\"].cat.codes\n",
        "\n",
        "# Display the table--notice how the above columns are all integers now.\n",
        "df.head()"
      ],
      "outputs": [],
      "execution_count": null,
      "metadata": {
        "id": "1e350bbc",
        "gather": {
          "logged": 1655865166488
        }
      },
      "id": "1e350bbc"
    },
    {
      "cell_type": "code",
      "source": [],
      "outputs": [],
      "execution_count": null,
      "metadata": {
        "jupyter": {
          "source_hidden": false,
          "outputs_hidden": false
        },
        "nteract": {
          "transient": {
            "deleting": false
          }
        }
      },
      "id": "24f5066d-6133-4ae7-a887-efe6524f7f89"
    },
    {
      "cell_type": "code",
      "source": [
        "from sklearn.model_selection import train_test_split\n",
        "from sklearn.preprocessing import OneHotEncoder\n",
        "\n",
        "feature_cols = [\"sent\", \"dep_tree\"]\n",
        "#feature_cols = [\"sent\", \"base1\", \"base2\", \"all_bases\", \"all_cd\", \"dep_tree\", \"all_pred\"]\n",
        "#feature_cols = [\"sent\", \"base1\", \"base2\", \"all_bases\", \"all_cd\", \"all_pred\", \"all_ac\"]\n",
        "\n",
        "X = df[feature_cols]\n",
        "y = df.left_to_right\n",
        "\n",
        "X_train, X_test, y_train, y_test = train_test_split(X, y, test_size=0.1, random_state=10)\n",
        "print(\"Training size: {}\".format(len(X_train)))\n",
        "print(\"Testing size: {}\".format(len(X_test)))"
      ],
      "outputs": [],
      "execution_count": null,
      "metadata": {
        "id": "D2uX1yMU7tA1",
        "gather": {
          "logged": 1655865166498
        }
      },
      "id": "D2uX1yMU7tA1"
    },
    {
      "cell_type": "code",
      "source": [
        "#X_train[\"dep_tree\"].str.len().max()\n",
        "new_list = []\n",
        "padded_list = []\n",
        "for x in range(0, len(X_train[\"dep_tree\"])):\n",
        "    #print(np.asarray(X_train[\"dep_tree\"].iloc[x]).flatten())\n",
        "    new_list.append(np.asarray(X_train[\"dep_tree\"].iloc[x]).flatten())\n",
        "\n",
        "max_len = max(len(x) for x in new_list)\n",
        "\n",
        "for n in new_list:\n",
        "    pad = int(max_len - len(n))\n",
        "    if pad > 0:\n",
        "        new_arr = [0.00]*pad\n",
        "        #print(np.concatenate(n, np.array(new_arr)))\n",
        "        n = np.concatenate((n, np.array(new_arr)))\n",
        "    padded_list.append(n)\n",
        "\n",
        "X_train[\"dep_tree_flatten\"] = padded_list"
      ],
      "outputs": [],
      "execution_count": null,
      "metadata": {
        "jupyter": {
          "source_hidden": false,
          "outputs_hidden": false
        },
        "nteract": {
          "transient": {
            "deleting": false
          }
        },
        "gather": {
          "logged": 1655865166507
        }
      },
      "id": "98989355-2a81-441a-93aa-665d850346c6"
    },
    {
      "cell_type": "code",
      "source": [
        "X_train.drop('dep_tree', axis=1, inplace=True)\n",
        "\n",
        "X_train"
      ],
      "outputs": [],
      "execution_count": null,
      "metadata": {
        "jupyter": {
          "source_hidden": false,
          "outputs_hidden": false
        },
        "nteract": {
          "transient": {
            "deleting": false
          }
        },
        "gather": {
          "logged": 1655865166518
        }
      },
      "id": "a5339bef-4a97-4558-92b7-1863ea5613ca"
    },
    {
      "cell_type": "code",
      "source": [
        "\n",
        "import xgboost as xgb\n",
        "\n",
        "#new_ser = pd.Series(X_train[\"sent\"])\n",
        "#new_new = np.stack(new_ser)\n",
        "#print(new_new)\n",
        "\n",
        "new_dep_ser = pd.Series(X_train[\"dep_tree_flatten\"])\n",
        "new_dep_new = np.stack(new_dep_ser)\n",
        "print(type(new_dep_ser))\n",
        "\n",
        "#new_dep_new = np.column_stack(new_dep_ser)\n",
        "#print(new_dep_new)\n",
        "\n",
        "#print(type(new_new))\n",
        "my_dmat = xgb.DMatrix(np.asarray(new_dep_new))\n",
        "my_dmat\n",
        "X_train[\"dep_dmat\"] = my_dmat"
      ],
      "outputs": [],
      "execution_count": null,
      "metadata": {
        "jupyter": {
          "source_hidden": false,
          "outputs_hidden": false
        },
        "nteract": {
          "transient": {
            "deleting": false
          }
        },
        "gather": {
          "logged": 1655865166525
        }
      },
      "id": "042615f7-264d-4b24-9669-ea8fa99fbdb9"
    },
    {
      "cell_type": "code",
      "source": [
        "#np.vstack(X_train[\"dep_tree\"])\n",
        "#np.array(X_train[\"dep_tree_flatten\"], dtype=object).reshape((1,-1))\n",
        "X_train"
      ],
      "outputs": [],
      "execution_count": null,
      "metadata": {
        "jupyter": {
          "source_hidden": false,
          "outputs_hidden": false
        },
        "nteract": {
          "transient": {
            "deleting": false
          }
        },
        "gather": {
          "logged": 1655865166532
        }
      },
      "id": "eea35e68-3993-471c-b0fb-6e2ce9daf695"
    },
    {
      "cell_type": "code",
      "source": [
        "xgb.DMatrix(X_train, y_train)"
      ],
      "outputs": [],
      "execution_count": null,
      "metadata": {
        "jupyter": {
          "source_hidden": false,
          "outputs_hidden": false
        },
        "nteract": {
          "transient": {
            "deleting": false
          }
        },
        "gather": {
          "logged": 1655865166538
        }
      },
      "id": "d73f2ee7-21a9-47a4-b38e-4dba42ca921a"
    },
    {
      "cell_type": "code",
      "source": [
        "import xgboost\n",
        "from xgboost import XGBClassifier\n",
        "from sklearn.metrics import f1_score\n",
        "\n",
        "# Create an instance of the classifier\n",
        "#model = XGBClassifier(early_stopping_rounds = 10, n_estimators=300, learning_rate = 0.1)\n",
        "model = XGBClassifier(early_stopping_rounds = 10, n_estimators=300, learning_rate = 0.1, max_depth=5, use_label_encoder=False)\n",
        "#model = XGBClassifier(use_label_encoder=False)\n",
        "# Train it on the training set.\n",
        "#model.fit(X_train, y_train)\n",
        "#model.fit(np.array(X_train[\"dep_dmat\"]).reshape((1, -1)), y_train)\n",
        "model.fit(np.array(my_dmat).reshape(1, -1), y_train)\n",
        "\n",
        "#model.fit(np.array(X_train[\"dep_tree_flatten\"], dtype=object).reshape((1, -1)), y_train)\n",
        "\n",
        "# Use the trained model to predict the labels for the test set.\n",
        "predictions = model.predict(X_test[\"dep_tree_flatten\"])\n",
        "print(predictions)\n",
        "# Calculate the F1 score.\n",
        "f1 = f1_score(y_true = y_test,\n",
        "              y_pred = predictions)\n",
        "\n",
        "print('F1: {}'.format(f1))"
      ],
      "outputs": [],
      "execution_count": null,
      "metadata": {
        "id": "fe1941e3",
        "gather": {
          "logged": 1655865166545
        }
      },
      "id": "fe1941e3"
    },
    {
      "cell_type": "code",
      "source": [
        "from sklearn import metrics\n",
        "cnf_matrix = metrics.confusion_matrix(y_test, predictions)\n",
        "cnf_matrix"
      ],
      "outputs": [],
      "execution_count": null,
      "metadata": {
        "id": "19f0f148",
        "gather": {
          "logged": 1655865166552
        }
      },
      "id": "19f0f148"
    },
    {
      "cell_type": "code",
      "source": [
        "from sklearn.metrics import accuracy_score\n",
        "print(accuracy_score(y_test, predictions))"
      ],
      "outputs": [],
      "execution_count": null,
      "metadata": {
        "id": "76488d6a",
        "gather": {
          "logged": 1655865166560
        }
      },
      "id": "76488d6a"
    },
    {
      "cell_type": "code",
      "source": [
        "predictions"
      ],
      "outputs": [],
      "execution_count": null,
      "metadata": {
        "id": "71b4ba06",
        "gather": {
          "logged": 1655865166566
        }
      },
      "id": "71b4ba06"
    },
    {
      "cell_type": "code",
      "source": [
        "from xgboost import plot_importance\n",
        "from matplotlib import pyplot\n",
        "\n",
        "# plot feature importance\n",
        "plot_importance(model)\n",
        "pyplot.show()"
      ],
      "outputs": [],
      "execution_count": null,
      "metadata": {
        "scrolled": true,
        "id": "fe69c8fa",
        "gather": {
          "logged": 1655865166571
        }
      },
      "id": "fe69c8fa"
    },
    {
      "cell_type": "code",
      "source": [
        "feat_gains = model.get_booster().get_score(importance_type=\"gain\")\n",
        "\n",
        "pyplot.bar(feat_gains.keys(), feat_gains.values())\n",
        "pyplot.xticks(rotation = 90)"
      ],
      "outputs": [],
      "execution_count": null,
      "metadata": {
        "id": "7pXNsuX4e5_V",
        "gather": {
          "logged": 1655865166578
        }
      },
      "id": "7pXNsuX4e5_V"
    },
    {
      "cell_type": "code",
      "source": [],
      "outputs": [],
      "execution_count": null,
      "metadata": {
        "id": "C7dsbLaHI1nM"
      },
      "id": "C7dsbLaHI1nM"
    }
  ],
  "metadata": {
    "kernelspec": {
      "name": "python3",
      "language": "python",
      "display_name": "Python 3"
    },
    "language_info": {
      "name": "python",
      "version": "3.8.5",
      "mimetype": "text/x-python",
      "codemirror_mode": {
        "name": "ipython",
        "version": 3
      },
      "pygments_lexer": "ipython3",
      "nbconvert_exporter": "python",
      "file_extension": ".py"
    },
    "colab": {
      "name": "xgboost_rel_classifier - modified_features.ipynb",
      "provenance": [],
      "collapsed_sections": []
    },
    "widgets": {
      "application/vnd.jupyter.widget-state+json": {
        "cea473f5f7064c9194b6292dd134fdf4": {
          "model_module": "@jupyter-widgets/controls",
          "model_name": "DescriptionStyleModel",
          "model_module_version": "1.5.0",
          "state": {
            "_model_module": "@jupyter-widgets/controls",
            "_model_module_version": "1.5.0",
            "_model_name": "DescriptionStyleModel",
            "_view_count": null,
            "_view_module": "@jupyter-widgets/base",
            "_view_module_version": "1.2.0",
            "_view_name": "StyleView",
            "description_width": ""
          }
        },
        "304d30f139184d0091d8ead7e1173e1a": {
          "model_module": "@jupyter-widgets/base",
          "model_name": "LayoutModel",
          "model_module_version": "1.2.0",
          "state": {
            "_view_module_version": "1.2.0",
            "_model_name": "LayoutModel",
            "grid_row": null,
            "_model_module": "@jupyter-widgets/base",
            "overflow": null,
            "max_height": null,
            "display": null,
            "grid_auto_flow": null,
            "grid_template_rows": null,
            "align_self": null,
            "grid_auto_columns": null,
            "width": null,
            "grid_area": null,
            "align_items": null,
            "_view_name": "LayoutView",
            "left": null,
            "height": null,
            "_view_module": "@jupyter-widgets/base",
            "object_position": null,
            "justify_content": null,
            "bottom": null,
            "max_width": null,
            "border": null,
            "margin": null,
            "order": null,
            "grid_column": null,
            "grid_auto_rows": null,
            "padding": null,
            "grid_template_columns": null,
            "justify_items": null,
            "object_fit": null,
            "visibility": null,
            "_view_count": null,
            "flex_flow": null,
            "min_height": null,
            "top": null,
            "min_width": null,
            "flex": null,
            "_model_module_version": "1.2.0",
            "grid_template_areas": null,
            "overflow_x": null,
            "right": null,
            "overflow_y": null,
            "grid_gap": null,
            "align_content": null
          }
        },
        "359ee725a949490c973600d9f1ed5719": {
          "model_module": "@jupyter-widgets/controls",
          "model_name": "HBoxModel",
          "model_module_version": "1.5.0",
          "state": {
            "_view_module_version": "1.5.0",
            "_model_name": "HBoxModel",
            "_model_module": "@jupyter-widgets/controls",
            "_view_name": "HBoxView",
            "_view_module": "@jupyter-widgets/controls",
            "_dom_classes": [],
            "layout": "IPY_MODEL_304d30f139184d0091d8ead7e1173e1a",
            "_view_count": null,
            "_model_module_version": "1.5.0",
            "box_style": "",
            "children": [
              "IPY_MODEL_c011c79124964473a52c58b0ea434413",
              "IPY_MODEL_a371cb1e2f4d40c48a5b7aab516c16c2",
              "IPY_MODEL_3d26eb2d68ed47a49b61aeaf9106783f"
            ]
          }
        },
        "5f8cc9ceecb941949d7859c9a6a50e87": {
          "model_module": "@jupyter-widgets/controls",
          "model_name": "FloatProgressModel",
          "model_module_version": "1.5.0",
          "state": {
            "_view_module_version": "1.5.0",
            "description_tooltip": null,
            "_model_name": "FloatProgressModel",
            "_model_module": "@jupyter-widgets/controls",
            "max": 95,
            "bar_style": "success",
            "_view_name": "ProgressView",
            "_view_module": "@jupyter-widgets/controls",
            "_dom_classes": [],
            "layout": "IPY_MODEL_00361e5c64844938922ab37c06b61115",
            "orientation": "horizontal",
            "value": 95,
            "style": "IPY_MODEL_b9b4d1807321492e8a9add7aae3009ef",
            "min": 0,
            "_view_count": null,
            "_model_module_version": "1.5.0",
            "description": ""
          }
        },
        "3523b39469df4de7a7a9d86b78489642": {
          "model_module": "@jupyter-widgets/controls",
          "model_name": "DescriptionStyleModel",
          "model_module_version": "1.5.0",
          "state": {
            "_model_module": "@jupyter-widgets/controls",
            "_model_module_version": "1.5.0",
            "_model_name": "DescriptionStyleModel",
            "_view_count": null,
            "_view_module": "@jupyter-widgets/base",
            "_view_module_version": "1.2.0",
            "_view_name": "StyleView",
            "description_width": ""
          }
        },
        "bf350c098f31480ab5cf418eea1fb883": {
          "model_module": "@jupyter-widgets/controls",
          "model_name": "HBoxModel",
          "model_module_version": "1.5.0",
          "state": {
            "_view_module_version": "1.5.0",
            "_model_name": "HBoxModel",
            "_model_module": "@jupyter-widgets/controls",
            "_view_name": "HBoxView",
            "_view_module": "@jupyter-widgets/controls",
            "_dom_classes": [],
            "layout": "IPY_MODEL_77df230def2f4235965291f8e27cf7a3",
            "_view_count": null,
            "_model_module_version": "1.5.0",
            "box_style": "",
            "children": [
              "IPY_MODEL_ec415743f79047deaeaa7c5226bae996",
              "IPY_MODEL_fde50b8314174daa9ce7bd08e0d437f8",
              "IPY_MODEL_cf719f7a35e94f12abe80dff415276c4"
            ]
          }
        },
        "f994bc53e75444d3a6bbd88446457f45": {
          "model_module": "@jupyter-widgets/base",
          "model_name": "LayoutModel",
          "model_module_version": "1.2.0",
          "state": {
            "_view_module_version": "1.2.0",
            "_model_name": "LayoutModel",
            "grid_row": null,
            "_model_module": "@jupyter-widgets/base",
            "overflow": null,
            "max_height": null,
            "display": null,
            "grid_auto_flow": null,
            "grid_template_rows": null,
            "align_self": null,
            "grid_auto_columns": null,
            "width": null,
            "grid_area": null,
            "align_items": null,
            "_view_name": "LayoutView",
            "left": null,
            "height": null,
            "_view_module": "@jupyter-widgets/base",
            "object_position": null,
            "justify_content": null,
            "bottom": null,
            "max_width": null,
            "border": null,
            "margin": null,
            "order": null,
            "grid_column": null,
            "grid_auto_rows": null,
            "padding": null,
            "grid_template_columns": null,
            "justify_items": null,
            "object_fit": null,
            "visibility": null,
            "_view_count": null,
            "flex_flow": null,
            "min_height": null,
            "top": null,
            "min_width": null,
            "flex": null,
            "_model_module_version": "1.2.0",
            "grid_template_areas": null,
            "overflow_x": null,
            "right": null,
            "overflow_y": null,
            "grid_gap": null,
            "align_content": null
          }
        },
        "6a6f9ea1e61040bd840ab6f7e59ae28b": {
          "model_module": "@jupyter-widgets/controls",
          "model_name": "DescriptionStyleModel",
          "model_module_version": "1.5.0",
          "state": {
            "_model_module": "@jupyter-widgets/controls",
            "_model_module_version": "1.5.0",
            "_model_name": "DescriptionStyleModel",
            "_view_count": null,
            "_view_module": "@jupyter-widgets/base",
            "_view_module_version": "1.2.0",
            "_view_name": "StyleView",
            "description_width": ""
          }
        },
        "3e0584decb65406b9a9ab2d62d1ee757": {
          "model_module": "@jupyter-widgets/base",
          "model_name": "LayoutModel",
          "model_module_version": "1.2.0",
          "state": {
            "_view_module_version": "1.2.0",
            "_model_name": "LayoutModel",
            "grid_row": null,
            "_model_module": "@jupyter-widgets/base",
            "overflow": null,
            "max_height": null,
            "display": null,
            "grid_auto_flow": null,
            "grid_template_rows": null,
            "align_self": null,
            "grid_auto_columns": null,
            "width": null,
            "grid_area": null,
            "align_items": null,
            "_view_name": "LayoutView",
            "left": null,
            "height": null,
            "_view_module": "@jupyter-widgets/base",
            "object_position": null,
            "justify_content": null,
            "bottom": null,
            "max_width": null,
            "border": null,
            "margin": null,
            "order": null,
            "grid_column": null,
            "grid_auto_rows": null,
            "padding": null,
            "grid_template_columns": null,
            "justify_items": null,
            "object_fit": null,
            "visibility": null,
            "_view_count": null,
            "flex_flow": null,
            "min_height": null,
            "top": null,
            "min_width": null,
            "flex": null,
            "_model_module_version": "1.2.0",
            "grid_template_areas": null,
            "overflow_x": null,
            "right": null,
            "overflow_y": null,
            "grid_gap": null,
            "align_content": null
          }
        },
        "c34a6c42c93d4854aa7f4b4cbf190f18": {
          "model_module": "@jupyter-widgets/controls",
          "model_name": "HTMLModel",
          "model_module_version": "1.5.0",
          "state": {
            "_view_module_version": "1.5.0",
            "description_tooltip": null,
            "_model_name": "HTMLModel",
            "_model_module": "@jupyter-widgets/controls",
            "_view_name": "HTMLView",
            "_view_module": "@jupyter-widgets/controls",
            "_dom_classes": [],
            "layout": "IPY_MODEL_3e0584decb65406b9a9ab2d62d1ee757",
            "value": "Computing transition probabilities: 100%",
            "style": "IPY_MODEL_09abeb999394429daa67b1755fff502a",
            "placeholder": "​",
            "_view_count": null,
            "_model_module_version": "1.5.0",
            "description": ""
          }
        },
        "c011c79124964473a52c58b0ea434413": {
          "model_module": "@jupyter-widgets/controls",
          "model_name": "HTMLModel",
          "model_module_version": "1.5.0",
          "state": {
            "_view_module_version": "1.5.0",
            "description_tooltip": null,
            "_model_name": "HTMLModel",
            "_model_module": "@jupyter-widgets/controls",
            "_view_name": "HTMLView",
            "_view_module": "@jupyter-widgets/controls",
            "_dom_classes": [],
            "layout": "IPY_MODEL_f994bc53e75444d3a6bbd88446457f45",
            "value": "Computing transition probabilities: 100%",
            "style": "IPY_MODEL_6a6f9ea1e61040bd840ab6f7e59ae28b",
            "placeholder": "​",
            "_view_count": null,
            "_model_module_version": "1.5.0",
            "description": ""
          }
        },
        "b9b4d1807321492e8a9add7aae3009ef": {
          "model_module": "@jupyter-widgets/controls",
          "model_name": "ProgressStyleModel",
          "model_module_version": "1.5.0",
          "state": {
            "_view_module_version": "1.2.0",
            "_model_name": "ProgressStyleModel",
            "_model_module": "@jupyter-widgets/controls",
            "description_width": "",
            "_view_name": "StyleView",
            "_view_module": "@jupyter-widgets/base",
            "_view_count": null,
            "bar_color": null,
            "_model_module_version": "1.5.0"
          }
        },
        "5193ca43f561481f90e007e4ee624321": {
          "model_module": "@jupyter-widgets/base",
          "model_name": "LayoutModel",
          "model_module_version": "1.2.0",
          "state": {
            "_view_module_version": "1.2.0",
            "_model_name": "LayoutModel",
            "grid_row": null,
            "_model_module": "@jupyter-widgets/base",
            "overflow": null,
            "max_height": null,
            "display": null,
            "grid_auto_flow": null,
            "grid_template_rows": null,
            "align_self": null,
            "grid_auto_columns": null,
            "width": null,
            "grid_area": null,
            "align_items": null,
            "_view_name": "LayoutView",
            "left": null,
            "height": null,
            "_view_module": "@jupyter-widgets/base",
            "object_position": null,
            "justify_content": null,
            "bottom": null,
            "max_width": null,
            "border": null,
            "margin": null,
            "order": null,
            "grid_column": null,
            "grid_auto_rows": null,
            "padding": null,
            "grid_template_columns": null,
            "justify_items": null,
            "object_fit": null,
            "visibility": null,
            "_view_count": null,
            "flex_flow": null,
            "min_height": null,
            "top": null,
            "min_width": null,
            "flex": null,
            "_model_module_version": "1.2.0",
            "grid_template_areas": null,
            "overflow_x": null,
            "right": null,
            "overflow_y": null,
            "grid_gap": null,
            "align_content": null
          }
        },
        "ec415743f79047deaeaa7c5226bae996": {
          "model_module": "@jupyter-widgets/controls",
          "model_name": "HTMLModel",
          "model_module_version": "1.5.0",
          "state": {
            "_view_module_version": "1.5.0",
            "description_tooltip": null,
            "_model_name": "HTMLModel",
            "_model_module": "@jupyter-widgets/controls",
            "_view_name": "HTMLView",
            "_view_module": "@jupyter-widgets/controls",
            "_dom_classes": [],
            "layout": "IPY_MODEL_40224d9f1641453aa79b9d84e8b58e9b",
            "value": "Computing transition probabilities: 100%",
            "style": "IPY_MODEL_3523b39469df4de7a7a9d86b78489642",
            "placeholder": "​",
            "_view_count": null,
            "_model_module_version": "1.5.0",
            "description": ""
          }
        },
        "f21d6f69293e4c968f0eb05fd5a3dab3": {
          "model_module": "@jupyter-widgets/controls",
          "model_name": "HTMLModel",
          "model_module_version": "1.5.0",
          "state": {
            "_view_module_version": "1.5.0",
            "description_tooltip": null,
            "_model_name": "HTMLModel",
            "_model_module": "@jupyter-widgets/controls",
            "_view_name": "HTMLView",
            "_view_module": "@jupyter-widgets/controls",
            "_dom_classes": [],
            "layout": "IPY_MODEL_f894fefe5d0a45a789418a4bc217a056",
            "value": " 95/95 [00:00&lt;00:00, 1346.24it/s]",
            "style": "IPY_MODEL_bbf33695cf864f1a9d4705b415bc873f",
            "placeholder": "​",
            "_view_count": null,
            "_model_module_version": "1.5.0",
            "description": ""
          }
        },
        "bbf33695cf864f1a9d4705b415bc873f": {
          "model_module": "@jupyter-widgets/controls",
          "model_name": "DescriptionStyleModel",
          "model_module_version": "1.5.0",
          "state": {
            "_model_module": "@jupyter-widgets/controls",
            "_model_module_version": "1.5.0",
            "_model_name": "DescriptionStyleModel",
            "_view_count": null,
            "_view_module": "@jupyter-widgets/base",
            "_view_module_version": "1.2.0",
            "_view_name": "StyleView",
            "description_width": ""
          }
        },
        "fde50b8314174daa9ce7bd08e0d437f8": {
          "model_module": "@jupyter-widgets/controls",
          "model_name": "FloatProgressModel",
          "model_module_version": "1.5.0",
          "state": {
            "_view_module_version": "1.5.0",
            "description_tooltip": null,
            "_model_name": "FloatProgressModel",
            "_model_module": "@jupyter-widgets/controls",
            "max": 91,
            "bar_style": "success",
            "_view_name": "ProgressView",
            "_view_module": "@jupyter-widgets/controls",
            "_dom_classes": [],
            "layout": "IPY_MODEL_abaf12b3b70b4e17bca8ed491a92bfea",
            "orientation": "horizontal",
            "value": 91,
            "style": "IPY_MODEL_922641e2b0d84641987cd4e870cf2486",
            "min": 0,
            "_view_count": null,
            "_model_module_version": "1.5.0",
            "description": ""
          }
        },
        "77df230def2f4235965291f8e27cf7a3": {
          "model_module": "@jupyter-widgets/base",
          "model_name": "LayoutModel",
          "model_module_version": "1.2.0",
          "state": {
            "_view_module_version": "1.2.0",
            "_model_name": "LayoutModel",
            "grid_row": null,
            "_model_module": "@jupyter-widgets/base",
            "overflow": null,
            "max_height": null,
            "display": null,
            "grid_auto_flow": null,
            "grid_template_rows": null,
            "align_self": null,
            "grid_auto_columns": null,
            "width": null,
            "grid_area": null,
            "align_items": null,
            "_view_name": "LayoutView",
            "left": null,
            "height": null,
            "_view_module": "@jupyter-widgets/base",
            "object_position": null,
            "justify_content": null,
            "bottom": null,
            "max_width": null,
            "border": null,
            "margin": null,
            "order": null,
            "grid_column": null,
            "grid_auto_rows": null,
            "padding": null,
            "grid_template_columns": null,
            "justify_items": null,
            "object_fit": null,
            "visibility": null,
            "_view_count": null,
            "flex_flow": null,
            "min_height": null,
            "top": null,
            "min_width": null,
            "flex": null,
            "_model_module_version": "1.2.0",
            "grid_template_areas": null,
            "overflow_x": null,
            "right": null,
            "overflow_y": null,
            "grid_gap": null,
            "align_content": null
          }
        },
        "00361e5c64844938922ab37c06b61115": {
          "model_module": "@jupyter-widgets/base",
          "model_name": "LayoutModel",
          "model_module_version": "1.2.0",
          "state": {
            "_view_module_version": "1.2.0",
            "_model_name": "LayoutModel",
            "grid_row": null,
            "_model_module": "@jupyter-widgets/base",
            "overflow": null,
            "max_height": null,
            "display": null,
            "grid_auto_flow": null,
            "grid_template_rows": null,
            "align_self": null,
            "grid_auto_columns": null,
            "width": null,
            "grid_area": null,
            "align_items": null,
            "_view_name": "LayoutView",
            "left": null,
            "height": null,
            "_view_module": "@jupyter-widgets/base",
            "object_position": null,
            "justify_content": null,
            "bottom": null,
            "max_width": null,
            "border": null,
            "margin": null,
            "order": null,
            "grid_column": null,
            "grid_auto_rows": null,
            "padding": null,
            "grid_template_columns": null,
            "justify_items": null,
            "object_fit": null,
            "visibility": null,
            "_view_count": null,
            "flex_flow": null,
            "min_height": null,
            "top": null,
            "min_width": null,
            "flex": null,
            "_model_module_version": "1.2.0",
            "grid_template_areas": null,
            "overflow_x": null,
            "right": null,
            "overflow_y": null,
            "grid_gap": null,
            "align_content": null
          }
        },
        "40224d9f1641453aa79b9d84e8b58e9b": {
          "model_module": "@jupyter-widgets/base",
          "model_name": "LayoutModel",
          "model_module_version": "1.2.0",
          "state": {
            "_view_module_version": "1.2.0",
            "_model_name": "LayoutModel",
            "grid_row": null,
            "_model_module": "@jupyter-widgets/base",
            "overflow": null,
            "max_height": null,
            "display": null,
            "grid_auto_flow": null,
            "grid_template_rows": null,
            "align_self": null,
            "grid_auto_columns": null,
            "width": null,
            "grid_area": null,
            "align_items": null,
            "_view_name": "LayoutView",
            "left": null,
            "height": null,
            "_view_module": "@jupyter-widgets/base",
            "object_position": null,
            "justify_content": null,
            "bottom": null,
            "max_width": null,
            "border": null,
            "margin": null,
            "order": null,
            "grid_column": null,
            "grid_auto_rows": null,
            "padding": null,
            "grid_template_columns": null,
            "justify_items": null,
            "object_fit": null,
            "visibility": null,
            "_view_count": null,
            "flex_flow": null,
            "min_height": null,
            "top": null,
            "min_width": null,
            "flex": null,
            "_model_module_version": "1.2.0",
            "grid_template_areas": null,
            "overflow_x": null,
            "right": null,
            "overflow_y": null,
            "grid_gap": null,
            "align_content": null
          }
        },
        "a371cb1e2f4d40c48a5b7aab516c16c2": {
          "model_module": "@jupyter-widgets/controls",
          "model_name": "FloatProgressModel",
          "model_module_version": "1.5.0",
          "state": {
            "_view_module_version": "1.5.0",
            "description_tooltip": null,
            "_model_name": "FloatProgressModel",
            "_model_module": "@jupyter-widgets/controls",
            "max": 92,
            "bar_style": "success",
            "_view_name": "ProgressView",
            "_view_module": "@jupyter-widgets/controls",
            "_dom_classes": [],
            "layout": "IPY_MODEL_5193ca43f561481f90e007e4ee624321",
            "orientation": "horizontal",
            "value": 92,
            "style": "IPY_MODEL_e3322237cd514b86a94d28a738976e48",
            "min": 0,
            "_view_count": null,
            "_model_module_version": "1.5.0",
            "description": ""
          }
        },
        "09abeb999394429daa67b1755fff502a": {
          "model_module": "@jupyter-widgets/controls",
          "model_name": "DescriptionStyleModel",
          "model_module_version": "1.5.0",
          "state": {
            "_model_module": "@jupyter-widgets/controls",
            "_model_module_version": "1.5.0",
            "_model_name": "DescriptionStyleModel",
            "_view_count": null,
            "_view_module": "@jupyter-widgets/base",
            "_view_module_version": "1.2.0",
            "_view_name": "StyleView",
            "description_width": ""
          }
        },
        "cf719f7a35e94f12abe80dff415276c4": {
          "model_module": "@jupyter-widgets/controls",
          "model_name": "HTMLModel",
          "model_module_version": "1.5.0",
          "state": {
            "_view_module_version": "1.5.0",
            "description_tooltip": null,
            "_model_name": "HTMLModel",
            "_model_module": "@jupyter-widgets/controls",
            "_view_name": "HTMLView",
            "_view_module": "@jupyter-widgets/controls",
            "_dom_classes": [],
            "layout": "IPY_MODEL_f022f39316bf45ffa4731872751a7540",
            "value": " 91/91 [00:00&lt;00:00, 1093.89it/s]",
            "style": "IPY_MODEL_f88c2cb94d1f48a686fb7b30aac4c2c9",
            "placeholder": "​",
            "_view_count": null,
            "_model_module_version": "1.5.0",
            "description": ""
          }
        },
        "922641e2b0d84641987cd4e870cf2486": {
          "model_module": "@jupyter-widgets/controls",
          "model_name": "ProgressStyleModel",
          "model_module_version": "1.5.0",
          "state": {
            "_view_module_version": "1.2.0",
            "_model_name": "ProgressStyleModel",
            "_model_module": "@jupyter-widgets/controls",
            "description_width": "",
            "_view_name": "StyleView",
            "_view_module": "@jupyter-widgets/base",
            "_view_count": null,
            "bar_color": null,
            "_model_module_version": "1.5.0"
          }
        },
        "ea94833057fd465faf90516d550911de": {
          "model_module": "@jupyter-widgets/base",
          "model_name": "LayoutModel",
          "model_module_version": "1.2.0",
          "state": {
            "_view_module_version": "1.2.0",
            "_model_name": "LayoutModel",
            "grid_row": null,
            "_model_module": "@jupyter-widgets/base",
            "overflow": null,
            "max_height": null,
            "display": null,
            "grid_auto_flow": null,
            "grid_template_rows": null,
            "align_self": null,
            "grid_auto_columns": null,
            "width": null,
            "grid_area": null,
            "align_items": null,
            "_view_name": "LayoutView",
            "left": null,
            "height": null,
            "_view_module": "@jupyter-widgets/base",
            "object_position": null,
            "justify_content": null,
            "bottom": null,
            "max_width": null,
            "border": null,
            "margin": null,
            "order": null,
            "grid_column": null,
            "grid_auto_rows": null,
            "padding": null,
            "grid_template_columns": null,
            "justify_items": null,
            "object_fit": null,
            "visibility": null,
            "_view_count": null,
            "flex_flow": null,
            "min_height": null,
            "top": null,
            "min_width": null,
            "flex": null,
            "_model_module_version": "1.2.0",
            "grid_template_areas": null,
            "overflow_x": null,
            "right": null,
            "overflow_y": null,
            "grid_gap": null,
            "align_content": null
          }
        },
        "e3322237cd514b86a94d28a738976e48": {
          "model_module": "@jupyter-widgets/controls",
          "model_name": "ProgressStyleModel",
          "model_module_version": "1.5.0",
          "state": {
            "_view_module_version": "1.2.0",
            "_model_name": "ProgressStyleModel",
            "_model_module": "@jupyter-widgets/controls",
            "description_width": "",
            "_view_name": "StyleView",
            "_view_module": "@jupyter-widgets/base",
            "_view_count": null,
            "bar_color": null,
            "_model_module_version": "1.5.0"
          }
        },
        "f022f39316bf45ffa4731872751a7540": {
          "model_module": "@jupyter-widgets/base",
          "model_name": "LayoutModel",
          "model_module_version": "1.2.0",
          "state": {
            "_view_module_version": "1.2.0",
            "_model_name": "LayoutModel",
            "grid_row": null,
            "_model_module": "@jupyter-widgets/base",
            "overflow": null,
            "max_height": null,
            "display": null,
            "grid_auto_flow": null,
            "grid_template_rows": null,
            "align_self": null,
            "grid_auto_columns": null,
            "width": null,
            "grid_area": null,
            "align_items": null,
            "_view_name": "LayoutView",
            "left": null,
            "height": null,
            "_view_module": "@jupyter-widgets/base",
            "object_position": null,
            "justify_content": null,
            "bottom": null,
            "max_width": null,
            "border": null,
            "margin": null,
            "order": null,
            "grid_column": null,
            "grid_auto_rows": null,
            "padding": null,
            "grid_template_columns": null,
            "justify_items": null,
            "object_fit": null,
            "visibility": null,
            "_view_count": null,
            "flex_flow": null,
            "min_height": null,
            "top": null,
            "min_width": null,
            "flex": null,
            "_model_module_version": "1.2.0",
            "grid_template_areas": null,
            "overflow_x": null,
            "right": null,
            "overflow_y": null,
            "grid_gap": null,
            "align_content": null
          }
        },
        "77c2a3cb30444547917ef705d627b34e": {
          "model_module": "@jupyter-widgets/controls",
          "model_name": "HBoxModel",
          "model_module_version": "1.5.0",
          "state": {
            "_view_module_version": "1.5.0",
            "_model_name": "HBoxModel",
            "_model_module": "@jupyter-widgets/controls",
            "_view_name": "HBoxView",
            "_view_module": "@jupyter-widgets/controls",
            "_dom_classes": [],
            "layout": "IPY_MODEL_1ec8e0b1f9b445f6af1d4524a4207b7f",
            "_view_count": null,
            "_model_module_version": "1.5.0",
            "box_style": "",
            "children": [
              "IPY_MODEL_c34a6c42c93d4854aa7f4b4cbf190f18",
              "IPY_MODEL_5f8cc9ceecb941949d7859c9a6a50e87",
              "IPY_MODEL_f21d6f69293e4c968f0eb05fd5a3dab3"
            ]
          }
        },
        "3d26eb2d68ed47a49b61aeaf9106783f": {
          "model_module": "@jupyter-widgets/controls",
          "model_name": "HTMLModel",
          "model_module_version": "1.5.0",
          "state": {
            "_view_module_version": "1.5.0",
            "description_tooltip": null,
            "_model_name": "HTMLModel",
            "_model_module": "@jupyter-widgets/controls",
            "_view_name": "HTMLView",
            "_view_module": "@jupyter-widgets/controls",
            "_dom_classes": [],
            "layout": "IPY_MODEL_ea94833057fd465faf90516d550911de",
            "value": " 92/92 [00:00&lt;00:00, 1359.51it/s]",
            "style": "IPY_MODEL_cea473f5f7064c9194b6292dd134fdf4",
            "placeholder": "​",
            "_view_count": null,
            "_model_module_version": "1.5.0",
            "description": ""
          }
        },
        "f88c2cb94d1f48a686fb7b30aac4c2c9": {
          "model_module": "@jupyter-widgets/controls",
          "model_name": "DescriptionStyleModel",
          "model_module_version": "1.5.0",
          "state": {
            "_model_module": "@jupyter-widgets/controls",
            "_model_module_version": "1.5.0",
            "_model_name": "DescriptionStyleModel",
            "_view_count": null,
            "_view_module": "@jupyter-widgets/base",
            "_view_module_version": "1.2.0",
            "_view_name": "StyleView",
            "description_width": ""
          }
        },
        "abaf12b3b70b4e17bca8ed491a92bfea": {
          "model_module": "@jupyter-widgets/base",
          "model_name": "LayoutModel",
          "model_module_version": "1.2.0",
          "state": {
            "_view_module_version": "1.2.0",
            "_model_name": "LayoutModel",
            "grid_row": null,
            "_model_module": "@jupyter-widgets/base",
            "overflow": null,
            "max_height": null,
            "display": null,
            "grid_auto_flow": null,
            "grid_template_rows": null,
            "align_self": null,
            "grid_auto_columns": null,
            "width": null,
            "grid_area": null,
            "align_items": null,
            "_view_name": "LayoutView",
            "left": null,
            "height": null,
            "_view_module": "@jupyter-widgets/base",
            "object_position": null,
            "justify_content": null,
            "bottom": null,
            "max_width": null,
            "border": null,
            "margin": null,
            "order": null,
            "grid_column": null,
            "grid_auto_rows": null,
            "padding": null,
            "grid_template_columns": null,
            "justify_items": null,
            "object_fit": null,
            "visibility": null,
            "_view_count": null,
            "flex_flow": null,
            "min_height": null,
            "top": null,
            "min_width": null,
            "flex": null,
            "_model_module_version": "1.2.0",
            "grid_template_areas": null,
            "overflow_x": null,
            "right": null,
            "overflow_y": null,
            "grid_gap": null,
            "align_content": null
          }
        },
        "f894fefe5d0a45a789418a4bc217a056": {
          "model_module": "@jupyter-widgets/base",
          "model_name": "LayoutModel",
          "model_module_version": "1.2.0",
          "state": {
            "_view_module_version": "1.2.0",
            "_model_name": "LayoutModel",
            "grid_row": null,
            "_model_module": "@jupyter-widgets/base",
            "overflow": null,
            "max_height": null,
            "display": null,
            "grid_auto_flow": null,
            "grid_template_rows": null,
            "align_self": null,
            "grid_auto_columns": null,
            "width": null,
            "grid_area": null,
            "align_items": null,
            "_view_name": "LayoutView",
            "left": null,
            "height": null,
            "_view_module": "@jupyter-widgets/base",
            "object_position": null,
            "justify_content": null,
            "bottom": null,
            "max_width": null,
            "border": null,
            "margin": null,
            "order": null,
            "grid_column": null,
            "grid_auto_rows": null,
            "padding": null,
            "grid_template_columns": null,
            "justify_items": null,
            "object_fit": null,
            "visibility": null,
            "_view_count": null,
            "flex_flow": null,
            "min_height": null,
            "top": null,
            "min_width": null,
            "flex": null,
            "_model_module_version": "1.2.0",
            "grid_template_areas": null,
            "overflow_x": null,
            "right": null,
            "overflow_y": null,
            "grid_gap": null,
            "align_content": null
          }
        },
        "1ec8e0b1f9b445f6af1d4524a4207b7f": {
          "model_module": "@jupyter-widgets/base",
          "model_name": "LayoutModel",
          "model_module_version": "1.2.0",
          "state": {
            "_view_module_version": "1.2.0",
            "_model_name": "LayoutModel",
            "grid_row": null,
            "_model_module": "@jupyter-widgets/base",
            "overflow": null,
            "max_height": null,
            "display": null,
            "grid_auto_flow": null,
            "grid_template_rows": null,
            "align_self": null,
            "grid_auto_columns": null,
            "width": null,
            "grid_area": null,
            "align_items": null,
            "_view_name": "LayoutView",
            "left": null,
            "height": null,
            "_view_module": "@jupyter-widgets/base",
            "object_position": null,
            "justify_content": null,
            "bottom": null,
            "max_width": null,
            "border": null,
            "margin": null,
            "order": null,
            "grid_column": null,
            "grid_auto_rows": null,
            "padding": null,
            "grid_template_columns": null,
            "justify_items": null,
            "object_fit": null,
            "visibility": null,
            "_view_count": null,
            "flex_flow": null,
            "min_height": null,
            "top": null,
            "min_width": null,
            "flex": null,
            "_model_module_version": "1.2.0",
            "grid_template_areas": null,
            "overflow_x": null,
            "right": null,
            "overflow_y": null,
            "grid_gap": null,
            "align_content": null
          }
        }
      }
    },
    "kernel_info": {
      "name": "python3"
    },
    "nteract": {
      "version": "nteract-front-end@1.0.0"
    },
    "microsoft": {
      "host": {
        "AzureML": {
          "notebookHasBeenCompleted": true
        }
      }
    }
  },
  "nbformat": 4,
  "nbformat_minor": 5
}