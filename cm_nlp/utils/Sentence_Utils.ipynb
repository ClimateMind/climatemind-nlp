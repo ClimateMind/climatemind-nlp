{
 "cells": [
  {
   "cell_type": "code",
   "execution_count": null,
   "source": [
    "import sys\n",
    "import spacy\n",
    "import srsly\n",
    "from typing import List"
   ],
   "outputs": [],
   "metadata": {}
  },
  {
   "cell_type": "code",
   "execution_count": null,
   "source": [
    "\n",
    "def split_sentences(paragraphs) -> List[str]:\n",
    "    nlp = spacy.load(\"en_core_web_sm\") \n",
    "    # minor text cleaning\n",
    "    texts = (str(paragraph.replace('\\n', ' ').replace('-', ' ')) for paragraph in paragraphs)\n",
    "\n",
    "    new_data = []\n",
    "    for doc in nlp.pipe(texts):\n",
    "        for sent in doc.sents:\n",
    "            new_data.append(sent.text)\n",
    "    \n",
    "    return new_data\n"
   ],
   "outputs": [],
   "metadata": {}
  },
  {
   "cell_type": "code",
   "execution_count": null,
   "source": [
    "# Original Author: Kameron Rodrigues\n",
    "\n",
    "# Usage: split_sentences.py <path/to/output/of/process/extracted/text/script> (input)\n",
    "#                           <path/to/master/json> (output)\n",
    "#                           <path/to/split/sentences/jsonl> (output)\n",
    "\n",
    "\n",
    "\n",
    "nlp = spacy.load(\"en_core_web_md\") # \"en_core_web_sm\"\n",
    "\n",
    "input_file_path      = sys.argv[1] # path to all_pocket_for_prodigy_effect_tag_texts_only.jsonl\n",
    "master_doc_json_path = sys.argv[2] # must be a json file\n",
    "sentences_jsonl_path = sys.argv[3] # must be a jsonl file\n",
    "\n",
    "examples = srsly.read_jsonl(input_file_path)\n",
    "document_index_list = {}\n",
    "sentences_list = []\n",
    "for doc_idx, eg in enumerate(examples):\n",
    "    print(f\"title {eg['title']}\")\n",
    "    new_eg = eg.copy()\n",
    "    new_eg[\"sentences\"] = {}\n",
    "    new_eg[\"document_index\"] = doc_idx\n",
    "    for sent_idx, sent in enumerate(nlp(eg[\"text\"]).sents):\n",
    "        new_eg[\"sentences\"][sent_idx] = {\"sentence_index\": sent_idx, \"text\": sent.text}\n",
    "        new_sent = {\"url\": new_eg[\"url\"], \"document_index\": doc_idx,\n",
    "                    \"sentence_index\": sent_idx, \"text\": sent.text}\n",
    "        sentences_list.append(new_sent)\n",
    "    document_index_list[doc_idx] = new_eg\n",
    "    print()\n",
    "srsly.write_json(master_doc_json_path, document_index_list)\n",
    "srsly.write_jsonl(sentences_jsonl_path, sentences_list)\n"
   ],
   "outputs": [],
   "metadata": {}
  }
 ],
 "metadata": {
  "orig_nbformat": 4,
  "language_info": {
   "name": "python"
  }
 },
 "nbformat": 4,
 "nbformat_minor": 2
}