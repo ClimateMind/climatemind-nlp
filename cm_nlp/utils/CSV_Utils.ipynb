{
 "cells": [
  {
   "cell_type": "code",
   "execution_count": null,
   "source": [
    "import json\n",
    "import pandas as pd"
   ],
   "outputs": [],
   "metadata": {}
  },
  {
   "cell_type": "code",
   "execution_count": null,
   "source": [
    "#making jsonl file from csv of sentences\n",
    "\n",
    "#file_path = \"sentences_for_NER_from_cause_effect_classifier_climateBERT_predictions_for_sentences_from_effect_tag_articles.csv\"\n",
    "file_path = \"pocket_pred.csv\"\n",
    "\n",
    "#read in the csv file as a dataframe and convert to list\n",
    "#sentences = pd.read_csv(file_path, sep = \",\", header=None, names=[\"sentence\"])\n",
    "\n",
    "sentences = pd.read_csv(file_path, sep = \",\")\n",
    "\n",
    "sentence_list = sentences[sentences.Pred == 1].text.tolist() #sentences.sentence.tolist()\n",
    "\n",
    "\n",
    "#new_examples = []\n",
    "#for text in sentences:\n",
    "#\tnew_examples.append({\"text\": text})\n",
    "#srsly.write_jsonl(\"./NER_team_task_number_1_base_entity_labeling.jsonl\", new_examples)\n",
    "\n",
    "#output_file_path = \"./NER_team_task_number_1_base_entity_labeling.jsonl\"\n",
    "\n",
    "output_file_path = \"./ClimateBERT_cause_effect_prediction_pos_sentences.jsonl\"\n",
    "\n",
    "text_list = []\n",
    "for sentence in sentence_list:\n",
    "\ttext_list.append({\"text\": sentence})\n",
    "\n",
    "\n",
    "with open(output_file_path, 'w') as f:\n",
    "    for item in text_list:\n",
    "        f.write(json.dumps(item) + \"\\n\")\n"
   ],
   "outputs": [],
   "metadata": {}
  },
  {
   "cell_type": "code",
   "execution_count": 1,
   "source": [
    "# annotated csv to jsonl\n",
    "def annotated_csv_to_jsonl():\n",
    "    data = pd.read_csv(args.input_file_path, sep = \",\")\n",
    "\n",
    "    columns = list(data.columns)\n",
    "\n",
    "    output_file_path = args.input_file_path.replace(\".csv\", \".jsonl\", 1)\n",
    "    randomized_output_file_path = path.join(path.dirname(output_file_path),\n",
    "                                            \"randomized_\" + path.basename(output_file_path)\n",
    "                                            )\n",
    "    json_data = []\n",
    "    for index, row in data.iterrows():\n",
    "            line_contents = {} # each dictionary holds all information of a single line\n",
    "\n",
    "            for column in columns:\n",
    "                    if column == \"text\":\n",
    "                            row[column] = row[column].replace('\\n','')\n",
    "                    if pd.isna(row[column]):\n",
    "                            row[column] = \"\"\n",
    "                    line_contents[column] = row[column]\n",
    "            json_data.append(line_contents)\n",
    "\n",
    "    #if want to randomize the list\n",
    "    json_data_shuffled = random.sample(json_data, len(json_data))\n",
    "\n",
    "\n",
    "    srsly.write_jsonl(output_file_path,            json_data)\n",
    "    srsly.write_jsonl(randomized_output_file_path, json_data_shuffled)\n",
    "\n",
    "if __name__ == \"__main__\":\n",
    "    parser = argparse.ArgumentParser(\"Making jsonl file from csv of annotated sentences\")\n",
    "    parser.add_argument('--input_file_path',  help='Path to csv file (Required)', required=True)\n",
    "    args = parser.parse_args()\n",
    "    main()\n"
   ],
   "outputs": [
    {
     "output_type": "error",
     "ename": "NameError",
     "evalue": "name 'argparse' is not defined",
     "traceback": [
      "\u001b[1;31m---------------------------------------------------------------------------\u001b[0m",
      "\u001b[1;31mNameError\u001b[0m                                 Traceback (most recent call last)",
      "\u001b[1;32m<ipython-input-1-b50512d01787>\u001b[0m in \u001b[0;36m<module>\u001b[1;34m\u001b[0m\n\u001b[0;32m     29\u001b[0m \u001b[1;33m\u001b[0m\u001b[0m\n\u001b[0;32m     30\u001b[0m \u001b[1;32mif\u001b[0m \u001b[0m__name__\u001b[0m \u001b[1;33m==\u001b[0m \u001b[1;34m\"__main__\"\u001b[0m\u001b[1;33m:\u001b[0m\u001b[1;33m\u001b[0m\u001b[1;33m\u001b[0m\u001b[0m\n\u001b[1;32m---> 31\u001b[1;33m     \u001b[0mparser\u001b[0m \u001b[1;33m=\u001b[0m \u001b[0margparse\u001b[0m\u001b[1;33m.\u001b[0m\u001b[0mArgumentParser\u001b[0m\u001b[1;33m(\u001b[0m\u001b[1;34m\"Making jsonl file from csv of annotated sentences\"\u001b[0m\u001b[1;33m)\u001b[0m\u001b[1;33m\u001b[0m\u001b[1;33m\u001b[0m\u001b[0m\n\u001b[0m\u001b[0;32m     32\u001b[0m     \u001b[0mparser\u001b[0m\u001b[1;33m.\u001b[0m\u001b[0madd_argument\u001b[0m\u001b[1;33m(\u001b[0m\u001b[1;34m'--input_file_path'\u001b[0m\u001b[1;33m,\u001b[0m  \u001b[0mhelp\u001b[0m\u001b[1;33m=\u001b[0m\u001b[1;34m'Path to csv file (Required)'\u001b[0m\u001b[1;33m,\u001b[0m \u001b[0mrequired\u001b[0m\u001b[1;33m=\u001b[0m\u001b[1;32mTrue\u001b[0m\u001b[1;33m)\u001b[0m\u001b[1;33m\u001b[0m\u001b[1;33m\u001b[0m\u001b[0m\n\u001b[0;32m     33\u001b[0m     \u001b[0margs\u001b[0m \u001b[1;33m=\u001b[0m \u001b[0mparser\u001b[0m\u001b[1;33m.\u001b[0m\u001b[0mparse_args\u001b[0m\u001b[1;33m(\u001b[0m\u001b[1;33m)\u001b[0m\u001b[1;33m\u001b[0m\u001b[1;33m\u001b[0m\u001b[0m\n",
      "\u001b[1;31mNameError\u001b[0m: name 'argparse' is not defined"
     ]
    }
   ],
   "metadata": {}
  },
  {
   "cell_type": "code",
   "execution_count": null,
   "source": [],
   "outputs": [],
   "metadata": {}
  },
  {
   "cell_type": "code",
   "execution_count": null,
   "source": [],
   "outputs": [],
   "metadata": {}
  }
 ],
 "metadata": {
  "orig_nbformat": 4,
  "language_info": {
   "name": "python",
   "version": "3.9.2",
   "mimetype": "text/x-python",
   "codemirror_mode": {
    "name": "ipython",
    "version": 3
   },
   "pygments_lexer": "ipython3",
   "nbconvert_exporter": "python",
   "file_extension": ".py"
  },
  "kernelspec": {
   "name": "python3",
   "display_name": "Python 3.9.2 64-bit"
  },
  "interpreter": {
   "hash": "63fd5069d213b44bf678585dea6b12cceca9941eaf7f819626cde1f2670de90d"
  }
 },
 "nbformat": 4,
 "nbformat_minor": 2
}