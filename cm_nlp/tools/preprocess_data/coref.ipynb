{
 "cells": [
  {
   "cell_type": "code",
   "execution_count": null,
   "source": [
    "import spacy\n",
    "from typing import List\n",
    "import neuralcoref\n",
    "\n",
    "\n",
    "def coref_resolution(sentences: List[str]) -> List[str]:\n",
    "    nlp = spacy.load('en_core_web_lg')\n",
    "    coref = neuralcoref.NeuralCoref(nlp.vocab, greedyness=0.56, conv_dict={'Dolphin': [\"animal's\"]})\n",
    "    nlp.add_pipe(coref, name='neuralcoref')\n",
    "\n",
    "    coref_sentences = []\n",
    "    for sentence in sentences:\n",
    "        doc = nlp(sentence)\n",
    "        if doc._.has_coref:\n",
    "            print(f\"Coref_clusters: {doc._.coref_clusters}\")\n",
    "            coref_sentences.append(doc._.coref_resolved)\n",
    "        else:\n",
    "            coref_sentences.append(sentence)\n",
    "    \n",
    "    return coref_sentences\n",
    "\n",
    "coref_resolutions = coref_resolution([\"Tom is a smart boy. He know a lot of thing.\", \n",
    "\"My sister has a dog. She loves him.\", \n",
    "\"Now a link has been observed between rising levels of atmospheric CO2 — and other greenhouse gases — and weakening vertical wind shear along the East Coast of the US. That will make it less likely that recent violent episodes of extreme weather will start to dissipate after making landfall, and may instead grow in strength.\", \n",
    "\"For example, when an ocean heat wave struck the waters of Western Australia in 2011, scientists noticed there were fewer dolphin births and the animal’s survival rate dropped.\"])\n",
    "\n",
    "\n",
    "for coref in coref_resolutions:\n",
    "    print(f\"Example: {coref}\\n\")"
   ],
   "outputs": [],
   "metadata": {}
  }
 ],
 "metadata": {
  "orig_nbformat": 4,
  "language_info": {
   "name": "python"
  }
 },
 "nbformat": 4,
 "nbformat_minor": 2
}